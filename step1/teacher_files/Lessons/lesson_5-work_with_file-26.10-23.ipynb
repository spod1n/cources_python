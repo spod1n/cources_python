{
 "cells": [
  {
   "attachments": {},
   "cell_type": "markdown",
   "metadata": {},
   "source": [
    "#### Lesson 5. Date: 26.10.23\n",
    "\n",
    "**Topics**:\n",
    "> 1. Time/Datetime\n",
    "> 2. Zip\n",
    "> 3. Namespace (global, local, nonclocal)\n",
    "> 4. Function (Parameters: Args/Kwargs, Lambda) \n",
    "> 5. Try-Except - work with error\n",
    "> 6. Map/Reduce/Filter\n",
    "\n",
    "\n",
    "**Materials**:\n",
    "> 1. [Time/Datetime](https://docs.python.org/3/library/datetime.html)\n",
    "> 2. [Namespace](https://realpython.com/python-namespaces-scope/)\n",
    "> 3. [Try/Except](https://www.geeksforgeeks.org/try-except-else-and-finally-in-python/) \n",
    "> 4.  [Map/Reduce/Filter](https://book.pythontips.com/en/latest/map_filter.html)"
   ]
  },
  {
   "cell_type": "code",
   "execution_count": 1,
   "metadata": {},
   "outputs": [
    {
     "name": "stdout",
     "output_type": "stream",
     "text": [
      "1698338767.938303\n"
     ]
    }
   ],
   "source": [
    "# Time - для роботи із часом\n",
    "import time # імпорт додаткового функціоналу для робити з часом\n",
    "\n",
    "current_time = time.time()  # Повертає кількість секунд, що пройшли з 1 січня 1970 року\n",
    "print(current_time)"
   ]
  },
  {
   "cell_type": "code",
   "execution_count": 4,
   "metadata": {},
   "outputs": [
    {
     "name": "stdout",
     "output_type": "stream",
     "text": [
      "Початок\n",
      "Кінець\n"
     ]
    }
   ],
   "source": [
    "print(\"Початок\")\n",
    "# -> API \n",
    "for i in range(0, 10):\n",
    "    # -> API\n",
    "    time.sleep(2)  # Затримка на 3 секунди\n",
    "# -> API\n",
    "print(\"Кінець\")"
   ]
  },
  {
   "cell_type": "code",
   "execution_count": 5,
   "metadata": {},
   "outputs": [
    {
     "name": "stdout",
     "output_type": "stream",
     "text": [
      "time.struct_time(tm_year=2023, tm_mon=10, tm_mday=26, tm_hour=19, tm_min=52, tm_sec=7, tm_wday=3, tm_yday=299, tm_isdst=1) <class 'time.struct_time'>\n",
      "2023 26 10\n"
     ]
    }
   ],
   "source": [
    "timestamp = time.time()  # Поточний час\n",
    "local_time = time.localtime(timestamp)  # Перетворення часу на локальний часовий пояс\n",
    "print(local_time, type(local_time))\n",
    "print(local_time.tm_year, local_time.tm_mday, local_time.tm_mon) # отримати складову часу за допомогою дот нотації "
   ]
  },
  {
   "cell_type": "code",
   "execution_count": 24,
   "metadata": {},
   "outputs": [
    {
     "name": "stdout",
     "output_type": "stream",
     "text": [
      "2023-10-26 <class 'datetime.date'>\n",
      "2023-10-26 19:58:16.163699\n"
     ]
    }
   ],
   "source": [
    "# Datetime - бібліотека для зручних математичних обрахунків із датою\n",
    "from datetime import datetime, date  # НЕ рекомендую\n",
    "\n",
    "date = date(2023, 10 , 26)  # Створення об'єкта дати зі значеннями \"2023-10-26\"\n",
    "print(date, type(date))\n",
    "\n",
    "now = datetime.now()  # Повертає поточний об'єкт дати та часу\n",
    "print(now)\n"
   ]
  },
  {
   "cell_type": "code",
   "execution_count": 33,
   "metadata": {},
   "outputs": [
    {
     "name": "stdout",
     "output_type": "stream",
     "text": [
      "366 366 days, 0:00:00\n"
     ]
    }
   ],
   "source": [
    "import datetime\n",
    "\n",
    "date1 = datetime.date(2023, 4, 10)\n",
    "date2 = datetime.date(2024, 4, 10)\n",
    "\n",
    "delta = date2 - date1  # Різниця між датами\n",
    "print(delta.days, delta)  # Виведення кількості днів між датами"
   ]
  },
  {
   "cell_type": "code",
   "execution_count": 48,
   "metadata": {},
   "outputs": [
    {
     "name": "stdout",
     "output_type": "stream",
     "text": [
      "<zip object at 0x10dead500> [(1, 'a'), (2, 'b'), (3, 'c'), (4, 'd')]\n"
     ]
    }
   ],
   "source": [
    "### Zip - Функція яка дозволяє поєднати два об'єкти в один\n",
    "list1 = [1, 2, 3, 4]\n",
    "list2 = ['a', 'b', 'c', 'd']\n",
    "\n",
    "# zipped = zip(list1, list2)  # Злиття списків\n",
    "# print(zipped, list(zipped))  # Виведення злитого ітерабельного об'єкту у вигляді списку"
   ]
  },
  {
   "cell_type": "code",
   "execution_count": 59,
   "metadata": {},
   "outputs": [
    {
     "name": "stdout",
     "output_type": "stream",
     "text": [
      "3\n"
     ]
    }
   ],
   "source": [
    "zipped = tuple(zip(list1, list2))\n",
    "print(zipped[2][0])"
   ]
  },
  {
   "cell_type": "code",
   "execution_count": 87,
   "metadata": {},
   "outputs": [
    {
     "name": "stdout",
     "output_type": "stream",
     "text": [
      "[1, 2, 3, 4, 5]\n"
     ]
    }
   ],
   "source": [
    "arr = ['1', '2', '3', '4', '5']\n",
    "int_arr = map(lambda x: int(x), arr)\n",
    "print(list(int_arr))   "
   ]
  },
  {
   "cell_type": "code",
   "execution_count": 60,
   "metadata": {},
   "outputs": [
    {
     "name": "stdout",
     "output_type": "stream",
     "text": [
      "[('s', 't'), ('t', 'm'), ('r', 'p')]\n"
     ]
    }
   ],
   "source": [
    "string_1 = 'str'\n",
    "string_2 = 'tmp'\n",
    "print(list(zip(string_1,string_2)))"
   ]
  },
  {
   "cell_type": "code",
   "execution_count": 61,
   "metadata": {},
   "outputs": [
    {
     "name": "stdout",
     "output_type": "stream",
     "text": [
      "[('a', 4), ('b', 5), ('c', 6)]\n"
     ]
    }
   ],
   "source": [
    "dict_ = {1:'a', 2:'b', 3:'c'}\n",
    "tuple_1 = (4,5,6)\n",
    "\n",
    "print(list(zip(dict_.values(),tuple_1)))"
   ]
  },
  {
   "cell_type": "code",
   "execution_count": 62,
   "metadata": {},
   "outputs": [
    {
     "name": "stdout",
     "output_type": "stream",
     "text": [
      "<zip object at 0x10dea10c0> [(1, 'a', 'A'), (2, 'b', 'B'), (3, 'c', 'C')]\n"
     ]
    }
   ],
   "source": [
    "list1 = [1, 2, 3]\n",
    "list2 = ['a', 'b', 'c']\n",
    "list3 = ['A', 'B', 'C']\n",
    "\n",
    "zipped = zip(list1, list2, list3)  # Злиття списків\n",
    "print(zipped, list(zipped)) "
   ]
  },
  {
   "attachments": {},
   "cell_type": "markdown",
   "metadata": {},
   "source": [
    "#### Namespace - простір імен, по якому Python знаходить змінні\n",
    "Ключові слова:\n",
    "> **global** - змінна буде належати до глобальної області видимості \\\n",
    "> **local** - для роботи із локальними змінними \\\n",
    "> **nonlocal** - роботи із змінною на рівень вище   \n",
    "\n",
    "**LEGB RULE** - Local-Enclo-Global-Built-in"
   ]
  },
  {
   "cell_type": "code",
   "execution_count": 63,
   "metadata": {},
   "outputs": [
    {
     "name": "stdout",
     "output_type": "stream",
     "text": [
      "1\n",
      "0\n"
     ]
    }
   ],
   "source": [
    "count = 0 # global \n",
    "\n",
    "def increment_value(count): # local var\n",
    "    count += 1\n",
    "    return count\n",
    "\n",
    "print(increment_value(count))\n",
    "print(count)"
   ]
  },
  {
   "cell_type": "code",
   "execution_count": 71,
   "metadata": {},
   "outputs": [
    {
     "name": "stdout",
     "output_type": "stream",
     "text": [
      "3.14\n"
     ]
    }
   ],
   "source": [
    "from math import pi\n",
    "\n",
    "#PI = 3.14\n",
    "pi = 3.14 # global\n",
    "def print_pi():\n",
    "    print(pi)\n",
    "    \n",
    "print_pi()"
   ]
  },
  {
   "cell_type": "code",
   "execution_count": null,
   "metadata": {},
   "outputs": [],
   "source": [
    "def print_count():\n",
    "    print(count)\n",
    "    \n",
    "print_count()"
   ]
  },
  {
   "cell_type": "code",
   "execution_count": 73,
   "metadata": {},
   "outputs": [
    {
     "name": "stdout",
     "output_type": "stream",
     "text": [
      "0\n",
      "1\n"
     ]
    }
   ],
   "source": [
    "count = 0 # global \n",
    "\n",
    "def increment_value():\n",
    "    # local \n",
    "    global count # global var\n",
    "    count += 1\n",
    "    \n",
    "print(count)\n",
    "increment_value()\n",
    "#increment_value()\n",
    "\n",
    "print(count)\n"
   ]
  },
  {
   "cell_type": "code",
   "execution_count": null,
   "metadata": {},
   "outputs": [],
   "source": [
    "def add(a, b):\n",
    "    return a + b \n",
    "\n",
    "def even(number):\n",
    "    return number % 2 == 0\n",
    "\n",
    "result = add(5, 5)\n",
    "\n",
    "even(result)"
   ]
  },
  {
   "cell_type": "code",
   "execution_count": null,
   "metadata": {},
   "outputs": [],
   "source": [
    "count = 0\n",
    "def increment_value(count: int): \n",
    "    count += 1\n",
    "    return count \n",
    "print(count)\n",
    "\n",
    "count = increment_value(count)\n",
    "print(count)"
   ]
  },
  {
   "cell_type": "code",
   "execution_count": null,
   "metadata": {},
   "outputs": [],
   "source": [
    "i = 0 \n",
    "while i < 15:\n",
    "    a = 5 \n",
    "    i += a \n",
    "    \n",
    "print(i, a)"
   ]
  },
  {
   "cell_type": "code",
   "execution_count": 2,
   "metadata": {},
   "outputs": [
    {
     "name": "stdout",
     "output_type": "stream",
     "text": [
      "10\n",
      "20\n",
      "20\n"
     ]
    }
   ],
   "source": [
    "def example(i: int = 10):\n",
    "    def example1(i: int = 20):\n",
    "        print(i)\n",
    "        \n",
    "    print(i) # Local\n",
    "    example1() # Local\n",
    "    example1() # Local\n",
    "    \n",
    "    \n",
    "example()"
   ]
  },
  {
   "cell_type": "code",
   "execution_count": 4,
   "metadata": {},
   "outputs": [
    {
     "name": "stdout",
     "output_type": "stream",
     "text": [
      "locallocal locallocal\n",
      "Після виклику inner(): local\n"
     ]
    }
   ],
   "source": [
    "def outer():\n",
    "    x = \"local\"\n",
    "\n",
    "    def inner():\n",
    "        # x = x + 'local'\n",
    "        nonlocal x\n",
    "       # x = \"nonlocal\" # Змінна бути у зовнішій функції \n",
    "        y = x + 'local'\n",
    "        print(x + 'local', y)\n",
    "        return x \n",
    "    \n",
    "    \n",
    "    inner() #  виклик внутріш\n",
    "    \n",
    "    print(\"Після виклику inner():\", x)\n",
    "\n",
    "outer()\n"
   ]
  },
  {
   "attachments": {},
   "cell_type": "markdown",
   "metadata": {},
   "source": [
    "#### Function - іменнована область памяті, яка зберігає набір інструкція, які можна повторно використовувати\n",
    "**Args** - зірочка(*) вказує що може бути необмежена кількість аргументів функції \\\n",
    "**Kwargs** - дві зірочки(**) вказує що функція може працювати та приймати значення у форматі key-value"
   ]
  },
  {
   "cell_type": "code",
   "execution_count": null,
   "metadata": {},
   "outputs": [],
   "source": [
    "# Simple function \n",
    "def add(a: int, b : int) -> int:\n",
    "    return a + b \n",
    "\n",
    "print(add(a = 5, b = 5))"
   ]
  },
  {
   "cell_type": "code",
   "execution_count": null,
   "metadata": {},
   "outputs": [],
   "source": [
    "def my_function(*args): # aster, довільна кількість аргументів функції \n",
    "    print(type(args))\n",
    "    for arg in args: # проходження по аргументах\n",
    "        print(arg)\n",
    "\n",
    "my_function(1, 2, 3, 4, 5)  # Виведення позиційних аргументів\n"
   ]
  },
  {
   "cell_type": "code",
   "execution_count": null,
   "metadata": {},
   "outputs": [],
   "source": [
    "def sum_numbers(*args):\n",
    "    return sum(args)\n",
    "\n",
    "numbers = [i for i in range(0, 15)]\n",
    "result = sum_numbers(*numbers)  # Розпаковка списку numbers у вигляді аргументів\n",
    "print(result)  # Виведення суми чисел\n"
   ]
  },
  {
   "cell_type": "code",
   "execution_count": null,
   "metadata": {},
   "outputs": [],
   "source": [
    "def my_function(**kwargs): # прийняти позіційні та ключові аргументи \n",
    "    print(type(kwargs))\n",
    "    for key, value in kwargs.items(): \n",
    "        print(key, value)\n",
    "\n",
    "my_function(a=1, b=2, c=3)  # Виведення ключових аргументів\n"
   ]
  },
  {
   "attachments": {},
   "cell_type": "markdown",
   "metadata": {},
   "source": [
    "#### Task 1\n",
    "Візьміть як вхідні дані два рядки: список імен студентів, розділених символом “,”, і список їхніх кінцевих оцінок (цілі числа), розділених “,”.\n",
    "Надрукуйте імена всіх учнів, чий підсумковий бал був на рівні мінімум 90. Для цієї вправи використовуйте якомога менше рядків коду"
   ]
  },
  {
   "cell_type": "code",
   "execution_count": null,
   "metadata": {},
   "outputs": [],
   "source": [
    "names = 'Sasha,Alex,Yaroslav,Masha,Petro'.split(',')\n",
    "marks_math = '90,60,96,75,59'.split(',')\n",
    "marks_biolagy = '90,60,96,75,59'[::-1].split(',')\n",
    "\n",
    "result = {}\n",
    "for i in zip(names, marks_math, marks_biolagy):\n",
    "    result[i[0]] = (int(i[1]), int(i[2]))\n",
    "print(result)\n",
    "\n",
    "for key, value in result.items():\n",
    "    if value[1] >= 90:\n",
    "         print(key, value[1])"
   ]
  },
  {
   "cell_type": "code",
   "execution_count": null,
   "metadata": {},
   "outputs": [],
   "source": [
    "mark = []\n",
    "for i in '90,60,96,75,59'.split(','):\n",
    "    mark.append(int(i))\n",
    "    \n",
    "print(mark)"
   ]
  },
  {
   "cell_type": "code",
   "execution_count": null,
   "metadata": {},
   "outputs": [],
   "source": [
    "def task1(**kwargs):\n",
    "    print(kwargs)\n",
    "    result = {}\n",
    "    for key, value in kwargs.items():\n",
    "        print(key, value)\n",
    "        if value >= 90:\n",
    "            result[key] = value\n",
    "    return result\n",
    "    \n",
    "\n",
    "names = 'Sasha,Alex,Yaroslav,Masha,Petro'\n",
    "marks = '90,60,96,75,59'\n",
    "names = names.split(',')\n",
    "marks = [int(i) for i in marks.split(',')]\n",
    "\n",
    "\n",
    "for i in zip(names, marks):\n",
    "    print(i, i[0], i[1])\n",
    "\n",
    "#print(task1(**{i[0]: i[1] for i in zip(names, marks)}))\n"
   ]
  },
  {
   "cell_type": "code",
   "execution_count": null,
   "metadata": {},
   "outputs": [],
   "source": [
    "print(task1(**{i[0]: i[1] for i in zip(names, marks)}))"
   ]
  },
  {
   "cell_type": "code",
   "execution_count": null,
   "metadata": {},
   "outputs": [],
   "source": [
    "def my_function(a:int, b, c, d = 5, *args, **kwargs): # прийняти позіційні та ключові аргументи \n",
    "    \n",
    "    def work_with_args():\n",
    "        return sum(i for i in args)\n",
    "    \n",
    "    def work_with_kwargs():\n",
    "        for key, value in kwargs.items(): \n",
    "            print(key, value)\n",
    "        \n",
    "    print(f'A = {a} B = {b} C = {c} D = {d}\\nArgs = {args}\\nKwargs = {kwargs} ')\n",
    "    # print(work_with_kwargs())\n",
    "    return a + b + c + d + work_with_args()\n",
    "\n",
    "my_function(1,2,3,4,5,6,7,8,9,10,11,e=1, f=2, g=3)  #"
   ]
  },
  {
   "attachments": {},
   "cell_type": "markdown",
   "metadata": {},
   "source": [
    "### Важлива пріоритетність передач: \n",
    "1. Спочатку обов'язкові аргументи\n",
    "2. Дефолтні аргументи \n",
    "3. Args\n",
    "4. Kwargs\n"
   ]
  },
  {
   "attachments": {},
   "cell_type": "markdown",
   "metadata": {},
   "source": [
    "#### Lambda - функція, анонімна функція\n",
    "add = lambda x, y: x + y \\\n",
    "**lambda** - key-word \\\n",
    "x, y - arguments \\\n",
    "x + y - body\n"
   ]
  },
  {
   "cell_type": "code",
   "execution_count": 80,
   "metadata": {},
   "outputs": [
    {
     "name": "stdout",
     "output_type": "stream",
     "text": [
      "15\n",
      "20\n",
      "0\n"
     ]
    }
   ],
   "source": [
    "add = lambda x, y : x + y # def _ (param1, param2): дія \n",
    "div = lambda x,y : x / y if y != 0 else 0\n",
    "pres = add(5,10)\n",
    "print(pres)\n",
    "print(add(10,10))\n",
    "print(div(10, 0))"
   ]
  },
  {
   "cell_type": "code",
   "execution_count": null,
   "metadata": {},
   "outputs": [],
   "source": [
    "print((lambda x, y: x + y)(3, 7))"
   ]
  },
  {
   "attachments": {},
   "cell_type": "markdown",
   "metadata": {},
   "source": [
    "#### Map/Filter/Reduce - це вбудовані функції у Python, які дозволяють працювати з ітерабельними об'єктами. \n",
    ">**Map** - застосувати функцію до кожного об'єкта в колекції \\\n",
    ">**Filter** - фільтрація за допомогою зовнішньої функції \\\n",
    ">**Reduce** - Агрегаційна функція \n"
   ]
  },
  {
   "cell_type": "code",
   "execution_count": null,
   "metadata": {},
   "outputs": [],
   "source": [
    "# Map - map(function, iter_object) -> map_object -> some_object(map_object)"
   ]
  },
  {
   "cell_type": "code",
   "execution_count": 81,
   "metadata": {},
   "outputs": [
    {
     "name": "stdout",
     "output_type": "stream",
     "text": [
      "0\n",
      "1\n",
      "4\n",
      "9\n",
      "16\n",
      "25\n",
      "36\n",
      "49\n",
      "64\n",
      "81\n"
     ]
    }
   ],
   "source": [
    "for i in range(0, 10):\n",
    "    print(i ** 2)"
   ]
  },
  {
   "cell_type": "code",
   "execution_count": 84,
   "metadata": {},
   "outputs": [
    {
     "data": {
      "text/plain": [
       "15"
      ]
     },
     "execution_count": 84,
     "metadata": {},
     "output_type": "execute_result"
    }
   ],
   "source": [
    "int('15')"
   ]
  },
  {
   "cell_type": "code",
   "execution_count": 85,
   "metadata": {},
   "outputs": [
    {
     "name": "stdout",
     "output_type": "stream",
     "text": [
      "[1, 2, 3, 4, 5, 6, 7]\n"
     ]
    }
   ],
   "source": [
    "arr = ['1', '2', '3', '4', '5', '6', '7']\n",
    "\n",
    "result = []\n",
    "for i in arr:\n",
    "    result.append(int(i))\n",
    "print(result)"
   ]
  },
  {
   "cell_type": "code",
   "execution_count": 86,
   "metadata": {},
   "outputs": [
    {
     "name": "stdout",
     "output_type": "stream",
     "text": [
      "[1, 2, 3, 4, 5, 6, 7]\n"
     ]
    }
   ],
   "source": [
    "# lambda param,param2 : int(param)\n",
    "sq = list(map(lambda x: int(x), arr))\n",
    "print(sq)"
   ]
  },
  {
   "cell_type": "code",
   "execution_count": null,
   "metadata": {},
   "outputs": [],
   "source": [
    "help(map)"
   ]
  },
  {
   "cell_type": "code",
   "execution_count": 6,
   "metadata": {},
   "outputs": [
    {
     "name": "stdout",
     "output_type": "stream",
     "text": [
      "[0, 1, 4, 9, 16, 25, 36, 49, 64, 81, 100, 121, 144, 169, 196] <map object at 0x10f0ff820>\n",
      "[0, 1, 4, 9, 16, 25, 36, 49, 64, 81, 100, 121, 144, 169, 196]\n"
     ]
    }
   ],
   "source": [
    "# Map - примінити функцію для всіх \n",
    "# map(function, iterable object) - загальна структура\n",
    "numbers = [i for i in range(0, 15)]\n",
    "\n",
    "def square(x: int) -> int:\n",
    "    return x ** 2\n",
    "\n",
    "sq = map(square, numbers)\n",
    "print(list(sq), sq)\n",
    "\n",
    "\n",
    "# Або використати функцію \n",
    "sq1 = map(lambda x: x ** 2, numbers) # __iter__\n",
    "print(list(sq1))"
   ]
  },
  {
   "cell_type": "code",
   "execution_count": 83,
   "metadata": {},
   "outputs": [
    {
     "data": {
      "text/plain": [
       "225"
      ]
     },
     "execution_count": 83,
     "metadata": {},
     "output_type": "execute_result"
    }
   ],
   "source": [
    "square(15)"
   ]
  },
  {
   "cell_type": "code",
   "execution_count": null,
   "metadata": {},
   "outputs": [],
   "source": [
    "help(filter)"
   ]
  },
  {
   "cell_type": "code",
   "execution_count": 7,
   "metadata": {},
   "outputs": [
    {
     "name": "stdout",
     "output_type": "stream",
     "text": [
      "(0, 2, 4, 6, 8, 10, 12, 14)\n"
     ]
    }
   ],
   "source": [
    "# filter - filter(function, iterable object)\n",
    "\n",
    "even = tuple(filter(lambda x: x % 2 == 0, numbers))\n",
    "print(even)"
   ]
  },
  {
   "cell_type": "code",
   "execution_count": null,
   "metadata": {},
   "outputs": [],
   "source": [
    "help(reduce)"
   ]
  },
  {
   "cell_type": "code",
   "execution_count": 1,
   "metadata": {},
   "outputs": [
    {
     "name": "stdout",
     "output_type": "stream",
     "text": [
      "120\n"
     ]
    }
   ],
   "source": [
    "from functools import reduce # потрібно імпортувати із built-in бібліотеки\n",
    "\n",
    "numbers = [i for i in range(1, 16)]\n",
    "\n",
    "product = reduce(lambda x, y: x+y, numbers)\n",
    "print(product)  # 1 * 2 * 3 * 4 * 5\n",
    "# 1 , 2 -> 2\n",
    "# 2 , 3 -> 6\n",
    "# etc..."
   ]
  },
  {
   "cell_type": "code",
   "execution_count": 15,
   "metadata": {},
   "outputs": [],
   "source": [
    "numbers = [i for i in range(1, 5000)]"
   ]
  },
  {
   "cell_type": "code",
   "execution_count": 16,
   "metadata": {},
   "outputs": [
    {
     "name": "stdout",
     "output_type": "stream",
     "text": [
      "CPU times: user 6 µs, sys: 1 µs, total: 7 µs\n",
      "Wall time: 9.3 µs\n"
     ]
    },
    {
     "data": {
      "text/plain": [
       "45"
      ]
     },
     "execution_count": 16,
     "metadata": {},
     "output_type": "execute_result"
    }
   ],
   "source": [
    "%%time\n",
    "sum(number)"
   ]
  },
  {
   "cell_type": "code",
   "execution_count": 17,
   "metadata": {},
   "outputs": [
    {
     "name": "stdout",
     "output_type": "stream",
     "text": [
      "12497500\n",
      "CPU times: user 310 µs, sys: 4 µs, total: 314 µs\n",
      "Wall time: 317 µs\n"
     ]
    }
   ],
   "source": [
    "%%time\n",
    "product = reduce(lambda x, y: x+y, numbers)\n",
    "print(product)"
   ]
  },
  {
   "cell_type": "code",
   "execution_count": 10,
   "metadata": {},
   "outputs": [
    {
     "data": {
      "text/plain": [
       "120"
      ]
     },
     "execution_count": 10,
     "metadata": {},
     "output_type": "execute_result"
    }
   ],
   "source": [
    "sum(numbers)"
   ]
  },
  {
   "cell_type": "code",
   "execution_count": 22,
   "metadata": {},
   "outputs": [
    {
     "name": "stdout",
     "output_type": "stream",
     "text": [
      "28\n"
     ]
    }
   ],
   "source": [
    "# str \n",
    "string = ['1', '2', '3', '4', '5', '6', '7']\n",
    "\n",
    "result = reduce(lambda x,y: x + y , map(lambda x: int(x), string))\n",
    "print(result)"
   ]
  },
  {
   "attachments": {},
   "cell_type": "markdown",
   "metadata": {},
   "source": [
    "# завдання \n",
    "1. Використайте map() для перетворення списку зі рядок на список чисел: ['1', '2', '3', '4', '5'] → [1, 2, 3, 4, 5].\n",
    "2. Використайте filter() для знаходження всіх парних чисел у списку: [1, 2, 3, 4, 5, 6, 7, 8, 9, 10] → [2, 4, 6, 8, 10].\n",
    "3. Використайте reduce() для обчислення добутку всіх елементів у списку: [1, 2, 3, 4, 5] → 120 (1 * 2 * 3 * 4 * 5).\n",
    "4. Використайте map() для перетворення списку зі рядок на список квадратів цих чисел: [1, 2, 3, 4, 5] → [1, 4, 9, 16, 25].\n",
    "5. Використайте filter() для знаходження всіх позитивне чисел у списку: [1, -2, 3, -4, 5, -6, 7, -8, 9, -10] → [1, 3, 5, 7, 9].\n",
    "6. Використайте reduce() для обчислення суми всіх елементів у списку: [1, 2, 3, 4, 5] → 15 (1 + 2 + 3 + 4 + 5).\n",
    "7. Використайте map() для перетворення списку зі рядок на список їхніх довжин: ['apple', 'banana', 'cherry'] → [5, 6, 6].\n",
    "8. Використайте filter() для знаходження всіх елементів списку, які більше за середнє значення списку: [1, 2, 3, 4, 5, 6, 7, 8, 9, 10] → [6, 7, 8, 9, 10].\n",
    "9. Використайте reduce() для обчислення найбільшого елемента у списку: [1, 5, 3, 9, 2] → 9.\n",
    "10. Використайте map() для перетворення списку зі рядок на список великих літер: ['apple', 'banana', 'cherry'] → ['APPLE', 'BANANA', 'CHERRY']."
   ]
  },
  {
   "cell_type": "code",
   "execution_count": null,
   "metadata": {},
   "outputs": [],
   "source": [
    "# Task 1\n",
    "number = [str(i) for i  in range(0, 10)]\n",
    "\n",
    "convert_list = map(lambda x: int(x), number)\n",
    "print(list(convert_list))"
   ]
  },
  {
   "cell_type": "code",
   "execution_count": 23,
   "metadata": {},
   "outputs": [
    {
     "name": "stdout",
     "output_type": "stream",
     "text": [
      "[1, 2, 3, 4, 5, 6, 7, 8, 9, 10] (2, 4, 6, 8, 10)\n"
     ]
    }
   ],
   "source": [
    "# Task 2\n",
    "number = [i for i in range(1, 11)]\n",
    "\n",
    "even = tuple(filter(lambda x: x % 2 == 0, number))\n",
    "\n",
    "print(number, even)"
   ]
  },
  {
   "cell_type": "code",
   "execution_count": 24,
   "metadata": {},
   "outputs": [
    {
     "name": "stdout",
     "output_type": "stream",
     "text": [
      "3628800\n"
     ]
    }
   ],
   "source": [
    "# Task 3\n",
    "\n",
    "number = [i for i in range(1, 11)]\n",
    "\n",
    "result = reduce(lambda x,y: x * y, number)\n",
    "print(result)"
   ]
  },
  {
   "cell_type": "code",
   "execution_count": 25,
   "metadata": {},
   "outputs": [
    {
     "name": "stdout",
     "output_type": "stream",
     "text": [
      "(1, 4, 9, 16, 25, 36, 49, 64, 81, 100)\n"
     ]
    }
   ],
   "source": [
    "# Task 4\n",
    "\n",
    "number = [i for i in range(1, 11)]\n",
    "\n",
    "result = tuple(map(lambda x: x ** 2, number))\n",
    "print(result)"
   ]
  },
  {
   "cell_type": "code",
   "execution_count": null,
   "metadata": {},
   "outputs": [],
   "source": [
    "# Task 5\n",
    "arr = [-1,30, 0, 60, -5, -10, -100, 121]\n",
    "\n",
    "result = list(filter(lambda x: x >= 0, arr))\n",
    "\n",
    "print(result)"
   ]
  },
  {
   "cell_type": "code",
   "execution_count": 28,
   "metadata": {},
   "outputs": [],
   "source": [
    "def dec1(x = lambda x: x ** 2):\n",
    "    pass"
   ]
  },
  {
   "cell_type": "code",
   "execution_count": 4,
   "metadata": {},
   "outputs": [
    {
     "name": "stdout",
     "output_type": "stream",
     "text": [
      "4950\n",
      "4950\n",
      "4950\n",
      "4950\n"
     ]
    }
   ],
   "source": [
    "# Task 6\n",
    "arr = [i for i in range(1, 100)]\n",
    "\n",
    "# first var\n",
    "result = reduce(lambda x, y: x + y, arr)\n",
    "print(result)\n",
    "\n",
    "# second var\n",
    "result = sum(i for i in arr if isinstance(i, (int, float)))\n",
    "print(result) \n",
    "\n",
    "# thierd var\n",
    "result = sum(arr)\n",
    "print(result)\n",
    "\n",
    "# 4-var\n",
    "count_ = 0\n",
    "for i in arr:\n",
    "    count_ += i \n",
    "print(count_)\n",
    "\n"
   ]
  },
  {
   "cell_type": "code",
   "execution_count": 8,
   "metadata": {},
   "outputs": [
    {
     "name": "stdout",
     "output_type": "stream",
     "text": [
      "['apple', 'banana', 'cherry'] [('apple', 5), ('banana', 6), ('cherry', 6)]\n"
     ]
    }
   ],
   "source": [
    "# Task 7 \n",
    "\n",
    "# var 1 \n",
    "arr = ['apple', 'banana', 'cherry']\n",
    "\n",
    "result = list(map(lambda x: (x,len(x)), arr))\n",
    "\n",
    "print(arr, result)\n"
   ]
  },
  {
   "cell_type": "code",
   "execution_count": 12,
   "metadata": {},
   "outputs": [
    {
     "name": "stdout",
     "output_type": "stream",
     "text": [
      "5.5 [6, 7, 8, 9, 10]\n",
      "5.5 [6, 7, 8, 9, 10]\n"
     ]
    }
   ],
   "source": [
    "# Task 8 \n",
    "\n",
    "arr = [1, 2, 3, 4, 5, 6, 7, 8, 9, 10]\n",
    "\n",
    "# 1 var \n",
    "avg_ = sum(arr) / len(arr)\n",
    "\n",
    "result = list(filter(lambda x: x > avg_, arr))\n",
    "print(avg_, result)\n",
    "\n",
    "# 2 var \n",
    "from statistics import mean \n",
    "\n",
    "avg_ = mean(arr) \n",
    "result = list(filter(lambda x: x > avg_, arr))\n",
    "print(avg_, result)\n"
   ]
  },
  {
   "cell_type": "code",
   "execution_count": 14,
   "metadata": {},
   "outputs": [
    {
     "name": "stdout",
     "output_type": "stream",
     "text": [
      "9 [1, 5, 3, 9, 2]\n",
      "9 [1, 5, 3, 9, 2]\n",
      "9 [1, 5, 3, 9, 2]\n"
     ]
    }
   ],
   "source": [
    "# Task 9 \n",
    "\n",
    "# var 1\n",
    "arr = [1, 5, 3, 9, 2]\n",
    "print(max(arr), arr)\n",
    "\n",
    "# var 2\n",
    "print(sorted(arr)[-1], arr)\n",
    "\n",
    "# var 3 \n",
    "result = reduce(lambda x, y: max(x, y), arr)\n",
    "print(result, arr)\n"
   ]
  },
  {
   "cell_type": "code",
   "execution_count": 15,
   "metadata": {},
   "outputs": [
    {
     "name": "stdout",
     "output_type": "stream",
     "text": [
      "['apple', 'banana', 'cherry'] ['APPLE', 'BANANA', 'CHERRY']\n"
     ]
    }
   ],
   "source": [
    "# Task 10 \n",
    "arr = ['apple', 'banana', 'cherry']\n",
    "\n",
    "result = list(map(lambda x: x.upper(), arr))\n",
    "print(arr, result)"
   ]
  },
  {
   "attachments": {},
   "cell_type": "markdown",
   "metadata": {},
   "source": [
    "#### try/except - опрацювання помилок, запуск альтернативного коду в залежності від помилки "
   ]
  },
  {
   "cell_type": "code",
   "execution_count": 29,
   "metadata": {},
   "outputs": [
    {
     "ename": "ZeroDivisionError",
     "evalue": "division by zero",
     "output_type": "error",
     "traceback": [
      "\u001b[0;31m---------------------------------------------------------------------------\u001b[0m",
      "\u001b[0;31mZeroDivisionError\u001b[0m                         Traceback (most recent call last)",
      "\u001b[1;32m/Users/alksandr/Desktop/lesson_5-work_with_file-26.10-23.ipynb Ячейка 69\u001b[0m line \u001b[0;36m1\n\u001b[0;32m----> <a href='vscode-notebook-cell:/Users/alksandr/Desktop/lesson_5-work_with_file-26.10-23.ipynb#Y115sZmlsZQ%3D%3D?line=0'>1</a>\u001b[0m \u001b[39m1\u001b[39;49m \u001b[39m/\u001b[39;49m \u001b[39m0\u001b[39;49m\n",
      "\u001b[0;31mZeroDivisionError\u001b[0m: division by zero"
     ]
    }
   ],
   "source": [
    "1 / 0"
   ]
  },
  {
   "cell_type": "code",
   "execution_count": 30,
   "metadata": {},
   "outputs": [
    {
     "ename": "ValueError",
     "evalue": "could not convert string to float: '*'",
     "output_type": "error",
     "traceback": [
      "\u001b[0;31m---------------------------------------------------------------------------\u001b[0m",
      "\u001b[0;31mValueError\u001b[0m                                Traceback (most recent call last)",
      "\u001b[1;32m/Users/alksandr/Desktop/lesson_5-work_with_file-26.10-23.ipynb Ячейка 70\u001b[0m line \u001b[0;36m1\n\u001b[0;32m----> <a href='vscode-notebook-cell:/Users/alksandr/Desktop/lesson_5-work_with_file-26.10-23.ipynb#Y116sZmlsZQ%3D%3D?line=0'>1</a>\u001b[0m \u001b[39mfloat\u001b[39;49m(\u001b[39m'\u001b[39;49m\u001b[39m*\u001b[39;49m\u001b[39m'\u001b[39;49m)\n",
      "\u001b[0;31mValueError\u001b[0m: could not convert string to float: '*'"
     ]
    }
   ],
   "source": [
    "float('*')"
   ]
  },
  {
   "cell_type": "code",
   "execution_count": 42,
   "metadata": {},
   "outputs": [
    {
     "name": "stdout",
     "output_type": "stream",
     "text": [
      "Wrong data, you error is could not convert string to float: '*' <built-in method with_traceback of ValueError object at 0x10f147ec0>\n"
     ]
    }
   ],
   "source": [
    "try:\n",
    "    number = float(input('Input value: '))\n",
    "   # print(number / 0)\n",
    "   # print(str(number)[10])\n",
    "# except ValueError: \n",
    "#     print('Wrong value input ')\n",
    "except ZeroDivisionError:\n",
    "    print('ZeroDivisionError')\n",
    "except Exception as e:\n",
    "    print(f'Wrong data, you error is {e} {e.with_traceback}')\n",
    "finally:\n",
    "    print('All okey')"
   ]
  },
  {
   "cell_type": "code",
   "execution_count": 44,
   "metadata": {},
   "outputs": [
    {
     "name": "stdout",
     "output_type": "stream",
     "text": [
      "Wrong data, you error is could not convert string to float: '*' <built-in method with_traceback of ValueError object at 0x10f5884f0>\n",
      "Try number: 1\n"
     ]
    }
   ],
   "source": [
    "try_numbers = 1\n",
    "while try_numbers < 2:\n",
    "    try:\n",
    "        number = float(input('Input value: '))\n",
    "    # print(number / 0)\n",
    "    # print(str(number)[10])\n",
    "    # except ValueError: \n",
    "    #     print('Wrong value input ')\n",
    "    except ZeroDivisionError:\n",
    "        print('ZeroDivisionError')\n",
    "    except Exception as e:\n",
    "        print(f'Wrong data, you error is {e} {e.with_traceback}')\n",
    "    finally:\n",
    "        print(f'Try number: {try_numbers}')\n",
    "        try_numbers += 1"
   ]
  },
  {
   "cell_type": "code",
   "execution_count": 1,
   "metadata": {},
   "outputs": [
    {
     "ename": "IndexError",
     "evalue": "list index out of range",
     "output_type": "error",
     "traceback": [
      "\u001b[0;31m---------------------------------------------------------------------------\u001b[0m",
      "\u001b[0;31mIndexError\u001b[0m                                Traceback (most recent call last)",
      "\u001b[1;32m/Users/alksandr/Desktop/lesson_5-work_with_file-26.10-23.ipynb Ячейка 65\u001b[0m line \u001b[0;36m2\n\u001b[1;32m      <a href='vscode-notebook-cell:/Users/alksandr/Desktop/lesson_5-work_with_file-26.10-23.ipynb#Y121sZmlsZQ%3D%3D?line=0'>1</a>\u001b[0m number \u001b[39m=\u001b[39m [ i \u001b[39mfor\u001b[39;00m i \u001b[39min\u001b[39;00m \u001b[39mrange\u001b[39m(\u001b[39m0\u001b[39m, \u001b[39m10\u001b[39m)]\n\u001b[0;32m----> <a href='vscode-notebook-cell:/Users/alksandr/Desktop/lesson_5-work_with_file-26.10-23.ipynb#Y121sZmlsZQ%3D%3D?line=1'>2</a>\u001b[0m \u001b[39mprint\u001b[39m(number[\u001b[39m10\u001b[39;49m])\n",
      "\u001b[0;31mIndexError\u001b[0m: list index out of range"
     ]
    }
   ],
   "source": [
    "number = [ i for i in range(0, 10)]\n",
    "print(number[10])"
   ]
  },
  {
   "cell_type": "code",
   "execution_count": null,
   "metadata": {},
   "outputs": [],
   "source": [
    "# Task: try/except\n",
    "# 1. Написати калькультор, який при діленні на нуль повертає текст помилки, опрацювати інші можливі помилки також \n",
    "# 2. Написати функцію, яка при вводі юзера не числа, буде повторювати дію, до тих пір поки user - не введе позитивне число "
   ]
  },
  {
   "cell_type": "code",
   "execution_count": 18,
   "metadata": {},
   "outputs": [
    {
     "data": {
      "text/plain": [
       "118"
      ]
     },
     "execution_count": 18,
     "metadata": {},
     "output_type": "execute_result"
    }
   ],
   "source": [
    "import random\n",
    "\n",
    "random.randint(1, 150)"
   ]
  },
  {
   "cell_type": "code",
   "execution_count": null,
   "metadata": {},
   "outputs": [],
   "source": [
    "# Read file tasks\n",
    "# 1. Створити файл та записати в нього словних: {'UK': 'London', 'Germany': 'Berlin', 'Ukraine': 'Kyiv'}\n",
    "# Формат запису: Country: name_of_contry. Capital is: name_of_capital\n",
    "\n",
    "# 2. Прочитати файл Japan, та в нього добавити інформацію про державний устрій(Кон монархія). Зробити це за допомогою context manager\n",
    "\n",
    "# 3. Прочитати файл Japan та записати його зміст в інший файл Japan_Backup в назву файлу добавити поточну дату, зробити це за допомогою context_manager\n",
    "\n",
    "# 4. Створити файли де назвою буде алф від A-Z, записати в них будь-яке число(бібліотека random), зробити за допомогою context_manager\n"
   ]
  },
  {
   "cell_type": "code",
   "execution_count": 21,
   "metadata": {},
   "outputs": [],
   "source": [
    "# Task 1\n",
    "capitals = {'UK': 'London', 'Germany': 'Berlin', 'Ukraine': 'Kyiv'}\n",
    " \n",
    "with open('capitals.txt', 'w') as file:\n",
    "    for country, capital in capitals.items():\n",
    "        file.writelines(f'Country: {country}. Capital is: {capital}\\n')"
   ]
  },
  {
   "cell_type": "code",
   "execution_count": 22,
   "metadata": {},
   "outputs": [],
   "source": [
    "# Task 2\n",
    "\n",
    "with open('Japan.txt', 'a') as file:\n",
    "    file.write('\\nустрій(Кон монархія)\\n')"
   ]
  },
  {
   "cell_type": "code",
   "execution_count": 34,
   "metadata": {},
   "outputs": [],
   "source": [
    "# Task 3\n",
    "import datetime \n",
    "\n",
    "now = datetime.datetime.today()\n",
    "\n",
    "with open('Japan.txt', 'r') as file, open(f'JapanBackup{now}.txt', 'w') as back_file:\n",
    "    for i in file.readlines():\n",
    "        back_file.writelines(i)"
   ]
  },
  {
   "cell_type": "code",
   "execution_count": 64,
   "metadata": {},
   "outputs": [
    {
     "ename": "ModuleNotFoundError",
     "evalue": "No module named 'requests'",
     "output_type": "error",
     "traceback": [
      "\u001b[0;31m---------------------------------------------------------------------------\u001b[0m",
      "\u001b[0;31mModuleNotFoundError\u001b[0m                       Traceback (most recent call last)",
      "\u001b[1;32m/Users/alksandr/Desktop/BI-Python-Online-1/Lessons/lesson_5-work_with_file-26.10-23.ipynb Ячейка 80\u001b[0m line \u001b[0;36m1\n\u001b[0;32m----> <a href='vscode-notebook-cell:/Users/alksandr/Desktop/BI-Python-Online-1/Lessons/lesson_5-work_with_file-26.10-23.ipynb#Y150sZmlsZQ%3D%3D?line=0'>1</a>\u001b[0m \u001b[39mimport\u001b[39;00m \u001b[39mrequests\u001b[39;00m\n",
      "\u001b[0;31mModuleNotFoundError\u001b[0m: No module named 'requests'"
     ]
    }
   ],
   "source": [
    "import requests\n"
   ]
  },
  {
   "cell_type": "code",
   "execution_count": 38,
   "metadata": {},
   "outputs": [],
   "source": [
    "# Task 4\n",
    "import random as rn    \n",
    "\n",
    "def generate_value(n: int = 1, m: int = 100) -> int:\n",
    "    return str(rn.randint(n, m)) if m > n else '1'\n",
    "\n",
    "\n",
    "def generate_alp(start_number: int = 65, end_number: int = 90) -> str:\n",
    "    return ''.join(chr(i) for i in range(start_number, end_number + 1 )) if end_number > start_number else None \n",
    "\n",
    "\n",
    "for item in generate_alp():\n",
    "    with open(f'{item}.txt', 'w') as file:\n",
    "        file.write(generate_value())"
   ]
  },
  {
   "cell_type": "code",
   "execution_count": 61,
   "metadata": {},
   "outputs": [
    {
     "data": {
      "text/plain": [
       "(1040, 1168)"
      ]
     },
     "execution_count": 61,
     "metadata": {},
     "output_type": "execute_result"
    }
   ],
   "source": [
    "ord('А'), ord('Ґ')"
   ]
  },
  {
   "cell_type": "code",
   "execution_count": 45,
   "metadata": {},
   "outputs": [
    {
     "data": {
      "text/plain": [
       "'103'"
      ]
     },
     "execution_count": 45,
     "metadata": {},
     "output_type": "execute_result"
    }
   ],
   "source": [
    "generate_value(n = 100, m = 110)"
   ]
  }
 ],
 "metadata": {
  "kernelspec": {
   "display_name": "Python 3",
   "language": "python",
   "name": "python3"
  },
  "language_info": {
   "codemirror_mode": {
    "name": "ipython",
    "version": 3
   },
   "file_extension": ".py",
   "mimetype": "text/x-python",
   "name": "python",
   "nbconvert_exporter": "python",
   "pygments_lexer": "ipython3",
   "version": "3.10.12"
  },
  "orig_nbformat": 4
 },
 "nbformat": 4,
 "nbformat_minor": 2
}
