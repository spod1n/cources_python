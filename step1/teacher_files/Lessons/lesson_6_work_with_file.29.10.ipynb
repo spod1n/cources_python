{
 "cells": [
  {
   "attachments": {},
   "cell_type": "markdown",
   "metadata": {},
   "source": [
    "#### Lesson 6. Work with Api. \n",
    "##### Date: 29.10.23\n",
    "**Topics**:\n",
    "> 1. Itertools (Product/Permutations)\n",
    "> 2. Work with file(file)\n",
    "> 3. Context manager\n",
    "> 4. Json \n",
    "> 5. Work with Api(WeatherApp/Convert)\n",
    "\n",
    "**Materials**:\n",
    "> 1. [Work with file](https://realpython.com/working-with-files-in-python/)\n",
    "> 2. [Pickle](https://docs.python.org/3/library/pickle.html)\n",
    "> 3. [Collection liblary](https://docs.python.org/3/library/collections.html)\n",
    "> 4. [Itetools](https://www.geeksforgeeks.org/python-itertools/)\n",
    "> 5. [JSON](https://docs.python.org/3/library/json.html)\n"
   ]
  },
  {
   "cell_type": "code",
   "execution_count": 2,
   "metadata": {},
   "outputs": [
    {
     "name": "stdout",
     "output_type": "stream",
     "text": [
      "(1, 'a')\n",
      "(1, 'b')\n",
      "(1, 'c')\n",
      "(2, 'a')\n",
      "(2, 'b')\n",
      "(2, 'c')\n",
      "(3, 'a')\n",
      "(3, 'b')\n",
      "(3, 'c')\n"
     ]
    }
   ],
   "source": [
    "from itertools import product, permutations, combinations # модуль  для роботи із ітераторами \n",
    "\n",
    "# product - генерує усі можливі декартові добутки з декількох ітераторів, тобто всі можливі комбінації елементів з кожного ітератора\n",
    "a = [1, 2, 3]\n",
    "b = ['a', 'b', 'c']\n",
    "for i in product(a, b):\n",
    "    print(i)"
   ]
  },
  {
   "cell_type": "code",
   "execution_count": 7,
   "metadata": {},
   "outputs": [
    {
     "name": "stdout",
     "output_type": "stream",
     "text": [
      "(1, 2) <class 'tuple'>\n",
      "(1, 3) <class 'tuple'>\n",
      "(1, 4) <class 'tuple'>\n",
      "(2, 1) <class 'tuple'>\n",
      "(2, 3) <class 'tuple'>\n",
      "(2, 4) <class 'tuple'>\n",
      "(3, 1) <class 'tuple'>\n",
      "(3, 2) <class 'tuple'>\n",
      "(3, 4) <class 'tuple'>\n",
      "(4, 1) <class 'tuple'>\n",
      "(4, 2) <class 'tuple'>\n",
      "(4, 3) <class 'tuple'>\n"
     ]
    }
   ],
   "source": [
    "# permutations -  генерує усі можливі перестановки заданого розміру з елементів ітератора\n",
    "# Генерація усіх можливих перестановок трьох елементів\n",
    "a = [1, 2, 3,4]\n",
    "for i in permutations(a, 2):\n",
    "    print(i, type(i))"
   ]
  },
  {
   "cell_type": "code",
   "execution_count": 10,
   "metadata": {},
   "outputs": [
    {
     "name": "stdout",
     "output_type": "stream",
     "text": [
      "Help on class combinations in module itertools:\n",
      "\n",
      "class combinations(builtins.object)\n",
      " |  combinations(iterable, r)\n",
      " |  \n",
      " |  Return successive r-length combinations of elements in the iterable.\n",
      " |  \n",
      " |  combinations(range(4), 3) --> (0,1,2), (0,1,3), (0,2,3), (1,2,3)\n",
      " |  \n",
      " |  Methods defined here:\n",
      " |  \n",
      " |  __getattribute__(self, name, /)\n",
      " |      Return getattr(self, name).\n",
      " |  \n",
      " |  __iter__(self, /)\n",
      " |      Implement iter(self).\n",
      " |  \n",
      " |  __next__(self, /)\n",
      " |      Implement next(self).\n",
      " |  \n",
      " |  __reduce__(...)\n",
      " |      Return state information for pickling.\n",
      " |  \n",
      " |  __setstate__(...)\n",
      " |      Set state information for unpickling.\n",
      " |  \n",
      " |  __sizeof__(...)\n",
      " |      Returns size in memory, in bytes.\n",
      " |  \n",
      " |  ----------------------------------------------------------------------\n",
      " |  Static methods defined here:\n",
      " |  \n",
      " |  __new__(*args, **kwargs) from builtins.type\n",
      " |      Create and return a new object.  See help(type) for accurate signature.\n",
      "\n"
     ]
    }
   ],
   "source": [
    "help(combinations)"
   ]
  },
  {
   "cell_type": "code",
   "execution_count": 11,
   "metadata": {},
   "outputs": [
    {
     "name": "stdout",
     "output_type": "stream",
     "text": [
      "Help on class permutations in module itertools:\n",
      "\n",
      "class permutations(builtins.object)\n",
      " |  permutations(iterable, r=None)\n",
      " |  \n",
      " |  Return successive r-length permutations of elements in the iterable.\n",
      " |  \n",
      " |  permutations(range(3), 2) --> (0,1), (0,2), (1,0), (1,2), (2,0), (2,1)\n",
      " |  \n",
      " |  Methods defined here:\n",
      " |  \n",
      " |  __getattribute__(self, name, /)\n",
      " |      Return getattr(self, name).\n",
      " |  \n",
      " |  __iter__(self, /)\n",
      " |      Implement iter(self).\n",
      " |  \n",
      " |  __next__(self, /)\n",
      " |      Implement next(self).\n",
      " |  \n",
      " |  __reduce__(...)\n",
      " |      Return state information for pickling.\n",
      " |  \n",
      " |  __setstate__(...)\n",
      " |      Set state information for unpickling.\n",
      " |  \n",
      " |  __sizeof__(...)\n",
      " |      Returns size in memory, in bytes.\n",
      " |  \n",
      " |  ----------------------------------------------------------------------\n",
      " |  Static methods defined here:\n",
      " |  \n",
      " |  __new__(*args, **kwargs) from builtins.type\n",
      " |      Create and return a new object.  See help(type) for accurate signature.\n",
      "\n"
     ]
    }
   ],
   "source": [
    "help(permutations)"
   ]
  },
  {
   "cell_type": "code",
   "execution_count": 9,
   "metadata": {},
   "outputs": [
    {
     "name": "stdout",
     "output_type": "stream",
     "text": [
      "(1, 2)\n",
      "(1, 3)\n",
      "(1, 4)\n",
      "(2, 3)\n",
      "(2, 4)\n",
      "(3, 4)\n"
     ]
    }
   ],
   "source": [
    "# combinations генерує усі можливі комбінації заданого розміру з елементів ітератора.\n",
    "# Генерація усіх можливих комбінацій з трьох елементів\n",
    "a = [1, 2, 3, 4]\n",
    "for i in combinations(a, 2):\n",
    "    print(i)\n"
   ]
  },
  {
   "attachments": {},
   "cell_type": "markdown",
   "metadata": {},
   "source": [
    "#### File - набір  інформації який має наступну структуру:\n",
    "**Header** - загаловок, метадані(назва, тип, etc.) \\\n",
    "**Data** - текстовий контект \\\n",
    "**EOF** - end of file, спеціальний значення який вказує на кінець файлу"
   ]
  },
  {
   "cell_type": "code",
   "execution_count": null,
   "metadata": {},
   "outputs": [],
   "source": [
    "# open - для відкриття файлу і роботи із ним "
   ]
  },
  {
   "cell_type": "code",
   "execution_count": 1,
   "metadata": {},
   "outputs": [
    {
     "name": "stdout",
     "output_type": "stream",
     "text": [
      "Help on function open in module io:\n",
      "\n",
      "open(file, mode='r', buffering=-1, encoding=None, errors=None, newline=None, closefd=True, opener=None)\n",
      "    Open file and return a stream.  Raise OSError upon failure.\n",
      "    \n",
      "    file is either a text or byte string giving the name (and the path\n",
      "    if the file isn't in the current working directory) of the file to\n",
      "    be opened or an integer file descriptor of the file to be\n",
      "    wrapped. (If a file descriptor is given, it is closed when the\n",
      "    returned I/O object is closed, unless closefd is set to False.)\n",
      "    \n",
      "    mode is an optional string that specifies the mode in which the file\n",
      "    is opened. It defaults to 'r' which means open for reading in text\n",
      "    mode.  Other common values are 'w' for writing (truncating the file if\n",
      "    it already exists), 'x' for creating and writing to a new file, and\n",
      "    'a' for appending (which on some Unix systems, means that all writes\n",
      "    append to the end of the file regardless of the current seek position).\n",
      "    In text mode, if encoding is not specified the encoding used is platform\n",
      "    dependent: locale.getpreferredencoding(False) is called to get the\n",
      "    current locale encoding. (For reading and writing raw bytes use binary\n",
      "    mode and leave encoding unspecified.) The available modes are:\n",
      "    \n",
      "    ========= ===============================================================\n",
      "    Character Meaning\n",
      "    --------- ---------------------------------------------------------------\n",
      "    'r'       open for reading (default)\n",
      "    'w'       open for writing, truncating the file first\n",
      "    'x'       create a new file and open it for writing\n",
      "    'a'       open for writing, appending to the end of the file if it exists\n",
      "    'b'       binary mode\n",
      "    't'       text mode (default)\n",
      "    '+'       open a disk file for updating (reading and writing)\n",
      "    'U'       universal newline mode (deprecated)\n",
      "    ========= ===============================================================\n",
      "    \n",
      "    The default mode is 'rt' (open for reading text). For binary random\n",
      "    access, the mode 'w+b' opens and truncates the file to 0 bytes, while\n",
      "    'r+b' opens the file without truncation. The 'x' mode implies 'w' and\n",
      "    raises an `FileExistsError` if the file already exists.\n",
      "    \n",
      "    Python distinguishes between files opened in binary and text modes,\n",
      "    even when the underlying operating system doesn't. Files opened in\n",
      "    binary mode (appending 'b' to the mode argument) return contents as\n",
      "    bytes objects without any decoding. In text mode (the default, or when\n",
      "    't' is appended to the mode argument), the contents of the file are\n",
      "    returned as strings, the bytes having been first decoded using a\n",
      "    platform-dependent encoding or using the specified encoding if given.\n",
      "    \n",
      "    'U' mode is deprecated and will raise an exception in future versions\n",
      "    of Python.  It has no effect in Python 3.  Use newline to control\n",
      "    universal newlines mode.\n",
      "    \n",
      "    buffering is an optional integer used to set the buffering policy.\n",
      "    Pass 0 to switch buffering off (only allowed in binary mode), 1 to select\n",
      "    line buffering (only usable in text mode), and an integer > 1 to indicate\n",
      "    the size of a fixed-size chunk buffer.  When no buffering argument is\n",
      "    given, the default buffering policy works as follows:\n",
      "    \n",
      "    * Binary files are buffered in fixed-size chunks; the size of the buffer\n",
      "      is chosen using a heuristic trying to determine the underlying device's\n",
      "      \"block size\" and falling back on `io.DEFAULT_BUFFER_SIZE`.\n",
      "      On many systems, the buffer will typically be 4096 or 8192 bytes long.\n",
      "    \n",
      "    * \"Interactive\" text files (files for which isatty() returns True)\n",
      "      use line buffering.  Other text files use the policy described above\n",
      "      for binary files.\n",
      "    \n",
      "    encoding is the name of the encoding used to decode or encode the\n",
      "    file. This should only be used in text mode. The default encoding is\n",
      "    platform dependent, but any encoding supported by Python can be\n",
      "    passed.  See the codecs module for the list of supported encodings.\n",
      "    \n",
      "    errors is an optional string that specifies how encoding errors are to\n",
      "    be handled---this argument should not be used in binary mode. Pass\n",
      "    'strict' to raise a ValueError exception if there is an encoding error\n",
      "    (the default of None has the same effect), or pass 'ignore' to ignore\n",
      "    errors. (Note that ignoring encoding errors can lead to data loss.)\n",
      "    See the documentation for codecs.register or run 'help(codecs.Codec)'\n",
      "    for a list of the permitted encoding error strings.\n",
      "    \n",
      "    newline controls how universal newlines works (it only applies to text\n",
      "    mode). It can be None, '', '\\n', '\\r', and '\\r\\n'.  It works as\n",
      "    follows:\n",
      "    \n",
      "    * On input, if newline is None, universal newlines mode is\n",
      "      enabled. Lines in the input can end in '\\n', '\\r', or '\\r\\n', and\n",
      "      these are translated into '\\n' before being returned to the\n",
      "      caller. If it is '', universal newline mode is enabled, but line\n",
      "      endings are returned to the caller untranslated. If it has any of\n",
      "      the other legal values, input lines are only terminated by the given\n",
      "      string, and the line ending is returned to the caller untranslated.\n",
      "    \n",
      "    * On output, if newline is None, any '\\n' characters written are\n",
      "      translated to the system default line separator, os.linesep. If\n",
      "      newline is '' or '\\n', no translation takes place. If newline is any\n",
      "      of the other legal values, any '\\n' characters written are translated\n",
      "      to the given string.\n",
      "    \n",
      "    If closefd is False, the underlying file descriptor will be kept open\n",
      "    when the file is closed. This does not work when a file name is given\n",
      "    and must be True in that case.\n",
      "    \n",
      "    A custom opener can be used by passing a callable as *opener*. The\n",
      "    underlying file descriptor for the file object is then obtained by\n",
      "    calling *opener* with (*file*, *flags*). *opener* must return an open\n",
      "    file descriptor (passing os.open as *opener* results in functionality\n",
      "    similar to passing None).\n",
      "    \n",
      "    open() returns a file object whose type depends on the mode, and\n",
      "    through which the standard file operations such as reading and writing\n",
      "    are performed. When open() is used to open a file in a text mode ('w',\n",
      "    'r', 'wt', 'rt', etc.), it returns a TextIOWrapper. When used to open\n",
      "    a file in a binary mode, the returned class varies: in read binary\n",
      "    mode, it returns a BufferedReader; in write binary and append binary\n",
      "    modes, it returns a BufferedWriter, and in read/write mode, it returns\n",
      "    a BufferedRandom.\n",
      "    \n",
      "    It is also possible to use a string or bytearray as a file for both\n",
      "    reading and writing. For strings StringIO can be used like a file\n",
      "    opened in a text mode, and for bytes a BytesIO can be used like a file\n",
      "    opened in a binary mode.\n",
      "\n"
     ]
    }
   ],
   "source": [
    "help(open)"
   ]
  },
  {
   "cell_type": "code",
   "execution_count": 12,
   "metadata": {},
   "outputs": [
    {
     "name": "stdout",
     "output_type": "stream",
     "text": [
      "<_io.TextIOWrapper name='first_file.txt' mode='w' encoding='UTF-8'> <class '_io.TextIOWrapper'>\n"
     ]
    }
   ],
   "source": [
    "# Відкриття файлу\n",
    "file = open(\"first_file.txt\", \"w\")\n",
    "\n",
    "print(file, type(file))\n",
    "\n",
    "# Запис вмісту файлу\n",
    "file.write('Hello World!')\n",
    "\n",
    "# Закриття файлу\n",
    "file.close()"
   ]
  },
  {
   "cell_type": "code",
   "execution_count": 13,
   "metadata": {},
   "outputs": [],
   "source": [
    "file = open(\"first_file.txt\", \"w\")\n",
    "\n",
    "# Запис вмісту файлу\n",
    "file.write('One more line')\n",
    "\n",
    "# Закриття файлу\n",
    "file.close()"
   ]
  },
  {
   "cell_type": "code",
   "execution_count": null,
   "metadata": {},
   "outputs": [],
   "source": [
    "print('Hello World!','Name' ,sep = '\\t')"
   ]
  },
  {
   "cell_type": "code",
   "execution_count": 16,
   "metadata": {},
   "outputs": [],
   "source": [
    "file = open(\"first_file.txt\", \"a\")\n",
    "\n",
    "# Запис вмісту файлу\n",
    "file.write('\\nOne more line') # Text object\n",
    "file.writelines('\\nSecond lines') # Python object\n",
    "\n",
    "# Закриття файлу\n",
    "file.close()\n"
   ]
  },
  {
   "cell_type": "code",
   "execution_count": 21,
   "metadata": {},
   "outputs": [
    {
     "name": "stdout",
     "output_type": "stream",
     "text": [
      "Help on function open in module io:\n",
      "\n",
      "open(file, mode='r', buffering=-1, encoding=None, errors=None, newline=None, closefd=True, opener=None)\n",
      "    Open file and return a stream.  Raise OSError upon failure.\n",
      "    \n",
      "    file is either a text or byte string giving the name (and the path\n",
      "    if the file isn't in the current working directory) of the file to\n",
      "    be opened or an integer file descriptor of the file to be\n",
      "    wrapped. (If a file descriptor is given, it is closed when the\n",
      "    returned I/O object is closed, unless closefd is set to False.)\n",
      "    \n",
      "    mode is an optional string that specifies the mode in which the file\n",
      "    is opened. It defaults to 'r' which means open for reading in text\n",
      "    mode.  Other common values are 'w' for writing (truncating the file if\n",
      "    it already exists), 'x' for creating and writing to a new file, and\n",
      "    'a' for appending (which on some Unix systems, means that all writes\n",
      "    append to the end of the file regardless of the current seek position).\n",
      "    In text mode, if encoding is not specified the encoding used is platform\n",
      "    dependent: locale.getpreferredencoding(False) is called to get the\n",
      "    current locale encoding. (For reading and writing raw bytes use binary\n",
      "    mode and leave encoding unspecified.) The available modes are:\n",
      "    \n",
      "    ========= ===============================================================\n",
      "    Character Meaning\n",
      "    --------- ---------------------------------------------------------------\n",
      "    'r'       open for reading (default)\n",
      "    'w'       open for writing, truncating the file first\n",
      "    'x'       create a new file and open it for writing\n",
      "    'a'       open for writing, appending to the end of the file if it exists\n",
      "    'b'       binary mode\n",
      "    't'       text mode (default)\n",
      "    '+'       open a disk file for updating (reading and writing)\n",
      "    'U'       universal newline mode (deprecated)\n",
      "    ========= ===============================================================\n",
      "    \n",
      "    The default mode is 'rt' (open for reading text). For binary random\n",
      "    access, the mode 'w+b' opens and truncates the file to 0 bytes, while\n",
      "    'r+b' opens the file without truncation. The 'x' mode implies 'w' and\n",
      "    raises an `FileExistsError` if the file already exists.\n",
      "    \n",
      "    Python distinguishes between files opened in binary and text modes,\n",
      "    even when the underlying operating system doesn't. Files opened in\n",
      "    binary mode (appending 'b' to the mode argument) return contents as\n",
      "    bytes objects without any decoding. In text mode (the default, or when\n",
      "    't' is appended to the mode argument), the contents of the file are\n",
      "    returned as strings, the bytes having been first decoded using a\n",
      "    platform-dependent encoding or using the specified encoding if given.\n",
      "    \n",
      "    'U' mode is deprecated and will raise an exception in future versions\n",
      "    of Python.  It has no effect in Python 3.  Use newline to control\n",
      "    universal newlines mode.\n",
      "    \n",
      "    buffering is an optional integer used to set the buffering policy.\n",
      "    Pass 0 to switch buffering off (only allowed in binary mode), 1 to select\n",
      "    line buffering (only usable in text mode), and an integer > 1 to indicate\n",
      "    the size of a fixed-size chunk buffer.  When no buffering argument is\n",
      "    given, the default buffering policy works as follows:\n",
      "    \n",
      "    * Binary files are buffered in fixed-size chunks; the size of the buffer\n",
      "      is chosen using a heuristic trying to determine the underlying device's\n",
      "      \"block size\" and falling back on `io.DEFAULT_BUFFER_SIZE`.\n",
      "      On many systems, the buffer will typically be 4096 or 8192 bytes long.\n",
      "    \n",
      "    * \"Interactive\" text files (files for which isatty() returns True)\n",
      "      use line buffering.  Other text files use the policy described above\n",
      "      for binary files.\n",
      "    \n",
      "    encoding is the name of the encoding used to decode or encode the\n",
      "    file. This should only be used in text mode. The default encoding is\n",
      "    platform dependent, but any encoding supported by Python can be\n",
      "    passed.  See the codecs module for the list of supported encodings.\n",
      "    \n",
      "    errors is an optional string that specifies how encoding errors are to\n",
      "    be handled---this argument should not be used in binary mode. Pass\n",
      "    'strict' to raise a ValueError exception if there is an encoding error\n",
      "    (the default of None has the same effect), or pass 'ignore' to ignore\n",
      "    errors. (Note that ignoring encoding errors can lead to data loss.)\n",
      "    See the documentation for codecs.register or run 'help(codecs.Codec)'\n",
      "    for a list of the permitted encoding error strings.\n",
      "    \n",
      "    newline controls how universal newlines works (it only applies to text\n",
      "    mode). It can be None, '', '\\n', '\\r', and '\\r\\n'.  It works as\n",
      "    follows:\n",
      "    \n",
      "    * On input, if newline is None, universal newlines mode is\n",
      "      enabled. Lines in the input can end in '\\n', '\\r', or '\\r\\n', and\n",
      "      these are translated into '\\n' before being returned to the\n",
      "      caller. If it is '', universal newline mode is enabled, but line\n",
      "      endings are returned to the caller untranslated. If it has any of\n",
      "      the other legal values, input lines are only terminated by the given\n",
      "      string, and the line ending is returned to the caller untranslated.\n",
      "    \n",
      "    * On output, if newline is None, any '\\n' characters written are\n",
      "      translated to the system default line separator, os.linesep. If\n",
      "      newline is '' or '\\n', no translation takes place. If newline is any\n",
      "      of the other legal values, any '\\n' characters written are translated\n",
      "      to the given string.\n",
      "    \n",
      "    If closefd is False, the underlying file descriptor will be kept open\n",
      "    when the file is closed. This does not work when a file name is given\n",
      "    and must be True in that case.\n",
      "    \n",
      "    A custom opener can be used by passing a callable as *opener*. The\n",
      "    underlying file descriptor for the file object is then obtained by\n",
      "    calling *opener* with (*file*, *flags*). *opener* must return an open\n",
      "    file descriptor (passing os.open as *opener* results in functionality\n",
      "    similar to passing None).\n",
      "    \n",
      "    open() returns a file object whose type depends on the mode, and\n",
      "    through which the standard file operations such as reading and writing\n",
      "    are performed. When open() is used to open a file in a text mode ('w',\n",
      "    'r', 'wt', 'rt', etc.), it returns a TextIOWrapper. When used to open\n",
      "    a file in a binary mode, the returned class varies: in read binary\n",
      "    mode, it returns a BufferedReader; in write binary and append binary\n",
      "    modes, it returns a BufferedWriter, and in read/write mode, it returns\n",
      "    a BufferedRandom.\n",
      "    \n",
      "    It is also possible to use a string or bytearray as a file for both\n",
      "    reading and writing. For strings StringIO can be used like a file\n",
      "    opened in a text mode, and for bytes a BytesIO can be used like a file\n",
      "    opened in a binary mode.\n",
      "\n"
     ]
    }
   ],
   "source": [
    "help(open)"
   ]
  },
  {
   "cell_type": "code",
   "execution_count": 25,
   "metadata": {},
   "outputs": [
    {
     "name": "stdout",
     "output_type": "stream",
     "text": [
      "One more line\n",
      "One more line\n",
      "Second lines\n",
      "One more line\n",
      "Second lines\n",
      "\n",
      "12 \n"
     ]
    }
   ],
   "source": [
    "# Відкриття файлу\n",
    "file = open(\"first_file.txt\", \"r\")\n",
    "\n",
    "# Зчитування вмісту файлу\n",
    "content = file.read()\n",
    "\n",
    "# Виведення вмісту файлу на екран\n",
    "print(content)\n",
    "\n",
    "# Закриття файлу\n",
    "file.close()\n",
    "\n"
   ]
  },
  {
   "cell_type": "code",
   "execution_count": 10,
   "metadata": {},
   "outputs": [
    {
     "name": "stdout",
     "output_type": "stream",
     "text": [
      "New line\n",
      "\n",
      "Thierd line of text, test\n",
      "\n",
      "Thierd line of text\n",
      "\n",
      "Thierd line of text\n",
      "\n",
      "Thierd line of text\n"
     ]
    }
   ],
   "source": [
    "# Відкриття файлу\n",
    "# a - append, + - \n",
    "file = open(\"first_file.txt\", \"r+\")\n",
    "\n",
    "# Зчитування вмісту файлу\n",
    "# for i in file.read():\n",
    "#     print(i)\n",
    "\n",
    "# readline - один рядок, readlines - many rows \n",
    "for i in file.readlines():\n",
    "    print(i)\n",
    "\n",
    "file.write('\\nThierd line of text')    \n",
    "\n",
    "# Закриття файлу\n",
    "file.close()\n",
    "\n"
   ]
  },
  {
   "cell_type": "code",
   "execution_count": null,
   "metadata": {},
   "outputs": [],
   "source": [
    "# w - write\n",
    "# r - read\n",
    "# a - append\n",
    "# t - text\n",
    "# a+\n",
    "# r+\n",
    "# w+\n"
   ]
  },
  {
   "cell_type": "code",
   "execution_count": 27,
   "metadata": {},
   "outputs": [
    {
     "name": "stdout",
     "output_type": "stream",
     "text": [
      "String \\n\\nNew test\n",
      "0\n",
      "New line\n",
      "\n",
      "Thierd line of text, test\n",
      "\n",
      "Thierd line of text\n",
      "\n"
     ]
    }
   ],
   "source": [
    "# Відкриття файлу\n",
    "file = open(\"first_file.txt\", \"r+\")\n",
    "\n",
    "string = r'String \\n\\nNew test' # row - strings\n",
    "print(string)\n",
    "print(string.count(\"\\n\"))\n",
    "# Зчитування першого рядка файлу\n",
    "line1 = file.readline()\n",
    "print(line1)\n",
    "\n",
    "# Зчитування другого рядка файлу\n",
    "line1 = file.readline()\n",
    "print(line1)\n",
    "\n",
    "line3 = file.readline()\n",
    "print(line3)\n",
    "\n",
    "# Закриття файлу\n",
    "file.close()\n"
   ]
  },
  {
   "cell_type": "code",
   "execution_count": null,
   "metadata": {},
   "outputs": [],
   "source": [
    "import random as rn"
   ]
  },
  {
   "cell_type": "code",
   "execution_count": null,
   "metadata": {},
   "outputs": [],
   "source": [
    "import string "
   ]
  },
  {
   "cell_type": "code",
   "execution_count": null,
   "metadata": {},
   "outputs": [],
   "source": [
    "string.ascii_uppercase"
   ]
  },
  {
   "cell_type": "code",
   "execution_count": null,
   "metadata": {},
   "outputs": [],
   "source": [
    "chr(65)"
   ]
  },
  {
   "cell_type": "code",
   "execution_count": null,
   "metadata": {},
   "outputs": [],
   "source": [
    "ord('A'), ord('Z')"
   ]
  },
  {
   "cell_type": "code",
   "execution_count": null,
   "metadata": {},
   "outputs": [],
   "source": [
    "# Create files: name[A-Z]\n",
    "for i in range(ord('A'), ord('Z') + 1):\n",
    "    file = open(f'{chr(i)}.txt', 'w')\n",
    "    \n",
    "    file.write(str(rn.randint(1,1000)))\n",
    "    \n",
    "    file.close()"
   ]
  },
  {
   "cell_type": "code",
   "execution_count": null,
   "metadata": {},
   "outputs": [],
   "source": [
    "# Відкриття файлу\n",
    "file = open(\"first_file.txt\", \"r\")\n",
    "\n",
    "# Зчитування усіх рядків файлу\n",
    "lines = file.readlines()\n",
    "\n",
    "print(lines)\n",
    "\n",
    "# Виведення усіх рядків на екран\n",
    "for line in lines:\n",
    "    print(line, end = '')\n",
    "\n",
    "# Закриття файлу\n",
    "file.close()\n"
   ]
  },
  {
   "attachments": {},
   "cell_type": "markdown",
   "metadata": {},
   "source": [
    "##### Context Manager - дозволяє контролювати вхід та вихід вашого блоку коду\n",
    "##### key word - **with** "
   ]
  },
  {
   "cell_type": "code",
   "execution_count": 28,
   "metadata": {},
   "outputs": [],
   "source": [
    "file = open('Japan.txt', 'w')\n",
    "\n",
    "file.write('Capital: Tokyo\\nPopulation: 120_000_00')\n",
    "\n",
    "file.close()"
   ]
  },
  {
   "cell_type": "code",
   "execution_count": 29,
   "metadata": {},
   "outputs": [],
   "source": [
    "file = open('UK.txt', 'w')\n",
    "\n",
    "file.write('Capital: London\\nPopulation: 90_0000')\n",
    "\n",
    "file.close()"
   ]
  },
  {
   "cell_type": "code",
   "execution_count": 31,
   "metadata": {},
   "outputs": [
    {
     "name": "stdout",
     "output_type": "stream",
     "text": [
      "Capital: Tokyo\n",
      "Population: 120_000_00\n",
      "Capital: London\n",
      "Population: 90_0000\n"
     ]
    }
   ],
   "source": [
    "with open(\"Japan.txt\", 'r') as file, open(\"UK.txt\", 'r') as file1:\n",
    "    data = file.read()\n",
    "    print(data)\n",
    "    print(file1.read())"
   ]
  },
  {
   "cell_type": "code",
   "execution_count": null,
   "metadata": {},
   "outputs": [],
   "source": [
    "# date: yyyy-mm-dd\n",
    "\n",
    "# context \n",
    "# yyyy name of month day\n",
    "\n",
    "# date: yyyy-mm-dd"
   ]
  },
  {
   "cell_type": "code",
   "execution_count": null,
   "metadata": {},
   "outputs": [],
   "source": [
    "with open(\"first_file.txt\", 'a') as file:\n",
    "    file.write('\\nAdd new line of code')"
   ]
  },
  {
   "attachments": {},
   "cell_type": "markdown",
   "metadata": {},
   "source": [
    "**JSON** (JavaScript Object Notation) - це формат обміну даними,  доволі часто це словник"
   ]
  },
  {
   "cell_type": "code",
   "execution_count": 2,
   "metadata": {},
   "outputs": [
    {
     "data": {
      "text/plain": [
       "{}"
      ]
     },
     "execution_count": 2,
     "metadata": {},
     "output_type": "execute_result"
    }
   ],
   "source": [
    "# pip install requests\n",
    "{ key : {key: value } }"
   ]
  },
  {
   "cell_type": "code",
   "execution_count": 5,
   "metadata": {},
   "outputs": [
    {
     "name": "stdout",
     "output_type": "stream",
     "text": [
      "200 <Response [200]>\n"
     ]
    }
   ],
   "source": [
    "# Weather App\n",
    "import requests\n",
    "\n",
    "API_KEY = \"33d99a1c99c5ea82e6aaff8592cd6fc3\"  \n",
    "\n",
    "city = input('Enteryou city: ').strip().capitalize()\n",
    "\n",
    "url = f\"https://api.openweathermap.org/data/2.5/weather?q={city}&appid={API_KEY}\" # &units=metric\n",
    "\n",
    "response = requests.get(url)\n",
    "\n",
    "print(response.status_code, response) # відповідь сервера, від 1xx до 5xx\n"
   ]
  },
  {
   "cell_type": "code",
   "execution_count": null,
   "metadata": {},
   "outputs": [],
   "source": [
    "def check_status_code(object):\n",
    "    match object.status_code:\n",
    "        case 200:\n",
    "            return True \n",
    "        case 300:\n",
    "            return 'Check connection'\n",
    "        case 401: \n",
    "            return 'Wrong key, try later'\n",
    "        case 404:\n",
    "            return 'Server doesn\\'t work'"
   ]
  },
  {
   "cell_type": "code",
   "execution_count": 11,
   "metadata": {},
   "outputs": [],
   "source": [
    "# Task 1. Витягнути:wind - clouds, + написати функцію переводу F -> C\n",
    "def convert_kel_in_ceil(temp: int) -> int:\n",
    "    return round(temp - 273.15,2) if isinstance(temp, (int, float)) else temp"
   ]
  },
  {
   "cell_type": "code",
   "execution_count": 12,
   "metadata": {},
   "outputs": [
    {
     "name": "stdout",
     "output_type": "stream",
     "text": [
      "{'coord': {'lon': 30.5167, 'lat': 50.4333}, 'weather': [{'id': 802, 'main': 'Clouds', 'description': 'scattered clouds', 'icon': '03d'}], 'base': 'stations', 'main': {'temp': 285.77, 'feels_like': 285.36, 'temp_min': 285.77, 'temp_max': 285.77, 'pressure': 999, 'humidity': 87}, 'visibility': 10000, 'wind': {'speed': 0.45, 'deg': 180, 'gust': 1.34}, 'clouds': {'all': 41}, 'dt': 1699174593, 'sys': {'type': 2, 'id': 2003742, 'country': 'UA', 'sunrise': 1699160071, 'sunset': 1699194508}, 'timezone': 7200, 'id': 703448, 'name': 'Kyiv', 'cod': 200} dict_keys(['coord', 'weather', 'base', 'main', 'visibility', 'wind', 'clouds', 'dt', 'sys', 'timezone', 'id', 'name', 'cod'])\n",
      "Погода в місті Kyiv: scattered clouds\n",
      "Температура: 12.62°F, відчувається як 12.21°F\n",
      "Wind speed: 0.45, Clouds: 41 \n"
     ]
    }
   ],
   "source": [
    "if response.status_code == 200:\n",
    "    data = response.json()\n",
    "    print(data, data.keys())\n",
    "\n",
    "    temp = data[\"main\"][\"temp\"]\n",
    "    feels_like = data[\"main\"][\"feels_like\"]\n",
    "    description = data[\"weather\"][0][\"description\"]\n",
    "    wind = data['wind']['speed'] \n",
    "    clouds = data['clouds']['all']\n",
    "    print(f\"Погода в місті {city}: {description}\")\n",
    "    print(f\"Температура: {convert_kel_in_ceil(temp)}°F, відчувається як {convert_kel_in_ceil(feels_like)}°F\")\n",
    "    print(f'Wind speed: {wind}, Clouds: {clouds} ')\n",
    "else:\n",
    "    print(\"Не вдалося отримати дані про погоду\")"
   ]
  },
  {
   "cell_type": "code",
   "execution_count": 6,
   "metadata": {},
   "outputs": [
    {
     "name": "stdout",
     "output_type": "stream",
     "text": [
      "{'coord': {'lon': 30.5167, 'lat': 50.4333}, 'weather': [{'id': 802, 'main': 'Clouds', 'description': 'scattered clouds', 'icon': '03d'}], 'base': 'stations', 'main': {'temp': 285.77, 'feels_like': 285.36, 'temp_min': 285.77, 'temp_max': 285.77, 'pressure': 999, 'humidity': 87}, 'visibility': 10000, 'wind': {'speed': 0.45, 'deg': 180, 'gust': 1.34}, 'clouds': {'all': 41}, 'dt': 1699174593, 'sys': {'type': 2, 'id': 2003742, 'country': 'UA', 'sunrise': 1699160071, 'sunset': 1699194508}, 'timezone': 7200, 'id': 703448, 'name': 'Kyiv', 'cod': 200}\n"
     ]
    }
   ],
   "source": [
    "data = response.json()\n",
    "print(data)"
   ]
  },
  {
   "cell_type": "code",
   "execution_count": null,
   "metadata": {},
   "outputs": [],
   "source": [
    "print(data.keys())"
   ]
  },
  {
   "cell_type": "code",
   "execution_count": null,
   "metadata": {},
   "outputs": [],
   "source": [
    "print(data['main'])"
   ]
  },
  {
   "cell_type": "code",
   "execution_count": null,
   "metadata": {},
   "outputs": [],
   "source": [
    "print(data['main']['temp'])"
   ]
  },
  {
   "cell_type": "code",
   "execution_count": null,
   "metadata": {},
   "outputs": [],
   "source": [
    "# Link to find: https://api.monobank.ua/docs/\n",
    "# Read json, and display dollar, euro info"
   ]
  },
  {
   "cell_type": "code",
   "execution_count": 22,
   "metadata": {},
   "outputs": [],
   "source": [
    "# Monobank\n",
    "import requests \n",
    "import time  \n",
    "\n",
    "URL_MONO = 'https://api.monobank.ua/bank/currency'\n",
    "\n",
    "CURRENCY = (840,978, 704)\n",
    "\n",
    "dict_ = {\n",
    "    840: '💲',\n",
    "    978: '💶',\n",
    "    704: '₫'\n",
    "}\n",
    "curr = requests.get(URL_MONO)\n"
   ]
  },
  {
   "cell_type": "code",
   "execution_count": 23,
   "metadata": {},
   "outputs": [],
   "source": [
    "if curr.status_code == 200:\n",
    "    data = curr.json()\n",
    "elif curr.status_code == 428:\n",
    "    time.sleep(15)\n",
    "else:\n",
    "    print(f'{curr.status_code}')"
   ]
  },
  {
   "cell_type": "code",
   "execution_count": 17,
   "metadata": {},
   "outputs": [
    {
     "data": {
      "text/plain": [
       "{'currencyCodeA': 840,\n",
       " 'currencyCodeB': 980,\n",
       " 'date': 1699135273,\n",
       " 'rateBuy': 36.14,\n",
       " 'rateCross': 0,\n",
       " 'rateSell': 37.2995}"
      ]
     },
     "execution_count": 17,
     "metadata": {},
     "output_type": "execute_result"
    }
   ],
   "source": [
    "data[0]"
   ]
  },
  {
   "cell_type": "code",
   "execution_count": 26,
   "metadata": {},
   "outputs": [
    {
     "name": "stdout",
     "output_type": "stream",
     "text": [
      "Currency: 840:               💲, 980\n",
      "               Buy: 36.14 Sell: 37.2995\n",
      "Currency: 978:               💶, 980\n",
      "               Buy: 38.72 Sell: 40.0192\n",
      "Currency: 978:               💶, 840\n",
      "               Buy: 1.06 Sell: 1.075\n",
      "Currency: 704:               ₫, 980\n",
      "               Buy: 0 Sell: 0\n"
     ]
    }
   ],
   "source": [
    "for i in data:\n",
    "    if i['currencyCodeA'] in CURRENCY:\n",
    "        print(f\"Currency: {i['currencyCodeA']}: \\\n",
    "              {dict_.get(i['currencyCodeA'])}, {i['currencyCodeB']}\\n \\\n",
    "              Buy: {i['rateBuy']} Sell: {i['rateSell']}\")"
   ]
  },
  {
   "cell_type": "code",
   "execution_count": null,
   "metadata": {},
   "outputs": [],
   "source": [
    "match curr.status_code:\n",
    "    case 200: \n",
    "        curr = curr.json()\n",
    "    case 428: \n",
    "        print('Many req: time to sleep')\n",
    "        time.sleep(10)\n",
    "    case 404:\n",
    "        print('Error website')\n",
    "    case _ as e:\n",
    "        print(f'Error is {e}')\n"
   ]
  },
  {
   "cell_type": "code",
   "execution_count": null,
   "metadata": {},
   "outputs": [],
   "source": [
    "print(type(curr), type(curr[0]), curr[0].keys())"
   ]
  },
  {
   "cell_type": "code",
   "execution_count": null,
   "metadata": {},
   "outputs": [],
   "source": [
    "currency = []\n",
    "for i in curr.json():\n",
    "    if i['currencyCodeA'] in CURRENCY:\n",
    "        currency.append(i)\n",
    "\n",
    "print(currency)"
   ]
  }
 ],
 "metadata": {
  "kernelspec": {
   "display_name": "Python 3",
   "language": "python",
   "name": "python3"
  },
  "language_info": {
   "codemirror_mode": {
    "name": "ipython",
    "version": 3
   },
   "file_extension": ".py",
   "mimetype": "text/x-python",
   "name": "python",
   "nbconvert_exporter": "python",
   "pygments_lexer": "ipython3",
   "version": "3.7.4"
  },
  "orig_nbformat": 4
 },
 "nbformat": 4,
 "nbformat_minor": 2
}
