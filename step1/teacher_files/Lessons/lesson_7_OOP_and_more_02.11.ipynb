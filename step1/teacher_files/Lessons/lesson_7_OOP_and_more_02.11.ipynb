{
 "cells": [
  {
   "attachments": {},
   "cell_type": "markdown",
   "metadata": {},
   "source": [
    "#### OOP. Decorator\n",
    "##### Date: 02.11.2023\n",
    "**Topics**:\n",
    "> 1. Git \n",
    "> 2. Console command and magic command\n",
    "> 4. Magic command\n",
    "> 5. Decorator \n",
    "> 6. OOP   \n",
    "\n",
    "  \n",
    "\n",
    "**Materials**:\n",
    "> 1. [Console command]()\n",
    "> 2. [Git](https://www.freecodecamp.org/news/learn-the-basics-of-git-in-under-10-minutes-da548267cc91/)\n",
    "> 3. [Magic command]()\n",
    "> 4. [Decorator](https://realpython.com/primer-on-python-decorators/)\n",
    "> 5. [Flake8](https://flake8.pycqa.org/en/latest/)\n",
    "> 6. [NumpyDoc](https://numpydoc.readthedocs.io/en/latest/format.html)\n",
    "> 7. [Documantation](https://realpython.com/account/google/login/callback/?state=5l6KfiglcYhT&code=4%2F0AVHEtk7rsbct3p_ChTxKJB8ubVpYABUkCv_MByUb6rqZB4Q2Nsnp_54aslbPvsHoWdXWFQ&scope=email+profile+https%3A%2F%2Fwww.googleapis.com%2Fauth%2Fuserinfo.profile+https%3A%2F%2Fwww.googleapis.com%2Fauth%2Fuserinfo.email+openid&authuser=1&prompt=none#)  \n",
    "> 8. [Assert](https://www.w3schools.com/python/ref_keyword_assert.asp)         \n",
    "> 9. [OOP](https://realpython.com/python3-object-oriented-programming/)\n"
   ]
  },
  {
   "attachments": {},
   "cell_type": "markdown",
   "metadata": {},
   "source": [
    "**PEP8** - це стиль кодування для мови програмування Python, рекомендований Python Software Foundation. Цей стиль включає набір правил та рекомендацій щодо форматування коду, найменування змінних та функцій, вирівнювання рядків і т.д. Його мета полягає в тому, щоб зробити код більш зрозумілим і легко зчитуваним для розробників.\n",
    "\n",
    "**Flake8** - аналізатор коду"
   ]
  },
  {
   "attachments": {},
   "cell_type": "markdown",
   "metadata": {},
   "source": [
    "**reStructuredText** - це стандарт документації для Python, який зазвичай використовується для документування модулів та функцій. Його можна використовувати в докстрінгах (тобто, у рядках документації, які містяться в модулях, функціях та класах) для надання детальної документації про функції та методи"
   ]
  },
  {
   "cell_type": "code",
   "execution_count": null,
   "metadata": {},
   "outputs": [],
   "source": [
    "def add(a, b):\n",
    "    \"\"\"\n",
    "    This function adds two numbers.\n",
    "\n",
    "    :param a: The first number to add.\n",
    "    :type a: int\n",
    "    :param b: The second number to add.\n",
    "    :type b: int\n",
    "    :return: The sum of a and b.\n",
    "    :rtype: int\n",
    "    \"\"\"\n",
    "    return a + b\n"
   ]
  },
  {
   "cell_type": "code",
   "execution_count": null,
   "metadata": {},
   "outputs": [],
   "source": [
    "print(add.__doc__)"
   ]
  },
  {
   "attachments": {},
   "cell_type": "markdown",
   "metadata": {},
   "source": [
    "**NumPyDoc** - це варіант стандарту документації reStructuredText, який зазвичай використовується для документування бібліотек NumPy та SciPy. Він містить деякі додаткові мітки, які дозволяють вказати формат та тип параметрів та повернених значень."
   ]
  },
  {
   "cell_type": "code",
   "execution_count": null,
   "metadata": {},
   "outputs": [],
   "source": [
    "initial_amount = int(input('Write your initial amount of deposited money'))\n",
    "interest_rate = float(input('write rate of interest for deposited money'))\n",
    "number_years = int(input('Write number of years for deposited money'))\n",
    "def simple_interest(initial_amount, interest_rate, number_years):\n",
    "    total_amount = initial_amount\n",
    "    for i in range(1, number_years+1):\n",
    "        total_amount += (total_amount * interest_rate / 100)\n",
    "    return total_amount\n",
    "\n",
    "print(simple_interest(initial_amount, interest_rate, number_years))\n"
   ]
  },
  {
   "cell_type": "code",
   "execution_count": null,
   "metadata": {},
   "outputs": [],
   "source": [
    "def add(a, b) -> int:\n",
    "    \"\"\"\n",
    "    Add two numbers.\n",
    "\n",
    "    Parameters\n",
    "    ----------\n",
    "    a : int\n",
    "        The first number to add.\n",
    "    b : int\n",
    "        The second number to add.\n",
    "\n",
    "    Returns\n",
    "    -------\n",
    "    int\n",
    "        The sum of a and b.\n",
    "    \"\"\"\n",
    "    return a + b if isinstance(a, (int,float)) and isinstance(b, (int, float)) else None\n"
   ]
  },
  {
   "cell_type": "code",
   "execution_count": null,
   "metadata": {},
   "outputs": [],
   "source": [
    "print(add.__doc__)"
   ]
  },
  {
   "cell_type": "code",
   "execution_count": null,
   "metadata": {},
   "outputs": [],
   "source": [
    "# Asserts - key word for testing, if true - pass, else AssertitionError\n",
    "def test_add_function():\n",
    "    assert add(5, 5) == 10, 'Error'\n",
    "    assert add(10, 10) == 20, 'Error'\n",
    "    assert add('5', '5') == None, 'Concat'\n",
    "    \n",
    "\n",
    "test_add_function()"
   ]
  },
  {
   "cell_type": "code",
   "execution_count": null,
   "metadata": {},
   "outputs": [],
   "source": [
    "def minus(a: int, b:int) -> int: \n",
    "    return a - b "
   ]
  },
  {
   "cell_type": "code",
   "execution_count": null,
   "metadata": {},
   "outputs": [],
   "source": [
    "assert minus(10, 5) == 5, 'Something wrong'"
   ]
  },
  {
   "cell_type": "code",
   "execution_count": null,
   "metadata": {},
   "outputs": [],
   "source": [
    "assert add(5,5) == 10"
   ]
  },
  {
   "cell_type": "code",
   "execution_count": null,
   "metadata": {},
   "outputs": [],
   "source": [
    "def is_even(num:int) -> bool:\n",
    "    \"\"\"\n",
    "    Функція is_even перевіряє, чи є число парним.\n",
    "\n",
    "    :param num: Число для перевірки.\n",
    "    :type num: int\n",
    "    :return: True, якщо число парне, False, якщо непарне.\n",
    "    :rtype: bool\n",
    "    \"\"\"\n",
    "    return num % 2 == 0\n"
   ]
  },
  {
   "cell_type": "markdown",
   "metadata": {},
   "source": [
    "#### OOP"
   ]
  },
  {
   "cell_type": "code",
   "execution_count": null,
   "metadata": {},
   "outputs": [],
   "source": [
    "# public - open in Any, 0 - _\n",
    "class A():\n",
    "    name = 'Name'\n",
    "    \n",
    "    def display(self):\n",
    "        return self.name\n",
    "\n",
    "\n",
    "# protected, 1 - _\n",
    "class B():\n",
    "    _name = 'Name'\n",
    "    \n",
    "    def _display(self):\n",
    "        return self._name\n",
    "\n",
    "# private , 2 - _\n",
    "class C():\n",
    "    __name = 'Name'\n",
    "    \n",
    "    def __init__(self, name, age):\n",
    "        self.__name = name \n",
    "        self.__age = age\n",
    "        \n",
    "    def __display(self):\n",
    "        return self.__name\n",
    "    \n",
    "    def print_name(self):\n",
    "        return self.__display()"
   ]
  },
  {
   "cell_type": "code",
   "execution_count": null,
   "metadata": {},
   "outputs": [],
   "source": [
    "a = A()\n",
    "print(a.name, a.display())"
   ]
  },
  {
   "cell_type": "code",
   "execution_count": null,
   "metadata": {},
   "outputs": [],
   "source": [
    "b = B()\n",
    "b._name, b._display()"
   ]
  },
  {
   "cell_type": "code",
   "execution_count": null,
   "metadata": {},
   "outputs": [],
   "source": [
    "c = C()\n",
    "c.__display()"
   ]
  },
  {
   "cell_type": "code",
   "execution_count": null,
   "metadata": {},
   "outputs": [],
   "source": [
    "class Animal(object):\n",
    "    \n",
    "    def __init__(self, name) -> None:\n",
    "        self.name = name  \n",
    "        \n",
    "    def sound(self):\n",
    "        pass \n",
    "    \n",
    "    def eat(self):\n",
    "        print('Food')     \n",
    "    \n",
    "    def drink(self): \n",
    "        pass \n",
    "    \n",
    "class Dog(Animal):\n",
    "    \n",
    "    def sound(self):\n",
    "        print('Dog bark')  \n",
    "   \n",
    "        \n",
    "dog1 = Dog('Dog1') # __init__ Animal\n",
    "dog1\n",
    "dog1.sound() \n",
    "dog1.eat()\n",
    "dog1.name"
   ]
  },
  {
   "cell_type": "code",
   "execution_count": null,
   "metadata": {},
   "outputs": [],
   "source": [
    "dog1.sound() "
   ]
  },
  {
   "cell_type": "code",
   "execution_count": null,
   "metadata": {},
   "outputs": [],
   "source": [
    "class Cat(Animal):\n",
    "    def sound(self):\n",
    "        print('Cat cat sound')\n",
    "        \n",
    "\n",
    "cat1 = Cat('Cat1')\n",
    "print(cat1.sound())"
   ]
  },
  {
   "cell_type": "code",
   "execution_count": null,
   "metadata": {},
   "outputs": [],
   "source": [
    "class A():\n",
    "    \n",
    "    def hello(self):\n",
    "        print('Hello World!')\n",
    "        return 2\n",
    "        \n",
    "    def bye(self):\n",
    "        print('Bye!')\n",
    "        return 1\n",
    "        \n",
    "        \n",
    "class B(A):\n",
    "    def _today(self):\n",
    "        print('Date: 02.11.23') \n",
    "\n",
    "\n",
    "class C(A):    \n",
    "    def next_day(self):\n",
    "        print('Date: 03.11.23')\n",
    "\n",
    "    @staticmethod\n",
    "    def hello():\n",
    "        print('Hello')\n",
    "\n",
    "\n",
    "class D(B,C):\n",
    "    pass \n",
    "\n",
    "\n",
    "object1 = D()\n",
    "\n",
    "\n",
    "print(object1.hello(), object1.bye())# , object1.today())\n",
    "\n",
    "print(object1._today())\n",
    "\n",
    "print('&' * 50)\n",
    "object2 = C()\n",
    "print(object2.hello(), object2.bye(), object2.next_day(), object2.hello())"
   ]
  },
  {
   "cell_type": "code",
   "execution_count": 77,
   "metadata": {},
   "outputs": [],
   "source": [
    "class Figure(object):\n",
    "    \n",
    "    def __init__(self, name:str):\n",
    "        self.name = name \n",
    "    \n",
    "    def display(self):\n",
    "        print(f'{self.name}')\n",
    "        \n",
    "        \n",
    "    @classmethod\n",
    "    def alternative_init(cls):\n",
    "        print(f'Class {cls}')\n",
    "        # context \n",
    "        return cls('romb')        \n",
    "        \n",
    "    @staticmethod\n",
    "    def timer(func):\n",
    "        def wrapper(*args, **kwargs):\n",
    "            \n",
    "            start = time.time()\n",
    "            result = func(*args, **kwargs)\n",
    "\n",
    "        return wrapper"
   ]
  },
  {
   "cell_type": "code",
   "execution_count": 67,
   "metadata": {},
   "outputs": [],
   "source": [
    "rec = Figure('Rectangle')"
   ]
  },
  {
   "cell_type": "code",
   "execution_count": 78,
   "metadata": {},
   "outputs": [
    {
     "name": "stdout",
     "output_type": "stream",
     "text": [
      "Class <class '__main__.Figure'>\n"
     ]
    }
   ],
   "source": [
    "romb = Figure.alternative_init()"
   ]
  },
  {
   "cell_type": "code",
   "execution_count": 79,
   "metadata": {},
   "outputs": [
    {
     "data": {
      "text/plain": [
       "'romb'"
      ]
     },
     "execution_count": 79,
     "metadata": {},
     "output_type": "execute_result"
    }
   ],
   "source": [
    "romb.name"
   ]
  },
  {
   "cell_type": "code",
   "execution_count": null,
   "metadata": {},
   "outputs": [],
   "source": [
    "object1.hello()"
   ]
  },
  {
   "cell_type": "code",
   "execution_count": null,
   "metadata": {},
   "outputs": [],
   "source": [
    "print(D.__mro__)\n",
    "print(D.mro())"
   ]
  },
  {
   "cell_type": "code",
   "execution_count": null,
   "metadata": {},
   "outputs": [],
   "source": [
    "class Person(object):\n",
    "    somet_attr = 'Person'\n",
    "    \n",
    "    def __init__(self, name, age):\n",
    "        self.name = name\n",
    "        self.age = age\n",
    "\n",
    "    def say_hello(self):\n",
    "        print( f\"Hello, my name is {self.name} and I am {self.age} years old.\")\n",
    "\n",
    "    def __repr__(self): \n",
    "        return f\"Hello, my name is {self.name} and I am {self.age} years old.\"\n",
    "    \n",
    "person1 = Person(name = \"John\", age= 30)\n",
    "\n",
    "print(person1.name, person1.age)\n",
    "print(person1)\n",
    "\n",
    "person2 = Person('Person1', 25)\n",
    "print(person2, person2.somet_attr)\n",
    "\n",
    "person2.salary = 90000\n",
    "\n",
    "print(person2.salary)"
   ]
  },
  {
   "cell_type": "code",
   "execution_count": null,
   "metadata": {},
   "outputs": [],
   "source": [
    "class Employee(Person):\n",
    "    def __init__(self, name, age, salary):\n",
    "        super().__init__(name, age)\n",
    "        self.salary = salary\n",
    "\n",
    "    def say_hello(self):\n",
    "        super().say_hello()\n",
    "        print(f\"My salary is {self.salary} dollars.\")\n",
    "\n",
    "employee1 = Employee(\"Jane\", 25, 50000)\n",
    "employee1.say_hello() \n"
   ]
  },
  {
   "cell_type": "code",
   "execution_count": null,
   "metadata": {},
   "outputs": [],
   "source": [
    "class Person():\n",
    "    \n",
    "    def __init__(self, name, age):\n",
    "        self.name = name \n",
    "        self.age = age   \n",
    "        \n",
    "        \n",
    "    def __str__(self):\n",
    "        return f'Name: {self.name} Age: {self.age}'\n",
    "    \n",
    "    \n",
    "    def display(self):\n",
    "        return f'Name: {self.name} Age: {self.age}'\n",
    "    \n",
    "    \n",
    "    def __eq__(self, person1):\n",
    "        return person1.name == person2.name \n",
    "        \n",
    "\n",
    "\n",
    "person1 = Person('User1', 28)\n",
    "person2 = Person('User1', 30 )\n",
    "print(person1)\n",
    "print(person1.display())\n",
    "print(person1 == person2)"
   ]
  },
  {
   "cell_type": "code",
   "execution_count": null,
   "metadata": {},
   "outputs": [],
   "source": [
    "dir(A)"
   ]
  },
  {
   "cell_type": "code",
   "execution_count": null,
   "metadata": {},
   "outputs": [],
   "source": [
    "class Person:  # class <name_of_class>(object)\n",
    "    pass \n",
    "\n",
    "user1 = Person()"
   ]
  },
  {
   "cell_type": "code",
   "execution_count": null,
   "metadata": {},
   "outputs": [],
   "source": [
    "user1, type(user1)"
   ]
  },
  {
   "cell_type": "code",
   "execution_count": null,
   "metadata": {},
   "outputs": [],
   "source": [
    "class Person:\n",
    "    dt = '2023-11-09'\n"
   ]
  },
  {
   "cell_type": "code",
   "execution_count": null,
   "metadata": {},
   "outputs": [],
   "source": [
    "user2 = Person()"
   ]
  },
  {
   "cell_type": "code",
   "execution_count": null,
   "metadata": {},
   "outputs": [],
   "source": [
    "user2.dt = '2023-11-08'"
   ]
  },
  {
   "cell_type": "code",
   "execution_count": null,
   "metadata": {},
   "outputs": [],
   "source": [
    "user2.dt"
   ]
  },
  {
   "cell_type": "code",
   "execution_count": null,
   "metadata": {},
   "outputs": [],
   "source": [
    "user3 = Person()\n",
    "user3.dt"
   ]
  },
  {
   "cell_type": "code",
   "execution_count": null,
   "metadata": {},
   "outputs": [],
   "source": [
    "user3.name = 'User3'"
   ]
  },
  {
   "cell_type": "code",
   "execution_count": null,
   "metadata": {},
   "outputs": [],
   "source": [
    "user2.name"
   ]
  },
  {
   "cell_type": "code",
   "execution_count": null,
   "metadata": {},
   "outputs": [],
   "source": [
    "class Person:\n",
    "    dt = '2023-11-09'\n",
    "    \n",
    "    def __init__(self, name:str, surname:str, age:int, isAdmin:bool = False):\n",
    "        self.name = name \n",
    "        self.surname = surname\n",
    "        self.age = age \n",
    "        self.isAdmin = isAdmin\n",
    "    \n",
    "    def display(self):\n",
    "        print(f'Name: {self.name}, Surname: {self.surname}')\n",
    "        \n",
    "    def fullname(self):\n",
    "        return self.name + self.surname\n",
    "    "
   ]
  },
  {
   "cell_type": "code",
   "execution_count": null,
   "metadata": {},
   "outputs": [],
   "source": [
    "user1 = Person('Person1', 'SurnamePerson1', 25)"
   ]
  },
  {
   "cell_type": "code",
   "execution_count": null,
   "metadata": {},
   "outputs": [],
   "source": [
    "print(user1, user1.age)"
   ]
  },
  {
   "cell_type": "code",
   "execution_count": null,
   "metadata": {},
   "outputs": [],
   "source": [
    "user1.isAdmin"
   ]
  },
  {
   "cell_type": "code",
   "execution_count": null,
   "metadata": {},
   "outputs": [],
   "source": [
    "user1.name, user1.surname"
   ]
  },
  {
   "cell_type": "code",
   "execution_count": null,
   "metadata": {},
   "outputs": [],
   "source": [
    "user2 = Person('Person2', 'SurnamePerson2', 30)"
   ]
  },
  {
   "cell_type": "code",
   "execution_count": null,
   "metadata": {},
   "outputs": [],
   "source": [
    "user2.name, user2.surname"
   ]
  },
  {
   "cell_type": "code",
   "execution_count": null,
   "metadata": {},
   "outputs": [],
   "source": [
    "user1.display()"
   ]
  },
  {
   "cell_type": "code",
   "execution_count": null,
   "metadata": {},
   "outputs": [],
   "source": [
    "user2.fullname()"
   ]
  },
  {
   "cell_type": "code",
   "execution_count": null,
   "metadata": {},
   "outputs": [],
   "source": [
    "dict_ = {}\n",
    "dict_2 = {}\n",
    "\n",
    "def add_dict(key, value):\n",
    "    global dict_ \n",
    "    \n",
    "    dict_[key] = value\n",
    "    "
   ]
  },
  {
   "cell_type": "code",
   "execution_count": null,
   "metadata": {},
   "outputs": [],
   "source": [
    "class List_:\n",
    "    \n",
    "    def __init__(self, element):\n",
    "        self.element = []\n",
    "        \n",
    "    def add(self, value):\n",
    "        self.element.append(value)\n",
    "        \n",
    "    def display(self):\n",
    "        print(self.element)\n"
   ]
  },
  {
   "cell_type": "code",
   "execution_count": null,
   "metadata": {},
   "outputs": [],
   "source": [
    "arr1 = List_([])"
   ]
  },
  {
   "cell_type": "code",
   "execution_count": null,
   "metadata": {},
   "outputs": [],
   "source": [
    "arr1.add(1)"
   ]
  },
  {
   "cell_type": "code",
   "execution_count": null,
   "metadata": {},
   "outputs": [],
   "source": [
    "arr1.add(2)"
   ]
  },
  {
   "cell_type": "code",
   "execution_count": null,
   "metadata": {},
   "outputs": [],
   "source": [
    "arr1.display()"
   ]
  },
  {
   "cell_type": "code",
   "execution_count": null,
   "metadata": {},
   "outputs": [],
   "source": [
    "arr1.dt = '2023-11-09'"
   ]
  },
  {
   "cell_type": "code",
   "execution_count": null,
   "metadata": {},
   "outputs": [],
   "source": [
    "arr1.dt"
   ]
  },
  {
   "cell_type": "code",
   "execution_count": null,
   "metadata": {},
   "outputs": [],
   "source": [
    "class Rectangle: # class - struc, blueprint \n",
    "    pass  \n",
    "    \n",
    "fig = Rectangle() \n",
    "print(fig, type(fig))\n",
    "\n",
    "class Rectangle: \n",
    "    \n",
    "    def __init__(self, width:float, height:float): # конструктор, fist arg self\n",
    "        self.width = width\n",
    "        self.height = height\n",
    "    \n",
    "    \n",
    "    def display(self): \n",
    "        return f'Width {self.width}\\nHeight {self.height}'\n",
    "    \n",
    "    \n",
    "    def area(self):\n",
    "        return self.width * self.height\n",
    "\n",
    "\n",
    "sq = Rectangle(4, 4)\n",
    "print(sq, sq.height, sq.width)\n",
    "print(sq.display(), sq.area())\n",
    "\n",
    "sq1 = Rectangle(5, 20)\n",
    "print(sq1.area(), sq1.display())"
   ]
  },
  {
   "cell_type": "code",
   "execution_count": null,
   "metadata": {},
   "outputs": [],
   "source": [
    "class Rectangle:\n",
    "    \"\"\"\n",
    "    Клас Rectangle представляє прямокутник з атрибутами width та height.\n",
    "\n",
    "    :ivar width: Ширина прямокутника.\n",
    "    :vartype width: float\n",
    "    :ivar height: Висота прямокутника.\n",
    "    :vartype height: float\n",
    "    \"\"\"\n",
    "    def __init__(self, width, height):\n",
    "        \"\"\"\n",
    "        Конструктор класу Rectangle.\n",
    "\n",
    "        :param width: Ширина прямокутника.\n",
    "        :type width: float\n",
    "        :param height: Висота прямокутника.\n",
    "        :type height: float\n",
    "        \"\"\"\n",
    "        self.width = width\n",
    "        self.height = height\n",
    "\n",
    "    def area(self):\n",
    "        \"\"\"\n",
    "        Метод area обчислює площу прямокутника.\n",
    "\n",
    "        :return: Площа прямокутника.\n",
    "        :rtype: float\n",
    "        \"\"\"\n",
    "        return self.width * self.height\n",
    "\n",
    "    def perimeter(self):\n",
    "        \"\"\"\n",
    "        Метод perimeter обчислює периметр прямокутника.\n",
    "\n",
    "        :return: Периметр прямокутника.\n",
    "        :rtype: float\n",
    "        \"\"\"\n",
    "        return 2 * (self.width + self.height)\n"
   ]
  },
  {
   "cell_type": "code",
   "execution_count": null,
   "metadata": {},
   "outputs": [],
   "source": [
    "from faker import Faker"
   ]
  },
  {
   "cell_type": "code",
   "execution_count": null,
   "metadata": {},
   "outputs": [],
   "source": [
    "class A():\n",
    "    pass "
   ]
  },
  {
   "cell_type": "code",
   "execution_count": null,
   "metadata": {},
   "outputs": [],
   "source": [
    "a = A()"
   ]
  },
  {
   "cell_type": "code",
   "execution_count": null,
   "metadata": {},
   "outputs": [],
   "source": [
    "class BankAccount(object):\n",
    "    \n",
    "    def __init__(self, account_number:str, balance: float = 0.0) :\n",
    "        self.account_number = account_number\n",
    "        self.balance = balance\n",
    "    \n",
    "    def __repr__(self) :\n",
    "        return f'Bank_name: {self.account_number} Balance: {self.balance}'\n",
    "    \n",
    "    def add_money(self, amount):\n",
    "        self.balance += amount  \n",
    "    \n",
    "    def minus_money(self, amount):\n",
    "        if amount > self.balance:\n",
    "            print(f'No money: {self.balance - amount}')\n",
    "        else: \n",
    "            self.balance -= amount\n",
    "            \n",
    "    def __eq__(self, param1) -> bool:\n",
    "        return self.account_number == param1.account_number"
   ]
  },
  {
   "cell_type": "code",
   "execution_count": null,
   "metadata": {},
   "outputs": [],
   "source": [
    "dir(BankAccount)"
   ]
  },
  {
   "cell_type": "code",
   "execution_count": null,
   "metadata": {},
   "outputs": [],
   "source": [
    "acc1 = BankAccount('id1', 100)"
   ]
  },
  {
   "cell_type": "code",
   "execution_count": null,
   "metadata": {},
   "outputs": [],
   "source": [
    "acc2 = BankAccount('id2', 100)"
   ]
  },
  {
   "cell_type": "code",
   "execution_count": null,
   "metadata": {},
   "outputs": [],
   "source": [
    "acc1 == acc2"
   ]
  },
  {
   "cell_type": "code",
   "execution_count": null,
   "metadata": {},
   "outputs": [],
   "source": [
    "print(acc1)"
   ]
  },
  {
   "cell_type": "code",
   "execution_count": null,
   "metadata": {},
   "outputs": [],
   "source": [
    "acc1.add_money(10)"
   ]
  },
  {
   "cell_type": "code",
   "execution_count": null,
   "metadata": {},
   "outputs": [],
   "source": [
    "acc1.balance"
   ]
  },
  {
   "cell_type": "code",
   "execution_count": null,
   "metadata": {},
   "outputs": [],
   "source": [
    "acc1.minus_money(111)"
   ]
  },
  {
   "cell_type": "code",
   "execution_count": null,
   "metadata": {},
   "outputs": [],
   "source": [
    "acc1.balance"
   ]
  },
  {
   "cell_type": "code",
   "execution_count": null,
   "metadata": {},
   "outputs": [],
   "source": [
    "acc1.minus_money(100)"
   ]
  },
  {
   "cell_type": "code",
   "execution_count": null,
   "metadata": {},
   "outputs": [],
   "source": [
    "acc1.balance"
   ]
  },
  {
   "cell_type": "code",
   "execution_count": null,
   "metadata": {},
   "outputs": [],
   "source": [
    "print(Rectangle.__doc__, Rectangle.area.__doc__) "
   ]
  },
  {
   "attachments": {},
   "cell_type": "markdown",
   "metadata": {},
   "source": [
    "> 1. Створіть клас Rectangle для представлення прямокутника. Клас повинен мати атрибути width та height і методи для обчислення площі та периметру прямокутника.\n",
    "> 2. Створіть клас BankAccount для представлення банківського рахунку. Клас повинен мати атрибути account_number, balance та методи для внесення та зняття грошей з рахунку.\n",
    "> 3. Створіть клас Car для представлення автомобіля. Клас повинен мати атрибути mark, model та year та методи для прискорення та гальмування автомобіля.\n",
    "> 4. Створіть клас Animal для представлення тварини. Клас повинен мати атрибути name, age та методи для видавання звуків тварини.\n",
    "> 5. Створіть клас Circle для представлення кола. Клас повинен мати атрибут radius та методи для обчислення площі та довжини кола.\n",
    "> 6. Створіть клас Employee для представлення працівника. Клас повинен мати атрибути name, position та salary та методи для збільшення заробітної плати працівника.\n",
    "> 7. Створіть клас Book для представлення книги. Клас повинен мати атрибути title, author та year та методи для виведення інформації про книгу.\n",
    "> 8. Створіть клас RectangleArea для представлення площі прямокутника. Клас повинен мати атрибути length та width та методи для обчислення площі прямокутника.\n",
    "> 9. Створіть клас Bank для представлення банку. Клас повинен мати атрибути name та accounts та методи для відкриття нового рахунку, закриття рахунку та виведення списку всіх рахунків.\n",
    "> 10. Створіть клас Shape для представлення геометричної фігури. Клас повинен мати атрибути name та sides та методи для виведення інформації про фігуру та обчислення периметру. Класи Rectangle та Circle повинні бути нащадками класу Shape."
   ]
  },
  {
   "cell_type": "code",
   "execution_count": null,
   "metadata": {},
   "outputs": [],
   "source": [
    "# Class \n",
    "# Task 1\n",
    "class Rectangle:\n",
    "    \"\"\"\n",
    "    Клас Rectangle представляє прямокутник з атрибутами width та height.\n",
    "\n",
    "    :ivar width: Ширина прямокутника.\n",
    "    :vartype width: float\n",
    "    :ivar height: Висота прямокутника.\n",
    "    :vartype height: float\n",
    "    \"\"\"\n",
    "    def __init__(self, width, height):\n",
    "        \"\"\"\n",
    "        Конструктор класу Rectangle.\n",
    "\n",
    "        :param width: Ширина прямокутника.\n",
    "        :type width: float\n",
    "        :param height: Висота прямокутника.\n",
    "        :type height: float\n",
    "        \"\"\"\n",
    "        self.width = width\n",
    "        self.height = height\n",
    "\n",
    "    def area(self):\n",
    "        \"\"\"\n",
    "        Метод area обчислює площу прямокутника.\n",
    "\n",
    "        :return: Площа прямокутника.\n",
    "        :rtype: float\n",
    "        \"\"\"\n",
    "        return self.width * self.height\n",
    "\n",
    "    def perimeter(self):\n",
    "        \"\"\"\n",
    "        Метод perimeter обчислює периметр прямокутника.\n",
    "\n",
    "        :return: Периметр прямокутника.\n",
    "        :rtype: float\n",
    "        \"\"\"\n",
    "        return 2 * (self.width + self.height)\n"
   ]
  },
  {
   "cell_type": "code",
   "execution_count": null,
   "metadata": {},
   "outputs": [],
   "source": [
    "# Task 2 \n",
    "class BankAccount(object):\n",
    "    \n",
    "    def __init__(self, account_number, balance = 0):\n",
    "        self.account_number = account_number\n",
    "        self.balance = balance \n",
    "        \n",
    "    def check_balance(self):\n",
    "        print(f'Account number: {self.account_number} Have balance: {self.balance}')\n",
    "        \n",
    "    def update_balance(self, value):\n",
    "        self.balance = self.balance - value\n",
    "        return self.balance\n",
    "    \n",
    "user1 = BankAccount('3040', 120_000)\n",
    "print(user1.account_number)\n",
    "print(user1.check_balance())\n",
    "\n",
    "user1.update_balance(10_000)\n",
    "\n",
    "print(user1.check_balance())"
   ]
  },
  {
   "cell_type": "code",
   "execution_count": null,
   "metadata": {},
   "outputs": [],
   "source": [
    "# Task 3\n",
    "class Car:\n",
    "    \n",
    "    def __init__(self, make, model, year):\n",
    "        self.make = make\n",
    "        self.model = model \n",
    "        self.year = year \n",
    "    \n",
    "    def fast(self):\n",
    "        pass \n",
    "    \n",
    "    def stop(self):\n",
    "        pass"
   ]
  },
  {
   "cell_type": "code",
   "execution_count": null,
   "metadata": {},
   "outputs": [],
   "source": [
    "# Task 4\n",
    "class Animal:\n",
    "    \n",
    "    def __init__(self, name, age):\n",
    "        self.name = name \n",
    "        self.age = age \n",
    "    \n",
    "    def sound(self):\n",
    "        print(f'Sound animal:')\n",
    "        \n",
    "        \n",
    "class Dog(Animal):\n",
    "    def sound(self):\n",
    "        super().sound()\n",
    "        print('Bark Bark')\n",
    "        \n",
    "class Cat(Animal):\n",
    "    def sound(self):\n",
    "        super().sound()\n",
    "        print('Some sound')\n"
   ]
  },
  {
   "cell_type": "code",
   "execution_count": null,
   "metadata": {},
   "outputs": [],
   "source": [
    "# Task 5\n",
    "class Figure(object):\n",
    "    \n",
    "    PI = 3.14159 \n",
    "    E = 2.71 \n",
    "    \n",
    "    def __init__(self, name) -> None:\n",
    "        self.name = name\n",
    "        \n",
    "    def display(self):\n",
    "        print(self.name)\n",
    "        \n",
    "        \n",
    "class Circle(Figure):\n",
    "    \n",
    "    def __init__(self, radius):\n",
    "        self.radius = radius\n",
    "        \n",
    "    def area(self):\n",
    "        return round(self.radius ** 2 * Circle.PI, 2)\n",
    "    \n",
    "    \n",
    "    def lenght_of_circle(self):\n",
    "        return round(2 * Circle.PI * self.radius, 2)\n",
    "    \n",
    "circle1 = Circle(5)\n",
    "\n",
    "print(circle1.area(), circle1.lenght_of_circle()) "
   ]
  },
  {
   "cell_type": "code",
   "execution_count": null,
   "metadata": {},
   "outputs": [],
   "source": [
    "class People(object):\n",
    "    def __init__(self, status:str = 'FTE', gender: str = 'M'):\n",
    "        self.status = status\n",
    "        self.gender = gender\n",
    "        \n",
    "        match status:\n",
    "            case 'FTE':\n",
    "                self.ft = 1.0\n",
    "            case 'FTE 0.5':\n",
    "                self.ft = 0.5\n",
    "\n",
    "    def get_status(self):\n",
    "        print(self.status)\n",
    "\n",
    "    def get_gender(self):\n",
    "        print(self.gender)"
   ]
  },
  {
   "cell_type": "code",
   "execution_count": null,
   "metadata": {},
   "outputs": [],
   "source": [
    "people1 = People('FTE', 'M')"
   ]
  },
  {
   "cell_type": "code",
   "execution_count": null,
   "metadata": {},
   "outputs": [],
   "source": [
    "people1.get_status(), people1.get_gender()"
   ]
  },
  {
   "cell_type": "code",
   "execution_count": null,
   "metadata": {},
   "outputs": [],
   "source": [
    "class Employee(People):\n",
    "    def __init__(self, name, position, salary, status, gender):\n",
    "        super().__init__(status, gender)\n",
    "        self.name = name\n",
    "        self.position = position\n",
    "        self.salary =salary\n",
    "\n",
    "    def increase_salary(self, incr_sal: float):\n",
    "\n",
    "        if incr_sal < 0:\n",
    "            print(\"Invalid operation: Salary increase should be a positive value.\")\n",
    "        else:\n",
    "            self.salary += incr_sal"
   ]
  },
  {
   "cell_type": "code",
   "execution_count": null,
   "metadata": {},
   "outputs": [],
   "source": [
    "# Task 6\n",
    "class Employee:\n",
    "    \n",
    "    def __init__(self, name, position, salary):\n",
    "        self.name = name \n",
    "        self.position = position\n",
    "        self.salary = salary\n",
    "    \n",
    "    def increase_salary(self, amount):\n",
    "        return self.salary + amount\n",
    "    \n",
    "    def descrease_salary(self, amount):\n",
    "        return self.salary - amount"
   ]
  },
  {
   "cell_type": "code",
   "execution_count": null,
   "metadata": {},
   "outputs": [],
   "source": [
    "# Task 7\n",
    "class Book:\n",
    "    \n",
    "    def __init__(self, title, author, year) -> None:\n",
    "        self.title = title \n",
    "        self.author = author \n",
    "        self.year = year \n",
    "        \n",
    "    def display(self):\n",
    "        print(f'Book name is {self.title}\\nAuthor name {self.author}\\nYear ob book: {self.year}')\n",
    "        \n",
    "    def __repr__(self):\n",
    "        return f'Book name is {self.title}\\nAuthor name {self.author}\\nYear ob book: {self.year}'"
   ]
  },
  {
   "cell_type": "code",
   "execution_count": null,
   "metadata": {},
   "outputs": [],
   "source": [
    "night_of_dragon = Book(title = 'Нічь драконів',author = 'Артур Кнаак', year = '2015')\n",
    "print(night_of_dragon)"
   ]
  },
  {
   "cell_type": "code",
   "execution_count": null,
   "metadata": {},
   "outputs": [],
   "source": [
    "# Task 8 \n",
    "class RectangleArea:\n",
    "    \n",
    "    def __init__(self, length,  width):\n",
    "        self.length = length\n",
    "        self.width = width\n",
    "    \n",
    "    def area(self):\n",
    "        return self.length * self.width\n"
   ]
  },
  {
   "cell_type": "code",
   "execution_count": null,
   "metadata": {},
   "outputs": [],
   "source": [
    "# Task 10\n",
    "class Shape(object):\n",
    "    \n",
    "    def __init__(self, name) -> None:\n",
    "        self.name  \n",
    "        \n",
    "    def __repr__(self) -> str:\n",
    "        return f'Name of figure {self.name}'\n",
    "    \n",
    "\n",
    "class Rectangle(Shape):\n",
    "    \n",
    "    def __init__(self, name, w:float, h:float) -> None:\n",
    "        super().__init__(name)\n",
    "        self.w = w  \n",
    "        self.h = h  \n",
    "    \n",
    "    def __repr__(self) -> str:\n",
    "        super().__repr__()\n",
    "        return f'W: {self.w} H: {self.h}'\n",
    "    \n",
    "    def perim(self): \n",
    "        return 2 * (self.w + self)\n",
    "    \n",
    "    \n",
    "class Circle(Shape):\n",
    "    PI = 3.14\n",
    "    \n",
    "    def __init__(self, name, rad:float) -> None:\n",
    "        super().__init__(name)\n",
    "        self.rad = rad    \n",
    "        \n",
    "    \n",
    "    def __repr__(self) -> str:\n",
    "        super().__repr__()\n",
    "        print(f' Rad: {self.rad}')\n",
    "    \n",
    "    def perim(self):\n",
    "        return  2 * Circle.PI  * self.r"
   ]
  },
  {
   "attachments": {},
   "cell_type": "markdown",
   "metadata": {},
   "source": [
    "#### Console command \n",
    "> **pwd** - показати поточну директорію \\\n",
    "> **mkdir** - створити директорію (mkdir -p <dir1>/<dir2>) \\\n",
    "> **cd** - перехід на потрібну директорію \\\n",
    "> **touch** - створити файл \\\n",
    "> **ls** - показати список всіх директорій і файлів (ls -a, ls -l, ls -al) \\\n",
    "> **clear** - очистити консоль  \\\n",
    "> **mv** - перемістити файл \\\n",
    "> **rm/rmdir** -  видалити file/directory \\\n",
    "> **cat** - показати вміст файла \\\n",
    "> **head/tail** - показати вміст файла \\\n",
    "> **open** - відкрити файл \\\n",
    "> **man** - інформація про команду "
   ]
  },
  {
   "attachments": {},
   "cell_type": "markdown",
   "metadata": {},
   "source": [
    "##### Magic command \n"
   ]
  },
  {
   "cell_type": "code",
   "execution_count": 129,
   "metadata": {},
   "outputs": [
    {
     "data": {
      "application/json": {
       "cell": {
        "!": "OSMagics",
        "HTML": "Other",
        "SVG": "Other",
        "bash": "Other",
        "capture": "ExecutionMagics",
        "debug": "ExecutionMagics",
        "file": "Other",
        "html": "DisplayMagics",
        "javascript": "DisplayMagics",
        "js": "DisplayMagics",
        "latex": "DisplayMagics",
        "markdown": "DisplayMagics",
        "perl": "Other",
        "prun": "ExecutionMagics",
        "pypy": "Other",
        "python": "Other",
        "python2": "Other",
        "python3": "Other",
        "ruby": "Other",
        "script": "ScriptMagics",
        "sh": "Other",
        "svg": "DisplayMagics",
        "sx": "OSMagics",
        "system": "OSMagics",
        "time": "ExecutionMagics",
        "timeit": "ExecutionMagics",
        "writefile": "OSMagics"
       },
       "line": {
        "alias": "OSMagics",
        "alias_magic": "BasicMagics",
        "autoawait": "AsyncMagics",
        "autocall": "AutoMagics",
        "automagic": "AutoMagics",
        "autosave": "KernelMagics",
        "bookmark": "OSMagics",
        "cat": "Other",
        "cd": "OSMagics",
        "clear": "KernelMagics",
        "colors": "BasicMagics",
        "conda": "PackagingMagics",
        "config": "ConfigMagics",
        "connect_info": "KernelMagics",
        "cp": "Other",
        "debug": "ExecutionMagics",
        "dhist": "OSMagics",
        "dirs": "OSMagics",
        "doctest_mode": "BasicMagics",
        "ed": "Other",
        "edit": "KernelMagics",
        "env": "OSMagics",
        "gui": "BasicMagics",
        "hist": "Other",
        "history": "HistoryMagics",
        "killbgscripts": "ScriptMagics",
        "ldir": "Other",
        "less": "KernelMagics",
        "lf": "Other",
        "lk": "Other",
        "ll": "Other",
        "load": "CodeMagics",
        "load_ext": "ExtensionMagics",
        "loadpy": "CodeMagics",
        "logoff": "LoggingMagics",
        "logon": "LoggingMagics",
        "logstart": "LoggingMagics",
        "logstate": "LoggingMagics",
        "logstop": "LoggingMagics",
        "ls": "Other",
        "lsmagic": "BasicMagics",
        "lx": "Other",
        "macro": "ExecutionMagics",
        "magic": "BasicMagics",
        "man": "KernelMagics",
        "matplotlib": "PylabMagics",
        "mkdir": "Other",
        "more": "KernelMagics",
        "mv": "Other",
        "notebook": "BasicMagics",
        "page": "BasicMagics",
        "pastebin": "CodeMagics",
        "pdb": "ExecutionMagics",
        "pdef": "NamespaceMagics",
        "pdoc": "NamespaceMagics",
        "pfile": "NamespaceMagics",
        "pinfo": "NamespaceMagics",
        "pinfo2": "NamespaceMagics",
        "pip": "PackagingMagics",
        "popd": "OSMagics",
        "pprint": "BasicMagics",
        "precision": "BasicMagics",
        "prun": "ExecutionMagics",
        "psearch": "NamespaceMagics",
        "psource": "NamespaceMagics",
        "pushd": "OSMagics",
        "pwd": "OSMagics",
        "pycat": "OSMagics",
        "pylab": "PylabMagics",
        "qtconsole": "KernelMagics",
        "quickref": "BasicMagics",
        "recall": "HistoryMagics",
        "rehashx": "OSMagics",
        "reload_ext": "ExtensionMagics",
        "rep": "Other",
        "rerun": "HistoryMagics",
        "reset": "NamespaceMagics",
        "reset_selective": "NamespaceMagics",
        "rm": "Other",
        "rmdir": "Other",
        "run": "ExecutionMagics",
        "save": "CodeMagics",
        "sc": "OSMagics",
        "set_env": "OSMagics",
        "store": "StoreMagics",
        "sx": "OSMagics",
        "system": "OSMagics",
        "tb": "ExecutionMagics",
        "time": "ExecutionMagics",
        "timeit": "ExecutionMagics",
        "unalias": "OSMagics",
        "unload_ext": "ExtensionMagics",
        "who": "NamespaceMagics",
        "who_ls": "NamespaceMagics",
        "whos": "NamespaceMagics",
        "xdel": "NamespaceMagics",
        "xmode": "BasicMagics"
       }
      },
      "text/plain": [
       "Available line magics:\n",
       "%alias  %alias_magic  %autoawait  %autocall  %automagic  %autosave  %bookmark  %cat  %cd  %clear  %colors  %conda  %config  %connect_info  %cp  %debug  %dhist  %dirs  %doctest_mode  %ed  %edit  %env  %gui  %hist  %history  %killbgscripts  %ldir  %less  %lf  %lk  %ll  %load  %load_ext  %loadpy  %logoff  %logon  %logstart  %logstate  %logstop  %ls  %lsmagic  %lx  %macro  %magic  %man  %matplotlib  %mkdir  %more  %mv  %notebook  %page  %pastebin  %pdb  %pdef  %pdoc  %pfile  %pinfo  %pinfo2  %pip  %popd  %pprint  %precision  %prun  %psearch  %psource  %pushd  %pwd  %pycat  %pylab  %qtconsole  %quickref  %recall  %rehashx  %reload_ext  %rep  %rerun  %reset  %reset_selective  %rm  %rmdir  %run  %save  %sc  %set_env  %store  %sx  %system  %tb  %time  %timeit  %unalias  %unload_ext  %who  %who_ls  %whos  %xdel  %xmode\n",
       "\n",
       "Available cell magics:\n",
       "%%!  %%HTML  %%SVG  %%bash  %%capture  %%debug  %%file  %%html  %%javascript  %%js  %%latex  %%markdown  %%perl  %%prun  %%pypy  %%python  %%python2  %%python3  %%ruby  %%script  %%sh  %%svg  %%sx  %%system  %%time  %%timeit  %%writefile\n",
       "\n",
       "Automagic is ON, % prefix IS NOT needed for line magics."
      ]
     },
     "execution_count": 129,
     "metadata": {},
     "output_type": "execute_result"
    }
   ],
   "source": [
    "%lsmagic # показати всі команди "
   ]
  },
  {
   "cell_type": "code",
   "execution_count": null,
   "metadata": {},
   "outputs": [],
   "source": [
    "%run first_lesson.py # запустити файл %run <file_name>"
   ]
  },
  {
   "cell_type": "code",
   "execution_count": 130,
   "metadata": {},
   "outputs": [
    {
     "name": "stdout",
     "output_type": "stream",
     "text": [
      "CPU times: user 2 µs, sys: 0 ns, total: 2 µs\n",
      "Wall time: 3.81 µs\n"
     ]
    }
   ],
   "source": [
    "%time  # exac time \n",
    "list1 = []\n",
    "for i in range(0, 1000):\n",
    "    list1.append(i)\n"
   ]
  },
  {
   "cell_type": "code",
   "execution_count": null,
   "metadata": {},
   "outputs": [],
   "source": [
    "%pycat <filename> # показати контент файлу "
   ]
  },
  {
   "cell_type": "code",
   "execution_count": null,
   "metadata": {},
   "outputs": [],
   "source": [
    "%who first_lesson.py # показати зміннні у файлі "
   ]
  },
  {
   "cell_type": "code",
   "execution_count": null,
   "metadata": {},
   "outputs": [],
   "source": [
    "%who list # показати змінни у поточному файлі "
   ]
  },
  {
   "cell_type": "code",
   "execution_count": null,
   "metadata": {},
   "outputs": [],
   "source": [
    "#%pinfo  показати інформацію про змінну"
   ]
  },
  {
   "cell_type": "code",
   "execution_count": null,
   "metadata": {},
   "outputs": [],
   "source": [
    "%pinfo list1 "
   ]
  },
  {
   "cell_type": "code",
   "execution_count": null,
   "metadata": {},
   "outputs": [],
   "source": [
    "def create_list(number: int = 100) -> list:\n",
    "    return [i for i in range(1, number)] if isinstance(number, int) else []"
   ]
  },
  {
   "cell_type": "code",
   "execution_count": null,
   "metadata": {},
   "outputs": [],
   "source": [
    "%timeit create_list() # %timeit - порахувати час виконання функції"
   ]
  },
  {
   "attachments": {},
   "cell_type": "markdown",
   "metadata": {},
   "source": [
    "#### Декоратори \n",
    "**Декоратор** - це  функція яка дозволяють змінювати поведінку інших функцій без необхідності змінювати їх початковий код \\\n",
    "Функція в середині функції. Функція яка приймає аргумент функцію.\n"
   ]
  },
  {
   "cell_type": "code",
   "execution_count": 48,
   "metadata": {},
   "outputs": [],
   "source": [
    "from functools import * # бібліотека з декораторами "
   ]
  },
  {
   "cell_type": "code",
   "execution_count": 1,
   "metadata": {},
   "outputs": [],
   "source": [
    "import time\n",
    "\n",
    "def timer(func):\n",
    "    def wrapper(*args, **kwargs):\n",
    "        start_time = time.time()\n",
    "        result = func(*args, **kwargs)\n",
    "        end_time = time.time()\n",
    "        print(f\"Час виконання {func.__name__}: {end_time - start_time} секунд\")\n",
    "        return result\n",
    "    return wrapper"
   ]
  },
  {
   "cell_type": "code",
   "execution_count": 9,
   "metadata": {},
   "outputs": [
    {
     "name": "stdout",
     "output_type": "stream",
     "text": [
      "Час виконання create_list: 0.2836949825286865 секунд\n",
      "49999995000000\n"
     ]
    }
   ],
   "source": [
    "@timer\n",
    "def create_list(number: int = 100) -> list:\n",
    "    return [i for i in range(1, number)] if isinstance(number, int) else []\n",
    "\n",
    "print(sum(create_list(10_000000)))"
   ]
  },
  {
   "cell_type": "code",
   "execution_count": 13,
   "metadata": {},
   "outputs": [],
   "source": [
    "@timer # декора\n",
    "@timer\n",
    "def sum_(array: list) -> int:\n",
    "    return sum(i for i in array) if array is not None else 0"
   ]
  },
  {
   "cell_type": "code",
   "execution_count": 14,
   "metadata": {},
   "outputs": [
    {
     "name": "stdout",
     "output_type": "stream",
     "text": [
      "Час виконання create_list: 0.00045299530029296875 секунд\n",
      "Час виконання sum_: 0.00038123130798339844 секунд\n",
      "Час виконання wrapper: 0.0003859996795654297 секунд\n"
     ]
    },
    {
     "data": {
      "text/plain": [
       "49995000"
      ]
     },
     "execution_count": 14,
     "metadata": {},
     "output_type": "execute_result"
    }
   ],
   "source": [
    "sum_(create_list(10_000))"
   ]
  },
  {
   "cell_type": "code",
   "execution_count": 15,
   "metadata": {},
   "outputs": [
    {
     "name": "stdout",
     "output_type": "stream",
     "text": [
      "Час виконання create_list: 0.0002219676971435547 секунд\n"
     ]
    },
    {
     "data": {
      "text/plain": [
       "[1,\n",
       " 2,\n",
       " 3,\n",
       " 4,\n",
       " 5,\n",
       " 6,\n",
       " 7,\n",
       " 8,\n",
       " 9,\n",
       " 10,\n",
       " 11,\n",
       " 12,\n",
       " 13,\n",
       " 14,\n",
       " 15,\n",
       " 16,\n",
       " 17,\n",
       " 18,\n",
       " 19,\n",
       " 20,\n",
       " 21,\n",
       " 22,\n",
       " 23,\n",
       " 24,\n",
       " 25,\n",
       " 26,\n",
       " 27,\n",
       " 28,\n",
       " 29,\n",
       " 30,\n",
       " 31,\n",
       " 32,\n",
       " 33,\n",
       " 34,\n",
       " 35,\n",
       " 36,\n",
       " 37,\n",
       " 38,\n",
       " 39,\n",
       " 40,\n",
       " 41,\n",
       " 42,\n",
       " 43,\n",
       " 44,\n",
       " 45,\n",
       " 46,\n",
       " 47,\n",
       " 48,\n",
       " 49,\n",
       " 50,\n",
       " 51,\n",
       " 52,\n",
       " 53,\n",
       " 54,\n",
       " 55,\n",
       " 56,\n",
       " 57,\n",
       " 58,\n",
       " 59,\n",
       " 60,\n",
       " 61,\n",
       " 62,\n",
       " 63,\n",
       " 64,\n",
       " 65,\n",
       " 66,\n",
       " 67,\n",
       " 68,\n",
       " 69,\n",
       " 70,\n",
       " 71,\n",
       " 72,\n",
       " 73,\n",
       " 74,\n",
       " 75,\n",
       " 76,\n",
       " 77,\n",
       " 78,\n",
       " 79,\n",
       " 80,\n",
       " 81,\n",
       " 82,\n",
       " 83,\n",
       " 84,\n",
       " 85,\n",
       " 86,\n",
       " 87,\n",
       " 88,\n",
       " 89,\n",
       " 90,\n",
       " 91,\n",
       " 92,\n",
       " 93,\n",
       " 94,\n",
       " 95,\n",
       " 96,\n",
       " 97,\n",
       " 98,\n",
       " 99,\n",
       " 100,\n",
       " 101,\n",
       " 102,\n",
       " 103,\n",
       " 104,\n",
       " 105,\n",
       " 106,\n",
       " 107,\n",
       " 108,\n",
       " 109,\n",
       " 110,\n",
       " 111,\n",
       " 112,\n",
       " 113,\n",
       " 114,\n",
       " 115,\n",
       " 116,\n",
       " 117,\n",
       " 118,\n",
       " 119,\n",
       " 120,\n",
       " 121,\n",
       " 122,\n",
       " 123,\n",
       " 124,\n",
       " 125,\n",
       " 126,\n",
       " 127,\n",
       " 128,\n",
       " 129,\n",
       " 130,\n",
       " 131,\n",
       " 132,\n",
       " 133,\n",
       " 134,\n",
       " 135,\n",
       " 136,\n",
       " 137,\n",
       " 138,\n",
       " 139,\n",
       " 140,\n",
       " 141,\n",
       " 142,\n",
       " 143,\n",
       " 144,\n",
       " 145,\n",
       " 146,\n",
       " 147,\n",
       " 148,\n",
       " 149,\n",
       " 150,\n",
       " 151,\n",
       " 152,\n",
       " 153,\n",
       " 154,\n",
       " 155,\n",
       " 156,\n",
       " 157,\n",
       " 158,\n",
       " 159,\n",
       " 160,\n",
       " 161,\n",
       " 162,\n",
       " 163,\n",
       " 164,\n",
       " 165,\n",
       " 166,\n",
       " 167,\n",
       " 168,\n",
       " 169,\n",
       " 170,\n",
       " 171,\n",
       " 172,\n",
       " 173,\n",
       " 174,\n",
       " 175,\n",
       " 176,\n",
       " 177,\n",
       " 178,\n",
       " 179,\n",
       " 180,\n",
       " 181,\n",
       " 182,\n",
       " 183,\n",
       " 184,\n",
       " 185,\n",
       " 186,\n",
       " 187,\n",
       " 188,\n",
       " 189,\n",
       " 190,\n",
       " 191,\n",
       " 192,\n",
       " 193,\n",
       " 194,\n",
       " 195,\n",
       " 196,\n",
       " 197,\n",
       " 198,\n",
       " 199,\n",
       " 200,\n",
       " 201,\n",
       " 202,\n",
       " 203,\n",
       " 204,\n",
       " 205,\n",
       " 206,\n",
       " 207,\n",
       " 208,\n",
       " 209,\n",
       " 210,\n",
       " 211,\n",
       " 212,\n",
       " 213,\n",
       " 214,\n",
       " 215,\n",
       " 216,\n",
       " 217,\n",
       " 218,\n",
       " 219,\n",
       " 220,\n",
       " 221,\n",
       " 222,\n",
       " 223,\n",
       " 224,\n",
       " 225,\n",
       " 226,\n",
       " 227,\n",
       " 228,\n",
       " 229,\n",
       " 230,\n",
       " 231,\n",
       " 232,\n",
       " 233,\n",
       " 234,\n",
       " 235,\n",
       " 236,\n",
       " 237,\n",
       " 238,\n",
       " 239,\n",
       " 240,\n",
       " 241,\n",
       " 242,\n",
       " 243,\n",
       " 244,\n",
       " 245,\n",
       " 246,\n",
       " 247,\n",
       " 248,\n",
       " 249,\n",
       " 250,\n",
       " 251,\n",
       " 252,\n",
       " 253,\n",
       " 254,\n",
       " 255,\n",
       " 256,\n",
       " 257,\n",
       " 258,\n",
       " 259,\n",
       " 260,\n",
       " 261,\n",
       " 262,\n",
       " 263,\n",
       " 264,\n",
       " 265,\n",
       " 266,\n",
       " 267,\n",
       " 268,\n",
       " 269,\n",
       " 270,\n",
       " 271,\n",
       " 272,\n",
       " 273,\n",
       " 274,\n",
       " 275,\n",
       " 276,\n",
       " 277,\n",
       " 278,\n",
       " 279,\n",
       " 280,\n",
       " 281,\n",
       " 282,\n",
       " 283,\n",
       " 284,\n",
       " 285,\n",
       " 286,\n",
       " 287,\n",
       " 288,\n",
       " 289,\n",
       " 290,\n",
       " 291,\n",
       " 292,\n",
       " 293,\n",
       " 294,\n",
       " 295,\n",
       " 296,\n",
       " 297,\n",
       " 298,\n",
       " 299,\n",
       " 300,\n",
       " 301,\n",
       " 302,\n",
       " 303,\n",
       " 304,\n",
       " 305,\n",
       " 306,\n",
       " 307,\n",
       " 308,\n",
       " 309,\n",
       " 310,\n",
       " 311,\n",
       " 312,\n",
       " 313,\n",
       " 314,\n",
       " 315,\n",
       " 316,\n",
       " 317,\n",
       " 318,\n",
       " 319,\n",
       " 320,\n",
       " 321,\n",
       " 322,\n",
       " 323,\n",
       " 324,\n",
       " 325,\n",
       " 326,\n",
       " 327,\n",
       " 328,\n",
       " 329,\n",
       " 330,\n",
       " 331,\n",
       " 332,\n",
       " 333,\n",
       " 334,\n",
       " 335,\n",
       " 336,\n",
       " 337,\n",
       " 338,\n",
       " 339,\n",
       " 340,\n",
       " 341,\n",
       " 342,\n",
       " 343,\n",
       " 344,\n",
       " 345,\n",
       " 346,\n",
       " 347,\n",
       " 348,\n",
       " 349,\n",
       " 350,\n",
       " 351,\n",
       " 352,\n",
       " 353,\n",
       " 354,\n",
       " 355,\n",
       " 356,\n",
       " 357,\n",
       " 358,\n",
       " 359,\n",
       " 360,\n",
       " 361,\n",
       " 362,\n",
       " 363,\n",
       " 364,\n",
       " 365,\n",
       " 366,\n",
       " 367,\n",
       " 368,\n",
       " 369,\n",
       " 370,\n",
       " 371,\n",
       " 372,\n",
       " 373,\n",
       " 374,\n",
       " 375,\n",
       " 376,\n",
       " 377,\n",
       " 378,\n",
       " 379,\n",
       " 380,\n",
       " 381,\n",
       " 382,\n",
       " 383,\n",
       " 384,\n",
       " 385,\n",
       " 386,\n",
       " 387,\n",
       " 388,\n",
       " 389,\n",
       " 390,\n",
       " 391,\n",
       " 392,\n",
       " 393,\n",
       " 394,\n",
       " 395,\n",
       " 396,\n",
       " 397,\n",
       " 398,\n",
       " 399,\n",
       " 400,\n",
       " 401,\n",
       " 402,\n",
       " 403,\n",
       " 404,\n",
       " 405,\n",
       " 406,\n",
       " 407,\n",
       " 408,\n",
       " 409,\n",
       " 410,\n",
       " 411,\n",
       " 412,\n",
       " 413,\n",
       " 414,\n",
       " 415,\n",
       " 416,\n",
       " 417,\n",
       " 418,\n",
       " 419,\n",
       " 420,\n",
       " 421,\n",
       " 422,\n",
       " 423,\n",
       " 424,\n",
       " 425,\n",
       " 426,\n",
       " 427,\n",
       " 428,\n",
       " 429,\n",
       " 430,\n",
       " 431,\n",
       " 432,\n",
       " 433,\n",
       " 434,\n",
       " 435,\n",
       " 436,\n",
       " 437,\n",
       " 438,\n",
       " 439,\n",
       " 440,\n",
       " 441,\n",
       " 442,\n",
       " 443,\n",
       " 444,\n",
       " 445,\n",
       " 446,\n",
       " 447,\n",
       " 448,\n",
       " 449,\n",
       " 450,\n",
       " 451,\n",
       " 452,\n",
       " 453,\n",
       " 454,\n",
       " 455,\n",
       " 456,\n",
       " 457,\n",
       " 458,\n",
       " 459,\n",
       " 460,\n",
       " 461,\n",
       " 462,\n",
       " 463,\n",
       " 464,\n",
       " 465,\n",
       " 466,\n",
       " 467,\n",
       " 468,\n",
       " 469,\n",
       " 470,\n",
       " 471,\n",
       " 472,\n",
       " 473,\n",
       " 474,\n",
       " 475,\n",
       " 476,\n",
       " 477,\n",
       " 478,\n",
       " 479,\n",
       " 480,\n",
       " 481,\n",
       " 482,\n",
       " 483,\n",
       " 484,\n",
       " 485,\n",
       " 486,\n",
       " 487,\n",
       " 488,\n",
       " 489,\n",
       " 490,\n",
       " 491,\n",
       " 492,\n",
       " 493,\n",
       " 494,\n",
       " 495,\n",
       " 496,\n",
       " 497,\n",
       " 498,\n",
       " 499,\n",
       " 500,\n",
       " 501,\n",
       " 502,\n",
       " 503,\n",
       " 504,\n",
       " 505,\n",
       " 506,\n",
       " 507,\n",
       " 508,\n",
       " 509,\n",
       " 510,\n",
       " 511,\n",
       " 512,\n",
       " 513,\n",
       " 514,\n",
       " 515,\n",
       " 516,\n",
       " 517,\n",
       " 518,\n",
       " 519,\n",
       " 520,\n",
       " 521,\n",
       " 522,\n",
       " 523,\n",
       " 524,\n",
       " 525,\n",
       " 526,\n",
       " 527,\n",
       " 528,\n",
       " 529,\n",
       " 530,\n",
       " 531,\n",
       " 532,\n",
       " 533,\n",
       " 534,\n",
       " 535,\n",
       " 536,\n",
       " 537,\n",
       " 538,\n",
       " 539,\n",
       " 540,\n",
       " 541,\n",
       " 542,\n",
       " 543,\n",
       " 544,\n",
       " 545,\n",
       " 546,\n",
       " 547,\n",
       " 548,\n",
       " 549,\n",
       " 550,\n",
       " 551,\n",
       " 552,\n",
       " 553,\n",
       " 554,\n",
       " 555,\n",
       " 556,\n",
       " 557,\n",
       " 558,\n",
       " 559,\n",
       " 560,\n",
       " 561,\n",
       " 562,\n",
       " 563,\n",
       " 564,\n",
       " 565,\n",
       " 566,\n",
       " 567,\n",
       " 568,\n",
       " 569,\n",
       " 570,\n",
       " 571,\n",
       " 572,\n",
       " 573,\n",
       " 574,\n",
       " 575,\n",
       " 576,\n",
       " 577,\n",
       " 578,\n",
       " 579,\n",
       " 580,\n",
       " 581,\n",
       " 582,\n",
       " 583,\n",
       " 584,\n",
       " 585,\n",
       " 586,\n",
       " 587,\n",
       " 588,\n",
       " 589,\n",
       " 590,\n",
       " 591,\n",
       " 592,\n",
       " 593,\n",
       " 594,\n",
       " 595,\n",
       " 596,\n",
       " 597,\n",
       " 598,\n",
       " 599,\n",
       " 600,\n",
       " 601,\n",
       " 602,\n",
       " 603,\n",
       " 604,\n",
       " 605,\n",
       " 606,\n",
       " 607,\n",
       " 608,\n",
       " 609,\n",
       " 610,\n",
       " 611,\n",
       " 612,\n",
       " 613,\n",
       " 614,\n",
       " 615,\n",
       " 616,\n",
       " 617,\n",
       " 618,\n",
       " 619,\n",
       " 620,\n",
       " 621,\n",
       " 622,\n",
       " 623,\n",
       " 624,\n",
       " 625,\n",
       " 626,\n",
       " 627,\n",
       " 628,\n",
       " 629,\n",
       " 630,\n",
       " 631,\n",
       " 632,\n",
       " 633,\n",
       " 634,\n",
       " 635,\n",
       " 636,\n",
       " 637,\n",
       " 638,\n",
       " 639,\n",
       " 640,\n",
       " 641,\n",
       " 642,\n",
       " 643,\n",
       " 644,\n",
       " 645,\n",
       " 646,\n",
       " 647,\n",
       " 648,\n",
       " 649,\n",
       " 650,\n",
       " 651,\n",
       " 652,\n",
       " 653,\n",
       " 654,\n",
       " 655,\n",
       " 656,\n",
       " 657,\n",
       " 658,\n",
       " 659,\n",
       " 660,\n",
       " 661,\n",
       " 662,\n",
       " 663,\n",
       " 664,\n",
       " 665,\n",
       " 666,\n",
       " 667,\n",
       " 668,\n",
       " 669,\n",
       " 670,\n",
       " 671,\n",
       " 672,\n",
       " 673,\n",
       " 674,\n",
       " 675,\n",
       " 676,\n",
       " 677,\n",
       " 678,\n",
       " 679,\n",
       " 680,\n",
       " 681,\n",
       " 682,\n",
       " 683,\n",
       " 684,\n",
       " 685,\n",
       " 686,\n",
       " 687,\n",
       " 688,\n",
       " 689,\n",
       " 690,\n",
       " 691,\n",
       " 692,\n",
       " 693,\n",
       " 694,\n",
       " 695,\n",
       " 696,\n",
       " 697,\n",
       " 698,\n",
       " 699,\n",
       " 700,\n",
       " 701,\n",
       " 702,\n",
       " 703,\n",
       " 704,\n",
       " 705,\n",
       " 706,\n",
       " 707,\n",
       " 708,\n",
       " 709,\n",
       " 710,\n",
       " 711,\n",
       " 712,\n",
       " 713,\n",
       " 714,\n",
       " 715,\n",
       " 716,\n",
       " 717,\n",
       " 718,\n",
       " 719,\n",
       " 720,\n",
       " 721,\n",
       " 722,\n",
       " 723,\n",
       " 724,\n",
       " 725,\n",
       " 726,\n",
       " 727,\n",
       " 728,\n",
       " 729,\n",
       " 730,\n",
       " 731,\n",
       " 732,\n",
       " 733,\n",
       " 734,\n",
       " 735,\n",
       " 736,\n",
       " 737,\n",
       " 738,\n",
       " 739,\n",
       " 740,\n",
       " 741,\n",
       " 742,\n",
       " 743,\n",
       " 744,\n",
       " 745,\n",
       " 746,\n",
       " 747,\n",
       " 748,\n",
       " 749,\n",
       " 750,\n",
       " 751,\n",
       " 752,\n",
       " 753,\n",
       " 754,\n",
       " 755,\n",
       " 756,\n",
       " 757,\n",
       " 758,\n",
       " 759,\n",
       " 760,\n",
       " 761,\n",
       " 762,\n",
       " 763,\n",
       " 764,\n",
       " 765,\n",
       " 766,\n",
       " 767,\n",
       " 768,\n",
       " 769,\n",
       " 770,\n",
       " 771,\n",
       " 772,\n",
       " 773,\n",
       " 774,\n",
       " 775,\n",
       " 776,\n",
       " 777,\n",
       " 778,\n",
       " 779,\n",
       " 780,\n",
       " 781,\n",
       " 782,\n",
       " 783,\n",
       " 784,\n",
       " 785,\n",
       " 786,\n",
       " 787,\n",
       " 788,\n",
       " 789,\n",
       " 790,\n",
       " 791,\n",
       " 792,\n",
       " 793,\n",
       " 794,\n",
       " 795,\n",
       " 796,\n",
       " 797,\n",
       " 798,\n",
       " 799,\n",
       " 800,\n",
       " 801,\n",
       " 802,\n",
       " 803,\n",
       " 804,\n",
       " 805,\n",
       " 806,\n",
       " 807,\n",
       " 808,\n",
       " 809,\n",
       " 810,\n",
       " 811,\n",
       " 812,\n",
       " 813,\n",
       " 814,\n",
       " 815,\n",
       " 816,\n",
       " 817,\n",
       " 818,\n",
       " 819,\n",
       " 820,\n",
       " 821,\n",
       " 822,\n",
       " 823,\n",
       " 824,\n",
       " 825,\n",
       " 826,\n",
       " 827,\n",
       " 828,\n",
       " 829,\n",
       " 830,\n",
       " 831,\n",
       " 832,\n",
       " 833,\n",
       " 834,\n",
       " 835,\n",
       " 836,\n",
       " 837,\n",
       " 838,\n",
       " 839,\n",
       " 840,\n",
       " 841,\n",
       " 842,\n",
       " 843,\n",
       " 844,\n",
       " 845,\n",
       " 846,\n",
       " 847,\n",
       " 848,\n",
       " 849,\n",
       " 850,\n",
       " 851,\n",
       " 852,\n",
       " 853,\n",
       " 854,\n",
       " 855,\n",
       " 856,\n",
       " 857,\n",
       " 858,\n",
       " 859,\n",
       " 860,\n",
       " 861,\n",
       " 862,\n",
       " 863,\n",
       " 864,\n",
       " 865,\n",
       " 866,\n",
       " 867,\n",
       " 868,\n",
       " 869,\n",
       " 870,\n",
       " 871,\n",
       " 872,\n",
       " 873,\n",
       " 874,\n",
       " 875,\n",
       " 876,\n",
       " 877,\n",
       " 878,\n",
       " 879,\n",
       " 880,\n",
       " 881,\n",
       " 882,\n",
       " 883,\n",
       " 884,\n",
       " 885,\n",
       " 886,\n",
       " 887,\n",
       " 888,\n",
       " 889,\n",
       " 890,\n",
       " 891,\n",
       " 892,\n",
       " 893,\n",
       " 894,\n",
       " 895,\n",
       " 896,\n",
       " 897,\n",
       " 898,\n",
       " 899,\n",
       " 900,\n",
       " 901,\n",
       " 902,\n",
       " 903,\n",
       " 904,\n",
       " 905,\n",
       " 906,\n",
       " 907,\n",
       " 908,\n",
       " 909,\n",
       " 910,\n",
       " 911,\n",
       " 912,\n",
       " 913,\n",
       " 914,\n",
       " 915,\n",
       " 916,\n",
       " 917,\n",
       " 918,\n",
       " 919,\n",
       " 920,\n",
       " 921,\n",
       " 922,\n",
       " 923,\n",
       " 924,\n",
       " 925,\n",
       " 926,\n",
       " 927,\n",
       " 928,\n",
       " 929,\n",
       " 930,\n",
       " 931,\n",
       " 932,\n",
       " 933,\n",
       " 934,\n",
       " 935,\n",
       " 936,\n",
       " 937,\n",
       " 938,\n",
       " 939,\n",
       " 940,\n",
       " 941,\n",
       " 942,\n",
       " 943,\n",
       " 944,\n",
       " 945,\n",
       " 946,\n",
       " 947,\n",
       " 948,\n",
       " 949,\n",
       " 950,\n",
       " 951,\n",
       " 952,\n",
       " 953,\n",
       " 954,\n",
       " 955,\n",
       " 956,\n",
       " 957,\n",
       " 958,\n",
       " 959,\n",
       " 960,\n",
       " 961,\n",
       " 962,\n",
       " 963,\n",
       " 964,\n",
       " 965,\n",
       " 966,\n",
       " 967,\n",
       " 968,\n",
       " 969,\n",
       " 970,\n",
       " 971,\n",
       " 972,\n",
       " 973,\n",
       " 974,\n",
       " 975,\n",
       " 976,\n",
       " 977,\n",
       " 978,\n",
       " 979,\n",
       " 980,\n",
       " 981,\n",
       " 982,\n",
       " 983,\n",
       " 984,\n",
       " 985,\n",
       " 986,\n",
       " 987,\n",
       " 988,\n",
       " 989,\n",
       " 990,\n",
       " 991,\n",
       " 992,\n",
       " 993,\n",
       " 994,\n",
       " 995,\n",
       " 996,\n",
       " 997,\n",
       " 998,\n",
       " 999,\n",
       " 1000,\n",
       " ...]"
      ]
     },
     "execution_count": 15,
     "metadata": {},
     "output_type": "execute_result"
    }
   ],
   "source": [
    "create_list(10000)"
   ]
  },
  {
   "cell_type": "code",
   "execution_count": 18,
   "metadata": {},
   "outputs": [],
   "source": [
    "def log_function_data(func):\n",
    "    def wrapper(*args, **kwargs):\n",
    "        print(f\"Call function : **{func.__name__}** with arguments: {args} and {kwargs}\")\n",
    "        return func(*args, **kwargs)\n",
    "    return wrapper\n",
    "\n",
    "@log_function_data\n",
    "def add(x, y):\n",
    "    return x + y"
   ]
  },
  {
   "cell_type": "code",
   "execution_count": 19,
   "metadata": {},
   "outputs": [
    {
     "name": "stdout",
     "output_type": "stream",
     "text": [
      "Call function : **add** with arguments: (10, 5) and {}\n"
     ]
    },
    {
     "data": {
      "text/plain": [
       "15"
      ]
     },
     "execution_count": 19,
     "metadata": {},
     "output_type": "execute_result"
    }
   ],
   "source": [
    "add(10, 5)"
   ]
  },
  {
   "cell_type": "code",
   "execution_count": 82,
   "metadata": {},
   "outputs": [],
   "source": [
    "registered_functions = []\n",
    "\n",
    "def register(func):\n",
    "    \n",
    "    def wrapper(*args, **kwargs):\n",
    "        result = func(*args, **kwargs)\n",
    "        registered_functions.append(func.__name__)\n",
    "        return result\n",
    "    \n",
    "    return wrapper\n",
    "\n",
    "@register\n",
    "def func1():\n",
    "    pass\n",
    "\n",
    "@register\n",
    "def func2():\n",
    "    pass\n"
   ]
  },
  {
   "cell_type": "code",
   "execution_count": 83,
   "metadata": {},
   "outputs": [],
   "source": [
    "func2()\n",
    "func1()"
   ]
  },
  {
   "cell_type": "code",
   "execution_count": 84,
   "metadata": {},
   "outputs": [
    {
     "data": {
      "text/plain": [
       "['func2', 'func1']"
      ]
     },
     "execution_count": 84,
     "metadata": {},
     "output_type": "execute_result"
    }
   ],
   "source": [
    "registered_functions"
   ]
  },
  {
   "cell_type": "code",
   "execution_count": 85,
   "metadata": {},
   "outputs": [],
   "source": [
    "func1()\n",
    "func2()"
   ]
  },
  {
   "cell_type": "code",
   "execution_count": 86,
   "metadata": {},
   "outputs": [
    {
     "data": {
      "text/plain": [
       "['func2', 'func1', 'func1', 'func2']"
      ]
     },
     "execution_count": 86,
     "metadata": {},
     "output_type": "execute_result"
    }
   ],
   "source": [
    "registered_functions"
   ]
  },
  {
   "cell_type": "code",
   "execution_count": 39,
   "metadata": {},
   "outputs": [
    {
     "data": {
      "text/plain": [
       "'func1'"
      ]
     },
     "execution_count": 39,
     "metadata": {},
     "output_type": "execute_result"
    }
   ],
   "source": [
    "func1.__name__"
   ]
  },
  {
   "cell_type": "code",
   "execution_count": 36,
   "metadata": {},
   "outputs": [
    {
     "data": {
      "text/plain": [
       "['func1', 'func2']"
      ]
     },
     "execution_count": 36,
     "metadata": {},
     "output_type": "execute_result"
    }
   ],
   "source": [
    "registered_functions"
   ]
  },
  {
   "cell_type": "code",
   "execution_count": 51,
   "metadata": {},
   "outputs": [],
   "source": [
    "@timer\n",
    "@cache\n",
    "def factorial(n):\n",
    "    return n * factorial(n-1) if n else 1"
   ]
  },
  {
   "cell_type": "code",
   "execution_count": 55,
   "metadata": {},
   "outputs": [],
   "source": [
    "@lru_cache(maxsize=10)\n",
    "def factorial(n):\n",
    "    return n * factorial(n-1) if n else 1"
   ]
  },
  {
   "cell_type": "code",
   "execution_count": 57,
   "metadata": {},
   "outputs": [],
   "source": [
    "def memoize(func):\n",
    "    cache = {}\n",
    "    @wraps(func)\n",
    "    def wrapper(*args, **kwargs):\n",
    "        if args in cache:\n",
    "            return cache[args]\n",
    "        result = func(*args, **kwargs)\n",
    "        print(f'Add new elements to cache: {cache}')\n",
    "        cache[args] = result \n",
    "        \n",
    "        return result \n",
    "    return wrapper"
   ]
  },
  {
   "cell_type": "code",
   "execution_count": 64,
   "metadata": {},
   "outputs": [],
   "source": [
    "def retry_connection(func,max_attemps: int = 4, delay = 5):\n",
    "    \n",
    "    @wraps(func)\n",
    "    def wrapper(*args, **kwargs):\n",
    "        attemps = 0 \n",
    "        while attemps < max_attemps:\n",
    "            try: \n",
    "                return func(*args, **kwargs)\n",
    "            except Exception as e:\n",
    "                print(f'Something wrong with called function: {func.__name__}. Attems left {attemps}')\n",
    "                time.sleep(delay)\n",
    "                attemps += 1\n",
    "        return func(*args, **kwargs)\n",
    "    return wrapper\n"
   ]
  },
  {
   "cell_type": "code",
   "execution_count": 65,
   "metadata": {},
   "outputs": [],
   "source": [
    "@retry_connection\n",
    "def factorial(n):\n",
    "    return n * factorial(n-1) if n else 1"
   ]
  },
  {
   "cell_type": "code",
   "execution_count": 58,
   "metadata": {},
   "outputs": [],
   "source": [
    "@memoize\n",
    "def factorial(n):\n",
    "    return n * factorial(n-1) if n else 1"
   ]
  },
  {
   "cell_type": "code",
   "execution_count": 59,
   "metadata": {},
   "outputs": [
    {
     "name": "stdout",
     "output_type": "stream",
     "text": [
      "Add new elements to cache: {}\n",
      "Add new elements to cache: {(0,): 1}\n",
      "Add new elements to cache: {(0,): 1, (1,): 1}\n",
      "Add new elements to cache: {(0,): 1, (1,): 1, (2,): 2}\n",
      "Add new elements to cache: {(0,): 1, (1,): 1, (2,): 2, (3,): 6}\n",
      "Add new elements to cache: {(0,): 1, (1,): 1, (2,): 2, (3,): 6, (4,): 24}\n",
      "Add new elements to cache: {(0,): 1, (1,): 1, (2,): 2, (3,): 6, (4,): 24, (5,): 120}\n",
      "Add new elements to cache: {(0,): 1, (1,): 1, (2,): 2, (3,): 6, (4,): 24, (5,): 120, (6,): 720}\n",
      "Add new elements to cache: {(0,): 1, (1,): 1, (2,): 2, (3,): 6, (4,): 24, (5,): 120, (6,): 720, (7,): 5040}\n",
      "Add new elements to cache: {(0,): 1, (1,): 1, (2,): 2, (3,): 6, (4,): 24, (5,): 120, (6,): 720, (7,): 5040, (8,): 40320}\n",
      "Add new elements to cache: {(0,): 1, (1,): 1, (2,): 2, (3,): 6, (4,): 24, (5,): 120, (6,): 720, (7,): 5040, (8,): 40320, (9,): 362880}\n"
     ]
    },
    {
     "data": {
      "text/plain": [
       "3628800"
      ]
     },
     "execution_count": 59,
     "metadata": {},
     "output_type": "execute_result"
    }
   ],
   "source": [
    "factorial(10)"
   ]
  },
  {
   "cell_type": "code",
   "execution_count": 44,
   "metadata": {},
   "outputs": [],
   "source": [
    "@timer\n",
    "def factorial(n):\n",
    "    return n * factorial(n-1) if n else 1"
   ]
  },
  {
   "cell_type": "code",
   "execution_count": 45,
   "metadata": {},
   "outputs": [
    {
     "name": "stdout",
     "output_type": "stream",
     "text": [
      "Час виконання factorial: 9.5367431640625e-07 секунд\n",
      "Час виконання factorial: 2.5033950805664062e-05 секунд\n",
      "Час виконання factorial: 3.1948089599609375e-05 секунд\n",
      "Час виконання factorial: 3.695487976074219e-05 секунд\n",
      "Час виконання factorial: 3.981590270996094e-05 секунд\n",
      "Час виконання factorial: 4.38690185546875e-05 секунд\n"
     ]
    },
    {
     "data": {
      "text/plain": [
       "120"
      ]
     },
     "execution_count": 45,
     "metadata": {},
     "output_type": "execute_result"
    }
   ],
   "source": [
    "factorial(5)"
   ]
  },
  {
   "cell_type": "code",
   "execution_count": 46,
   "metadata": {},
   "outputs": [
    {
     "name": "stdout",
     "output_type": "stream",
     "text": [
      "Час виконання factorial: 0.0 секунд\n",
      "Час виконання factorial: 3.1948089599609375e-05 секунд\n",
      "Час виконання factorial: 3.981590270996094e-05 секунд\n",
      "Час виконання factorial: 4.506111145019531e-05 секунд\n",
      "Час виконання factorial: 4.887580871582031e-05 секунд\n",
      "Час виконання factorial: 5.3882598876953125e-05 секунд\n",
      "Час виконання factorial: 5.698204040527344e-05 секунд\n",
      "Час виконання factorial: 6.175041198730469e-05 секунд\n",
      "Час виконання factorial: 6.604194641113281e-05 секунд\n",
      "Час виконання factorial: 7.033348083496094e-05 секунд\n",
      "Час виконання factorial: 7.510185241699219e-05 секунд\n"
     ]
    },
    {
     "data": {
      "text/plain": [
       "3628800"
      ]
     },
     "execution_count": 46,
     "metadata": {},
     "output_type": "execute_result"
    }
   ],
   "source": [
    "factorial(10)"
   ]
  },
  {
   "cell_type": "code",
   "execution_count": 47,
   "metadata": {},
   "outputs": [
    {
     "name": "stdout",
     "output_type": "stream",
     "text": [
      "Час виконання factorial: 0.0 секунд\n",
      "Час виконання factorial: 2.8133392333984375e-05 секунд\n",
      "Час виконання factorial: 3.504753112792969e-05 секунд\n",
      "Час виконання factorial: 3.814697265625e-05 секунд\n",
      "Час виконання factorial: 4.076957702636719e-05 секунд\n",
      "Час виконання factorial: 4.506111145019531e-05 секунд\n",
      "Час виконання factorial: 5.1021575927734375e-05 секунд\n",
      "Час виконання factorial: 5.412101745605469e-05 секунд\n",
      "Час виконання factorial: 5.793571472167969e-05 секунд\n",
      "Час виконання factorial: 6.079673767089844e-05 секунд\n",
      "Час виконання factorial: 6.389617919921875e-05 секунд\n",
      "Час виконання factorial: 6.604194641113281e-05 секунд\n",
      "Час виконання factorial: 6.914138793945312e-05 секунд\n",
      "Час виконання factorial: 7.390975952148438e-05 секунд\n",
      "Час виконання factorial: 7.605552673339844e-05 секунд\n",
      "Час виконання factorial: 7.915496826171875e-05 секунд\n",
      "Час виконання factorial: 8.797645568847656e-05 секунд\n",
      "Час виконання factorial: 9.083747863769531e-05 секунд\n",
      "Час виконання factorial: 9.393692016601562e-05 секунд\n",
      "Час виконання factorial: 0.00010228157043457031 секунд\n",
      "Час виконання factorial: 0.00010418891906738281 секунд\n",
      "Час виконання factorial: 0.00010704994201660156 секунд\n",
      "Час виконання factorial: 0.00011205673217773438 секунд\n",
      "Час виконання factorial: 0.00011515617370605469 секунд\n",
      "Час виконання factorial: 0.00011706352233886719 секунд\n",
      "Час виконання factorial: 0.00012087821960449219 секунд\n",
      "Час виконання factorial: 0.0001239776611328125 секунд\n",
      "Час виконання factorial: 0.00012683868408203125 секунд\n",
      "Час виконання factorial: 0.00012993812561035156 секунд\n",
      "Час виконання factorial: 0.00013399124145507812 секунд\n",
      "Час виконання factorial: 0.00013685226440429688 секунд\n",
      "Час виконання factorial: 0.00014472007751464844 секунд\n",
      "Час виконання factorial: 0.0001480579376220703 секунд\n",
      "Час виконання factorial: 0.00015211105346679688 секунд\n",
      "Час виконання factorial: 0.00015592575073242188 секунд\n",
      "Час виконання factorial: 0.0001590251922607422 секунд\n",
      "Час виконання factorial: 0.00016117095947265625 секунд\n",
      "Час виконання factorial: 0.0001652240753173828 секунд\n",
      "Час виконання factorial: 0.0001678466796875 секунд\n",
      "Час виконання factorial: 0.00017690658569335938 секунд\n",
      "Час виконання factorial: 0.00018310546875 секунд\n",
      "Час виконання factorial: 0.00018525123596191406 секунд\n",
      "Час виконання factorial: 0.00018715858459472656 секунд\n",
      "Час виконання factorial: 0.0001990795135498047 секунд\n",
      "Час виконання factorial: 0.0002009868621826172 секунд\n",
      "Час виконання factorial: 0.00020503997802734375 секунд\n",
      "Час виконання factorial: 0.0002090930938720703 секунд\n",
      "Час виконання factorial: 0.0002129077911376953 секунд\n",
      "Час виконання factorial: 0.00021505355834960938 секунд\n",
      "Час виконання factorial: 0.00021910667419433594 секунд\n",
      "Час виконання factorial: 0.0002219676971435547 секунд\n",
      "Час виконання factorial: 0.00022411346435546875 секунд\n",
      "Час виконання factorial: 0.0002281665802001953 секунд\n",
      "Час виконання factorial: 0.0002338886260986328 секунд\n",
      "Час виконання factorial: 0.00023674964904785156 секунд\n",
      "Час виконання factorial: 0.00023889541625976562 секунд\n",
      "Час виконання factorial: 0.0002429485321044922 секунд\n",
      "Час виконання factorial: 0.0002448558807373047 секунд\n",
      "Час виконання factorial: 0.000247955322265625 секунд\n",
      "Час виконання factorial: 0.0002510547637939453 секунд\n",
      "Час виконання factorial: 0.0002529621124267578 секунд\n",
      "Час виконання factorial: 0.0002570152282714844 секунд\n",
      "Час виконання factorial: 0.00025916099548339844 секунд\n",
      "Час виконання factorial: 0.0002620220184326172 секунд\n",
      "Час виконання factorial: 0.00026607513427734375 секунд\n",
      "Час виконання factorial: 0.00026988983154296875 секунд\n",
      "Час виконання factorial: 0.00027298927307128906 секунд\n",
      "Час виконання factorial: 0.00027489662170410156 секунд\n",
      "Час виконання factorial: 0.00027680397033691406 секунд\n",
      "Час виконання factorial: 0.0002810955047607422 секунд\n",
      "Час виконання factorial: 0.00028324127197265625 секунд\n",
      "Час виконання factorial: 0.000286102294921875 секунд\n",
      "Час виконання factorial: 0.00028896331787109375 секунд\n",
      "Час виконання factorial: 0.00029206275939941406 секунд\n",
      "Час виконання factorial: 0.0002951622009277344 секунд\n",
      "Час виконання factorial: 0.00029921531677246094 секунд\n",
      "Час виконання factorial: 0.0003018379211425781 секунд\n",
      "Час виконання factorial: 0.0003039836883544922 секунд\n",
      "Час виконання factorial: 0.0003070831298828125 секунд\n",
      "Час виконання factorial: 0.00030994415283203125 секунд\n",
      "Час виконання factorial: 0.00031185150146484375 секунд\n",
      "Час виконання factorial: 0.00031495094299316406 секунд\n",
      "Час виконання factorial: 0.0003178119659423828 секунд\n",
      "Час виконання factorial: 0.00032806396484375 секунд\n",
      "Час виконання factorial: 0.0003299713134765625 секунд\n",
      "Час виконання factorial: 0.000331878662109375 секунд\n",
      "Час виконання factorial: 0.0003371238708496094 секунд\n",
      "Час виконання factorial: 0.0003390312194824219 секунд\n",
      "Час виконання factorial: 0.0003428459167480469 секунд\n",
      "Час виконання factorial: 0.0003459453582763672 секунд\n",
      "Час виконання factorial: 0.0003490447998046875 секунд\n",
      "Час виконання factorial: 0.00035190582275390625 секунд\n",
      "Час виконання factorial: 0.00035500526428222656 секунд\n",
      "Час виконання factorial: 0.0003581047058105469 секунд\n",
      "Час виконання factorial: 0.0003609657287597656 секунд\n",
      "Час виконання factorial: 0.00036406517028808594 секунд\n",
      "Час виконання factorial: 0.0003662109375 секунд\n",
      "Час виконання factorial: 0.00036978721618652344 секунд\n",
      "Час виконання factorial: 0.0003719329833984375 секунд\n",
      "Час виконання factorial: 0.00037598609924316406 секунд\n",
      "Час виконання factorial: 0.0003790855407714844 секунд\n"
     ]
    },
    {
     "data": {
      "text/plain": [
       "93326215443944152681699238856266700490715968264381621468592963895217599993229915608941463976156518286253697920827223758251185210916864000000000000000000000000"
      ]
     },
     "execution_count": 47,
     "metadata": {},
     "output_type": "execute_result"
    }
   ],
   "source": [
    "factorial(100)"
   ]
  },
  {
   "cell_type": "code",
   "execution_count": 89,
   "metadata": {},
   "outputs": [],
   "source": [
    "# Task 1. Написати декоратор, де буде показувати імя функції та дату \n",
    "import datetime \n",
    "\n",
    "def name_and_time(func): \n",
    "    \n",
    "    def wrapper(*args, **kwargs):\n",
    "        \n",
    "        print(f'Name of function: {func.__name__}\\nToday date is {datetime.datetime.now()}')\n",
    "        result = func(*args, **kwargs)\n",
    "        return result \n",
    "    return wrapper \n",
    "\n"
   ]
  },
  {
   "cell_type": "code",
   "execution_count": 91,
   "metadata": {},
   "outputs": [
    {
     "name": "stdout",
     "output_type": "stream",
     "text": [
      "Name of function: hello\n",
      "Today date is 2023-11-19 11:27:48.312389\n"
     ]
    },
    {
     "data": {
      "text/plain": [
       "'Hello User1'"
      ]
     },
     "execution_count": 91,
     "metadata": {},
     "output_type": "execute_result"
    }
   ],
   "source": [
    "@name_and_time\n",
    "def hello(name: str) -> str:\n",
    "    return f'Hello {name}'\n",
    "\n",
    "hello('User1')"
   ]
  },
  {
   "cell_type": "code",
   "execution_count": 92,
   "metadata": {},
   "outputs": [],
   "source": [
    "# Task 2. Написати декоратор, де буде перед викликом кожної функції delay 30 seconds\n",
    "def delay_dec(func):\n",
    "    \n",
    "    def wrapper(*args, **kwargs): \n",
    "        time.sleep(30)\n",
    "        return func(*args, **kwargs)\n",
    "    return wrapper\n",
    "\n",
    "@delay_dec\n",
    "def connection(api_name: str) -> str | None:\n",
    "    pass "
   ]
  },
  {
   "cell_type": "code",
   "execution_count": 93,
   "metadata": {},
   "outputs": [],
   "source": [
    "connection('API')"
   ]
  },
  {
   "cell_type": "code",
   "execution_count": null,
   "metadata": {},
   "outputs": [],
   "source": [
    "#while attems < 3:\n",
    "#   connection "
   ]
  },
  {
   "cell_type": "code",
   "execution_count": 94,
   "metadata": {},
   "outputs": [],
   "source": [
    "# Task 3. Використати декоратор, який буде зберігати cache, реалізувати для чисел Фіббоначі\n",
    "# * - додаткова зробити власний декоратор memoize, та використати декоратор lru_cache, який буде працювати швидше\n",
    "\n",
    "def fibb(n):\n",
    "    if n == 0:\n",
    "        return 0\n",
    "    elif n == 1:\n",
    "        return 1\n",
    "    else:\n",
    "        return fibb(n - 1) + fibb(n - 2)\n",
    "    "
   ]
  },
  {
   "cell_type": "code",
   "execution_count": 123,
   "metadata": {},
   "outputs": [],
   "source": [
    "@cache\n",
    "def fibb(n):\n",
    "    if n == 0:\n",
    "        return 0\n",
    "    elif n == 1:\n",
    "        return 1\n",
    "    else:\n",
    "        return fibb(n - 1) + fibb(n - 2)"
   ]
  },
  {
   "cell_type": "code",
   "execution_count": 126,
   "metadata": {},
   "outputs": [
    {
     "name": "stdout",
     "output_type": "stream",
     "text": [
      "45.6 ns ± 0.23 ns per loop (mean ± std. dev. of 7 runs, 10,000,000 loops each)\n"
     ]
    }
   ],
   "source": [
    "%%timeit\n",
    "fibb(1200)"
   ]
  },
  {
   "cell_type": "code",
   "execution_count": 127,
   "metadata": {},
   "outputs": [],
   "source": [
    "@lru_cache(maxsize = 4)\n",
    "def fibb(n):\n",
    "    if n == 0:\n",
    "        return 0\n",
    "    elif n == 1:\n",
    "        return 1\n",
    "    else:\n",
    "        return fibb(n - 1) + fibb(n - 2)\n"
   ]
  },
  {
   "cell_type": "code",
   "execution_count": 128,
   "metadata": {},
   "outputs": [
    {
     "name": "stdout",
     "output_type": "stream",
     "text": [
      "45.4 ns ± 0.0607 ns per loop (mean ± std. dev. of 7 runs, 10,000,000 loops each)\n"
     ]
    }
   ],
   "source": [
    "%%timeit\n",
    "fibb(1200)"
   ]
  },
  {
   "attachments": {},
   "cell_type": "markdown",
   "metadata": {},
   "source": [
    "#### Git \n",
    "Базові команди: \n",
    "```git\n",
    "git --version # перевірити git версію \n",
    "\n",
    "git config --global user.name \"your_username\"\n",
    "git config --global user.email \"your_email_address@example.com\"\n",
    "git config --global --list\n",
    "\n",
    "git init # start \n",
    "git status - показати поточний статус \n",
    "git add (добавити файл-и) ./-A/--all - добавити всі файли \n",
    "git commit -m 'описати дії які були зроблені, зазвичай перший комміт Init commit'\n",
    "git push -u origin <branch name> # відправити на зовній репозіторій \n",
    "\n",
    "git pull # підтягунути змінни з серверу \n",
    "\n",
    "git checkout -b <створити альтернативну версію коду>\n",
    "\n",
    "```"
   ]
  },
  {
   "attachments": {},
   "cell_type": "markdown",
   "metadata": {},
   "source": [
    "#### Add commands \n",
    "```git \n",
    "git log - показати історію \n",
    "git log --since <вказати з якої дати показати історію>\n",
    "\n",
    "git annotate <імя файлу> # показати історію змінн файлу\n",
    "\n",
    "git diff <показати змінни> <з чим будемо порівнювати>\n",
    "\n",
    "git branch # показати всі гілки \n",
    "\n",
    "\n",
    "git config --global alias.<псевдонім> <команда>\n",
    "git config --global alias.st status\n",
    "\n",
    "```"
   ]
  },
  {
   "attachments": {},
   "cell_type": "markdown",
   "metadata": {},
   "source": [
    "#### Best practise \n",
    "Use:\n",
    "> **freeze** - pip freeze > requirements.txt # запиши всі залежності в текстовий файл \\\n",
    "> **flake8** - аналізатор коду, для налаштування використовуйте .flake8 \\\n",
    "> **gitignore** - файл для ігнорування файлів"
   ]
  }
 ],
 "metadata": {
  "kernelspec": {
   "display_name": "Python 3",
   "language": "python",
   "name": "python3"
  },
  "language_info": {
   "codemirror_mode": {
    "name": "ipython",
    "version": 3
   },
   "file_extension": ".py",
   "mimetype": "text/x-python",
   "name": "python",
   "nbconvert_exporter": "python",
   "pygments_lexer": "ipython3",
   "version": "3.10.13"
  },
  "orig_nbformat": 4
 },
 "nbformat": 4,
 "nbformat_minor": 2
}
