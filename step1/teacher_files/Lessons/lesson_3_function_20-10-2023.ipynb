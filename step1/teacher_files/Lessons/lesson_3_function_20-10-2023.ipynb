{
 "cells": [
  {
   "attachments": {},
   "cell_type": "markdown",
   "metadata": {},
   "source": [
    "#### Lesson 3. Function and Collections. \n",
    "#### Date: 22.10.23\n",
    "\n",
    "**Topics**:  \n",
    "> 1. Type of function   \n",
    "> 2. Function with argument   \n",
    "> 3. Lambda function   \n",
    "> 4. Args/Kwargs    \n",
    "> 5. Global/local/nonlocal \n",
    "> 6. Zip and additional function \n",
    "\n",
    "**Materials**:\n",
    "> 1. [Function](https://www.w3schools.com/python/python_functions.asp)    \n",
    "> 2. [Function add](https://www.programiz.com/python-programming/function)  \n",
    "> 3. [More example](https://www.learnpython.org/en/Functions)  \n",
    "> 4. [Lambda](https://realpython.com/python-lambda/)  \n",
    "> 5. [Tuple](https://www.programiz.com/python-programming/tuple)  \n",
    "> 6. [Dictionary](https://realpython.com/python-dicts/)   "
   ]
  },
  {
   "cell_type": "code",
   "execution_count": 135,
   "metadata": {},
   "outputs": [],
   "source": [
    "# Task 3. Print all multiples of 14 smaller than 1000.\n",
    "# Task 4. Take an integer as input and test whether or not it is prime (a prime number is divisible only by 1 and itself)."
   ]
  },
  {
   "cell_type": "code",
   "execution_count": 136,
   "metadata": {},
   "outputs": [
    {
     "name": "stdout",
     "output_type": "stream",
     "text": [
      "14\n",
      "28\n",
      "42\n",
      "56\n",
      "70\n",
      "84\n",
      "98\n",
      "112\n",
      "126\n",
      "140\n",
      "154\n",
      "168\n",
      "182\n",
      "196\n",
      "210\n",
      "224\n",
      "238\n",
      "252\n",
      "266\n",
      "280\n",
      "294\n",
      "308\n",
      "322\n",
      "336\n",
      "350\n",
      "364\n",
      "378\n",
      "392\n",
      "406\n",
      "420\n",
      "434\n",
      "448\n",
      "462\n",
      "476\n",
      "490\n",
      "504\n",
      "518\n",
      "532\n",
      "546\n",
      "560\n",
      "574\n",
      "588\n",
      "602\n",
      "616\n",
      "630\n",
      "644\n",
      "658\n",
      "672\n",
      "686\n",
      "700\n",
      "714\n",
      "728\n",
      "742\n",
      "756\n",
      "770\n",
      "784\n",
      "798\n",
      "812\n",
      "826\n",
      "840\n",
      "854\n",
      "868\n",
      "882\n",
      "896\n",
      "910\n",
      "924\n",
      "938\n",
      "952\n",
      "966\n",
      "980\n",
      "994\n",
      "[14, 28, 42, 56, 70, 84, 98, 112, 126, 140, 154, 168, 182, 196, 210, 224, 238, 252, 266, 280, 294, 308, 322, 336, 350, 364, 378, 392, 406, 420, 434, 448, 462, 476, 490, 504, 518, 532, 546, 560, 574, 588, 602, 616, 630, 644, 658, 672, 686, 700, 714, 728, 742, 756, 770, 784, 798, 812, 826, 840, 854, 868, 882, 896, 910, 924, 938, 952, 966, 980, 994]\n"
     ]
    }
   ],
   "source": [
    "# Task 3. Print all multiples of 14 smaller than 1000.\n",
    "for num_multiple in range(14, 1001, 14):  # цикл for\n",
    "    print(num_multiple)\n",
    "\n",
    "arr_multiple = [num_multiple for num_multiple in range(14,1001, 14) if num_multiple % 14 == 0] # цикл for списком\n",
    "print(arr_multiple)"
   ]
  },
  {
   "cell_type": "code",
   "execution_count": 137,
   "metadata": {},
   "outputs": [
    {
     "data": {
      "text/plain": [
       "'18'"
      ]
     },
     "execution_count": 137,
     "metadata": {},
     "output_type": "execute_result"
    }
   ],
   "source": [
    "strint = '  18  '.strip()\n",
    "strint"
   ]
  },
  {
   "cell_type": "code",
   "execution_count": 138,
   "metadata": {},
   "outputs": [
    {
     "ename": "ValueError",
     "evalue": "invalid literal for int() with base 10: ''",
     "output_type": "error",
     "traceback": [
      "\u001b[0;31m---------------------------------------------------------------------------\u001b[0m",
      "\u001b[0;31mValueError\u001b[0m                                Traceback (most recent call last)",
      "Cell \u001b[0;32mIn[138], line 3\u001b[0m\n\u001b[1;32m      1\u001b[0m \u001b[39m# Task 4. Take an integer as input and test whether it is prime\u001b[39;00m\n\u001b[1;32m      2\u001b[0m \u001b[39m# (a prime number is divisible only by 1 and itself).\u001b[39;00m\n\u001b[0;32m----> 3\u001b[0m num \u001b[39m=\u001b[39m \u001b[39mint\u001b[39;49m(\u001b[39minput\u001b[39;49m(\u001b[39m'\u001b[39;49m\u001b[39mEnter number: \u001b[39;49m\u001b[39m'\u001b[39;49m)\u001b[39m.\u001b[39;49mstrip())\n\u001b[1;32m      4\u001b[0m arr \u001b[39m=\u001b[39m [\u001b[39miter\u001b[39m \u001b[39mfor\u001b[39;00m \u001b[39miter\u001b[39m \u001b[39min\u001b[39;00m \u001b[39mrange\u001b[39m(\u001b[39m2\u001b[39m, num \u001b[39m/\u001b[39m\u001b[39m/\u001b[39m \u001b[39m2\u001b[39m \u001b[39m+\u001b[39m \u001b[39m1\u001b[39m) \u001b[39mif\u001b[39;00m num \u001b[39m%\u001b[39m \u001b[39miter\u001b[39m \u001b[39m==\u001b[39m \u001b[39m0\u001b[39m]\n\u001b[1;32m      5\u001b[0m \u001b[39mprint\u001b[39m(\u001b[39mnot\u001b[39;00m arr)\n",
      "\u001b[0;31mValueError\u001b[0m: invalid literal for int() with base 10: ''"
     ]
    }
   ],
   "source": [
    "# Task 4. Take an integer as input and test whether it is prime\n",
    "# (a prime number is divisible only by 1 and itself).\n",
    "num = int(input('Enter number: ').strip())\n",
    "arr = [iter for iter in range(2, num // 2 + 1) if num % iter == 0]\n",
    "print(not arr)"
   ]
  },
  {
   "attachments": {},
   "cell_type": "markdown",
   "metadata": {},
   "source": [
    "##### Function - функція \n",
    "> Функція в програмуванні - це блок коду, який виконує певне завдання і може бути викликаний з іншої частини програми. Функції дають змогу організувати код у більш маленькі та зрозумілі блоки, що спрощує читання, розуміння та повторне використання коду.   \n",
    "> **Структура функції**   \n",
    "**def** - key-word <name_func> (param1, param2, .. paramN) -> <optional:return value>: # annotation function\n",
    "    # body of function \n",
    "    # return value\n"
   ]
  },
  {
   "cell_type": "code",
   "execution_count": 1,
   "metadata": {},
   "outputs": [],
   "source": [
    "# key-word <name> (param:type) -> return value\n",
    "def hello(name:str) -> str:\n",
    "    # body of function \n",
    "    print(f'Hello {name}') \n",
    "    # return value, default None"
   ]
  },
  {
   "cell_type": "code",
   "execution_count": 2,
   "metadata": {},
   "outputs": [
    {
     "name": "stdout",
     "output_type": "stream",
     "text": [
      "Hello Vlad\n",
      "Hello User2\n"
     ]
    }
   ],
   "source": [
    "hello('Vlad') # call function \n",
    "\n",
    "hello('User2') # call function "
   ]
  },
  {
   "cell_type": "code",
   "execution_count": 3,
   "metadata": {},
   "outputs": [
    {
     "name": "stdout",
     "output_type": "stream",
     "text": [
      "Hello Vlad\n",
      "Hello Vlad\n",
      "Hello Vlad\n",
      "Hello Vlad\n",
      "Hello Vlad\n",
      "Hello Vlad\n",
      "Hello Vlad\n",
      "Hello Vlad\n",
      "Hello Vlad\n",
      "Hello Vlad\n",
      "Hello Vlad\n",
      "Hello Vlad\n",
      "Hello Vlad\n",
      "Hello Vlad\n",
      "Hello Vlad\n",
      "Hello Vlad\n",
      "Hello Vlad\n",
      "Hello Vlad\n",
      "Hello Vlad\n"
     ]
    }
   ],
   "source": [
    "for i in range(1, 20):\n",
    "    hello('Vlad')"
   ]
  },
  {
   "cell_type": "code",
   "execution_count": 4,
   "metadata": {},
   "outputs": [],
   "source": [
    "def emp():\n",
    "    pass"
   ]
  },
  {
   "cell_type": "code",
   "execution_count": 5,
   "metadata": {},
   "outputs": [],
   "source": [
    "emp()"
   ]
  },
  {
   "cell_type": "code",
   "execution_count": 6,
   "metadata": {},
   "outputs": [
    {
     "data": {
      "text/plain": [
       "['__annotations__',\n",
       " '__builtins__',\n",
       " '__call__',\n",
       " '__class__',\n",
       " '__closure__',\n",
       " '__code__',\n",
       " '__defaults__',\n",
       " '__delattr__',\n",
       " '__dict__',\n",
       " '__dir__',\n",
       " '__doc__',\n",
       " '__eq__',\n",
       " '__format__',\n",
       " '__ge__',\n",
       " '__get__',\n",
       " '__getattribute__',\n",
       " '__globals__',\n",
       " '__gt__',\n",
       " '__hash__',\n",
       " '__init__',\n",
       " '__init_subclass__',\n",
       " '__kwdefaults__',\n",
       " '__le__',\n",
       " '__lt__',\n",
       " '__module__',\n",
       " '__name__',\n",
       " '__ne__',\n",
       " '__new__',\n",
       " '__qualname__',\n",
       " '__reduce__',\n",
       " '__reduce_ex__',\n",
       " '__repr__',\n",
       " '__setattr__',\n",
       " '__sizeof__',\n",
       " '__str__',\n",
       " '__subclasshook__']"
      ]
     },
     "execution_count": 6,
     "metadata": {},
     "output_type": "execute_result"
    }
   ],
   "source": [
    "dir(hello)"
   ]
  },
  {
   "cell_type": "code",
   "execution_count": 7,
   "metadata": {},
   "outputs": [
    {
     "data": {
      "text/plain": [
       "({'name': str, 'return': str}, None)"
      ]
     },
     "execution_count": 7,
     "metadata": {},
     "output_type": "execute_result"
    }
   ],
   "source": [
    "hello.__annotations__, hello.__doc__"
   ]
  },
  {
   "cell_type": "code",
   "execution_count": 8,
   "metadata": {},
   "outputs": [],
   "source": [
    "def hello1(name: str, age:int) -> str:\n",
    "    ''' Doc-s file function with parameters '''\n",
    "    print(f'Name user: {name} Age user: {age}')"
   ]
  },
  {
   "cell_type": "code",
   "execution_count": 9,
   "metadata": {},
   "outputs": [
    {
     "data": {
      "text/plain": [
       "({'name': str, 'age': int, 'return': str},\n",
       " ' Doc-s file function with parameters ')"
      ]
     },
     "execution_count": 9,
     "metadata": {},
     "output_type": "execute_result"
    }
   ],
   "source": [
    "hello1.__annotations__, hello1.__doc__"
   ]
  },
  {
   "cell_type": "code",
   "execution_count": 10,
   "metadata": {},
   "outputs": [
    {
     "name": "stdout",
     "output_type": "stream",
     "text": [
      "Name user: User1 Age user: 18\n"
     ]
    }
   ],
   "source": [
    "hello1('User1', 18)"
   ]
  },
  {
   "cell_type": "code",
   "execution_count": 11,
   "metadata": {},
   "outputs": [
    {
     "ename": "TypeError",
     "evalue": "hello() takes 1 positional argument but 2 were given",
     "output_type": "error",
     "traceback": [
      "\u001b[0;31m---------------------------------------------------------------------------\u001b[0m",
      "\u001b[0;31mTypeError\u001b[0m                                 Traceback (most recent call last)",
      "\u001b[1;32m/Users/alksandr/Desktop/lesson_3_function_20-10-2023.ipynb Ячейка 17\u001b[0m line \u001b[0;36m1\n\u001b[0;32m----> <a href='vscode-notebook-cell:/Users/alksandr/Desktop/lesson_3_function_20-10-2023.ipynb#X22sZmlsZQ%3D%3D?line=0'>1</a>\u001b[0m hello(\u001b[39m'\u001b[39;49m\u001b[39mUser1\u001b[39;49m\u001b[39m'\u001b[39;49m, \u001b[39m'\u001b[39;49m\u001b[39mUser2\u001b[39;49m\u001b[39m'\u001b[39;49m)\n",
      "\u001b[0;31mTypeError\u001b[0m: hello() takes 1 positional argument but 2 were given"
     ]
    }
   ],
   "source": [
    "hello('User1', 'User2')"
   ]
  },
  {
   "attachments": {},
   "cell_type": "markdown",
   "metadata": {},
   "source": [
    "#### Функції бувають:\n",
    "> 1. **Функція без параметрів** - функція не приймає аргументів   \n",
    "> 2. **Функція з параметрами** - функція приймає параметри дефолтні та не дефолтні, важливий  порядок задання \n",
    "> 3. **Функція з опціональними аргументами** - функція може приймати/не приймати значення \n",
    "> 4. **Функція із args/kwargs** -  функція приймає необмежену кількість параметрів \n"
   ]
  },
  {
   "cell_type": "code",
   "execution_count": 13,
   "metadata": {},
   "outputs": [],
   "source": [
    "import datetime as dt "
   ]
  },
  {
   "cell_type": "code",
   "execution_count": 14,
   "metadata": {},
   "outputs": [
    {
     "name": "stdout",
     "output_type": "stream",
     "text": [
      "2023-10-22 10:15:57.751898\n"
     ]
    }
   ],
   "source": [
    "# Type 1\n",
    "def current_date() -> str: \n",
    "    return dt.datetime.now()\n",
    "\n",
    "print(current_date())"
   ]
  },
  {
   "cell_type": "code",
   "execution_count": 16,
   "metadata": {},
   "outputs": [
    {
     "name": "stdout",
     "output_type": "stream",
     "text": [
      "2023-10-22 10:18:42.926837\n",
      "4999999950000000\n",
      "Start : 2023-10-22 10:18:42.926837 End : 2023-10-22 10:18:50.607843 \n",
      "Time: 0:00:07.681006\n"
     ]
    }
   ],
   "source": [
    "start  = current_date()\n",
    "print(start) \n",
    "s = 0\n",
    "for i in range(0, 10_000_00_00):\n",
    "    s += i \n",
    "print(s) \n",
    "end = current_date()\n",
    "print(f'Start : {start} End : {end} \\nTime: {end - start}')"
   ]
  },
  {
   "cell_type": "code",
   "execution_count": 17,
   "metadata": {},
   "outputs": [
    {
     "name": "stdout",
     "output_type": "stream",
     "text": [
      "Help on built-in function print in module builtins:\n",
      "\n",
      "print(...)\n",
      "    print(value, ..., sep=' ', end='\\n', file=sys.stdout, flush=False)\n",
      "    \n",
      "    Prints the values to a stream, or to sys.stdout by default.\n",
      "    Optional keyword arguments:\n",
      "    file:  a file-like object (stream); defaults to the current sys.stdout.\n",
      "    sep:   string inserted between values, default a space.\n",
      "    end:   string appended after the last value, default a newline.\n",
      "    flush: whether to forcibly flush the stream.\n",
      "\n"
     ]
    }
   ],
   "source": [
    "help(print)"
   ]
  },
  {
   "cell_type": "code",
   "execution_count": 18,
   "metadata": {},
   "outputs": [
    {
     "name": "stdout",
     "output_type": "stream",
     "text": [
      "Help on class str in module builtins:\n",
      "\n",
      "class str(object)\n",
      " |  str(object='') -> str\n",
      " |  str(bytes_or_buffer[, encoding[, errors]]) -> str\n",
      " |  \n",
      " |  Create a new string object from the given object. If encoding or\n",
      " |  errors is specified, then the object must expose a data buffer\n",
      " |  that will be decoded using the given encoding and error handler.\n",
      " |  Otherwise, returns the result of object.__str__() (if defined)\n",
      " |  or repr(object).\n",
      " |  encoding defaults to sys.getdefaultencoding().\n",
      " |  errors defaults to 'strict'.\n",
      " |  \n",
      " |  Methods defined here:\n",
      " |  \n",
      " |  __add__(self, value, /)\n",
      " |      Return self+value.\n",
      " |  \n",
      " |  __contains__(self, key, /)\n",
      " |      Return key in self.\n",
      " |  \n",
      " |  __eq__(self, value, /)\n",
      " |      Return self==value.\n",
      " |  \n",
      " |  __format__(self, format_spec, /)\n",
      " |      Return a formatted version of the string as described by format_spec.\n",
      " |  \n",
      " |  __ge__(self, value, /)\n",
      " |      Return self>=value.\n",
      " |  \n",
      " |  __getattribute__(self, name, /)\n",
      " |      Return getattr(self, name).\n",
      " |  \n",
      " |  __getitem__(self, key, /)\n",
      " |      Return self[key].\n",
      " |  \n",
      " |  __getnewargs__(...)\n",
      " |  \n",
      " |  __gt__(self, value, /)\n",
      " |      Return self>value.\n",
      " |  \n",
      " |  __hash__(self, /)\n",
      " |      Return hash(self).\n",
      " |  \n",
      " |  __iter__(self, /)\n",
      " |      Implement iter(self).\n",
      " |  \n",
      " |  __le__(self, value, /)\n",
      " |      Return self<=value.\n",
      " |  \n",
      " |  __len__(self, /)\n",
      " |      Return len(self).\n",
      " |  \n",
      " |  __lt__(self, value, /)\n",
      " |      Return self<value.\n",
      " |  \n",
      " |  __mod__(self, value, /)\n",
      " |      Return self%value.\n",
      " |  \n",
      " |  __mul__(self, value, /)\n",
      " |      Return self*value.\n",
      " |  \n",
      " |  __ne__(self, value, /)\n",
      " |      Return self!=value.\n",
      " |  \n",
      " |  __repr__(self, /)\n",
      " |      Return repr(self).\n",
      " |  \n",
      " |  __rmod__(self, value, /)\n",
      " |      Return value%self.\n",
      " |  \n",
      " |  __rmul__(self, value, /)\n",
      " |      Return value*self.\n",
      " |  \n",
      " |  __sizeof__(self, /)\n",
      " |      Return the size of the string in memory, in bytes.\n",
      " |  \n",
      " |  __str__(self, /)\n",
      " |      Return str(self).\n",
      " |  \n",
      " |  capitalize(self, /)\n",
      " |      Return a capitalized version of the string.\n",
      " |      \n",
      " |      More specifically, make the first character have upper case and the rest lower\n",
      " |      case.\n",
      " |  \n",
      " |  casefold(self, /)\n",
      " |      Return a version of the string suitable for caseless comparisons.\n",
      " |  \n",
      " |  center(self, width, fillchar=' ', /)\n",
      " |      Return a centered string of length width.\n",
      " |      \n",
      " |      Padding is done using the specified fill character (default is a space).\n",
      " |  \n",
      " |  count(...)\n",
      " |      S.count(sub[, start[, end]]) -> int\n",
      " |      \n",
      " |      Return the number of non-overlapping occurrences of substring sub in\n",
      " |      string S[start:end].  Optional arguments start and end are\n",
      " |      interpreted as in slice notation.\n",
      " |  \n",
      " |  encode(self, /, encoding='utf-8', errors='strict')\n",
      " |      Encode the string using the codec registered for encoding.\n",
      " |      \n",
      " |      encoding\n",
      " |        The encoding in which to encode the string.\n",
      " |      errors\n",
      " |        The error handling scheme to use for encoding errors.\n",
      " |        The default is 'strict' meaning that encoding errors raise a\n",
      " |        UnicodeEncodeError.  Other possible values are 'ignore', 'replace' and\n",
      " |        'xmlcharrefreplace' as well as any other name registered with\n",
      " |        codecs.register_error that can handle UnicodeEncodeErrors.\n",
      " |  \n",
      " |  endswith(...)\n",
      " |      S.endswith(suffix[, start[, end]]) -> bool\n",
      " |      \n",
      " |      Return True if S ends with the specified suffix, False otherwise.\n",
      " |      With optional start, test S beginning at that position.\n",
      " |      With optional end, stop comparing S at that position.\n",
      " |      suffix can also be a tuple of strings to try.\n",
      " |  \n",
      " |  expandtabs(self, /, tabsize=8)\n",
      " |      Return a copy where all tab characters are expanded using spaces.\n",
      " |      \n",
      " |      If tabsize is not given, a tab size of 8 characters is assumed.\n",
      " |  \n",
      " |  find(...)\n",
      " |      S.find(sub[, start[, end]]) -> int\n",
      " |      \n",
      " |      Return the lowest index in S where substring sub is found,\n",
      " |      such that sub is contained within S[start:end].  Optional\n",
      " |      arguments start and end are interpreted as in slice notation.\n",
      " |      \n",
      " |      Return -1 on failure.\n",
      " |  \n",
      " |  format(...)\n",
      " |      S.format(*args, **kwargs) -> str\n",
      " |      \n",
      " |      Return a formatted version of S, using substitutions from args and kwargs.\n",
      " |      The substitutions are identified by braces ('{' and '}').\n",
      " |  \n",
      " |  format_map(...)\n",
      " |      S.format_map(mapping) -> str\n",
      " |      \n",
      " |      Return a formatted version of S, using substitutions from mapping.\n",
      " |      The substitutions are identified by braces ('{' and '}').\n",
      " |  \n",
      " |  index(...)\n",
      " |      S.index(sub[, start[, end]]) -> int\n",
      " |      \n",
      " |      Return the lowest index in S where substring sub is found,\n",
      " |      such that sub is contained within S[start:end].  Optional\n",
      " |      arguments start and end are interpreted as in slice notation.\n",
      " |      \n",
      " |      Raises ValueError when the substring is not found.\n",
      " |  \n",
      " |  isalnum(self, /)\n",
      " |      Return True if the string is an alpha-numeric string, False otherwise.\n",
      " |      \n",
      " |      A string is alpha-numeric if all characters in the string are alpha-numeric and\n",
      " |      there is at least one character in the string.\n",
      " |  \n",
      " |  isalpha(self, /)\n",
      " |      Return True if the string is an alphabetic string, False otherwise.\n",
      " |      \n",
      " |      A string is alphabetic if all characters in the string are alphabetic and there\n",
      " |      is at least one character in the string.\n",
      " |  \n",
      " |  isascii(self, /)\n",
      " |      Return True if all characters in the string are ASCII, False otherwise.\n",
      " |      \n",
      " |      ASCII characters have code points in the range U+0000-U+007F.\n",
      " |      Empty string is ASCII too.\n",
      " |  \n",
      " |  isdecimal(self, /)\n",
      " |      Return True if the string is a decimal string, False otherwise.\n",
      " |      \n",
      " |      A string is a decimal string if all characters in the string are decimal and\n",
      " |      there is at least one character in the string.\n",
      " |  \n",
      " |  isdigit(self, /)\n",
      " |      Return True if the string is a digit string, False otherwise.\n",
      " |      \n",
      " |      A string is a digit string if all characters in the string are digits and there\n",
      " |      is at least one character in the string.\n",
      " |  \n",
      " |  isidentifier(self, /)\n",
      " |      Return True if the string is a valid Python identifier, False otherwise.\n",
      " |      \n",
      " |      Call keyword.iskeyword(s) to test whether string s is a reserved identifier,\n",
      " |      such as \"def\" or \"class\".\n",
      " |  \n",
      " |  islower(self, /)\n",
      " |      Return True if the string is a lowercase string, False otherwise.\n",
      " |      \n",
      " |      A string is lowercase if all cased characters in the string are lowercase and\n",
      " |      there is at least one cased character in the string.\n",
      " |  \n",
      " |  isnumeric(self, /)\n",
      " |      Return True if the string is a numeric string, False otherwise.\n",
      " |      \n",
      " |      A string is numeric if all characters in the string are numeric and there is at\n",
      " |      least one character in the string.\n",
      " |  \n",
      " |  isprintable(self, /)\n",
      " |      Return True if the string is printable, False otherwise.\n",
      " |      \n",
      " |      A string is printable if all of its characters are considered printable in\n",
      " |      repr() or if it is empty.\n",
      " |  \n",
      " |  isspace(self, /)\n",
      " |      Return True if the string is a whitespace string, False otherwise.\n",
      " |      \n",
      " |      A string is whitespace if all characters in the string are whitespace and there\n",
      " |      is at least one character in the string.\n",
      " |  \n",
      " |  istitle(self, /)\n",
      " |      Return True if the string is a title-cased string, False otherwise.\n",
      " |      \n",
      " |      In a title-cased string, upper- and title-case characters may only\n",
      " |      follow uncased characters and lowercase characters only cased ones.\n",
      " |  \n",
      " |  isupper(self, /)\n",
      " |      Return True if the string is an uppercase string, False otherwise.\n",
      " |      \n",
      " |      A string is uppercase if all cased characters in the string are uppercase and\n",
      " |      there is at least one cased character in the string.\n",
      " |  \n",
      " |  join(self, iterable, /)\n",
      " |      Concatenate any number of strings.\n",
      " |      \n",
      " |      The string whose method is called is inserted in between each given string.\n",
      " |      The result is returned as a new string.\n",
      " |      \n",
      " |      Example: '.'.join(['ab', 'pq', 'rs']) -> 'ab.pq.rs'\n",
      " |  \n",
      " |  ljust(self, width, fillchar=' ', /)\n",
      " |      Return a left-justified string of length width.\n",
      " |      \n",
      " |      Padding is done using the specified fill character (default is a space).\n",
      " |  \n",
      " |  lower(self, /)\n",
      " |      Return a copy of the string converted to lowercase.\n",
      " |  \n",
      " |  lstrip(self, chars=None, /)\n",
      " |      Return a copy of the string with leading whitespace removed.\n",
      " |      \n",
      " |      If chars is given and not None, remove characters in chars instead.\n",
      " |  \n",
      " |  partition(self, sep, /)\n",
      " |      Partition the string into three parts using the given separator.\n",
      " |      \n",
      " |      This will search for the separator in the string.  If the separator is found,\n",
      " |      returns a 3-tuple containing the part before the separator, the separator\n",
      " |      itself, and the part after it.\n",
      " |      \n",
      " |      If the separator is not found, returns a 3-tuple containing the original string\n",
      " |      and two empty strings.\n",
      " |  \n",
      " |  removeprefix(self, prefix, /)\n",
      " |      Return a str with the given prefix string removed if present.\n",
      " |      \n",
      " |      If the string starts with the prefix string, return string[len(prefix):].\n",
      " |      Otherwise, return a copy of the original string.\n",
      " |  \n",
      " |  removesuffix(self, suffix, /)\n",
      " |      Return a str with the given suffix string removed if present.\n",
      " |      \n",
      " |      If the string ends with the suffix string and that suffix is not empty,\n",
      " |      return string[:-len(suffix)]. Otherwise, return a copy of the original\n",
      " |      string.\n",
      " |  \n",
      " |  replace(self, old, new, count=-1, /)\n",
      " |      Return a copy with all occurrences of substring old replaced by new.\n",
      " |      \n",
      " |        count\n",
      " |          Maximum number of occurrences to replace.\n",
      " |          -1 (the default value) means replace all occurrences.\n",
      " |      \n",
      " |      If the optional argument count is given, only the first count occurrences are\n",
      " |      replaced.\n",
      " |  \n",
      " |  rfind(...)\n",
      " |      S.rfind(sub[, start[, end]]) -> int\n",
      " |      \n",
      " |      Return the highest index in S where substring sub is found,\n",
      " |      such that sub is contained within S[start:end].  Optional\n",
      " |      arguments start and end are interpreted as in slice notation.\n",
      " |      \n",
      " |      Return -1 on failure.\n",
      " |  \n",
      " |  rindex(...)\n",
      " |      S.rindex(sub[, start[, end]]) -> int\n",
      " |      \n",
      " |      Return the highest index in S where substring sub is found,\n",
      " |      such that sub is contained within S[start:end].  Optional\n",
      " |      arguments start and end are interpreted as in slice notation.\n",
      " |      \n",
      " |      Raises ValueError when the substring is not found.\n",
      " |  \n",
      " |  rjust(self, width, fillchar=' ', /)\n",
      " |      Return a right-justified string of length width.\n",
      " |      \n",
      " |      Padding is done using the specified fill character (default is a space).\n",
      " |  \n",
      " |  rpartition(self, sep, /)\n",
      " |      Partition the string into three parts using the given separator.\n",
      " |      \n",
      " |      This will search for the separator in the string, starting at the end. If\n",
      " |      the separator is found, returns a 3-tuple containing the part before the\n",
      " |      separator, the separator itself, and the part after it.\n",
      " |      \n",
      " |      If the separator is not found, returns a 3-tuple containing two empty strings\n",
      " |      and the original string.\n",
      " |  \n",
      " |  rsplit(self, /, sep=None, maxsplit=-1)\n",
      " |      Return a list of the substrings in the string, using sep as the separator string.\n",
      " |      \n",
      " |        sep\n",
      " |          The separator used to split the string.\n",
      " |      \n",
      " |          When set to None (the default value), will split on any whitespace\n",
      " |          character (including \\\\n \\\\r \\\\t \\\\f and spaces) and will discard\n",
      " |          empty strings from the result.\n",
      " |        maxsplit\n",
      " |          Maximum number of splits (starting from the left).\n",
      " |          -1 (the default value) means no limit.\n",
      " |      \n",
      " |      Splitting starts at the end of the string and works to the front.\n",
      " |  \n",
      " |  rstrip(self, chars=None, /)\n",
      " |      Return a copy of the string with trailing whitespace removed.\n",
      " |      \n",
      " |      If chars is given and not None, remove characters in chars instead.\n",
      " |  \n",
      " |  split(self, /, sep=None, maxsplit=-1)\n",
      " |      Return a list of the substrings in the string, using sep as the separator string.\n",
      " |      \n",
      " |        sep\n",
      " |          The separator used to split the string.\n",
      " |      \n",
      " |          When set to None (the default value), will split on any whitespace\n",
      " |          character (including \\\\n \\\\r \\\\t \\\\f and spaces) and will discard\n",
      " |          empty strings from the result.\n",
      " |        maxsplit\n",
      " |          Maximum number of splits (starting from the left).\n",
      " |          -1 (the default value) means no limit.\n",
      " |      \n",
      " |      Note, str.split() is mainly useful for data that has been intentionally\n",
      " |      delimited.  With natural text that includes punctuation, consider using\n",
      " |      the regular expression module.\n",
      " |  \n",
      " |  splitlines(self, /, keepends=False)\n",
      " |      Return a list of the lines in the string, breaking at line boundaries.\n",
      " |      \n",
      " |      Line breaks are not included in the resulting list unless keepends is given and\n",
      " |      true.\n",
      " |  \n",
      " |  startswith(...)\n",
      " |      S.startswith(prefix[, start[, end]]) -> bool\n",
      " |      \n",
      " |      Return True if S starts with the specified prefix, False otherwise.\n",
      " |      With optional start, test S beginning at that position.\n",
      " |      With optional end, stop comparing S at that position.\n",
      " |      prefix can also be a tuple of strings to try.\n",
      " |  \n",
      " |  strip(self, chars=None, /)\n",
      " |      Return a copy of the string with leading and trailing whitespace removed.\n",
      " |      \n",
      " |      If chars is given and not None, remove characters in chars instead.\n",
      " |  \n",
      " |  swapcase(self, /)\n",
      " |      Convert uppercase characters to lowercase and lowercase characters to uppercase.\n",
      " |  \n",
      " |  title(self, /)\n",
      " |      Return a version of the string where each word is titlecased.\n",
      " |      \n",
      " |      More specifically, words start with uppercased characters and all remaining\n",
      " |      cased characters have lower case.\n",
      " |  \n",
      " |  translate(self, table, /)\n",
      " |      Replace each character in the string using the given translation table.\n",
      " |      \n",
      " |        table\n",
      " |          Translation table, which must be a mapping of Unicode ordinals to\n",
      " |          Unicode ordinals, strings, or None.\n",
      " |      \n",
      " |      The table must implement lookup/indexing via __getitem__, for instance a\n",
      " |      dictionary or list.  If this operation raises LookupError, the character is\n",
      " |      left untouched.  Characters mapped to None are deleted.\n",
      " |  \n",
      " |  upper(self, /)\n",
      " |      Return a copy of the string converted to uppercase.\n",
      " |  \n",
      " |  zfill(self, width, /)\n",
      " |      Pad a numeric string with zeros on the left, to fill a field of the given width.\n",
      " |      \n",
      " |      The string is never truncated.\n",
      " |  \n",
      " |  ----------------------------------------------------------------------\n",
      " |  Static methods defined here:\n",
      " |  \n",
      " |  __new__(*args, **kwargs) from builtins.type\n",
      " |      Create and return a new object.  See help(type) for accurate signature.\n",
      " |  \n",
      " |  maketrans(...)\n",
      " |      Return a translation table usable for str.translate().\n",
      " |      \n",
      " |      If there is only one argument, it must be a dictionary mapping Unicode\n",
      " |      ordinals (integers) or characters to Unicode ordinals, strings or None.\n",
      " |      Character keys will be then converted to ordinals.\n",
      " |      If there are two arguments, they must be strings of equal length, and\n",
      " |      in the resulting dictionary, each character in x will be mapped to the\n",
      " |      character at the same position in y. If there is a third argument, it\n",
      " |      must be a string, whose characters will be mapped to None in the result.\n",
      "\n"
     ]
    }
   ],
   "source": [
    "help(str)"
   ]
  },
  {
   "cell_type": "code",
   "execution_count": null,
   "metadata": {},
   "outputs": [
    {
     "ename": "NameError",
     "evalue": "name 'DateFrame' is not defined",
     "output_type": "error",
     "traceback": [
      "\u001b[0;31m---------------------------------------------------------------------------\u001b[0m",
      "\u001b[0;31mNameError\u001b[0m                                 Traceback (most recent call last)",
      "Cell \u001b[0;32mIn[65], line 1\u001b[0m\n\u001b[0;32m----> 1\u001b[0m help(DateFrame)\n",
      "\u001b[0;31mNameError\u001b[0m: name 'DateFrame' is not defined"
     ]
    }
   ],
   "source": [
    "help(DateFrame)"
   ]
  },
  {
   "cell_type": "code",
   "execution_count": 28,
   "metadata": {},
   "outputs": [],
   "source": [
    "a = 100\n",
    "b = 200"
   ]
  },
  {
   "cell_type": "code",
   "execution_count": 32,
   "metadata": {},
   "outputs": [],
   "source": [
    "# Type 2\n",
    "def add(a, b:int) -> int:\n",
    "    print(a, b)\n",
    "    return a + b "
   ]
  },
  {
   "cell_type": "code",
   "execution_count": 33,
   "metadata": {},
   "outputs": [
    {
     "name": "stdout",
     "output_type": "stream",
     "text": [
      "100 200\n",
      "10 15\n",
      "25\n",
      "100 200\n"
     ]
    }
   ],
   "source": [
    "print(f\"{a} {b}\")\n",
    "print(add(10, 15))\n",
    "print(f\"{a} {b}\")"
   ]
  },
  {
   "cell_type": "code",
   "execution_count": 27,
   "metadata": {},
   "outputs": [
    {
     "name": "stdout",
     "output_type": "stream",
     "text": [
      "25 65\n"
     ]
    }
   ],
   "source": [
    "first = add(10, 15) #  порядок як в анотації функції\n",
    "second = add(b = 30,a= 35) # змінюємо порядок\n",
    "print(first, second)"
   ]
  },
  {
   "cell_type": "code",
   "execution_count": 25,
   "metadata": {},
   "outputs": [
    {
     "data": {
      "text/plain": [
       "'    10'"
      ]
     },
     "execution_count": 25,
     "metadata": {},
     "output_type": "execute_result"
    }
   ],
   "source": [
    "add('    ', '10')"
   ]
  },
  {
   "cell_type": "code",
   "execution_count": 34,
   "metadata": {},
   "outputs": [],
   "source": [
    "# Type 3 \n",
    "def add(a:int, b:int, c:int = 0) -> int:  # важлий порядок - post1, post2, optional\n",
    "    return a + b + c "
   ]
  },
  {
   "cell_type": "code",
   "execution_count": 35,
   "metadata": {},
   "outputs": [
    {
     "name": "stdout",
     "output_type": "stream",
     "text": [
      "70 80\n"
     ]
    }
   ],
   "source": [
    "a = 10 \n",
    "b = 60\n",
    "type_3 = add(a, b)\n",
    "type_3_1 = add(a, b, 10) \n",
    "print(type_3, type_3_1)"
   ]
  },
  {
   "cell_type": "code",
   "execution_count": 38,
   "metadata": {},
   "outputs": [],
   "source": [
    "def check_status_code(status_code: str) -> bool:\n",
    "    match status_code:\n",
    "        case 200: \n",
    "            return True\n",
    "        case 404:\n",
    "            return False\n",
    "        case _ as e:\n",
    "            return f'Error {e}'"
   ]
  },
  {
   "cell_type": "code",
   "execution_count": 41,
   "metadata": {},
   "outputs": [
    {
     "name": "stdout",
     "output_type": "stream",
     "text": [
      "\u001b[33mDEPRECATION: Configuring installation scheme with distutils config files is deprecated and will no longer work in the near future. If you are using a Homebrew or Linuxbrew Python, please see discussion at https://github.com/Homebrew/homebrew-core/issues/76621\u001b[0m\u001b[33m\n",
      "\u001b[0mRequirement already satisfied: requests in /usr/local/lib/python3.9/site-packages (2.28.1)\n",
      "Requirement already satisfied: charset-normalizer<3,>=2 in /usr/local/lib/python3.9/site-packages (from requests) (2.1.0)\n",
      "Requirement already satisfied: idna<4,>=2.5 in /usr/local/lib/python3.9/site-packages (from requests) (3.3)\n",
      "Requirement already satisfied: urllib3<1.27,>=1.21.1 in /usr/local/lib/python3.9/site-packages (from requests) (1.26.10)\n",
      "Requirement already satisfied: certifi>=2017.4.17 in /usr/local/lib/python3.9/site-packages (from requests) (2022.6.15)\n",
      "\u001b[33mDEPRECATION: Configuring installation scheme with distutils config files is deprecated and will no longer work in the near future. If you are using a Homebrew or Linuxbrew Python, please see discussion at https://github.com/Homebrew/homebrew-core/issues/76621\u001b[0m\u001b[33m\n",
      "\u001b[0m"
     ]
    }
   ],
   "source": [
    "!pip install requests"
   ]
  },
  {
   "cell_type": "code",
   "execution_count": 54,
   "metadata": {},
   "outputs": [
    {
     "name": "stdout",
     "output_type": "stream",
     "text": [
      "\u001b[33mDEPRECATION: Configuring installation scheme with distutils config files is deprecated and will no longer work in the near future. If you are using a Homebrew or Linuxbrew Python, please see discussion at https://github.com/Homebrew/homebrew-core/issues/76621\u001b[0m\u001b[33m\n",
      "\u001b[0mRequirement already satisfied: requests in /usr/local/lib/python3.9/site-packages (2.30.0)\n",
      "Requirement already satisfied: charset-normalizer<4,>=2 in /usr/local/lib/python3.9/site-packages (from requests) (2.1.0)\n",
      "Requirement already satisfied: idna<4,>=2.5 in /usr/local/lib/python3.9/site-packages (from requests) (3.3)\n",
      "Requirement already satisfied: urllib3<3,>=1.21.1 in /usr/local/lib/python3.9/site-packages (from requests) (1.26.10)\n",
      "Requirement already satisfied: certifi>=2017.4.17 in /usr/local/lib/python3.9/site-packages (from requests) (2022.6.15)\n",
      "\u001b[33mDEPRECATION: Configuring installation scheme with distutils config files is deprecated and will no longer work in the near future. If you are using a Homebrew or Linuxbrew Python, please see discussion at https://github.com/Homebrew/homebrew-core/issues/76621\u001b[0m\u001b[33m\n",
      "\u001b[0m"
     ]
    }
   ],
   "source": [
    "!pip install requests"
   ]
  },
  {
   "cell_type": "code",
   "execution_count": 58,
   "metadata": {},
   "outputs": [
    {
     "ename": "ModuleNotFoundError",
     "evalue": "No module named 'requests'",
     "output_type": "error",
     "traceback": [
      "\u001b[0;31m---------------------------------------------------------------------------\u001b[0m",
      "\u001b[0;31mModuleNotFoundError\u001b[0m                       Traceback (most recent call last)",
      "\u001b[1;32m/Users/alksandr/Desktop/lesson_3_function_20-10-2023.ipynb Ячейка 35\u001b[0m line \u001b[0;36m1\n\u001b[0;32m----> <a href='vscode-notebook-cell:/Users/alksandr/Desktop/lesson_3_function_20-10-2023.ipynb#X42sZmlsZQ%3D%3D?line=0'>1</a>\u001b[0m \u001b[39mimport\u001b[39;00m \u001b[39mrequests\u001b[39;00m \n\u001b[1;32m      <a href='vscode-notebook-cell:/Users/alksandr/Desktop/lesson_3_function_20-10-2023.ipynb#X42sZmlsZQ%3D%3D?line=2'>3</a>\u001b[0m req \u001b[39m=\u001b[39m requests\u001b[39m.\u001b[39mget(\u001b[39m'\u001b[39m\u001b[39mhttps://api.monobank.ua/bank/currency\u001b[39m\u001b[39m'\u001b[39m)\n\u001b[1;32m      <a href='vscode-notebook-cell:/Users/alksandr/Desktop/lesson_3_function_20-10-2023.ipynb#X42sZmlsZQ%3D%3D?line=4'>5</a>\u001b[0m \u001b[39mprint\u001b[39m(req, req\u001b[39m.\u001b[39mstatus_code)\n",
      "\u001b[0;31mModuleNotFoundError\u001b[0m: No module named 'requests'"
     ]
    }
   ],
   "source": [
    "import requests \n",
    "\n",
    "req = requests.get('https://api.monobank.ua/bank/currency')\n",
    "\n",
    "print(req, req.status_code)\n",
    "\n",
    "currency = {\n",
    "    840: '💵',\n",
    "    978: '💶'\n",
    "}\n",
    "\n",
    "if check_status_code(req.status_code):\n",
    "    print('We can work with currency')\n",
    "    for i in req.json():\n",
    "        if i['currencyCodeA'] in (840, 978):\n",
    "            print(f\"Code is: {i['currencyCodeA']} Image: {currency[i['currencyCodeA']]} Buy: {i['rateBuy']}\")\n",
    "else:\n",
    "    print(f'we can\\'t work with currency {check_status_code(req)}')\n"
   ]
  },
  {
   "attachments": {},
   "cell_type": "markdown",
   "metadata": {},
   "source": [
    "#### Tuple - композитний/складний тип данних\n",
    "\n",
    "**Характеристика**:  \n",
    "> Упорядкована колекція(наявні індекси)  \n",
    "> Зберігає будь-які данні  \n",
    "> Статична по розміру   "
   ]
  },
  {
   "cell_type": "code",
   "execution_count": 59,
   "metadata": {},
   "outputs": [
    {
     "name": "stdout",
     "output_type": "stream",
     "text": [
      "Type: <class 'tuple'> Value: (1,) Index: 1\n",
      "Type: <class 'tuple'> Value: (1, 2) Index: 1\n",
      "Type: <class 'tuple'> Value: () \n"
     ]
    }
   ],
   "source": [
    "# Create tuple\n",
    "tuple_1 = 1, \n",
    "tuple_2 = (1, 2)\n",
    "tuple_3 = tuple()\n",
    "\n",
    "print(f'Type: {type(tuple_1)} Value: {tuple_1} Index: {tuple_1[0]}')\n",
    "print(f'Type: {type(tuple_2)} Value: {tuple_2} Index: {tuple_2[0]}')\n",
    "print(f'Type: {type(tuple_3)} Value: {tuple_3} ')"
   ]
  },
  {
   "cell_type": "code",
   "execution_count": 60,
   "metadata": {},
   "outputs": [
    {
     "name": "stdout",
     "output_type": "stream",
     "text": [
      "['__add__', '__class__', '__class_getitem__', '__contains__', '__delattr__', '__dir__', '__doc__', '__eq__', '__format__', '__ge__', '__getattribute__', '__getitem__', '__getnewargs__', '__gt__', '__hash__', '__init__', '__init_subclass__', '__iter__', '__le__', '__len__', '__lt__', '__mul__', '__ne__', '__new__', '__reduce__', '__reduce_ex__', '__repr__', '__rmul__', '__setattr__', '__sizeof__', '__str__', '__subclasshook__', 'count', 'index']\n"
     ]
    }
   ],
   "source": [
    "print(dir(tuple_1)) # Побачити всі доступні мето"
   ]
  },
  {
   "cell_type": "code",
   "execution_count": 61,
   "metadata": {},
   "outputs": [
    {
     "name": "stdout",
     "output_type": "stream",
     "text": [
      "(1,) <class 'tuple'>\n"
     ]
    }
   ],
   "source": [
    "var = (1,)\n",
    "print(var, type(var))"
   ]
  },
  {
   "cell_type": "code",
   "execution_count": 62,
   "metadata": {},
   "outputs": [
    {
     "name": "stdout",
     "output_type": "stream",
     "text": [
      "(1, 2, 3, 4, 5) 64\n",
      "[1, 2, 3, 4, 5] 88\n"
     ]
    }
   ],
   "source": [
    "tuple_4 = (1,2,3,4,5)\n",
    "print(tuple_4, tuple_4.__sizeof__())\n",
    "\n",
    "list_ = [1,2,3,4,5]\n",
    "print(list_, list_.__sizeof__())"
   ]
  },
  {
   "cell_type": "code",
   "execution_count": 66,
   "metadata": {},
   "outputs": [
    {
     "name": "stdout",
     "output_type": "stream",
     "text": [
      "apple\n",
      "cherry\n",
      "apple\n",
      "banana\n",
      "cherry\n",
      "melon\n",
      "**************************************************\n",
      "apple\n",
      "banana\n",
      "['cherry', 'melon']\n",
      "('apple', 'banana', 'cherry', 'melon', 'elderberry', 'fig')\n",
      "['apple', 'banana', 'cherry', 'melon']\n"
     ]
    }
   ],
   "source": [
    "# Creating a tuple\n",
    "fruits = (\"apple\", \"banana\", \"cherry\", \"melon\")\n",
    "\n",
    "# can use index\n",
    "print(fruits[0])  \n",
    "print(fruits[2])\n",
    "\n",
    "# collection can iterate\n",
    "for fruit in fruits:\n",
    "    print(fruit)\n",
    "\n",
    "print('*' * 50)\n",
    "# Tuple unpacking\n",
    "first_fruit, second_fruit, *remaining_fruits = fruits\n",
    "print(first_fruit)        # Output: apple\n",
    "print(second_fruit)       # Output: banana\n",
    "print(remaining_fruits)   \n",
    "\n",
    "*all_f, = fruits\n",
    "# Tuple concatenation - one more operation \n",
    "more_fruits = (\"elderberry\", \"fig\")\n",
    "all_fruits = fruits + more_fruits\n",
    "print(all_fruits)\n",
    "print(all_f)      "
   ]
  },
  {
   "cell_type": "code",
   "execution_count": 69,
   "metadata": {},
   "outputs": [
    {
     "name": "stdout",
     "output_type": "stream",
     "text": [
      "<class 'int'> <class 'tuple'>\n"
     ]
    }
   ],
   "source": [
    "a = (1)\n",
    "b = (1,)\n",
    "print(type(a), type(b))"
   ]
  },
  {
   "cell_type": "code",
   "execution_count": 70,
   "metadata": {},
   "outputs": [
    {
     "name": "stdout",
     "output_type": "stream",
     "text": [
      "<class 'tuple'>\n",
      "1\n",
      "4\n",
      "5\n",
      "6\n",
      "10\n",
      "89\n",
      "-10\n",
      "15\n",
      "120\n"
     ]
    }
   ],
   "source": [
    "# Args - parameter\n",
    "def add(*args) -> int:\n",
    "    print(type(args))\n",
    "    for i in args:\n",
    "        print(i)\n",
    "    return sum(args)\n",
    "\n",
    "arr = [1,4,5,6,10,89,-10, 15]\n",
    "print(add(*arr))"
   ]
  },
  {
   "cell_type": "code",
   "execution_count": 72,
   "metadata": {},
   "outputs": [
    {
     "name": "stdout",
     "output_type": "stream",
     "text": [
      "<class 'int'> <class 'int'> <class 'int'> <class 'tuple'>\n",
      "30\n"
     ]
    }
   ],
   "source": [
    "def example(a: int, b:int, c:int = 0, *args):\n",
    "    print(type(a), type(b), type(c), type(args))\n",
    "    \n",
    "    return a + b + c + sum(args)\n",
    "\n",
    "print(example(5,10,15,20,25,30))"
   ]
  },
  {
   "attachments": {},
   "cell_type": "markdown",
   "metadata": {},
   "source": [
    "#### Dictionary - колекція яка збергіє данні в форматі пару: ключ - значення\n",
    "\n",
    "**Характеристика** :\n",
    "> 1. Зберігає будь-які типи данних. **Key** повинен бути hash, key - повинні бути унікальні  **Value** будь-який тип    \n",
    "> 2. Динамічна по розміру  "
   ]
  },
  {
   "cell_type": "code",
   "execution_count": 73,
   "metadata": {},
   "outputs": [
    {
     "name": "stdout",
     "output_type": "stream",
     "text": [
      "7433738117669351907\n"
     ]
    }
   ],
   "source": [
    "text = 'Договір 3456. Text: some text'\n",
    "print(hash(text))"
   ]
  },
  {
   "cell_type": "code",
   "execution_count": 74,
   "metadata": {},
   "outputs": [
    {
     "name": "stdout",
     "output_type": "stream",
     "text": [
      "-8311633591325279375\n"
     ]
    }
   ],
   "source": [
    "text = 'Договір 3456. Text: some text.'\n",
    "print(hash(text))"
   ]
  },
  {
   "cell_type": "code",
   "execution_count": 75,
   "metadata": {},
   "outputs": [
    {
     "name": "stdout",
     "output_type": "stream",
     "text": [
      "4947109254503546161\n"
     ]
    }
   ],
   "source": [
    "text += ' '\n",
    "print(hash(text)) # md5"
   ]
  },
  {
   "cell_type": "code",
   "execution_count": 83,
   "metadata": {},
   "outputs": [
    {
     "name": "stdout",
     "output_type": "stream",
     "text": [
      "Type: <class 'dict'> Value: {} \n",
      "Type: <class 'dict'> Value: {} \n",
      "Type: <class 'dict'> Value: {'Ukraine': {'Kyiv': ('Teremku', 'Darn')}, 'Germany': 'Berlin', 'UK': 'London'} \n",
      "dict_items([('Ukraine', {'Kyiv': ('Teremku', 'Darn')}), ('Germany', 'Berlin'), ('UK', 'London')])\n",
      "dict_keys(['Ukraine', 'Germany', 'UK'])\n",
      "dict_values([{'Kyiv': ('Teremku', 'Darn')}, 'Berlin', 'London'])\n"
     ]
    }
   ],
   "source": [
    "dict_1 = {} # create emp dict\n",
    "dict_2 = dict() # create emp dict with system word\n",
    "country = {\n",
    "    'Ukraine': {'Kyiv': ('Teremku','Darn')},\n",
    "    'Germany': 'Berlin',\n",
    "    'UK': 'London',\n",
    "}\n",
    "\n",
    "print(f'Type: {type(dict_1)} Value: {dict_1} ')\n",
    "print(f'Type: {type(dict_2)} Value: {dict_2} ')\n",
    "print(f'Type: {type(country)} Value: {country} ')\n",
    "\n",
    "# Dict - має внутрішні методи для виводу значеннь\n",
    "print(country.items()) # Повертає ключ-значення пари\n",
    "print(country.keys()) # Повертає ключі\n",
    "print(country.values()) # Повертає значення "
   ]
  },
  {
   "cell_type": "code",
   "execution_count": 87,
   "metadata": {},
   "outputs": [
    {
     "name": "stdout",
     "output_type": "stream",
     "text": [
      "Darn\n",
      "None\n"
     ]
    }
   ],
   "source": [
    "# Отримати значення із словника\n",
    "print(country['Ukraine']['Kyiv'][-1]) # Поверне помилку якщо ключа не має\n",
    "print(country.get('123124')) # Поверне null "
   ]
  },
  {
   "cell_type": "code",
   "execution_count": 89,
   "metadata": {},
   "outputs": [
    {
     "name": "stdout",
     "output_type": "stream",
     "text": [
      "{'Ukraine': {'Kyiv': ('Teremku', 'Darn')}, 'Germany': 'Berlin', 'UK': 'London', 'New Country': 'New capital'}\n",
      "15\n",
      "{'Ukraine': {'Kyiv': ('Teremku', 'Darn')}, 'Germany': 'Berlin', 'UK': 'London'}\n"
     ]
    }
   ],
   "source": [
    "country['New Country'] = 'New capital' # create new key - value\n",
    "\n",
    "print(country)\n",
    "\n",
    "назва = 15\n",
    "print(назва)\n",
    "\n",
    "del country['New Country']\n",
    "print(country)"
   ]
  },
  {
   "cell_type": "code",
   "execution_count": 90,
   "metadata": {},
   "outputs": [
    {
     "name": "stdout",
     "output_type": "stream",
     "text": [
      "Ukraine {'Kyiv': ('Teremku', 'Darn')}\n",
      "Germany Berlin\n",
      "UK London\n"
     ]
    }
   ],
   "source": [
    "for key, value in country.items():\n",
    "    print(key, value)"
   ]
  },
  {
   "cell_type": "code",
   "execution_count": 91,
   "metadata": {},
   "outputs": [
    {
     "name": "stdout",
     "output_type": "stream",
     "text": [
      "{'Kyiv': ('Teremku', 'Darn')}\n",
      "Berlin\n",
      "London\n"
     ]
    }
   ],
   "source": [
    "for i in country.values():\n",
    "    print(i)"
   ]
  },
  {
   "cell_type": "code",
   "execution_count": 92,
   "metadata": {},
   "outputs": [
    {
     "name": "stdout",
     "output_type": "stream",
     "text": [
      "<class 'dict'>\n",
      "Key User1 Value: 10\n",
      "Key User2 Value: 100\n",
      "**************************************************\n",
      "<class 'dict'>\n",
      "Key User1 Value: 90\n",
      "Key User2 Value: 100\n",
      "Key User3 Value: 60\n",
      "Key User4 Value: 75\n"
     ]
    }
   ],
   "source": [
    "# Kwargs - parameter \n",
    "def user(**kwargs) -> str: \n",
    "    print(type(kwargs))\n",
    "    for key, value in kwargs.items():\n",
    "        print(f'Key {key} Value: {value}')\n",
    "        \n",
    "marks = {'User1': 90, 'User2': 100, 'User3': 60, 'User4': 75}\n",
    "user(User1 = 10, User2 = 100)\n",
    "print('*' * 50)\n",
    "user(**marks)"
   ]
  },
  {
   "cell_type": "code",
   "execution_count": 93,
   "metadata": {},
   "outputs": [],
   "source": [
    "def some_function(a:int, b:int, c:float, d: int = 10, *args, **kwargs):\n",
    "    '''\n",
    "    Doc \n",
    "    '''\n",
    "    \n",
    "    pass"
   ]
  },
  {
   "cell_type": "code",
   "execution_count": 14,
   "metadata": {},
   "outputs": [
    {
     "data": {
      "text/plain": [
       "2"
      ]
     },
     "execution_count": 14,
     "metadata": {},
     "output_type": "execute_result"
    }
   ],
   "source": [
    "string_1 = '1231'\n",
    "string_1.count('1')"
   ]
  },
  {
   "cell_type": "code",
   "execution_count": 15,
   "metadata": {},
   "outputs": [
    {
     "name": "stdout",
     "output_type": "stream",
     "text": [
      "1\n",
      "2\n",
      "3\n",
      "1\n"
     ]
    }
   ],
   "source": [
    "for i in string_1:\n",
    "    print(i)"
   ]
  },
  {
   "cell_type": "code",
   "execution_count": 28,
   "metadata": {},
   "outputs": [
    {
     "name": "stdout",
     "output_type": "stream",
     "text": [
      "a\n",
      "b\n",
      "b\n",
      "c\n",
      "None\n",
      "a 1\n",
      "b 2\n",
      "b 2\n",
      "c 1\n",
      "None\n",
      "{'a': 1, 'b': 2, 'c': 1}\n"
     ]
    }
   ],
   "source": [
    "# Task 1. Напишіть програму, яка приймає рядок від користувача та повертає словник, де ключами є унікальні символи з рядка,\n",
    "# а значеннями - кількість входжень цих символів у рядок. \n",
    "# Example: aaabcb -> 'a': 3, 'b':2, c: '1'\n",
    "# def, dict, count, for \n",
    "\n",
    "# Step 1\n",
    "def task1(string: str) -> dict:\n",
    "    pass \n",
    "\n",
    "\n",
    "# Step 2\n",
    "def task1(string: str) -> dict:\n",
    "    result = {}\n",
    "    \n",
    "# Step 3\n",
    "def task1(string:str) -> dict: \n",
    "    result = {} \n",
    "    for i in string:\n",
    "        print(i)\n",
    "        \n",
    "print(task1('abbc'))\n",
    "\n",
    "\n",
    "# Step 4\n",
    "def task1(string:str) -> dict: \n",
    "    result = {} \n",
    "    for i in string:\n",
    "        print(i, string.count(i))\n",
    "    \n",
    "print(task1('abbc'))\n",
    "\n",
    "\n",
    "# Step 5. Return + save \n",
    "def task1(string:str) -> dict: \n",
    "    result = {} \n",
    "    for i in string:\n",
    "        result[i] = string.count(i)\n",
    "    return result\n",
    "\n",
    "print(task1('abbc'))\n",
    "    "
   ]
  },
  {
   "cell_type": "code",
   "execution_count": 9,
   "metadata": {},
   "outputs": [],
   "source": [
    "# Task 1. Напишіть програму, яка приймає рядок від користувача та повертає словник, де ключами є унікальні символи з рядка,\n",
    "# а значеннями - кількість входжень цих символів у рядок. \n",
    "# Example: aaabcb -> 'a': 3, 'b':2, c: '1'\n",
    "# def, dict, count, for \n",
    "\n",
    "def task1(string: str) -> dict:\n",
    "    return {i: string.count(i) for i in set(string)} if len(string) != 0 else {}\n",
    "\n",
    "# Task 1. Напишіть програму, яка приймає рядок від користувача та повертає словник, де ключами є унікальні символи з рядка,\n",
    "# а значеннями - кількість входжень цих символів у рядок. \n",
    "# Example: aaabcb -> 'a': 3, 'b':2, c: '1'\n",
    "def counter_value(string:str) -> str:\n",
    "    \n",
    "    # First var\n",
    "    dict_ = {}\n",
    "    for i in set(string): \n",
    "        if i not in dict_.keys():\n",
    "            dict_[i] = string.count(i)\n",
    "    return dict_\n",
    "    \n",
    "    # Second var\n",
    "    return {key: string.count(key) for key in set(string)} if isinstance(string, str) and not string == False else ''\n",
    "\n",
    "thierd_var = lambda string: {key: string.count(key) for key in set(string)}\n",
    "\n",
    "print(counter_value('strstr'),thierd_var('strstr') )\n",
    "\n",
    "def task1_1(string: str) -> dict:\n",
    "    result = {}\n",
    "    for i in string:\n",
    "        result[i] = string.count(i)   \n",
    "    return result\n"
   ]
  },
  {
   "cell_type": "code",
   "execution_count": 13,
   "metadata": {},
   "outputs": [],
   "source": [
    "# assert <func> compar <value>, 'Text'\n",
    "assert task1('aaabcb') == {'a': 3, 'b': 2, 'c': 1}, 'Wrong test1'\n",
    "assert task1('bbbcc') == {'b': 3, 'c': 2},   'Wrong test2'"
   ]
  },
  {
   "cell_type": "code",
   "execution_count": null,
   "metadata": {},
   "outputs": [],
   "source": [
    "# Task 2. Напишіть програму, яка приймає словник та повертає список його ключів, відсортованих за спаданням значень"
   ]
  },
  {
   "cell_type": "code",
   "execution_count": null,
   "metadata": {},
   "outputs": [],
   "source": [
    "# Type 4\n",
    "def greet(*args, **kwargs):\n",
    "    \"\"\"Docs \"\"\"\n",
    "    for name in args:\n",
    "        print(\"Hello,\", name)\n",
    "    \n",
    "    for name, message in kwargs.items():\n",
    "        print(message, name)\n",
    "\n",
    "\n",
    "greet(\"Alice\", \"Bob\", \"Charlie\")\n",
    "\n",
    "greet(name1=\"David\", name2=\"Eve\", name3=\"Frank\")\n",
    "\n",
    "greet(\"Grace\", \"Henry\", message1=\"Nice to meet you,\", message2=\"Welcome!\")"
   ]
  },
  {
   "cell_type": "code",
   "execution_count": null,
   "metadata": {},
   "outputs": [],
   "source": [
    "# Task 1. Створити пусту функцію із назвою  try_p\n",
    "# Task 2. Функція яка повертає який аргумент більший(а, b)\n",
    "# Task 3. Функція для inf кількості аргументів, повинна повертати суму чисел \n",
    "# Task 4. Реалізувати функцію калькулятор, приймає 3 аргументи, a, b, operation, вивезти дію\n",
    "# Task 5. Створити список із назвою cache, реалізувати фунцію add_cache(), яка приймає одне значення,\n",
    "# Якщо значення в cache, то не добавляти в список, якщо ні то добавити в список "
   ]
  },
  {
   "cell_type": "code",
   "execution_count": null,
   "metadata": {},
   "outputs": [],
   "source": [
    "# Task 1\n",
    "def try_p():\n",
    "    pass\n",
    "\n",
    "\n",
    "# Task 2 \n",
    "def max_arg(a: int, b: int) -> int:\n",
    "    return max(a, b) if isinstance(a, int) and isinstance(b, int) else 'Work only with Int'\n",
    "\n",
    "\n",
    "def task_2_1(a:int, b:int) -> int:\n",
    "    \"\"\"_summary_\n",
    "\n",
    "    Args:\n",
    "        a (int): _description_\n",
    "        b (int): _description_\n",
    "\n",
    "    Returns:\n",
    "        int: _description_\n",
    "    \"\"\"\n",
    "    if a > b:\n",
    "        return a     \n",
    "    else: \n",
    "        return b \n",
    "\n",
    "def task_2_2(a:int, b:int) -> int:\n",
    "    return a if a > b else b \n",
    "\n",
    "\n",
    "def task_2_3(a:int, b:int) -> int:\n",
    "    return max(a, b)\n",
    "\n",
    "\n",
    "# Task 3\n",
    "def sum_(*args) -> int:\n",
    "    return sum(args) if not args else 'Wrong data'\n",
    "\n",
    "\n",
    "def sum_1(*args) -> int:\n",
    "    s = 0\n",
    "    for i in args:\n",
    "        s += i   \n",
    "    return s\n",
    "\n",
    "\n",
    "def sum_1_2(*args) -> int: \n",
    "    return sum(args)\n",
    "    \n",
    "    \n",
    "# Task 4 \n",
    "def calculator(a: int, b:int, operation: str) -> int:\n",
    "    match operation.strip():\n",
    "        case '+': return a + b\n",
    "        case '-': return a - b\n",
    "        case '*': return a * b\n",
    "        case '**': return a ** b\n",
    "        case '/': return a / b if a != 0 and b != 0 else 0\n",
    "        case '//': return a // b if a != 0 and b != 0 else 0\n",
    "        case _ : return f'Unk operation {operation}'\n",
    "        \n",
    "\n",
    "# Task 5\n",
    "list_ = []\n",
    "\n",
    "def add_cache(value):\n",
    "    return list_.append(value) if value not in list_ else 'pass'"
   ]
  }
 ],
 "metadata": {
  "kernelspec": {
   "display_name": "Python 3",
   "language": "python",
   "name": "python3"
  },
  "language_info": {
   "codemirror_mode": {
    "name": "ipython",
    "version": 3
   },
   "file_extension": ".py",
   "mimetype": "text/x-python",
   "name": "python",
   "nbconvert_exporter": "python",
   "pygments_lexer": "ipython3",
   "version": "3.10.12"
  },
  "orig_nbformat": 4
 },
 "nbformat": 4,
 "nbformat_minor": 2
}
