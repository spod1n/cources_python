{
 "cells": [
  {
   "attachments": {},
   "cell_type": "markdown",
   "metadata": {},
   "source": [
    "#### Lesson 4-5. Data: 24.10.23\n",
    "##### Lesson: **Basic collection and Function**.\n",
    "**Topics**:\n",
    "> 1. **Collection** (Tuple/Dictionary/Sets)\n",
    "> 2. **Modules**\n",
    "> 3. **Function**(Name function/ Lambda function)\n",
    "> 4. **Function with args/kwargs**\n",
    "> 5. **Namespace** (Global/Local/Nonlocal)\n",
    "> 6. **Zip** - function\n",
    "> 7. **Import library**(time/datetime/random)\n",
    "\n",
    "\n",
    "**Materials**:\n",
    "> 1. [Tuple and dictionary](https://www.geeksforgeeks.org/python-create-dictionary-of-tuples/)\n",
    "> 2. [Sets and operation ](https://realpython.com/python-sets/)\n",
    "> 3. [Modules](https://docs.python.org/3/tutorial/modules.html)\n",
    "> 4. [Datetime](https://docs.python.org/3/library/datetime.html)\n",
    "> 5. [Collections](https://docs.python.org/3/library/collections.html)   \n",
    "\n"
   ]
  },
  {
   "attachments": {},
   "cell_type": "markdown",
   "metadata": {},
   "source": [
    "#### Set/frozenset - не упорядкова колекція унікальних значеннь \n",
    "**Характеристика**:\n",
    "> 1. Зберігає будь-які данні, вони повинні бути унікальні \n",
    "> 2. Динамічна по розміру\n",
    "> 3. Реалізована як множина з дискретної математики \n"
   ]
  },
  {
   "cell_type": "code",
   "execution_count": 1,
   "metadata": {},
   "outputs": [
    {
     "name": "stdout",
     "output_type": "stream",
     "text": [
      "<class 'set'> {1, 2, 3, 4}\n"
     ]
    }
   ],
   "source": [
    "my_set = {1,2, 3, 4,4}\n",
    "\n",
    "my_set_1 = set()\n",
    "\n",
    "print(type(my_set), my_set)\n"
   ]
  },
  {
   "cell_type": "code",
   "execution_count": 4,
   "metadata": {},
   "outputs": [
    {
     "name": "stdout",
     "output_type": "stream",
     "text": [
      "{1, 2, 3, 4, 5, 6}\n",
      "{1, 2, 3, 4, 5, 6}\n",
      "{3, 4}\n",
      "{1, 2}\n",
      "True\n",
      "True\n",
      "{1, 2, 3, 4, 5}\n",
      "{1, 2, 3, 5}\n"
     ]
    }
   ],
   "source": [
    "# Створення двох множин\n",
    "set1 = {1, 2, 3, 4}\n",
    "set2 = {3, 4, 5, 6}\n",
    "\n",
    "# Об'єднання множин\n",
    "union_set = set1.union(set2)\n",
    "print(union_set)  # виведе {1, 2, 3, 4, 5, 6}\n",
    "print(set2.union(set1))\n",
    "\n",
    "# Перетин множин\n",
    "intersection_set = set1.intersection(set2)\n",
    "print(intersection_set)  # виведе {3, 4}\n",
    "\n",
    "# Різниця множин\n",
    "difference_set = set1.difference(set2)\n",
    "print(difference_set)  # виведе {1, 2}\n",
    "\n",
    "# Підмножина\n",
    "subset = {4, 5}.issubset(set1)\n",
    "print(subset)  # виведе False\n",
    "\n",
    "# Надмножина\n",
    "superset = set1.issuperset({1, 2,3,4})\n",
    "print(superset)  # виведе True\n",
    "\n",
    "# Додавання елементу\n",
    "set1.add(5)\n",
    "print(set1)  # виведе {1, 2, 3, 4, 5}\n",
    "\n",
    "# Видалення елементу\n",
    "set1.remove(4)\n",
    "print(set1)  # виведе {1, 2, 3, 5}\n"
   ]
  },
  {
   "cell_type": "code",
   "execution_count": 5,
   "metadata": {},
   "outputs": [
    {
     "name": "stdout",
     "output_type": "stream",
     "text": [
      "frozenset({1, 2, 3, 4, 5})\n",
      "['__and__', '__class__', '__class_getitem__', '__contains__', '__delattr__', '__dir__', '__doc__', '__eq__', '__format__', '__ge__', '__getattribute__', '__gt__', '__hash__', '__init__', '__init_subclass__', '__iter__', '__le__', '__len__', '__lt__', '__ne__', '__new__', '__or__', '__rand__', '__reduce__', '__reduce_ex__', '__repr__', '__ror__', '__rsub__', '__rxor__', '__setattr__', '__sizeof__', '__str__', '__sub__', '__subclasshook__', '__xor__', 'copy', 'difference', 'intersection', 'isdisjoint', 'issubset', 'issuperset', 'symmetric_difference', 'union']\n"
     ]
    }
   ],
   "source": [
    "frozenset_ = frozenset({1,2,3,4,5})\n",
    "print(frozenset_)\n",
    "print(dir(frozenset_))"
   ]
  },
  {
   "cell_type": "code",
   "execution_count": null,
   "metadata": {},
   "outputs": [],
   "source": [
    "# Task 1. Напишіть функцію, яка приймає два списки і повертає список спільних елементів. Використовуйте множини для знаходження спільних елементів\n",
    "# Task 2. Напишіть функцію, яка приймає список та повертає True, якщо усі елементи унікальні, та False, якщо є дублікати. Використовуйте множини для визначення унікальних елементів.\n",
    "# Task 3. Напишіть функцію, яка приймає список і повертає список без дублікатів. Використовуйте множини для видалення дублікатів"
   ]
  },
  {
   "cell_type": "code",
   "execution_count": 15,
   "metadata": {},
   "outputs": [
    {
     "data": {
      "text/plain": [
       "25"
      ]
     },
     "execution_count": 15,
     "metadata": {},
     "output_type": "execute_result"
    }
   ],
   "source": [
    "from test import add\n",
    "\n",
    "add(10, 15)"
   ]
  },
  {
   "cell_type": "code",
   "execution_count": 11,
   "metadata": {},
   "outputs": [],
   "source": [
    "def task1_set(arr1:list, arr2:list) -> set:\n",
    "    return set(arr1).intersection(set(arr2))\n",
    "\n",
    "def task1_set1(arr1:list, arr2:list) -> set:\n",
    "    result = []\n",
    "    if len(arr1) > len(arr2):\n",
    "        for i in arr1: \n",
    "            if i in arr2:\n",
    "                result.append(i)   \n",
    "            else:\n",
    "                continue  \n",
    "    return result  \n"
   ]
  },
  {
   "cell_type": "code",
   "execution_count": null,
   "metadata": {},
   "outputs": [],
   "source": [
    "# assert  - key word, write test "
   ]
  },
  {
   "cell_type": "code",
   "execution_count": null,
   "metadata": {},
   "outputs": [],
   "source": [
    "def task2_set(arr:list) -> bool:\n",
    "    return len(set(arr)) == len(arr)"
   ]
  },
  {
   "cell_type": "code",
   "execution_count": null,
   "metadata": {},
   "outputs": [],
   "source": [
    "def task3_set(arr:list) -> list:\n",
    "    return list(set(arr))"
   ]
  },
  {
   "attachments": {},
   "cell_type": "markdown",
   "metadata": {},
   "source": [
    "#### Liblary collections \n",
    "Collection - додаткові типи данних(контейнери), доповнюють типи данних  \n",
    "\n",
    "Основні контейнери даних, що надаються бібліотекою \"collections\":  \n",
    "\n",
    "> 1. **namedtuple** - це функція, яка створює іменований кортеж, який можна індексувати як словник або як звичайний кортеж. \n",
    "> 2. **defaultdict** - це словник, який дозволяє задати значення за замовчуванням для ключів, які ще не існують у словнику.   \n",
    "> 3. **Counter** - це словник, який призначений для підрахунку кількості входжень елементів у послідовності.  "
   ]
  },
  {
   "cell_type": "code",
   "execution_count": null,
   "metadata": {},
   "outputs": [],
   "source": [
    "# import collections \n",
    "# from collections.collections import var, var2\n",
    "import numpy as np \n",
    "import pandas as pd  "
   ]
  },
  {
   "cell_type": "code",
   "execution_count": 4,
   "metadata": {},
   "outputs": [
    {
     "name": "stdout",
     "output_type": "stream",
     "text": [
      "a: 3\n",
      "b: 2\n",
      "c: 1\n",
      "defaultdict(<class 'int'>, {'a': 3, 'b': 2, 'c': 1})\n",
      "defaultdict(<class 'int'>, {'a': '10', 'b': 2, 'c': 1, 'e': 0, 'f': 0})\n"
     ]
    },
    {
     "ename": "TypeError",
     "evalue": "can only concatenate str (not \"int\") to str",
     "output_type": "error",
     "traceback": [
      "\u001b[0;31m---------------------------------------------------------------------------\u001b[0m",
      "\u001b[0;31mTypeError\u001b[0m                                 Traceback (most recent call last)",
      "\u001b[1;32m/Users/alksandr/Desktop/BI-Python-Online-1/Lessons/lesson_4_5-Collection_24.10.ipynb Ячейка 13\u001b[0m line \u001b[0;36m3\n\u001b[1;32m     <a href='vscode-notebook-cell:/Users/alksandr/Desktop/BI-Python-Online-1/Lessons/lesson_4_5-Collection_24.10.ipynb#X15sZmlsZQ%3D%3D?line=28'>29</a>\u001b[0m \u001b[39m# Підрахунок кількості букв у рядку\u001b[39;00m\n\u001b[1;32m     <a href='vscode-notebook-cell:/Users/alksandr/Desktop/BI-Python-Online-1/Lessons/lesson_4_5-Collection_24.10.ipynb#X15sZmlsZQ%3D%3D?line=29'>30</a>\u001b[0m \u001b[39mfor\u001b[39;00m letter \u001b[39min\u001b[39;00m my_string:\n\u001b[0;32m---> <a href='vscode-notebook-cell:/Users/alksandr/Desktop/BI-Python-Online-1/Lessons/lesson_4_5-Collection_24.10.ipynb#X15sZmlsZQ%3D%3D?line=30'>31</a>\u001b[0m     my_dict[letter\u001b[39m.\u001b[39mlower()] \u001b[39m+\u001b[39m\u001b[39m=\u001b[39m \u001b[39m1\u001b[39m\n\u001b[1;32m     <a href='vscode-notebook-cell:/Users/alksandr/Desktop/BI-Python-Online-1/Lessons/lesson_4_5-Collection_24.10.ipynb#X15sZmlsZQ%3D%3D?line=32'>33</a>\u001b[0m \u001b[39m# Виведення кількості кожної букви\u001b[39;00m\n\u001b[1;32m     <a href='vscode-notebook-cell:/Users/alksandr/Desktop/BI-Python-Online-1/Lessons/lesson_4_5-Collection_24.10.ipynb#X15sZmlsZQ%3D%3D?line=33'>34</a>\u001b[0m \u001b[39mfor\u001b[39;00m letter, count \u001b[39min\u001b[39;00m my_dict\u001b[39m.\u001b[39mitems():\n",
      "\u001b[0;31mTypeError\u001b[0m: can only concatenate str (not \"int\") to str"
     ]
    }
   ],
   "source": [
    "# defaultdict -  дозволяє створювати словники із дефолт value\n",
    "from collections import defaultdict, Counter \n",
    "\n",
    "# key  - default value\n",
    "# Створення defaultdict зі значенням за замовчуванням 0\n",
    "my_dict = defaultdict(int) # ключове слово\n",
    "\n",
    "# Рядок, який потрібно проаналізувати\n",
    "my_string = \"AABBCA\"\n",
    "\n",
    "# Підрахунок кількості букв у рядку\n",
    "for letter in my_string:\n",
    "    my_dict[letter.lower()] += 1\n",
    "\n",
    "# Виведення кількості кожної букви\n",
    "for key, value in my_dict.items(): # (key, value)\n",
    "    print(f\"{key}: {value}\")\n",
    "\n",
    "print(my_dict)\n",
    "my_dict['e']\n",
    "my_dict['f']\n",
    "\n",
    "my_dict['a'] = '10'\n",
    "print(my_dict) # ключове слово\n",
    "\n",
    "# Рядок, який потрібно проаналізувати\n",
    "my_string = \"AABBCA\"\n",
    "\n",
    "# Підрахунок кількості букв у рядку\n",
    "for letter in my_string:\n",
    "    my_dict[letter.lower()] += 1\n",
    "\n",
    "# Виведення кількості кожної букви\n",
    "for letter, count in my_dict.items():\n",
    "    print(f\"{letter}: {count}\")\n",
    "\n",
    "print(my_dict)\n",
    "my_dict['e']\n",
    "my_dict['f']\n",
    "\n",
    "my_dict['a'] = '10'\n",
    "print(my_dict)"
   ]
  },
  {
   "cell_type": "code",
   "execution_count": 5,
   "metadata": {},
   "outputs": [
    {
     "name": "stdout",
     "output_type": "stream",
     "text": [
      "{1: 4, 2: 3, 3: 2, 4: 1, 5: 1, 23: 2}\n"
     ]
    }
   ],
   "source": [
    "my_list = [1, 2, 3, 1, 2, 3, 4, 5, 1, 2, 1, 23, 23]\n",
    "\n",
    "dict_ = {}\n",
    "\n",
    "for i in set(my_list):\n",
    "    dict_[i] = my_list.count(i)\n",
    "\n",
    "print(dict_)"
   ]
  },
  {
   "cell_type": "code",
   "execution_count": 6,
   "metadata": {},
   "outputs": [
    {
     "name": "stdout",
     "output_type": "stream",
     "text": [
      "Counter({1: 4, 2: 3, 3: 2, 23: 2, 4: 1, 5: 1})\n",
      "Counter({'A': 3, 'B': 2, 'C': 1})\n"
     ]
    }
   ],
   "source": [
    "# Counter - контейнер для підрахунку входження елементів \n",
    "my_list = [1, 2, 3, 1, 2, 3, 4, 5, 1, 2, 1, 23, 23]\n",
    "my_counter = Counter(my_list)\n",
    "print(my_counter)\n",
    "\n",
    "\n",
    "# Підрахунок кількості входжень символів у рядок\n",
    "my_char_counter = Counter(my_string)\n",
    "print(my_char_counter)"
   ]
  },
  {
   "attachments": {},
   "cell_type": "markdown",
   "metadata": {},
   "source": [
    "#### Namedtuple - покращення tuple \n",
    "**Переваги**: \n",
    "> 1. **Читабельність коду**  \n",
    "> 2. **Документація**  \n",
    "> 3. **Розширюваність**   \n",
    "\n",
    "**Недоліки**:\n",
    "> 1. **Займає більше пам'яті** \n",
    "> 2. **Потрібна бібліотека**    "
   ]
  },
  {
   "cell_type": "code",
   "execution_count": 8,
   "metadata": {},
   "outputs": [
    {
     "name": "stdout",
     "output_type": "stream",
     "text": [
      "Alina 22\n"
     ]
    }
   ],
   "source": [
    "person_1 = ('Alina', '22', 'F')\n",
    "person_2 = ('22', 'Alina', 'F')\n",
    "\n",
    "print(person_1[0], person_2[0])"
   ]
  },
  {
   "cell_type": "code",
   "execution_count": 12,
   "metadata": {},
   "outputs": [
    {
     "name": "stdout",
     "output_type": "stream",
     "text": [
      "Auto(mark='Jaguar', engine=2.5, type_='titp', color='black')\n",
      "Alice Alice\n",
      "30 30\n",
      "Female Female\n",
      "Name: Alice, Age: 25, Gender: Female\n",
      "Name: Bob, Age: 30, Gender: Male\n"
     ]
    }
   ],
   "source": [
    "from collections import namedtuple # імпорт функціоналу із бібліотеки \n",
    "\n",
    "Person = namedtuple('User', ['name', 'age', 'gender']) # фактичне створення структури\n",
    "\n",
    "person1 = Person(name='Alice', age=25, gender='Female') # init person1 = ('Alice', 25, 'Female' )\n",
    "person2 = Person(name='Bob', age=30, gender='Male')\n",
    "\n",
    "Auto = namedtuple('Auto', ['mark', 'engine', 'type_', 'color'])\n",
    "\n",
    "jaguar = Auto(mark = 'Jaguar', engine= 2.5, type_ = 'titp', color= 'black')\n",
    "print(jaguar)\n",
    "\n",
    "print(person1.name, person1[0])  \n",
    "print(person2.age, person2[1])   \n",
    "print(person1.gender,person1[2]) \n",
    "\n",
    "for person in [person1, person2]:\n",
    "    print(f\"Name: {person.name}, Age: {person.age}, Gender: {person.gender}\")\n"
   ]
  },
  {
   "cell_type": "code",
   "execution_count": 20,
   "metadata": {},
   "outputs": [
    {
     "name": "stdout",
     "output_type": "stream",
     "text": [
      "Help on class User1 in module __main__:\n",
      "\n",
      "class User1(builtins.tuple)\n",
      " |  User1(name, age, gender)\n",
      " |  \n",
      " |  User1(name, age, gender)\n",
      " |  \n",
      " |  Method resolution order:\n",
      " |      User1\n",
      " |      builtins.tuple\n",
      " |      builtins.object\n",
      " |  \n",
      " |  Methods defined here:\n",
      " |  \n",
      " |  __getnewargs__(self)\n",
      " |      Return self as a plain tuple.  Used by copy and pickle.\n",
      " |  \n",
      " |  __repr__(self)\n",
      " |      Return a nicely formatted representation string\n",
      " |  \n",
      " |  _asdict(self)\n",
      " |      Return a new dict which maps field names to their values.\n",
      " |  \n",
      " |  _replace(self, /, **kwds)\n",
      " |      Return a new User1 object replacing specified fields with new values\n",
      " |  \n",
      " |  ----------------------------------------------------------------------\n",
      " |  Class methods defined here:\n",
      " |  \n",
      " |  _make(iterable) from builtins.type\n",
      " |      Make a new User1 object from a sequence or iterable\n",
      " |  \n",
      " |  ----------------------------------------------------------------------\n",
      " |  Static methods defined here:\n",
      " |  \n",
      " |  __new__(_cls, name, age, gender)\n",
      " |      Create new instance of User1(name, age, gender)\n",
      " |  \n",
      " |  ----------------------------------------------------------------------\n",
      " |  Data descriptors defined here:\n",
      " |  \n",
      " |  name\n",
      " |      Alias for field number 0\n",
      " |  \n",
      " |  age\n",
      " |      Alias for field number 1\n",
      " |  \n",
      " |  gender\n",
      " |      Alias for field number 2\n",
      " |  \n",
      " |  ----------------------------------------------------------------------\n",
      " |  Data and other attributes defined here:\n",
      " |  \n",
      " |  __match_args__ = ('name', 'age', 'gender')\n",
      " |  \n",
      " |  _field_defaults = {}\n",
      " |  \n",
      " |  _fields = ('name', 'age', 'gender')\n",
      " |  \n",
      " |  ----------------------------------------------------------------------\n",
      " |  Methods inherited from builtins.tuple:\n",
      " |  \n",
      " |  __add__(self, value, /)\n",
      " |      Return self+value.\n",
      " |  \n",
      " |  __contains__(self, key, /)\n",
      " |      Return key in self.\n",
      " |  \n",
      " |  __eq__(self, value, /)\n",
      " |      Return self==value.\n",
      " |  \n",
      " |  __ge__(self, value, /)\n",
      " |      Return self>=value.\n",
      " |  \n",
      " |  __getattribute__(self, name, /)\n",
      " |      Return getattr(self, name).\n",
      " |  \n",
      " |  __getitem__(self, key, /)\n",
      " |      Return self[key].\n",
      " |  \n",
      " |  __gt__(self, value, /)\n",
      " |      Return self>value.\n",
      " |  \n",
      " |  __hash__(self, /)\n",
      " |      Return hash(self).\n",
      " |  \n",
      " |  __iter__(self, /)\n",
      " |      Implement iter(self).\n",
      " |  \n",
      " |  __le__(self, value, /)\n",
      " |      Return self<=value.\n",
      " |  \n",
      " |  __len__(self, /)\n",
      " |      Return len(self).\n",
      " |  \n",
      " |  __lt__(self, value, /)\n",
      " |      Return self<value.\n",
      " |  \n",
      " |  __mul__(self, value, /)\n",
      " |      Return self*value.\n",
      " |  \n",
      " |  __ne__(self, value, /)\n",
      " |      Return self!=value.\n",
      " |  \n",
      " |  __rmul__(self, value, /)\n",
      " |      Return value*self.\n",
      " |  \n",
      " |  count(self, value, /)\n",
      " |      Return number of occurrences of value.\n",
      " |  \n",
      " |  index(self, value, start=0, stop=9223372036854775807, /)\n",
      " |      Return first index of value.\n",
      " |      \n",
      " |      Raises ValueError if the value is not present.\n",
      " |  \n",
      " |  ----------------------------------------------------------------------\n",
      " |  Class methods inherited from builtins.tuple:\n",
      " |  \n",
      " |  __class_getitem__(...) from builtins.type\n",
      " |      See PEP 585\n",
      "\n"
     ]
    }
   ],
   "source": [
    "help(Person)"
   ]
  },
  {
   "attachments": {},
   "cell_type": "markdown",
   "metadata": {},
   "source": [
    "#### Defaultdict(Orderdict) -> покращення dict \n",
    "\n",
    "**Переваги**:\n",
    "> 1. **Значення за замовчуванням**  \n",
    "> 2. **Гнучкість**  \n",
    "> 3. **Розширюваність** - при наявності функцій(декораторів)   \n",
    "\n",
    "**Недоліки**:\n",
    "> 1. **Більше важить фізично**\n",
    "> 2. **Погано підходить для автоматичної генерації**  \n",
    "> 3. **Потрібна бібліотека**  "
   ]
  },
  {
   "cell_type": "code",
   "execution_count": 25,
   "metadata": {},
   "outputs": [
    {
     "name": "stdout",
     "output_type": "stream",
     "text": [
      "defaultdict(<class 'int'>, {'one': 1, 'three': 3, 'test': 0, 'two': 0}) 0\n"
     ]
    }
   ],
   "source": [
    "from collections import defaultdict # import бібліотеки для колекцій\n",
    "\n",
    "my_dict = defaultdict(int) # створення dictionary, with default value\n",
    "\n",
    "my_dict['one'] = 1\n",
    "my_dict['three'] = 3\n",
    "my_dict['test']\n",
    "print(my_dict, my_dict['two'] ) # create key-value if not exists "
   ]
  },
  {
   "cell_type": "code",
   "execution_count": 16,
   "metadata": {},
   "outputs": [
    {
     "name": "stdout",
     "output_type": "stream",
     "text": [
      "OrderedDict([('Person3', 3), ('Person2', 2), ('Person1', 1)]) <class 'collections.OrderedDict'> 440\n",
      "Person3\n",
      "Person2\n",
      "Person1\n",
      "per\n"
     ]
    }
   ],
   "source": [
    "from collections import OrderedDict\n",
    "\n",
    "ord_dict = OrderedDict([('Person3', 3), ('Person2', 2), ('Person1', 1)])\n",
    "\n",
    "print(ord_dict, type(ord_dict), ord_dict.__sizeof__())\n",
    "\n",
    "ord_dict['per'] = 3\n",
    "\n",
    "for i in ord_dict:\n",
    "    print(i)"
   ]
  },
  {
   "cell_type": "code",
   "execution_count": null,
   "metadata": {},
   "outputs": [],
   "source": [
    "# Task 1. Знайти найчастіше елемент у послідовності\n",
    "# Task 2. Створити структуру для роботи із user (id, name, surname , email)\n",
    "# Task 3. Створити словник, який по default буде повертати 'no key'"
   ]
  },
  {
   "attachments": {},
   "cell_type": "markdown",
   "metadata": {},
   "source": [
    "Модуль time і модуль datetime - це стандартні модулі мови програмування Python для роботи з часом та датою.\n",
    "\n",
    "Модуль time містить функції, що дозволяють отримувати поточний час, конвертувати час у різні формати, вимірювати час виконання програми, та інші. Основні функції модулю time"
   ]
  },
  {
   "cell_type": "code",
   "execution_count": 1,
   "metadata": {},
   "outputs": [
    {
     "name": "stdout",
     "output_type": "stream",
     "text": [
      "1688281568.942802\n",
      "time.struct_time(tm_year=2023, tm_mon=7, tm_mday=2, tm_hour=10, tm_min=6, tm_sec=8, tm_wday=6, tm_yday=183, tm_isdst=1)\n"
     ]
    }
   ],
   "source": [
    "import time\n",
    "\n",
    "# Отримання поточного часу\n",
    "current_time = time.time()\n",
    "print(current_time)\n",
    "\n",
    "# Конвертування часу у рядок\n",
    "local_time = time.localtime(current_time)\n",
    "print(local_time)\n",
    "\n",
    "# Очікування 1 секунди\n",
    "time.sleep(1)"
   ]
  },
  {
   "cell_type": "code",
   "execution_count": 3,
   "metadata": {},
   "outputs": [
    {
     "name": "stdout",
     "output_type": "stream",
     "text": [
      "2023-07-02 10:13:43.941982\n",
      "2023-07-02\n"
     ]
    }
   ],
   "source": [
    "import datetime\n",
    "\n",
    "# Отримання поточної дати та часу\n",
    "current_datetime = datetime.datetime.now() # рік-місяць-день години:хв:сек.наносек\n",
    "print(current_datetime)\n",
    "\n",
    "# Конвертування часу у рядок\n",
    "formatted_datetime = current_datetime.strftime('%Y-%m-%d') # %H:%M:%S\n",
    "print(formatted_datetime)\n"
   ]
  },
  {
   "cell_type": "code",
   "execution_count": 10,
   "metadata": {},
   "outputs": [],
   "source": [
    "# function - \n",
    "def func1(param1:int, param2:float, param3: str = 10, *args, **kwargs) -> str:\n",
    "    ''' Doc - string '''\n",
    "    \n",
    "    return None  "
   ]
  },
  {
   "cell_type": "code",
   "execution_count": 18,
   "metadata": {},
   "outputs": [],
   "source": [
    "def func2(a:int, b:int) -> int:\n",
    "    #print(f\"{a} {b}\")\n",
    "    if isinstance(a, int) and isinstance(b, int):\n",
    "        return a + b\n",
    "    else:\n",
    "        return f'{a} + {b} = None result'"
   ]
  },
  {
   "cell_type": "code",
   "execution_count": 22,
   "metadata": {},
   "outputs": [
    {
     "data": {
      "text/plain": [
       "'hello + world! = None result'"
      ]
     },
     "execution_count": 22,
     "metadata": {},
     "output_type": "execute_result"
    }
   ],
   "source": [
    "func2(10, 5)\n",
    "\n",
    "b = func2(10, 5)\n",
    "func2('hello', 'world!')"
   ]
  },
  {
   "cell_type": "code",
   "execution_count": 23,
   "metadata": {},
   "outputs": [
    {
     "data": {
      "text/plain": [
       "15"
      ]
     },
     "execution_count": 23,
     "metadata": {},
     "output_type": "execute_result"
    }
   ],
   "source": [
    "b"
   ]
  },
  {
   "cell_type": "code",
   "execution_count": 9,
   "metadata": {},
   "outputs": [],
   "source": [
    "func1(param1= 10, param2= 20, param3= 40)"
   ]
  },
  {
   "cell_type": "code",
   "execution_count": 11,
   "metadata": {},
   "outputs": [
    {
     "data": {
      "text/plain": [
       "' Doc - string '"
      ]
     },
     "execution_count": 11,
     "metadata": {},
     "output_type": "execute_result"
    }
   ],
   "source": [
    "func1.__doc__"
   ]
  },
  {
   "cell_type": "code",
   "execution_count": null,
   "metadata": {},
   "outputs": [],
   "source": [
    "# Task 0. Перевірка на парність числа. Input: int, Output: bool\n",
    "def task_0(number: int) -> bool:\n",
    "    return True if isinstance(number, [int, float]) and number % 2 == 0 else False \n",
    "\n",
    "# Task 1. Повернути максимальне число з inf параметрів. Input: int, int, int, Output: max - number\n",
    "def task_1(*args) -> int:\n",
    "    return max(args)\n",
    "\n",
    "def task_1_1(*args) -> int:\n",
    "    return sorted(args)[-1]\n",
    "\n",
    "# Task 2. Перевірка на паліндром. Input: str Output: bool\n",
    "def task2(string: str) -> bool: \n",
    "    return True if isinstance(string, str) and string == string[::-1] else False"
   ]
  },
  {
   "cell_type": "code",
   "execution_count": 46,
   "metadata": {},
   "outputs": [],
   "source": [
    "# Task 3. Знайти суму рядка які НЕ є голосними. Input: str, Output: int \n",
    "def task_3(string:str) -> int: \n",
    "    count_ = 0\n",
    "    for i in string:\n",
    "        if i.lower() not in('a', 'i', 'e', 'y', 'u'):\n",
    "            count_ += ord(i)\n",
    "            \n",
    "    return count_\n",
    "            \n",
    "# Task 4. Перевірка просте число чи ні. Input: int, Output: bool\n",
    "def task_4(number: int) -> bool: \n",
    "    if isinstance(number, [int, float]):\n",
    "        for i in range(2, number // 2 + 1):\n",
    "            if number % i == 0:\n",
    "                return False \n",
    "        return True \n",
    "    \n",
    "    return False \n",
    "\n",
    "# Task 5. Перевірка str що це валідна IP4 - 192.128.1.1 - range [0-255].[0-255].[0-255].[0-255] Input: str, Output: bool \n",
    "def task_5(ip: str) -> bool:\n",
    "    \n",
    "    if ip.count('.') != 3:\n",
    "        return False \n",
    "    \n",
    "    for i in ip.split('.'):\n",
    "        \n",
    "        if i.isdigit() == True :\n",
    "            if int(i) >= 0 and int(i) <= 255:\n",
    "                continue\n",
    "            else:\n",
    "                return False\n",
    "        else:\n",
    "            return False \n",
    "    return True"
   ]
  },
  {
   "cell_type": "code",
   "execution_count": 49,
   "metadata": {},
   "outputs": [
    {
     "data": {
      "text/plain": [
       "False"
      ]
     },
     "execution_count": 49,
     "metadata": {},
     "output_type": "execute_result"
    }
   ],
   "source": [
    "task_5('192.158.256.1')"
   ]
  },
  {
   "cell_type": "code",
   "execution_count": 51,
   "metadata": {},
   "outputs": [
    {
     "data": {
      "text/plain": [
       "(197, 197)"
      ]
     },
     "execution_count": 51,
     "metadata": {},
     "output_type": "execute_result"
    }
   ],
   "source": [
    "task_3('abc')"
   ]
  },
  {
   "cell_type": "code",
   "execution_count": null,
   "metadata": {},
   "outputs": [],
   "source": [
    "# Task 1. Вивести всі парні числа від 1 до 100.\n",
    "def task1(low_n: int = 1, high_n : int = 100) -> None:\n",
    "    '''\n",
    "    Display even number\n",
    "    \n",
    "    Parameters\n",
    "    -------\n",
    "        low_n: int, optional\n",
    "            Start range for display.\n",
    "        high_n: int, optional \n",
    "            End range for display.\n",
    "    \n",
    "    Returns:\n",
    "    -------\n",
    "        None.\n",
    "    '''\n",
    "\n",
    "    # First variant\n",
    "    #for i in range(low_n, high_n + 1):\n",
    "    #    if i % 2 == 0:\n",
    "    #        print(i)\n",
    "        \n",
    "    # Second variant\n",
    "    print([i for i in range(low_n, high_n + 1) if i  % 2 == 0])\n",
    "\n",
    "print(task1.__doc__)\n",
    "    "
   ]
  },
  {
   "cell_type": "code",
   "execution_count": null,
   "metadata": {},
   "outputs": [],
   "source": [
    "# Task 2. Перевірити, чи є задане число простим.\n",
    "def task2(value: int) -> bool:\n",
    "    for i in range(2, value // 2 + 1):\n",
    "        if value % i == 0:\n",
    "            return False\n",
    "    return True"
   ]
  },
  {
   "cell_type": "code",
   "execution_count": null,
   "metadata": {},
   "outputs": [],
   "source": [
    "# Task 3. Обчислити середнє арифметичне заданого масиву чисел.\n",
    "def task3(arr: list) -> float:\n",
    "    \n",
    "    # First var \n",
    "    #sum_ = 0\n",
    "    #for i in arr:\n",
    "    #    sum_ += i\n",
    "    #return sum_ / len(arr)\n",
    "\n",
    "    # Second var\n",
    "    return sum(arr) / len(arr) if not arr == True else 0.0\n",
    "\n",
    "    # Thierd var\n",
    "    #return sum(i for i in arr if isinstance(i, (int, float))) / len(arr) if not arr == True else 0.0\n"
   ]
  },
  {
   "cell_type": "code",
   "execution_count": 12,
   "metadata": {},
   "outputs": [
    {
     "data": {
      "text/plain": [
       "['__sizeof__',\n",
       " '__str__',\n",
       " '__subclasshook__',\n",
       " 'append',\n",
       " 'clear',\n",
       " 'copy',\n",
       " 'count',\n",
       " 'extend',\n",
       " 'index',\n",
       " 'insert',\n",
       " 'pop',\n",
       " 'remove',\n",
       " 'reverse',\n",
       " 'sort']"
      ]
     },
     "execution_count": 12,
     "metadata": {},
     "output_type": "execute_result"
    }
   ],
   "source": [
    "dir(list)[34::]"
   ]
  },
  {
   "cell_type": "code",
   "execution_count": null,
   "metadata": {},
   "outputs": [],
   "source": [
    "# Task 4. Підрахувати кількість входжень заданого елемента у масив.\n",
    "def task4(arr: list, value: int) -> int:\n",
    "    \n",
    "    # First var\n",
    "    #counter = 0\n",
    "    #for i in arr: \n",
    "    #    if value == i: \n",
    "    #        counter += 1\n",
    "    #return counter \n",
    "\n",
    "    # Second var\n",
    "    # якщо true if умова1 else умова == False <поверт>\n",
    "    return arr.count(value) if not arr == True else 0\n",
    "\n",
    "print(task4([1,2,2,2,4,5], 2))\n"
   ]
  }
 ],
 "metadata": {
  "kernelspec": {
   "display_name": "Python 3",
   "language": "python",
   "name": "python3"
  },
  "language_info": {
   "codemirror_mode": {
    "name": "ipython",
    "version": 3
   },
   "file_extension": ".py",
   "mimetype": "text/x-python",
   "name": "python",
   "nbconvert_exporter": "python",
   "pygments_lexer": "ipython3",
   "version": "3.10.12"
  },
  "orig_nbformat": 4
 },
 "nbformat": 4,
 "nbformat_minor": 2
}
