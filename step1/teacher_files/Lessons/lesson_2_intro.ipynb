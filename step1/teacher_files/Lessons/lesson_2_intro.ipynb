{
 "cells": [
  {
   "attachments": {},
   "cell_type": "markdown",
   "metadata": {},
   "source": [
    "#### Lesson 2. Continue basic Python.  \n",
    "#### Lesson 3. String and list function\n",
    "**Topics**:\n",
    "> 1. Assignment operators\n",
    "> 2. Logical operators\n",
    "> 3. Membership Operators\n",
    "> 4. Identity Operators\n",
    "> 5. String \n",
    "> 6. List\n",
    "> 7. Conditions. If/elif/else - Match/case\n",
    "> 8. Loops. While/for\n",
    "> 9. Control flow statements \n",
    "> 10. Range\n",
    "\n",
    "**Materials**:\n",
    "> 1. [String with format](https://realpython.com/python-string-formatting/)\n",
    "> 2. [List](https://www.programiz.com/python-programming/list)\n",
    "> 3. [While/For loops](https://www.geeksforgeeks.org/loops-in-python/)\n",
    "> 4. [Match Case](https://learnpython.com/blog/python-match-case-statement/)\n"
   ]
  },
  {
   "cell_type": "code",
   "execution_count": 35,
   "metadata": {},
   "outputs": [
    {
     "name": "stdout",
     "output_type": "stream",
     "text": [
      "Hello World! Name: Sasha Surname:Ukrainets 10\n"
     ]
    }
   ],
   "source": [
    "print('Hello World!', 'Name: Sasha Surname:Ukrainets', 5 + 5)"
   ]
  },
  {
   "cell_type": "code",
   "execution_count": 6,
   "metadata": {},
   "outputs": [],
   "source": [
    "n = 5 + 5"
   ]
  },
  {
   "cell_type": "code",
   "execution_count": 7,
   "metadata": {},
   "outputs": [
    {
     "name": "stdout",
     "output_type": "stream",
     "text": [
      "10\n"
     ]
    }
   ],
   "source": [
    "print(n)"
   ]
  },
  {
   "cell_type": "code",
   "execution_count": 12,
   "metadata": {},
   "outputs": [
    {
     "data": {
      "text/plain": [
       "(True, True, False, False, False, False)"
      ]
     },
     "execution_count": 12,
     "metadata": {},
     "output_type": "execute_result"
    }
   ],
   "source": [
    "bool(1), bool(123), bool(''), bool(0), bool(0.0), bool(None)"
   ]
  },
  {
   "cell_type": "code",
   "execution_count": 13,
   "metadata": {},
   "outputs": [
    {
     "data": {
      "text/plain": [
       "(2, 1)"
      ]
     },
     "execution_count": 13,
     "metadata": {},
     "output_type": "execute_result"
    }
   ],
   "source": [
    "True + True, False + True"
   ]
  },
  {
   "cell_type": "code",
   "execution_count": 18,
   "metadata": {},
   "outputs": [
    {
     "name": "stdout",
     "output_type": "stream",
     "text": [
      "3.1\n"
     ]
    }
   ],
   "source": [
    "PI = 3.14\n",
    "print(round(PI, 1))"
   ]
  },
  {
   "cell_type": "code",
   "execution_count": 20,
   "metadata": {},
   "outputs": [],
   "source": [
    "from math import *"
   ]
  },
  {
   "cell_type": "code",
   "execution_count": 21,
   "metadata": {},
   "outputs": [
    {
     "name": "stdout",
     "output_type": "stream",
     "text": [
      "3 4\n"
     ]
    }
   ],
   "source": [
    "print(floor(PI), ceil(PI))"
   ]
  },
  {
   "cell_type": "code",
   "execution_count": 22,
   "metadata": {},
   "outputs": [
    {
     "name": "stdout",
     "output_type": "stream",
     "text": [
      "25\n"
     ]
    }
   ],
   "source": [
    "print(10 + 15)"
   ]
  },
  {
   "cell_type": "code",
   "execution_count": 23,
   "metadata": {},
   "outputs": [
    {
     "name": "stdout",
     "output_type": "stream",
     "text": [
      "-5\n"
     ]
    }
   ],
   "source": [
    "print(-5, 6 + 5 + 5+ 6+ 10)\n",
    "print(2 + 2 * 2)"
   ]
  },
  {
   "cell_type": "code",
   "execution_count": 24,
   "metadata": {},
   "outputs": [
    {
     "name": "stdout",
     "output_type": "stream",
     "text": [
      "4356878712 5\n"
     ]
    }
   ],
   "source": [
    "a = 5 # {-8 to +8}, {+, -,/, //, %, **, *}, {4}\n",
    "print(id(a), a)"
   ]
  },
  {
   "cell_type": "code",
   "execution_count": 29,
   "metadata": {},
   "outputs": [
    {
     "name": "stdout",
     "output_type": "stream",
     "text": [
      "2.5 2 25\n"
     ]
    }
   ],
   "source": [
    "x = 5\n",
    "y = 2\n",
    "\n",
    "print(x / y, x // y, x ** 2)"
   ]
  },
  {
   "cell_type": "code",
   "execution_count": 32,
   "metadata": {},
   "outputs": [
    {
     "data": {
      "text/plain": [
       "(True, False, True)"
      ]
     },
     "execution_count": 32,
     "metadata": {},
     "output_type": "execute_result"
    }
   ],
   "source": [
    "5 > 2, 5 == 2, 5 != 2"
   ]
  },
  {
   "cell_type": "code",
   "execution_count": 34,
   "metadata": {},
   "outputs": [
    {
     "name": "stdout",
     "output_type": "stream",
     "text": [
      "Second in day:  86400\n",
      "Second in year:  31536000\n",
      "a + b:  25\n",
      "a - b:  -5\n",
      "a * b:  150\n",
      "a / b:  0.6666666666666666\n",
      "a // b:  0\n"
     ]
    }
   ],
   "source": [
    "# Task 1 Second in day \n",
    "second_in_day = 60 * 60 * 24\n",
    "print('Second in day: ', second_in_day)\n",
    "\n",
    "\n",
    "# Task 2 Second in year \n",
    "second_in_year = 60 * 60 * 24 * 365\n",
    "print('Second in year: ', second_in_year)\n",
    "\n",
    "\n",
    "# Task 3. Create a, b, a equal 10, b equal 15. Do all arith operations {+, -, /, //, *}. Display result in new print\n",
    "a = 10\n",
    "b = 15 \n",
    "print('a + b: ', a + b)\n",
    "print('a - b: ', a - b)\n",
    "print('a * b: ', a * b)\n",
    "print('a / b: ', a / b)\n",
    "print('a // b: ', a // b)"
   ]
  },
  {
   "cell_type": "code",
   "execution_count": 47,
   "metadata": {},
   "outputs": [
    {
     "name": "stdout",
     "output_type": "stream",
     "text": [
      "10 @50 @30 @40 @100\n",
      "Name: Name1\n",
      "Surname: Surname2."
     ]
    }
   ],
   "source": [
    "# print - display in bash \n",
    "print(10, 50, 30, 40, 100, sep = ' @', end = '\\n') # sep - роздільник, end - кінцевий сим\n",
    "name = 'Name1'\n",
    "surname = 'Surname2'\n",
    "print('Name: ' +  name, 'Surname: '+  surname, sep = '\\n', end = '.')"
   ]
  },
  {
   "cell_type": "code",
   "execution_count": 48,
   "metadata": {},
   "outputs": [
    {
     "name": "stdout",
     "output_type": "stream",
     "text": [
      "Hello Sasha\n"
     ]
    }
   ],
   "source": [
    "# input - from bash info\n",
    "name = input('Enter you name:')\n",
    "print('Hello ' + name)\n"
   ]
  },
  {
   "cell_type": "code",
   "execution_count": 2,
   "metadata": {},
   "outputs": [
    {
     "name": "stdout",
     "output_type": "stream",
     "text": [
      "D\n"
     ]
    }
   ],
   "source": [
    "number = 0\n",
    "match number:\n",
    "    case 0:\n",
    "        print('D')\n",
    "    case 1: \n",
    "        print('d')"
   ]
  },
  {
   "cell_type": "code",
   "execution_count": 54,
   "metadata": {},
   "outputs": [
    {
     "name": "stdout",
     "output_type": "stream",
     "text": [
      "Apple water AppleAppleAppleAppleApple\n"
     ]
    }
   ],
   "source": [
    "# Concat - + strings \n",
    "# String - char\n",
    "# sasha - row, apple - water\n",
    "apple = 'Apple'\n",
    "water = 'water'\n",
    "print(apple + ' ' + water, apple * 5 )"
   ]
  },
  {
   "cell_type": "code",
   "execution_count": 56,
   "metadata": {},
   "outputs": [
    {
     "data": {
      "text/plain": [
       "15"
      ]
     },
     "execution_count": 56,
     "metadata": {},
     "output_type": "execute_result"
    }
   ],
   "source": [
    "int('15')"
   ]
  },
  {
   "cell_type": "code",
   "execution_count": 59,
   "metadata": {},
   "outputs": [
    {
     "data": {
      "text/plain": [
       "' \\nqwqwqwf\\nqwqefqjefo\\nqfqfqesvdkisvd\\nmany line \\n'"
      ]
     },
     "execution_count": 59,
     "metadata": {},
     "output_type": "execute_result"
    }
   ],
   "source": [
    "# text - comment one line re-do this task\n",
    "''' \n",
    "qwqwqwf\n",
    "qwqefqjefo\n",
    "qfqfqesvdkisvd\n",
    "many line \n",
    "'''"
   ]
  },
  {
   "cell_type": "code",
   "execution_count": 61,
   "metadata": {},
   "outputs": [
    {
     "name": "stdout",
     "output_type": "stream",
     "text": [
      "**************************************************\n",
      "**************************************************\n",
      "Planet name: Alfa \n",
      "Planet day: 532 \n",
      "Planet second:  45964800\n"
     ]
    }
   ],
   "source": [
    "# Task 5. Відкрито нову планету. Slide: 35. Lesson 1\n",
    "planet_name = input('Enter planet name: ') # input by user with placholder\n",
    "planet_day_in_year = input('Enter planet day in year')  # input day in planet, with placholder\n",
    "planet_second = (60 * 60 * 24) * int(planet_day_in_year) # second in day and mupt covert planet_day_in_year\n",
    "print('Planet name: ' + planet_name,'\\nPlanet day: ' + planet_day_in_year ,'\\nPlanet second: ',planet_second) #output result "
   ]
  },
  {
   "cell_type": "code",
   "execution_count": 63,
   "metadata": {},
   "outputs": [
    {
     "name": "stdout",
     "output_type": "stream",
     "text": [
      "False\n"
     ]
    }
   ],
   "source": [
    "# Task 6. Перевірка віку людини. Slide: 35. Lesson 1\n",
    "AGE_IN_MONTH = 12 * 18 # константа\n",
    "person_age = int(input('Input person age in month: ')) / 12 \n",
    "print(person_age > (12 * 18))"
   ]
  },
  {
   "cell_type": "code",
   "execution_count": 25,
   "metadata": {},
   "outputs": [
    {
     "name": "stdout",
     "output_type": "stream",
     "text": [
      "5\n",
      "10\n",
      "15\n"
     ]
    }
   ],
   "source": [
    "x = 5 \n",
    "print(x)\n",
    "x = x + 5\n",
    "print(x)\n",
    "x += 5 # Зліва операція \n",
    "print(x)"
   ]
  },
  {
   "cell_type": "code",
   "execution_count": null,
   "metadata": {},
   "outputs": [],
   "source": [
    "age = 18\n",
    "age += 1\n",
    "print(age)"
   ]
  },
  {
   "cell_type": "code",
   "execution_count": 2,
   "metadata": {},
   "outputs": [],
   "source": [
    "# Для чого потрібні коментарі?\n",
    "\n",
    "\n",
    "# Що не так із назвою змінної?\n",
    "# %name = 15 \n",
    "\n",
    "# Що таке приоріт операцій? \n",
    "\n",
    "# I/O - function\n",
    "\n",
    "# Що таке змінна? Основна характ?"
   ]
  },
  {
   "attachments": {},
   "cell_type": "markdown",
   "metadata": {},
   "source": [
    "#### Logical operators  \n",
    "> **and** - логічне так  \n",
    "> **or** - логічне або  \n",
    "> **not** - логічне ні   "
   ]
  },
  {
   "cell_type": "code",
   "execution_count": 5,
   "metadata": {},
   "outputs": [
    {
     "data": {
      "text/plain": [
       "(True, True, False)"
      ]
     },
     "execution_count": 5,
     "metadata": {},
     "output_type": "execute_result"
    }
   ],
   "source": [
    "18 > 17, 18 > 17 and  19 > 18, 18 > 17 and 18 > 19"
   ]
  },
  {
   "cell_type": "code",
   "execution_count": 6,
   "metadata": {},
   "outputs": [
    {
     "data": {
      "text/plain": [
       "True"
      ]
     },
     "execution_count": 6,
     "metadata": {},
     "output_type": "execute_result"
    }
   ],
   "source": [
    "18 > 17 or 18 > 19 # True and False "
   ]
  },
  {
   "cell_type": "code",
   "execution_count": 8,
   "metadata": {},
   "outputs": [
    {
     "ename": "TypeError",
     "evalue": "'>' not supported between instances of 'str' and 'int'",
     "output_type": "error",
     "traceback": [
      "\u001b[0;31m---------------------------------------------------------------------------\u001b[0m",
      "\u001b[0;31mTypeError\u001b[0m                                 Traceback (most recent call last)",
      "Cell \u001b[0;32mIn[8], line 1\u001b[0m\n\u001b[0;32m----> 1\u001b[0m \u001b[39m'\u001b[39;49m\u001b[39mstring\u001b[39;49m\u001b[39m'\u001b[39;49m \u001b[39m>\u001b[39;49m \u001b[39m1\u001b[39;49m\n",
      "\u001b[0;31mTypeError\u001b[0m: '>' not supported between instances of 'str' and 'int'"
     ]
    }
   ],
   "source": [
    "'string' > 1"
   ]
  },
  {
   "cell_type": "code",
   "execution_count": 10,
   "metadata": {},
   "outputs": [
    {
     "ename": "TypeError",
     "evalue": "'>' not supported between instances of 'str' and 'int'",
     "output_type": "error",
     "traceback": [
      "\u001b[0;31m---------------------------------------------------------------------------\u001b[0m",
      "\u001b[0;31mTypeError\u001b[0m                                 Traceback (most recent call last)",
      "Cell \u001b[0;32mIn[10], line 1\u001b[0m\n\u001b[0;32m----> 1\u001b[0m \u001b[39m18\u001b[39m \u001b[39m>\u001b[39m \u001b[39m17\u001b[39m \u001b[39mand\u001b[39;00m \u001b[39m'\u001b[39;49m\u001b[39mstring\u001b[39;49m\u001b[39m'\u001b[39;49m \u001b[39m>\u001b[39;49m \u001b[39m1\u001b[39;49m\n",
      "\u001b[0;31mTypeError\u001b[0m: '>' not supported between instances of 'str' and 'int'"
     ]
    }
   ],
   "source": [
    "18 > 17 and 'string' > 1"
   ]
  },
  {
   "cell_type": "code",
   "execution_count": 9,
   "metadata": {},
   "outputs": [
    {
     "data": {
      "text/plain": [
       "True"
      ]
     },
     "execution_count": 9,
     "metadata": {},
     "output_type": "execute_result"
    }
   ],
   "source": [
    "18 > 17 or 'string' > 1"
   ]
  },
  {
   "cell_type": "code",
   "execution_count": 11,
   "metadata": {},
   "outputs": [
    {
     "ename": "TypeError",
     "evalue": "'>' not supported between instances of 'str' and 'int'",
     "output_type": "error",
     "traceback": [
      "\u001b[0;31m---------------------------------------------------------------------------\u001b[0m",
      "\u001b[0;31mTypeError\u001b[0m                                 Traceback (most recent call last)",
      "Cell \u001b[0;32mIn[11], line 1\u001b[0m\n\u001b[0;32m----> 1\u001b[0m \u001b[39m'\u001b[39;49m\u001b[39mstring\u001b[39;49m\u001b[39m'\u001b[39;49m \u001b[39m>\u001b[39;49m \u001b[39m1\u001b[39;49m \u001b[39mor\u001b[39;00m \u001b[39m18\u001b[39m \u001b[39m>\u001b[39m \u001b[39m17\u001b[39m\n",
      "\u001b[0;31mTypeError\u001b[0m: '>' not supported between instances of 'str' and 'int'"
     ]
    }
   ],
   "source": [
    "'string' > 1 or 18 > 17"
   ]
  },
  {
   "cell_type": "code",
   "execution_count": 12,
   "metadata": {},
   "outputs": [
    {
     "data": {
      "text/plain": [
       "(False, True)"
      ]
     },
     "execution_count": 12,
     "metadata": {},
     "output_type": "execute_result"
    }
   ],
   "source": [
    "not True, not False"
   ]
  },
  {
   "cell_type": "code",
   "execution_count": 13,
   "metadata": {},
   "outputs": [
    {
     "data": {
      "text/plain": [
       "(True, False, False)"
      ]
     },
     "execution_count": 13,
     "metadata": {},
     "output_type": "execute_result"
    }
   ],
   "source": [
    "True and True, True and False, not True"
   ]
  },
  {
   "cell_type": "code",
   "execution_count": null,
   "metadata": {},
   "outputs": [],
   "source": [
    "name = 'abc'\n",
    "age = 18\n",
    "if age >= 18 and int(name) == 10:\n",
    "    print('error')"
   ]
  },
  {
   "cell_type": "code",
   "execution_count": null,
   "metadata": {},
   "outputs": [],
   "source": [
    "name = 'abc'\n",
    "age = 18\n",
    "if age >= 18 or int(name) == 10:\n",
    "    print('error')"
   ]
  },
  {
   "cell_type": "code",
   "execution_count": null,
   "metadata": {},
   "outputs": [],
   "source": [
    "print(f'not True: {not True} \\nnot False {not False}')"
   ]
  },
  {
   "attachments": {},
   "cell_type": "markdown",
   "metadata": {},
   "source": [
    "&nAme = name \n",
    "\n",
    "name_2 = +\n",
    "\n",
    "name_ = + \n",
    "_name = + \n",
    "\n",
    "PI = 3.14159\n",
    "\n",
    "name_of_user = "
   ]
  },
  {
   "attachments": {},
   "cell_type": "markdown",
   "metadata": {},
   "source": [
    "##### In : This operator returns True if the value is found in the sequence, otherwise it returns False. \n",
    "##### Not in: This operator returns True if the value is not found in the sequence, otherwise it returns False."
   ]
  },
  {
   "cell_type": "code",
   "execution_count": 14,
   "metadata": {},
   "outputs": [
    {
     "name": "stdout",
     "output_type": "stream",
     "text": [
      "False\n",
      "True\n"
     ]
    }
   ],
   "source": [
    "auto_group = ['Jaguar', 'Porsche', 'Tesla']\n",
    "\n",
    "print('Skoda' in auto_group)\n",
    "print('Skoda' not in auto_group)"
   ]
  },
  {
   "attachments": {},
   "cell_type": "markdown",
   "metadata": {},
   "source": [
    "#### Is : This operator returns True if both variables refer to the same object in memory, otherwise it returns False\n",
    "#### Not is: This operator returns True if both variables do not refer to the same object in memory, otherwise it returns False"
   ]
  },
  {
   "cell_type": "code",
   "execution_count": 17,
   "metadata": {},
   "outputs": [
    {
     "name": "stdout",
     "output_type": "stream",
     "text": [
      "True True 4542603640 4542603640 4542603640\n"
     ]
    }
   ],
   "source": [
    "x = 5\n",
    "y = x \n",
    "q = 5 \n",
    "t = 10\n",
    "print(x is y, y is x, id(x), id(y), id(q))"
   ]
  },
  {
   "cell_type": "code",
   "execution_count": null,
   "metadata": {},
   "outputs": [],
   "source": [
    "u = 5.0\n",
    "print(id(u), id(x), x is u, x == u)"
   ]
  },
  {
   "cell_type": "code",
   "execution_count": null,
   "metadata": {},
   "outputs": [],
   "source": [
    "arr = [1,2,3,5,6]\n",
    "arr_1 = arr.copy() # [:]\n",
    "print(arr, arr_1, arr == arr_1, id(arr), id(arr_1), arr is arr_1)"
   ]
  },
  {
   "cell_type": "code",
   "execution_count": null,
   "metadata": {},
   "outputs": [],
   "source": [
    "arr.append(7)\n"
   ]
  },
  {
   "cell_type": "code",
   "execution_count": null,
   "metadata": {},
   "outputs": [],
   "source": [
    "print(arr)\n",
    "print(arr_1)"
   ]
  },
  {
   "cell_type": "code",
   "execution_count": 21,
   "metadata": {},
   "outputs": [
    {
     "name": "stdout",
     "output_type": "stream",
     "text": [
      "hello world! <class 'str'> 12 h d\n"
     ]
    }
   ],
   "source": [
    "string = 'hello world!'\n",
    "print(string, type(string), len(string), string[0], string[-2])"
   ]
  },
  {
   "cell_type": "code",
   "execution_count": 23,
   "metadata": {},
   "outputs": [
    {
     "name": "stdout",
     "output_type": "stream",
     "text": [
      "Contcat: hello world!hello world!\n",
      "Multiply: hello world!hello world!\n",
      "h e\n"
     ]
    }
   ],
   "source": [
    "print(f'Contcat: {string + string}')\n",
    "print(f'Multiply: {string * 2}')\n",
    "print(string[0], string[1]) # Index 0 for len(string) "
   ]
  },
  {
   "cell_type": "code",
   "execution_count": 24,
   "metadata": {},
   "outputs": [
    {
     "name": "stdout",
     "output_type": "stream",
     "text": [
      "hell\n"
     ]
    }
   ],
   "source": [
    "print(string[0:4]) # [start:end - не включно]"
   ]
  },
  {
   "cell_type": "code",
   "execution_count": 25,
   "metadata": {},
   "outputs": [
    {
     "name": "stdout",
     "output_type": "stream",
     "text": [
      "hl\n"
     ]
    }
   ],
   "source": [
    "print(string[0:4:2]) # [start:end - не включно: steps - кількість кроків  ]"
   ]
  },
  {
   "cell_type": "code",
   "execution_count": 28,
   "metadata": {},
   "outputs": [
    {
     "name": "stdout",
     "output_type": "stream",
     "text": [
      "! h ld! !dlrow olleh\n"
     ]
    }
   ],
   "source": [
    "print(string[-1], string[-0], string[-3:], string[::-1])"
   ]
  },
  {
   "attachments": {},
   "cell_type": "markdown",
   "metadata": {},
   "source": [
    "#### Format - strings\n",
    "> 1. Old style %   \n",
    "> 2. Format - key-word  \n",
    "> 3. F-strings  "
   ]
  },
  {
   "cell_type": "code",
   "execution_count": 29,
   "metadata": {},
   "outputs": [
    {
     "name": "stdout",
     "output_type": "stream",
     "text": [
      "Hello Sasha \n",
      "You are years old 18 \n",
      "You surname is  Surname\n"
     ]
    }
   ],
   "source": [
    "name = 'Sasha'\n",
    "age = 18\n",
    "surname = 'Surname'\n",
    "\n",
    "print('Hello', name, '\\nYou are years old', age,  '\\nYou surname is ', surname, name)"
   ]
  },
  {
   "cell_type": "code",
   "execution_count": 30,
   "metadata": {},
   "outputs": [
    {
     "name": "stdout",
     "output_type": "stream",
     "text": [
      "Hello Sasha \n",
      "You are years old 18\n",
      "You surname is Surname \n",
      "18 Surname\n"
     ]
    }
   ],
   "source": [
    "print('Hello {0} \\nYou are years old {1}\\nYou surname is {2} \\n{1} {2}'.format(name, age, surname))"
   ]
  },
  {
   "cell_type": "code",
   "execution_count": 32,
   "metadata": {},
   "outputs": [
    {
     "name": "stdout",
     "output_type": "stream",
     "text": [
      "Hello Sasha \n",
      "You are years old 18\n",
      "You surname is Surname \n",
      "Sasha  Surname, Sasha Surname\n"
     ]
    }
   ],
   "source": [
    "print('Hello {name} \\nYou are years old {age}\\nYou surname is {surname} \\n{name}  {surname}, {plus}'.format(name = name, \\\n",
    "                                                                                                   age = age,  \\\n",
    "                                                                                                   surname = surname, \\\n",
    "                                                                                                   plus = name + ' ' + surname))"
   ]
  },
  {
   "cell_type": "code",
   "execution_count": 33,
   "metadata": {},
   "outputs": [
    {
     "name": "stdout",
     "output_type": "stream",
     "text": [
      "Hello Sasha \n",
      "You are years old 18\n",
      "You surname is Surname SashaSurname\n"
     ]
    }
   ],
   "source": [
    "print(f'Hello {name} \\nYou are years old {age}\\nYou surname is {surname} {name + surname}')"
   ]
  },
  {
   "cell_type": "code",
   "execution_count": 35,
   "metadata": {},
   "outputs": [
    {
     "data": {
      "text/plain": [
       "['capitalize',\n",
       " 'casefold',\n",
       " 'center',\n",
       " 'count',\n",
       " 'encode',\n",
       " 'endswith',\n",
       " 'expandtabs',\n",
       " 'find',\n",
       " 'format',\n",
       " 'format_map',\n",
       " 'index',\n",
       " 'isalnum',\n",
       " 'isalpha',\n",
       " 'isascii',\n",
       " 'isdecimal',\n",
       " 'isdigit',\n",
       " 'isidentifier',\n",
       " 'islower',\n",
       " 'isnumeric',\n",
       " 'isprintable',\n",
       " 'isspace',\n",
       " 'istitle',\n",
       " 'isupper',\n",
       " 'join',\n",
       " 'ljust',\n",
       " 'lower',\n",
       " 'lstrip',\n",
       " 'maketrans',\n",
       " 'partition',\n",
       " 'removeprefix',\n",
       " 'removesuffix',\n",
       " 'replace',\n",
       " 'rfind',\n",
       " 'rindex',\n",
       " 'rjust',\n",
       " 'rpartition',\n",
       " 'rsplit',\n",
       " 'rstrip',\n",
       " 'split',\n",
       " 'splitlines',\n",
       " 'startswith',\n",
       " 'strip',\n",
       " 'swapcase',\n",
       " 'title',\n",
       " 'translate',\n",
       " 'upper',\n",
       " 'zfill']"
      ]
     },
     "execution_count": 35,
     "metadata": {},
     "output_type": "execute_result"
    }
   ],
   "source": [
    "dir(name)[34::]"
   ]
  },
  {
   "cell_type": "code",
   "execution_count": 36,
   "metadata": {},
   "outputs": [
    {
     "data": {
      "text/plain": [
       "'Sasha'"
      ]
     },
     "execution_count": 36,
     "metadata": {},
     "output_type": "execute_result"
    }
   ],
   "source": [
    "name.capitalize()"
   ]
  },
  {
   "cell_type": "code",
   "execution_count": 37,
   "metadata": {},
   "outputs": [
    {
     "data": {
      "text/plain": [
       "'Dnipro'"
      ]
     },
     "execution_count": 37,
     "metadata": {},
     "output_type": "execute_result"
    }
   ],
   "source": [
    "city = 'dNiPro'\n",
    "city.capitalize()"
   ]
  },
  {
   "cell_type": "code",
   "execution_count": 39,
   "metadata": {},
   "outputs": [
    {
     "data": {
      "text/plain": [
       "'Nipro'"
      ]
     },
     "execution_count": 39,
     "metadata": {},
     "output_type": "execute_result"
    }
   ],
   "source": [
    "city[1::].capitalize()"
   ]
  },
  {
   "cell_type": "code",
   "execution_count": 40,
   "metadata": {},
   "outputs": [
    {
     "data": {
      "text/plain": [
       "'Dnipro'"
      ]
     },
     "execution_count": 40,
     "metadata": {},
     "output_type": "execute_result"
    }
   ],
   "source": [
    "city[0].upper() + city[1::].lower()"
   ]
  },
  {
   "cell_type": "code",
   "execution_count": 42,
   "metadata": {},
   "outputs": [
    {
     "data": {
      "text/plain": [
       "('SASHA', 'sasha')"
      ]
     },
     "execution_count": 42,
     "metadata": {},
     "output_type": "execute_result"
    }
   ],
   "source": [
    "name.upper(), name.lower()"
   ]
  },
  {
   "cell_type": "code",
   "execution_count": 45,
   "metadata": {},
   "outputs": [
    {
     "data": {
      "text/plain": [
       "(True, False)"
      ]
     },
     "execution_count": 45,
     "metadata": {},
     "output_type": "execute_result"
    }
   ],
   "source": [
    "'a' in name, 'b' in name"
   ]
  },
  {
   "cell_type": "code",
   "execution_count": 43,
   "metadata": {},
   "outputs": [
    {
     "data": {
      "text/plain": [
       "2"
      ]
     },
     "execution_count": 43,
     "metadata": {},
     "output_type": "execute_result"
    }
   ],
   "source": [
    "name.count('a')"
   ]
  },
  {
   "cell_type": "code",
   "execution_count": 46,
   "metadata": {},
   "outputs": [
    {
     "name": "stdout",
     "output_type": "stream",
     "text": [
      "Hello\n",
      "World\n",
      "\n"
     ]
    }
   ],
   "source": [
    "test = 'Hello\\nWorld\\n'\n",
    "print(test)"
   ]
  },
  {
   "cell_type": "code",
   "execution_count": 47,
   "metadata": {},
   "outputs": [
    {
     "name": "stdout",
     "output_type": "stream",
     "text": [
      "Hello\\nWorld\\n\n"
     ]
    }
   ],
   "source": [
    "test = r'Hello\\nWorld\\n'\n",
    "print(test)"
   ]
  },
  {
   "cell_type": "code",
   "execution_count": 49,
   "metadata": {},
   "outputs": [
    {
     "name": "stdout",
     "output_type": "stream",
     "text": [
      "Пам'ять \\ \n"
     ]
    }
   ],
   "source": [
    "name = \"Пам'ять \\\\ \" # \n",
    "print(name)"
   ]
  },
  {
   "cell_type": "code",
   "execution_count": 50,
   "metadata": {},
   "outputs": [
    {
     "name": "stdout",
     "output_type": "stream",
     "text": [
      "Hello World!\\nMy name {name} and my surname \\'{surname}\\n\\t\\t{age}\\t\\t\n"
     ]
    }
   ],
   "source": [
    "sente = r'Hello World!\\nMy name {name} and my surname \\'{surname}\\n\\t\\t{age}\\t\\t'\n",
    "print(sente)"
   ]
  },
  {
   "cell_type": "code",
   "execution_count": 52,
   "metadata": {},
   "outputs": [
    {
     "name": "stdout",
     "output_type": "stream",
     "text": [
      "Mark:  aff \n",
      "Year:  wqdqw \n",
      "Type of engine:  34\n",
      "\n",
      "Mark: aff\n",
      "Year: wqdqw\\mType of engine: 34\n",
      "\n",
      "Mark: aff \n",
      "Year: wqdqw \n",
      "Type of engine: 34\n"
     ]
    }
   ],
   "source": [
    "# Task1. Прийняти від корустувача: марку, рік, тип двигуна. Вивезти всю інформацію use 3 - types of format - виправити \n",
    "mark_auto = input('Enter mark auto: ')\n",
    "year_auto = input(f'Enter year auto: {mark_auto}: ')\n",
    "type_of_engine = input('Enter type/size of engine: ')\n",
    "\n",
    "# First, simple concat \n",
    "print('Mark: ', mark_auto, '\\nYear: ', year_auto, '\\nType of engine: ', type_of_engine, end = '\\n\\n')\n",
    "\n",
    "# Second var, with format \n",
    "print('Mark: {mark}\\nYear: {year}\\mType of engine: {type}'.format(mark = mark_auto, year = year_auto, type = type_of_engine), end = '\\n\\n')\n",
    "\n",
    "\n",
    "# Thierd var, using f-strings\n",
    "print(f'Mark: {mark_auto} \\nYear: {year_auto} \\nType of engine: {type_of_engine}')"
   ]
  },
  {
   "cell_type": "code",
   "execution_count": null,
   "metadata": {},
   "outputs": [],
   "source": [
    "# [], {dict, set, format}, (tuple, generate function ) "
   ]
  },
  {
   "attachments": {},
   "cell_type": "markdown",
   "metadata": {},
   "source": [
    "#### List\n",
    "**List** - упорядкована колекці(має індекси), різних типів данних"
   ]
  },
  {
   "cell_type": "code",
   "execution_count": null,
   "metadata": {},
   "outputs": [],
   "source": [
    "int(input(''))"
   ]
  },
  {
   "cell_type": "code",
   "execution_count": 55,
   "metadata": {},
   "outputs": [
    {
     "data": {
      "text/plain": [
       "['__sizeof__',\n",
       " '__str__',\n",
       " '__subclasshook__',\n",
       " 'append',\n",
       " 'clear',\n",
       " 'copy',\n",
       " 'count',\n",
       " 'extend',\n",
       " 'index',\n",
       " 'insert',\n",
       " 'pop',\n",
       " 'remove',\n",
       " 'reverse',\n",
       " 'sort']"
      ]
     },
     "execution_count": 55,
     "metadata": {},
     "output_type": "execute_result"
    }
   ],
   "source": [
    "dir(list)[34::]"
   ]
  },
  {
   "cell_type": "code",
   "execution_count": 64,
   "metadata": {},
   "outputs": [
    {
     "name": "stdout",
     "output_type": "stream",
     "text": [
      "[] <class 'list'>\n",
      "[1, 2, [3, 4]] 1\n"
     ]
    }
   ],
   "source": [
    "my_first_list = []\n",
    "print(my_first_list, type(my_first_list))\n",
    "\n",
    "my_first_list.append(1)\n",
    "my_first_list.append(2)\n",
    "my_first_list.append([3, 4])\n",
    "print(my_first_list, my_first_list[0])"
   ]
  },
  {
   "cell_type": "code",
   "execution_count": 61,
   "metadata": {},
   "outputs": [
    {
     "name": "stdout",
     "output_type": "stream",
     "text": [
      "[] <class 'list'>\n"
     ]
    }
   ],
   "source": [
    "second_list = list()\n",
    "print(second_list, type(second_list))"
   ]
  },
  {
   "cell_type": "code",
   "execution_count": 66,
   "metadata": {},
   "outputs": [
    {
     "name": "stdout",
     "output_type": "stream",
     "text": [
      "['name', 'surname', 18, True, [], 3.14]\n"
     ]
    }
   ],
   "source": [
    "arr = ['name', 'surname', 18, True, [], 3.14] # create list by using []\n",
    "arr_1 = list() # create emp list or use []\n",
    "print(arr)"
   ]
  },
  {
   "cell_type": "code",
   "execution_count": 67,
   "metadata": {},
   "outputs": [
    {
     "name": "stdout",
     "output_type": "stream",
     "text": [
      "['name', 'surname', 18, True, [], 3.14] <class 'list'> name\n",
      "[] <class 'list'>\n"
     ]
    }
   ],
   "source": [
    "print(arr, type(arr), arr[0]) # Доступ до elements by index. Index 0 for len list\n",
    "print(arr_1, type(arr))"
   ]
  },
  {
   "cell_type": "code",
   "execution_count": null,
   "metadata": {},
   "outputs": [],
   "source": [
    "arr.append(7) # add element if last position\n",
    "print(arr)"
   ]
  },
  {
   "cell_type": "code",
   "execution_count": 69,
   "metadata": {},
   "outputs": [
    {
     "name": "stdout",
     "output_type": "stream",
     "text": [
      "['name', 'surname', 18, True, [], 3.14, [9, 10], 11, 12, [9, 10]]\n",
      "['name', 'surname', 18, True, [], 3.14, [9, 10], 11, 12, [9, 10], 11, 12, 11]\n"
     ]
    }
   ],
   "source": [
    "arr.append([9, 10])\n",
    "print(arr)\n",
    "\n",
    "arr.extend([11, 12,11])\n",
    "print(arr)"
   ]
  },
  {
   "cell_type": "code",
   "execution_count": 70,
   "metadata": {},
   "outputs": [
    {
     "name": "stdout",
     "output_type": "stream",
     "text": [
      "['name', 'surname', 18, True, [], 3.14, [9, 10], 11, 12, [9, 10], 11, 12, 11]\n",
      "['name', 18, True, [], 3.14, [9, 10], 11, 12, [9, 10], 11, 12, 11]\n"
     ]
    }
   ],
   "source": [
    "print(arr)\n",
    "arr.pop(1)\n",
    "print(arr)"
   ]
  },
  {
   "cell_type": "code",
   "execution_count": 71,
   "metadata": {},
   "outputs": [],
   "source": [
    "matrix = [\n",
    "    [1,2,[3,4,5]], # 0\n",
    "    [4,5,6], # 1\n",
    "    [7,8,9] # 2\n",
    "]"
   ]
  },
  {
   "cell_type": "code",
   "execution_count": 72,
   "metadata": {},
   "outputs": [
    {
     "name": "stdout",
     "output_type": "stream",
     "text": [
      "3\n",
      "1 5 9\n"
     ]
    }
   ],
   "source": [
    "print(matrix[0][-1][0]) # 0 - [1,2,[3,4,5]], -1 - [3,4,5], 0 - 3\n",
    "print(matrix[0][0], matrix[1][1], matrix[2][2])\n"
   ]
  },
  {
   "cell_type": "code",
   "execution_count": 73,
   "metadata": {},
   "outputs": [
    {
     "name": "stdout",
     "output_type": "stream",
     "text": [
      "[1, 2, 3, [4, 5, [2, 3, 4], 6, 7], 6, 7]\n"
     ]
    }
   ],
   "source": [
    "a = [1,2,3,[4,5,[2,3,4],6,7],6,7] \n",
    "print(a)"
   ]
  },
  {
   "cell_type": "code",
   "execution_count": 74,
   "metadata": {},
   "outputs": [
    {
     "name": "stdout",
     "output_type": "stream",
     "text": [
      "2\n"
     ]
    }
   ],
   "source": [
    "print(a[3][2][0])"
   ]
  },
  {
   "cell_type": "code",
   "execution_count": 78,
   "metadata": {},
   "outputs": [
    {
     "name": "stdout",
     "output_type": "stream",
     "text": [
      "You can't go bar\n"
     ]
    }
   ],
   "source": [
    "# if/stat - Оператори Розгла\n",
    "# if <operation> and/or/not <operation>:\n",
    "age = 17\n",
    "if age >= 18 and age <= 100:\n",
    "    print('You can go bar')\n",
    "elif age < 18:\n",
    "    print('You can\\'t go bar')\n",
    "else: \n",
    "    print('No info ')"
   ]
  },
  {
   "cell_type": "code",
   "execution_count": null,
   "metadata": {},
   "outputs": [],
   "source": [
    "age = 101\n",
    "if age >= 18 and age <= 100: # first statement\n",
    "    # indent block\n",
    "    print('You can go bar')\n",
    "elif age <= 18: # next stat if first False\n",
    "    print(f'wait {18 - age}')\n",
    "else: # if other block false, than up to else\n",
    "    print('No info')"
   ]
  },
  {
   "cell_type": "code",
   "execution_count": 82,
   "metadata": {},
   "outputs": [
    {
     "name": "stdout",
     "output_type": "stream",
     "text": [
      "Porsche\n",
      "It is not Jaguar 😟\n"
     ]
    }
   ],
   "source": [
    "from random import choice\n",
    "\n",
    "auto = ['Jaguar', 'Porsche', 'Tesla', 'Reno']\n",
    "\n",
    "val = choice(auto)\n",
    "print(val)\n",
    "\n",
    "match val: # val \n",
    "    case 'Jaguar': # val == 'Jaguar'\n",
    "        print('Jaguar best car')\n",
    "    case 'Porsche': print('It is not Jaguar 😟')\n",
    "    case 'Tesla':   print('Buy Jaguar')\n",
    "    case _ : print('error') # else block"
   ]
  },
  {
   "cell_type": "code",
   "execution_count": null,
   "metadata": {},
   "outputs": [],
   "source": []
  },
  {
   "cell_type": "code",
   "execution_count": null,
   "metadata": {},
   "outputs": [],
   "source": [
    "# 1. Take an integer number as input and print if it’s “Even” or “Odd”.\n",
    "# input, print, cast, if \n",
    "\n",
    "number = 15 # int(input('Enter number: '))\n",
    "# You code - first var\n",
    "if number % 2 == 0:\n",
    "    print('Even')\n",
    "else:\n",
    "    print('Odd')\n",
    "    \n",
    "# second var \n",
    "if number % 2 == 0:\n",
    "    print('Even')\n",
    "elif number % 2 == 1:\n",
    "    print('Odd')\n",
    "else: \n",
    "    print('Error number')\n",
    "\n",
    "# best - ternar\n",
    "result = 'Even' if number % 2 == 0 else 'Odd'\n",
    "print(result)\n",
    "    "
   ]
  },
  {
   "cell_type": "code",
   "execution_count": 83,
   "metadata": {},
   "outputs": [
    {
     "name": "stdout",
     "output_type": "stream",
     "text": [
      "Big\n",
      "Big\n"
     ]
    }
   ],
   "source": [
    "# 2. Take as inputs sides of rectangular and print “Big” if the area is larger than 100, otherwise “small”.\n",
    "hei = 11 # int(input('Enter hei: '))\n",
    "wei = 10 # int(input('Enter wei: '))\n",
    "\n",
    "# First var\n",
    "if (hei * wei) > 100:\n",
    "    print('Big')\n",
    "else:\n",
    "    print('Small')\n",
    "\n",
    "# Second var\n",
    "result = 'Big' if (hei * wei) > 100 else 'Small'\n",
    "print(result)"
   ]
  },
  {
   "cell_type": "code",
   "execution_count": null,
   "metadata": {},
   "outputs": [],
   "source": [
    "# 3. Введіть назву фігури та відповідні параметри для того, щоб дізнатись її площу. \n",
    "# Виведіть напис «Великий», якщо площа більше 100, «Маленький», якщо менше. І якщо відповідь від'ємна – «Помилка»"
   ]
  },
  {
   "cell_type": "code",
   "execution_count": null,
   "metadata": {},
   "outputs": [],
   "source": [
    "# Ромб, трик, квадрату, коло, прямокутник"
   ]
  },
  {
   "cell_type": "code",
   "execution_count": null,
   "metadata": {},
   "outputs": [],
   "source": [
    "figure = ['Circle', 'Rectangle']\n",
    "\n",
    "user_figure  = input('Enter you figure: ').capitalize()\n",
    "\n",
    "if user_figure in figure:\n",
    "    PI = 3.14159\n",
    "    match user_figure: \n",
    "        case 'Circle':\n",
    "            print(f'You figure is {user_figure}')\n",
    "            r = float(input('Enter radi: ').strip())\n",
    "            sq = 2 * (PI * r)\n",
    "            print(f'Sq: {sq}. \\nFormula: 2 * (PI * r)')\n",
    "            if sq > 100:\n",
    "                print('Великий')\n",
    "            elif sq >= 0 and sq < 100:\n",
    "                print('Маленький')\n",
    "            else: \n",
    "                print('Помилка')\n",
    "                \n",
    "        case _ :\n",
    "            print(f'You figure is {user_figure}')\n",
    "            print('Something wrong, try later')\n",
    "else:\n",
    "    print('Wrong figure ')\n",
    "            "
   ]
  },
  {
   "cell_type": "code",
   "execution_count": null,
   "metadata": {},
   "outputs": [],
   "source": [
    "# 4. Take as input two real numbers and an operation (“+” or “-” or“/” or “*”) and calculate the result of the operation. \n",
    "# Watch for division by zero errors!"
   ]
  },
  {
   "cell_type": "code",
   "execution_count": null,
   "metadata": {},
   "outputs": [],
   "source": [
    "0 / 15, 0 // 15"
   ]
  },
  {
   "cell_type": "code",
   "execution_count": null,
   "metadata": {},
   "outputs": [],
   "source": [
    "number_1 = 10\n",
    "number_2 = 15\n",
    "\n",
    "operation = '+'.strip()\n",
    "\n",
    "match operation:\n",
    "    case '+':\n",
    "        print(f'{number_1} + {number_2} = {number_1 + number_2}')\n",
    "    case '-':\n",
    "        print(f'{number_1} - {number_2} = {number_1 - number_2}')\n",
    "    case '*':\n",
    "        print(f'{number_1} * {number_2} = {number_1 * number_2}')\n",
    "    case '/':\n",
    "        res = number_1 / number_2 if number_2 != 0 else 'Number_2 equal 0'\n",
    "        print(f'{number_1} / {number_2} = {res}')\n",
    "    case '//':\n",
    "        res = number_1 // number_2 if number_2 != 0 else 'Number_2 equal 0'\n",
    "        print(f'{number_1} // {number_2} = {res}')\n",
    "    case '**':\n",
    "        print(f'{number_1} ** {number_2} = {number_1 ** number_2}')\n",
    "    case _ :\n",
    "        print(f'No information about operation {operation}')\n",
    "        \n"
   ]
  },
  {
   "cell_type": "code",
   "execution_count": 4,
   "metadata": {},
   "outputs": [
    {
     "name": "stdout",
     "output_type": "stream",
     "text": [
      "hello\n",
      "first\n",
      "last\n",
      "second\n",
      "Blue purple\n"
     ]
    }
   ],
   "source": [
    "# Task 1\n",
    "print('hello')\n",
    "\n",
    "# Task 2\n",
    "print('first', 'last', 'second', sep = '\\n', end = '\\n') \n",
    "\n",
    "# Task 3\n",
    "# True is True =  True, True is object = False \n",
    "\n",
    "# Task 4\n",
    "# True in ['True', 'False'] = False, True not in ['True', 'False']\n",
    "\n",
    "# Task 5. $, =, probil - delete\n",
    "var_12 = 54\n",
    "\n",
    "# Task 6. \n",
    "color = ['purple', 'yellow']\n",
    "\n",
    "match color[0]:\n",
    "    case 'blue':\n",
    "        print('Color is blue')\n",
    "    case 'red':\n",
    "        print('Color is red')\n",
    "    case 'purple':\n",
    "        print('Blue purple')\n",
    "    case _:\n",
    "        print(f'Color is {color}')"
   ]
  },
  {
   "cell_type": "code",
   "execution_count": null,
   "metadata": {},
   "outputs": [],
   "source": [
    "# Task 1. Add key-words\n",
    "___('hello') # display text  print\n",
    "\n",
    "\n",
    "___('first', 'last', 'second', ___ = '\\n', ___ = '\\n') # Add end syb and separator \n",
    "# print sep, end\n",
    "print('first', 'last', 'second', sep = '\\n', end = '\\n') \n",
    "\n",
    "print(True is True, True is object) # what return?\n",
    "\n",
    "\n",
    "print(True in ['True', 'False'], True not in ['True', 'False']) # what return?\n",
    "\n",
    "# спец знак на початку, не повн бути пробілів, = \n",
    "$var _12 == 54 # how to fix \n",
    "\n",
    "# ['blue', 'purple']\n",
    "color = ___ # create a list with two colors\n",
    "# [0]\n",
    "match color___ # extract first value \n",
    "    ___ 'blue':\n",
    "        print('Color is blue')\n",
    "    ___ 'red':\n",
    "        print('Color is red')\n",
    "    ___ 'purple':\n",
    "        print('Blue purple')\n",
    "    ___ _:\n",
    "        print(f'Color is {color}')\n",
    "        \n",
    "        \n",
    "# Task 2. Strings - formating - old style, format, f-strings\n",
    "# Task 3. List - list operation \n",
    "# Task 4. Оператори розгал - if-statement/match-case "
   ]
  },
  {
   "cell_type": "code",
   "execution_count": 3,
   "metadata": {},
   "outputs": [
    {
     "name": "stdout",
     "output_type": "stream",
     "text": [
      "True False\n",
      "False True\n"
     ]
    }
   ],
   "source": [
    "# True, False\n",
    "print(True is True, True is object) # what return?\n",
    "\n",
    "# True False\n",
    "print(True in ['True', 'False'], True not in ['True', 'False']) # what return?"
   ]
  },
  {
   "cell_type": "code",
   "execution_count": 5,
   "metadata": {},
   "outputs": [
    {
     "data": {
      "text/plain": [
       "['__sizeof__',\n",
       " '__str__',\n",
       " '__subclasshook__',\n",
       " 'append',\n",
       " 'clear',\n",
       " 'copy',\n",
       " 'count',\n",
       " 'extend',\n",
       " 'index',\n",
       " 'insert',\n",
       " 'pop',\n",
       " 'remove',\n",
       " 'reverse',\n",
       " 'sort']"
      ]
     },
     "execution_count": 5,
     "metadata": {},
     "output_type": "execute_result"
    }
   ],
   "source": [
    "dir(list)[34::]"
   ]
  },
  {
   "cell_type": "code",
   "execution_count": 6,
   "metadata": {},
   "outputs": [],
   "source": [
    "a = 18\n",
    "x = 5"
   ]
  },
  {
   "cell_type": "code",
   "execution_count": 7,
   "metadata": {},
   "outputs": [
    {
     "name": "stdout",
     "output_type": "stream",
     "text": [
      "6\n",
      "7\n"
     ]
    }
   ],
   "source": [
    "x += 1 # increment \n",
    "print(x)\n",
    "x = x + 1\n",
    "print(x)"
   ]
  },
  {
   "cell_type": "code",
   "execution_count": 8,
   "metadata": {},
   "outputs": [
    {
     "name": "stdout",
     "output_type": "stream",
     "text": [
      "49\n",
      "98\n"
     ]
    }
   ],
   "source": [
    "x **= 2\n",
    "print(x)\n",
    "x *= 2\n",
    "print(x)"
   ]
  },
  {
   "cell_type": "code",
   "execution_count": null,
   "metadata": {},
   "outputs": [],
   "source": [
    "# Task 1\n",
    "# Add some command to solve task\n",
    "if a >= 18:\n",
    "    print('You can go bar')\n",
    "elif a < 18:\n",
    "    print('You can\\'t go')\n",
    "else:\n",
    "    print('Error age')"
   ]
  },
  {
   "cell_type": "code",
   "execution_count": 24,
   "metadata": {},
   "outputs": [
    {
     "name": "stdout",
     "output_type": "stream",
     "text": [
      "+\n"
     ]
    }
   ],
   "source": [
    "symbol = '+'\n",
    "match symbol:\n",
    "    case '+': # if == \n",
    "        print('+')\n",
    "    case '-': # elif\n",
    "        print('-')\n",
    "    case _ : # else \n",
    "        print(f'Symbol: {symbol}')"
   ]
  },
  {
   "cell_type": "code",
   "execution_count": 9,
   "metadata": {},
   "outputs": [
    {
     "name": "stdout",
     "output_type": "stream",
     "text": [
      "All okey\n"
     ]
    }
   ],
   "source": [
    "status_code = '200'\n",
    "match status_code:\n",
    "    case '200':\n",
    "        print('All okey')\n",
    "    case '404':\n",
    "        print('Error connect')\n",
    "    case _ as E:\n",
    "        print(f'Unkwown status code {E}')"
   ]
  },
  {
   "cell_type": "code",
   "execution_count": 32,
   "metadata": {},
   "outputs": [
    {
     "name": "stdout",
     "output_type": "stream",
     "text": [
      "All okey\n"
     ]
    }
   ],
   "source": [
    "if status_code == '200':\n",
    "    print('All okey')\n",
    "elif status_code == '404':\n",
    "     print('Error connect')\n",
    "else:\n",
    "    print(f'Unkwown status code {status_code}')"
   ]
  },
  {
   "attachments": {},
   "cell_type": "markdown",
   "metadata": {},
   "source": [
    "#### And \n",
    "> False True - 0, 1   - False  \n",
    "> True False - 1, 0   - False  \n",
    "> False False - 0, 0  - False  \n",
    "> True True - 1, 1    -  True  "
   ]
  },
  {
   "attachments": {},
   "cell_type": "markdown",
   "metadata": {},
   "source": [
    "#### Or \n",
    "> True False - 1, 0 - True  \n",
    "> False True - 0, 1 - True  \n",
    "> True True  - 1, 1 - True  \n",
    "> False False - 0, 0 - False  "
   ]
  },
  {
   "attachments": {},
   "cell_type": "markdown",
   "metadata": {},
   "source": [
    "#### not логічне ні\n",
    "> True -> False   \n",
    "> False -> True   "
   ]
  },
  {
   "cell_type": "code",
   "execution_count": null,
   "metadata": {},
   "outputs": [],
   "source": [
    "10 > 5 and 15 > 10 # 10 > 5 = True, 15 > 10 = True  True and True -> True "
   ]
  },
  {
   "cell_type": "code",
   "execution_count": 11,
   "metadata": {},
   "outputs": [
    {
     "name": "stdout",
     "output_type": "stream",
     "text": [
      "True\n"
     ]
    }
   ],
   "source": [
    "i = 17\n",
    "b = 'str'\n",
    "\n",
    "print(i < 18 or b ** 2 == 3)\n",
    "#print(b ** 2 == 3 or i < 18)\n",
    "# print(i < 18 and b ** 2 == 3)"
   ]
  },
  {
   "cell_type": "code",
   "execution_count": 10,
   "metadata": {},
   "outputs": [
    {
     "data": {
      "text/plain": [
       "True"
      ]
     },
     "execution_count": 10,
     "metadata": {},
     "output_type": "execute_result"
    }
   ],
   "source": [
    "# Task 2\n",
    "(not True) == False"
   ]
  },
  {
   "cell_type": "code",
   "execution_count": 44,
   "metadata": {},
   "outputs": [
    {
     "name": "stdout",
     "output_type": "stream",
     "text": [
      "[5]\n",
      "[5, '10']\n",
      "5 10\n"
     ]
    }
   ],
   "source": [
    "arr = []\n",
    "\n",
    "arr.append(5)\n",
    "print(arr)\n",
    "\n",
    "arr.append('10')\n",
    "print(arr)\n",
    "\n",
    "print(arr[0], arr[-1])"
   ]
  },
  {
   "cell_type": "code",
   "execution_count": 47,
   "metadata": {},
   "outputs": [
    {
     "name": "stdout",
     "output_type": "stream",
     "text": [
      "[5, '10', [6, 7, 8], (6, 7, 8)]\n"
     ]
    }
   ],
   "source": [
    "arr.append((6,7,8))\n",
    "print(arr)"
   ]
  },
  {
   "cell_type": "code",
   "execution_count": 48,
   "metadata": {},
   "outputs": [],
   "source": [
    "arr.extend([6,7,8])"
   ]
  },
  {
   "cell_type": "code",
   "execution_count": 49,
   "metadata": {},
   "outputs": [
    {
     "name": "stdout",
     "output_type": "stream",
     "text": [
      "[5, '10', [6, 7, 8], (6, 7, 8), 6, 7, 8]\n"
     ]
    }
   ],
   "source": [
    "print(arr)"
   ]
  },
  {
   "cell_type": "code",
   "execution_count": 53,
   "metadata": {},
   "outputs": [
    {
     "name": "stdout",
     "output_type": "stream",
     "text": [
      "[2, 3]\n"
     ]
    }
   ],
   "source": [
    "arr_ = [1,2,3, 4,5 ,'six', 'seven']\n",
    "print(arr_[1:3])"
   ]
  },
  {
   "cell_type": "code",
   "execution_count": 66,
   "metadata": {},
   "outputs": [
    {
     "name": "stdout",
     "output_type": "stream",
     "text": [
      "seven 7 ['seven', 'six', 5]\n"
     ]
    }
   ],
   "source": [
    "print(arr_[-1], len(arr_), arr_[-1:-4:-1]) # start end step"
   ]
  },
  {
   "attachments": {},
   "cell_type": "markdown",
   "metadata": {},
   "source": [
    "#### While/For loops"
   ]
  },
  {
   "cell_type": "code",
   "execution_count": null,
   "metadata": {},
   "outputs": [],
   "source": [
    "while True:\n",
    "    print('a')"
   ]
  },
  {
   "cell_type": "code",
   "execution_count": 12,
   "metadata": {},
   "outputs": [
    {
     "ename": "KeyboardInterrupt",
     "evalue": "",
     "output_type": "error",
     "traceback": [
      "\u001b[0;31m---------------------------------------------------------------------------\u001b[0m",
      "\u001b[0;31mKeyboardInterrupt\u001b[0m                         Traceback (most recent call last)",
      "Cell \u001b[0;32mIn[12], line 2\u001b[0m\n\u001b[1;32m      1\u001b[0m a \u001b[39m=\u001b[39m \u001b[39m0\u001b[39m \n\u001b[0;32m----> 2\u001b[0m \u001b[39mwhile\u001b[39;00m \u001b[39mTrue\u001b[39;00m:\n\u001b[1;32m      3\u001b[0m     \u001b[39mif\u001b[39;00m a \u001b[39m==\u001b[39m \u001b[39m3\u001b[39m:\n\u001b[1;32m      4\u001b[0m         \u001b[39mprint\u001b[39m(\u001b[39m'\u001b[39m\u001b[39ma\u001b[39m\u001b[39m'\u001b[39m)\n",
      "\u001b[0;31mKeyboardInterrupt\u001b[0m: "
     ]
    }
   ],
   "source": [
    "a = 0 \n",
    "while True:\n",
    "    if a == 3:\n",
    "        print('a')\n",
    "        break"
   ]
  },
  {
   "cell_type": "code",
   "execution_count": 17,
   "metadata": {},
   "outputs": [
    {
     "name": "stdout",
     "output_type": "stream",
     "text": [
      "2\n",
      "4\n",
      "6\n",
      "8\n",
      "10\n",
      "All done\n"
     ]
    }
   ],
   "source": [
    "number = [i for i in range(1,11)]\n",
    "\n",
    "for i in number:\n",
    "    if i % 2 != 0:\n",
    "        continue\n",
    "    else:\n",
    "        print(i)\n",
    "else:\n",
    "    print('All done')"
   ]
  },
  {
   "cell_type": "code",
   "execution_count": 13,
   "metadata": {},
   "outputs": [
    {
     "name": "stdout",
     "output_type": "stream",
     "text": [
      "1\n",
      "2\n",
      "3\n",
      "4\n",
      "5\n",
      "All done\n"
     ]
    }
   ],
   "source": [
    "number = 1\n",
    "\n",
    "while number <= 5:\n",
    "    print(number)\n",
    "    number += 1\n",
    "else:\n",
    "    print('All done')"
   ]
  },
  {
   "cell_type": "code",
   "execution_count": 73,
   "metadata": {},
   "outputs": [],
   "source": [
    "arr = [i for i in range(100)]\n",
    "arr_ = [i for i in range(10)]\n",
    "\n",
    "def help_(arr: list):\n",
    "    counter = 0\n",
    "    while True:\n",
    "        if counter == len(arr):\n",
    "            break\n",
    "        else:\n",
    "            print(arr[counter], counter)\n",
    "            counter += 1\n",
    "    else:\n",
    "        print('End loop')"
   ]
  },
  {
   "cell_type": "code",
   "execution_count": 74,
   "metadata": {},
   "outputs": [
    {
     "name": "stdout",
     "output_type": "stream",
     "text": [
      "0 0\n",
      "1 1\n",
      "2 2\n",
      "3 3\n",
      "4 4\n",
      "5 5\n",
      "6 6\n",
      "7 7\n",
      "8 8\n",
      "9 9\n",
      "10 10\n",
      "11 11\n",
      "12 12\n",
      "13 13\n",
      "14 14\n",
      "15 15\n",
      "16 16\n",
      "17 17\n",
      "18 18\n",
      "19 19\n",
      "20 20\n",
      "21 21\n",
      "22 22\n",
      "23 23\n",
      "24 24\n",
      "25 25\n",
      "26 26\n",
      "27 27\n",
      "28 28\n",
      "29 29\n",
      "30 30\n",
      "31 31\n",
      "32 32\n",
      "33 33\n",
      "34 34\n",
      "35 35\n",
      "36 36\n",
      "37 37\n",
      "38 38\n",
      "39 39\n",
      "40 40\n",
      "41 41\n",
      "42 42\n",
      "43 43\n",
      "44 44\n",
      "45 45\n",
      "46 46\n",
      "47 47\n",
      "48 48\n",
      "49 49\n",
      "50 50\n",
      "51 51\n",
      "52 52\n",
      "53 53\n",
      "54 54\n",
      "55 55\n",
      "56 56\n",
      "57 57\n",
      "58 58\n",
      "59 59\n",
      "60 60\n",
      "61 61\n",
      "62 62\n",
      "63 63\n",
      "64 64\n",
      "65 65\n",
      "66 66\n",
      "67 67\n",
      "68 68\n",
      "69 69\n",
      "70 70\n",
      "71 71\n",
      "72 72\n",
      "73 73\n",
      "74 74\n",
      "75 75\n",
      "76 76\n",
      "77 77\n",
      "78 78\n",
      "79 79\n",
      "80 80\n",
      "81 81\n",
      "82 82\n",
      "83 83\n",
      "84 84\n",
      "85 85\n",
      "86 86\n",
      "87 87\n",
      "88 88\n",
      "89 89\n",
      "90 90\n",
      "91 91\n",
      "92 92\n",
      "93 93\n",
      "94 94\n",
      "95 95\n",
      "96 96\n",
      "97 97\n",
      "98 98\n",
      "99 99\n"
     ]
    }
   ],
   "source": [
    "help_(arr)"
   ]
  },
  {
   "cell_type": "code",
   "execution_count": 75,
   "metadata": {},
   "outputs": [
    {
     "name": "stdout",
     "output_type": "stream",
     "text": [
      "0 0\n",
      "1 1\n",
      "2 2\n",
      "3 3\n",
      "4 4\n",
      "5 5\n",
      "6 6\n",
      "7 7\n",
      "8 8\n",
      "9 9\n"
     ]
    }
   ],
   "source": [
    "help_(arr_)"
   ]
  },
  {
   "cell_type": "code",
   "execution_count": 22,
   "metadata": {},
   "outputs": [
    {
     "name": "stdout",
     "output_type": "stream",
     "text": [
      "1 10\n",
      "2 10\n",
      "3 10\n",
      "4 10\n",
      "5 10\n",
      "6 10\n",
      "7 10\n",
      "8 10\n",
      "9 10\n",
      "10 10\n",
      "End loop\n"
     ]
    }
   ],
   "source": [
    "number = 1\n",
    "\n",
    "while number <= 10:\n",
    "    print(number, t )\n",
    "    number += 1\n",
    "else:\n",
    "    print('End loop')"
   ]
  },
  {
   "cell_type": "code",
   "execution_count": 23,
   "metadata": {},
   "outputs": [
    {
     "name": "stdout",
     "output_type": "stream",
     "text": [
      "1\n",
      "2\n",
      "3\n",
      "4\n",
      "5\n"
     ]
    }
   ],
   "source": [
    "for i in [1,2,3,4,5]:\n",
    "    print(i)"
   ]
  },
  {
   "cell_type": "code",
   "execution_count": 30,
   "metadata": {},
   "outputs": [
    {
     "name": "stdout",
     "output_type": "stream",
     "text": [
      "s 0\n",
      "t 1\n",
      "r 2\n",
      "i 3\n",
      "n 4\n",
      "g 5\n",
      "  6\n",
      "s 7\n",
      "t 8\n",
      "r 9\n",
      "i 10\n",
      "n 11\n",
      "g 12\n"
     ]
    }
   ],
   "source": [
    "# range - [) - діапозон \n",
    "range(0, 10)\n",
    "\n",
    "# string string \n",
    "name = 'string string'\n",
    "for i in range(0, len(name)): # iter \n",
    "    print(name[i],i)"
   ]
  },
  {
   "cell_type": "code",
   "execution_count": 34,
   "metadata": {},
   "outputs": [
    {
     "name": "stdout",
     "output_type": "stream",
     "text": [
      "0\n",
      "2\n",
      "4\n",
      "6\n",
      "8\n"
     ]
    }
   ],
   "source": [
    "for i in range(0, 10):\n",
    "    if i % 2 != 0:\n",
    "        continue\n",
    "    else:\n",
    "        print(i)"
   ]
  },
  {
   "cell_type": "code",
   "execution_count": 35,
   "metadata": {},
   "outputs": [
    {
     "name": "stdout",
     "output_type": "stream",
     "text": [
      "[1, 2, 3, 4, 5, 6, 7, 8, 9]\n"
     ]
    }
   ],
   "source": [
    "# Compr list \n",
    "arr = []\n",
    "\n",
    "for i in range(1, 10):\n",
    "    arr.append(i)\n",
    "    \n",
    "print(arr)"
   ]
  },
  {
   "cell_type": "code",
   "execution_count": 38,
   "metadata": {},
   "outputs": [
    {
     "name": "stdout",
     "output_type": "stream",
     "text": [
      "[1, 2, 3, 4, 5, 6, 7, 8, 9]\n",
      "[2, 4, 6, 8]\n"
     ]
    }
   ],
   "source": [
    "arr = [i for i in range(1, 10)]\n",
    "print(arr)\n",
    "\n",
    "# <list_name> = [<value_save> for <iterator> in <some collection>]\n",
    "arr_1 = [i for i in range(1,10) if i % 2 == 0]\n",
    "print(arr_1)\n",
    "\n",
    "# <list_name> = [<value_save> for <iterator> in <some collection> if <some condit>]"
   ]
  },
  {
   "cell_type": "code",
   "execution_count": 41,
   "metadata": {},
   "outputs": [
    {
     "name": "stdout",
     "output_type": "stream",
     "text": [
      "0\n",
      "1\n",
      "2\n",
      "4\n",
      "5\n",
      "7\n",
      "8\n"
     ]
    }
   ],
   "source": [
    "arr = [i for i in range(0, 10)]\n",
    "for i in arr:\n",
    "    if i % 3 == 0 and i != 0:\n",
    "        continue\n",
    "    elif i == 8:\n",
    "        print(i)\n",
    "        break \n",
    "    else:\n",
    "        print(i)"
   ]
  },
  {
   "cell_type": "code",
   "execution_count": 42,
   "metadata": {},
   "outputs": [
    {
     "name": "stdout",
     "output_type": "stream",
     "text": [
      "9\n"
     ]
    },
    {
     "ename": "IndexError",
     "evalue": "string index out of range",
     "output_type": "error",
     "traceback": [
      "\u001b[0;31m---------------------------------------------------------------------------\u001b[0m",
      "\u001b[0;31mIndexError\u001b[0m                                Traceback (most recent call last)",
      "Cell \u001b[0;32mIn[42], line 5\u001b[0m\n\u001b[1;32m      3\u001b[0m \u001b[39mfor\u001b[39;00m i \u001b[39min\u001b[39;00m \u001b[39mrange\u001b[39m(\u001b[39m9\u001b[39m, \u001b[39m0\u001b[39m, \u001b[39m-\u001b[39m\u001b[39m2\u001b[39m):\n\u001b[1;32m      4\u001b[0m     \u001b[39mprint\u001b[39m(i)\n\u001b[0;32m----> 5\u001b[0m     \u001b[39mprint\u001b[39m(str_[i],i)\n",
      "\u001b[0;31mIndexError\u001b[0m: string index out of range"
     ]
    }
   ],
   "source": [
    "range_ = range(0, 10, 3)\n",
    "str_ = 'string'\n",
    "for i in range(9, 0, -2):\n",
    "    print(i)\n",
    "    print(str_[i],i)"
   ]
  },
  {
   "cell_type": "code",
   "execution_count": 43,
   "metadata": {},
   "outputs": [
    {
     "name": "stdout",
     "output_type": "stream",
     "text": [
      "0\n",
      "1\n",
      "2\n",
      "3\n",
      "4\n",
      "5\n",
      "6\n",
      "7\n",
      "8\n",
      "9\n"
     ]
    }
   ],
   "source": [
    "for name in range(0, 10):\n",
    "    print(name)"
   ]
  },
  {
   "cell_type": "code",
   "execution_count": 44,
   "metadata": {},
   "outputs": [
    {
     "name": "stdout",
     "output_type": "stream",
     "text": [
      "s\n",
      "t\n",
      "r\n",
      "i\n",
      "n\n",
      "g\n"
     ]
    }
   ],
   "source": [
    "for i in str_:\n",
    "    print(i)"
   ]
  },
  {
   "cell_type": "code",
   "execution_count": 46,
   "metadata": {},
   "outputs": [
    {
     "name": "stdout",
     "output_type": "stream",
     "text": [
      "6 s\n",
      "5 t\n",
      "4 r\n",
      "3 i\n",
      "2 n\n",
      "1 g\n"
     ]
    }
   ],
   "source": [
    "for i in range(len(str_), 0 , -1):\n",
    "    print(i, str_[-i])"
   ]
  },
  {
   "cell_type": "code",
   "execution_count": 52,
   "metadata": {},
   "outputs": [
    {
     "name": "stdout",
     "output_type": "stream",
     "text": [
      "[1, 2, 3, 4, 5, 6, 7, 8, 9, 10]\n",
      "[1, 2, 3, 4, 5, 6, 7, 8, 9, 10]\n",
      "[1, 2, 3, 4, 5, 6, 7, 8, 9, 10]\n"
     ]
    }
   ],
   "source": [
    "# Task 1. Цикл - створити список із 10 element use - loops: while/for\n",
    "\n",
    "# While loop\n",
    "i = 1 \n",
    "arr_1 = []\n",
    "while len(arr_1) < 10:\n",
    "    arr_1.append(i)\n",
    "    i += 1 \n",
    "print(arr_1)\n",
    "\n",
    "# for \n",
    "arr_2 = []\n",
    "for i in range(1, 11):\n",
    "    arr_2.append(i)\n",
    "    \n",
    "print(arr_2) \n",
    "\n",
    "# list comp \n",
    "arr_3 = [i for i in range(1, 11)]\n",
    "print(arr_3)"
   ]
  },
  {
   "cell_type": "code",
   "execution_count": 5,
   "metadata": {},
   "outputs": [
    {
     "name": "stdout",
     "output_type": "stream",
     "text": [
      "Done: [2, 15]\n",
      "8.5\n",
      "2.5\n"
     ]
    }
   ],
   "source": [
    "# Task 2. Take as input 10 real numbers and calculate their average.\n",
    "# Task 3. Print all multiples of 14 smaller than 1000.\n",
    "# Task 4. Take an integer as input and test whether or not it is prime (a prime number is divisible only by 1 and itself).\n",
    "\n",
    "\n",
    "# Task 2\n",
    "\n",
    "# var 1 \n",
    "arr = []\n",
    "N = int(input('Enter n-value: ')) # N = 10\n",
    "while len(arr) < N:\n",
    "    number = int(input('Enter number: '))\n",
    "    if number > 0: # Example of code \n",
    "        arr.append(number)\n",
    "    else:\n",
    "        continue\n",
    "else:\n",
    "    print('Done:', arr)\n",
    "\n",
    "s = 0\n",
    "for i in arr:\n",
    "    s += i  \n",
    "\n",
    "avg_ = s / len(arr)\n",
    "print(avg_)"
   ]
  },
  {
   "cell_type": "code",
   "execution_count": 5,
   "metadata": {},
   "outputs": [
    {
     "name": "stdout",
     "output_type": "stream",
     "text": [
      "Result sum: 24\n"
     ]
    }
   ],
   "source": [
    "# Task 1. Згенерувати список значеннь, від min до max. Min/Max - задає користувач \n",
    "#  Знайти в ньому суми чисел, для всіх значеннь які парні \n",
    "\n",
    "# 1 - var\n",
    "min_num = 5 # rstrip, int\n",
    "max_numb = 10 # rstrip, int\n",
    "\n",
    "min_num, max_num = int(input('Enter min value: ').rstrip()), int(input('Enter max value: ').rstrip())\n",
    "result = 0\n",
    "if min_num > max_numb:\n",
    "    print('False')\n",
    "else:\n",
    "    for i in range(min_num, max_numb + 1): # O(N)\n",
    "        if i %  2 == 0:\n",
    "            result += i\n",
    "\n",
    "# 2 - var\n",
    "result_sum = sum([i for i in range(min_num,max_numb + 1) if i % 2 == 0])\n",
    "print(f'Result sum: {result_sum}')"
   ]
  },
  {
   "cell_type": "code",
   "execution_count": 7,
   "metadata": {},
   "outputs": [
    {
     "name": "stdout",
     "output_type": "stream",
     "text": [
      "Total values: 2\n",
      "2\n"
     ]
    }
   ],
   "source": [
    "# Task 2. Count vowels in string, string enter values from user\n",
    "\n",
    "# 1 - var\n",
    "string = input('Enter you string: ').rstrip().lower()\n",
    "\n",
    "vowels = ['a', 'i', 'u', 'o', 'y', 'e']\n",
    "count_ = 0\n",
    "for i in string:\n",
    "    if i in vowels:\n",
    "        count_ += 1\n",
    "        \n",
    "print(f'Total values: {count_}')\n",
    "\n",
    "# 2 - var \n",
    "count_ = sum([1 for i in string if i in vowels])\n",
    "print(count_)"
   ]
  },
  {
   "cell_type": "code",
   "execution_count": null,
   "metadata": {},
   "outputs": [],
   "source": [
    "# Task 3. Calculate sum of string. For calculate sum - using function ord\n",
    "# string -> s - 98, t - 99, -> sum\n",
    "string = input('Enter string to calculate: ').rstrip()\n",
    "\n",
    "result = 0\n",
    "# 1 - var \n",
    "for i in string:\n",
    "    result += ord(i)\n",
    "\n",
    "# 2 - var\n",
    "result = sum(ord(i) for i in string)\n",
    "    "
   ]
  },
  {
   "cell_type": "code",
   "execution_count": null,
   "metadata": {},
   "outputs": [],
   "source": [
    "# Task 4. Check if all char in strings is number. String - it is user number\n",
    "\n",
    "string = '1234'\n",
    "# 1 - var\n",
    "if string.isdigit():\n",
    "    print(True)\n",
    "    \n",
    "# 2 - var\n",
    "number = ['0', '1', '2', '3', '4', '5', '6', '7', '8', '9']\n",
    "\n",
    "for i in string:\n",
    "    if i in number:\n",
    "        continue\n",
    "    else:\n",
    "        break\n"
   ]
  },
  {
   "cell_type": "code",
   "execution_count": null,
   "metadata": {},
   "outputs": [],
   "source": [
    "# Task 5.  User enter number. Next calculate power number from 1 to 10\n",
    "# 5, 5 ** 1, 5 ** 2 .. 5 ** 10"
   ]
  },
  {
   "cell_type": "code",
   "execution_count": null,
   "metadata": {},
   "outputs": [],
   "source": [
    "# Task 6. Check if first symbol in strings equal last symbol in strings. "
   ]
  },
  {
   "cell_type": "code",
   "execution_count": 8,
   "metadata": {},
   "outputs": [
    {
     "name": "stdout",
     "output_type": "stream",
     "text": [
      "Week password\n"
     ]
    }
   ],
   "source": [
    "# Task 7. Password check. If password have: спец символ, + 15б, більше 8 літер + 10б, має заглавну літеру +5б, містить число +2\n",
    "# +1 for symb\n",
    "# Create groups\n",
    "password = input('Enter you password: ').rstrip()\n",
    "\n",
    "count_ = 0\n",
    "\n",
    "if len(password) > 8:\n",
    "    count_ += 10\n",
    "    \n",
    "for i in password:\n",
    "    if not i.isdigit() and not i.isalpha() and i not in ['.', '_', '-',',']:\n",
    "        count_ += 15\n",
    "    elif i == i.upper(): # isupper()\n",
    "        count_ += 5\n",
    "    elif i.isdigit():\n",
    "        count_ += 2\n",
    "    else:\n",
    "        count_ += 1\n",
    "        \n",
    "if count_ < 50:\n",
    "    print(f'Week password {count_}')\n",
    "elif count_ > 50 and count_ < 65:\n",
    "    print('Middle password')\n",
    "else:\n",
    "    print('High password')\n"
   ]
  },
  {
   "cell_type": "code",
   "execution_count": null,
   "metadata": {},
   "outputs": [],
   "source": [
    "# String:\n",
    "   # Task 1. Write a program that takes a string and returns it in reverse order.\n",
    "   # Task 2. Check if the input string is a palindrome, disregarding case and spaces.\n",
    "   # Task 3. Write a program that counts the number of words in a sentence.\n",
    "  \n",
    "# task 1 \n",
    "\n",
    "# var -  1\n",
    "string = 'hello'\n",
    "print(string[::-1])\n",
    "\n",
    "# var - 2\n",
    "print(string.sort())\n",
    "\n",
    "# task 2 \n",
    "string = 'helleH'.lower()\n",
    "\n",
    "print(string == string[::-1])\n",
    "\n",
    "# task 3 \n",
    "string = 'hello world'\n",
    "\n",
    "count_ = 0\n",
    "for i in string.split(' '):\n",
    "   count_ += 1 \n",
    "   \n",
    "# var - 2\n",
    "print(len(string.split(' '))"
   ]
  },
  {
   "cell_type": "code",
   "execution_count": 24,
   "metadata": {},
   "outputs": [
    {
     "name": "stdout",
     "output_type": "stream",
     "text": [
      "True\n"
     ]
    }
   ],
   "source": [
    "#Loops:\n",
    "   # Task 1. Take as input 10 real numbers and calculate their average.\n",
    "# Task 2. Print all multiples of 14 smaller than 1000.\n",
    "# Task 3. Take an integer as input and test whether or not it is prime (a prime number is divisible only by 1 and itself).\n",
    "# Task 4. Take as input two real numbers and an operation (“+” or “-” or “/” or “*”) and calculate the result of the operation.\n",
    "# Watch for division by zero errors!\n",
    "\n",
    "\n",
    "# task 3\n",
    "prime = 13\n",
    "for i in range(2, prime // 2 + 1):\n",
    "   if prime % i == 0:\n",
    "      print('False')\n",
    "      break\n",
    "else:\n",
    "   print('True')\n",
    "   \n",
    "# task 4 \n",
    "number = 5\n",
    "number_2 = 0\n",
    "operation = '/'\n",
    "\n",
    "match operation:\n",
    "   \n",
    "   case '/':\n",
    "      if number_2 != 0:\n",
    "         print(number / number_2)\n",
    "   \n",
    "   case '//':\n",
    "      if number_2 != 0:\n",
    "         print(number / number_2)\n",
    "         "
   ]
  },
  {
   "cell_type": "code",
   "execution_count": 27,
   "metadata": {},
   "outputs": [
    {
     "name": "stdout",
     "output_type": "stream",
     "text": [
      " 10 * 10 = 100\n",
      " 10 * 9 = 90\n",
      " 10 * 8 = 80\n",
      " 10 * 7 = 70\n",
      " 10 * 6 = 60\n",
      " 10 * 5 = 50\n",
      " 10 * 4 = 40\n",
      " 10 * 3 = 30\n",
      " 10 * 2 = 20\n",
      " 10 * 1 = 10\n",
      " 9 * 10 = 90\n",
      " 9 * 9 = 81\n",
      " 9 * 8 = 72\n",
      " 9 * 7 = 63\n",
      " 9 * 6 = 54\n",
      " 9 * 5 = 45\n",
      " 9 * 4 = 36\n",
      " 9 * 3 = 27\n",
      " 9 * 2 = 18\n",
      " 9 * 1 = 9\n",
      " 8 * 10 = 80\n",
      " 8 * 9 = 72\n",
      " 8 * 8 = 64\n",
      " 8 * 7 = 56\n",
      " 8 * 6 = 48\n",
      " 8 * 5 = 40\n",
      " 8 * 4 = 32\n",
      " 8 * 3 = 24\n",
      " 8 * 2 = 16\n",
      " 8 * 1 = 8\n",
      " 7 * 10 = 70\n",
      " 7 * 9 = 63\n",
      " 7 * 8 = 56\n",
      " 7 * 7 = 49\n",
      " 7 * 6 = 42\n",
      " 7 * 5 = 35\n",
      " 7 * 4 = 28\n",
      " 7 * 3 = 21\n",
      " 7 * 2 = 14\n",
      " 7 * 1 = 7\n",
      " 6 * 10 = 60\n",
      " 6 * 9 = 54\n",
      " 6 * 8 = 48\n",
      " 6 * 7 = 42\n",
      " 6 * 6 = 36\n",
      " 6 * 5 = 30\n",
      " 6 * 4 = 24\n",
      " 6 * 3 = 18\n",
      " 6 * 2 = 12\n",
      " 6 * 1 = 6\n",
      " 5 * 10 = 50\n",
      " 5 * 9 = 45\n",
      " 5 * 8 = 40\n",
      " 5 * 7 = 35\n",
      " 5 * 6 = 30\n",
      " 5 * 5 = 25\n",
      " 5 * 4 = 20\n",
      " 5 * 3 = 15\n",
      " 5 * 2 = 10\n",
      " 5 * 1 = 5\n",
      " 4 * 10 = 40\n",
      " 4 * 9 = 36\n",
      " 4 * 8 = 32\n",
      " 4 * 7 = 28\n",
      " 4 * 6 = 24\n",
      " 4 * 5 = 20\n",
      " 4 * 4 = 16\n",
      " 4 * 3 = 12\n",
      " 4 * 2 = 8\n",
      " 4 * 1 = 4\n",
      " 3 * 10 = 30\n",
      " 3 * 9 = 27\n",
      " 3 * 8 = 24\n",
      " 3 * 7 = 21\n",
      " 3 * 6 = 18\n",
      " 3 * 5 = 15\n",
      " 3 * 4 = 12\n",
      " 3 * 3 = 9\n",
      " 3 * 2 = 6\n",
      " 3 * 1 = 3\n",
      " 2 * 10 = 20\n",
      " 2 * 9 = 18\n",
      " 2 * 8 = 16\n",
      " 2 * 7 = 14\n",
      " 2 * 6 = 12\n",
      " 2 * 5 = 10\n",
      " 2 * 4 = 8\n",
      " 2 * 3 = 6\n",
      " 2 * 2 = 4\n",
      " 2 * 1 = 2\n",
      " 1 * 10 = 10\n",
      " 1 * 9 = 9\n",
      " 1 * 8 = 8\n",
      " 1 * 7 = 7\n",
      " 1 * 6 = 6\n",
      " 1 * 5 = 5\n",
      " 1 * 4 = 4\n",
      " 1 * 3 = 3\n",
      " 1 * 2 = 2\n",
      " 1 * 1 = 1\n"
     ]
    }
   ],
   "source": [
    "# Task *. Напишіть програму, що виводить таблицю множення, але у зворотному порядку: від 10х10 до 1х1\n",
    "n = 10\n",
    "for i in range(n, 0, -1):\n",
    "    for j in range(n, 0, -1):\n",
    "        print(f' {i} * {j} = {i*j}')"
   ]
  },
  {
   "cell_type": "code",
   "execution_count": 29,
   "metadata": {},
   "outputs": [],
   "source": [
    "N = 5\n",
    "res = []\n",
    "while N != 0:\n",
    "    string = input('Enter value: ').strip()\n",
    "    res.append(string) \n",
    "    N -= 1"
   ]
  },
  {
   "cell_type": "code",
   "execution_count": 30,
   "metadata": {},
   "outputs": [
    {
     "data": {
      "text/plain": [
       "['4', '2', '5', '1', '5']"
      ]
     },
     "execution_count": 30,
     "metadata": {},
     "output_type": "execute_result"
    }
   ],
   "source": [
    "res"
   ]
  },
  {
   "cell_type": "code",
   "execution_count": 31,
   "metadata": {},
   "outputs": [
    {
     "name": "stdout",
     "output_type": "stream",
     "text": [
      "['1', ' 34', ' 5', ' 67', ' 890']\n"
     ]
    }
   ],
   "source": [
    "string = input('Enter value by sep: ').split(',')\n",
    "\n",
    "print(string)"
   ]
  },
  {
   "cell_type": "code",
   "execution_count": 28,
   "metadata": {},
   "outputs": [
    {
     "name": "stdout",
     "output_type": "stream",
     "text": [
      "['12', '10', '4', '2', '3', '6', '7', '890', '907', '1000']\n"
     ]
    }
   ],
   "source": [
    "string_numbers = [input('Enter number: ').rstrip() for i in range(0, 10)]\n",
    "print(string_numbers)"
   ]
  },
  {
   "cell_type": "code",
   "execution_count": 36,
   "metadata": {},
   "outputs": [
    {
     "name": "stdout",
     "output_type": "stream",
     "text": [
      "Apple\n",
      "Melon\n",
      "Raws\n"
     ]
    }
   ],
   "source": [
    "for i in ['Apple', 'Melon', 'Raws']:\n",
    "    print(i)  # 1 - Apple, 2 - Melon, 3 - Raws"
   ]
  },
  {
   "cell_type": "code",
   "execution_count": 41,
   "metadata": {},
   "outputs": [
    {
     "name": "stdout",
     "output_type": "stream",
     "text": [
      "0 Apple\n",
      "1 Melon\n",
      "2 Raws\n",
      "3 ,\n"
     ]
    }
   ],
   "source": [
    "fruits = ['Apple', 'Melon', 'Raws', ',']\n",
    "for i in range(0, len(fruits)):\n",
    "    print(i, fruits[i])"
   ]
  },
  {
   "cell_type": "code",
   "execution_count": 48,
   "metadata": {},
   "outputs": [
    {
     "data": {
      "text/plain": [
       "True"
      ]
     },
     "execution_count": 48,
     "metadata": {},
     "output_type": "execute_result"
    }
   ],
   "source": [
    "5 != 10"
   ]
  },
  {
   "cell_type": "code",
   "execution_count": 54,
   "metadata": {},
   "outputs": [
    {
     "name": "stdout",
     "output_type": "stream",
     "text": [
      "Apple 0 A 5\n",
      "Melon 1 M 5\n",
      "Raws 2 R 4\n",
      ", 3 , 1\n"
     ]
    }
   ],
   "source": [
    "i = 0\n",
    "while i != len(fruits): \n",
    "    print(fruits[i], i, fruits[i][0], len(fruits[i])) \n",
    "    i += 1"
   ]
  },
  {
   "cell_type": "code",
   "execution_count": 25,
   "metadata": {},
   "outputs": [
    {
     "name": "stdout",
     "output_type": "stream",
     "text": [
      "10.0\n"
     ]
    }
   ],
   "source": [
    "# var 2 \n",
    "arr_2 = []\n",
    "n_value = int(input('Enter len of array:'))\n",
    "\n",
    "if n_value > 0:\n",
    "    for i in range(1, n_value + 1):\n",
    "        item = int(input('Enter value: '))\n",
    "        arr_2.append(item) \n",
    "        \n",
    "avg_2 = sum(arr_2) / len(arr_2)\n",
    "print(avg_2)\n"
   ]
  },
  {
   "cell_type": "code",
   "execution_count": 26,
   "metadata": {},
   "outputs": [
    {
     "name": "stdout",
     "output_type": "stream",
     "text": [
      "[15, 5]\n",
      "10.0\n"
     ]
    }
   ],
   "source": [
    "# var 3 \n",
    "N = 2\n",
    "arr_3 = [float(input('Enter value: ')) for i in range(0, N)]\n",
    "print(arr_3)\n",
    "avg_3 = sum(arr_3) / len(arr_3)\n",
    "print(avg_3)"
   ]
  },
  {
   "cell_type": "code",
   "execution_count": 34,
   "metadata": {},
   "outputs": [
    {
     "name": "stdout",
     "output_type": "stream",
     "text": [
      "['1', '2']\n"
     ]
    }
   ],
   "source": [
    "string = '1,2'.split(',')\n",
    "print(string)"
   ]
  },
  {
   "cell_type": "code",
   "execution_count": 35,
   "metadata": {},
   "outputs": [
    {
     "name": "stdout",
     "output_type": "stream",
     "text": [
      "10.0\n"
     ]
    }
   ],
   "source": [
    "# var 4 - Не бажано \n",
    "enter_serias = input('Enter 10 values, sep by comma: ').split(',') \n",
    "arr = [int(i) for i in enter_serias]\n",
    "print(sum(arr) / len(arr)) # or save to avg_ "
   ]
  },
  {
   "cell_type": "code",
   "execution_count": 24,
   "metadata": {},
   "outputs": [
    {
     "name": "stdout",
     "output_type": "stream",
     "text": [
      "5.0\n"
     ]
    }
   ],
   "source": [
    "# var 5 \n",
    "N = 10\n",
    "result = sum([int(input('Enter value:')) for i in range(0, N)]) / N\n",
    "print(result)"
   ]
  }
 ],
 "metadata": {
  "kernelspec": {
   "display_name": "Python 3",
   "language": "python",
   "name": "python3"
  },
  "language_info": {
   "codemirror_mode": {
    "name": "ipython",
    "version": 3
   },
   "file_extension": ".py",
   "mimetype": "text/x-python",
   "name": "python",
   "nbconvert_exporter": "python",
   "pygments_lexer": "ipython3",
   "version": "3.10.12"
  },
  "orig_nbformat": 4
 },
 "nbformat": 4,
 "nbformat_minor": 2
}
