{
 "cells": [
  {
   "attachments": {},
   "cell_type": "markdown",
   "metadata": {},
   "source": [
    "#### Lesson 7. Intro to NumPy\n",
    "##### Date: 11.07.23\n",
    "\n",
    "**Topics**:\n",
    "> 1. Numpy intro\n",
    "> 2. Vector/Matrix/Tensor\n",
    "> 3. Vector math\n",
    "> 4. Filter array(boolen mask, where)\n",
    "> 5. SQlite3\n",
    "\n",
    "**Materials**:\n",
    "> 1. [NumPy](https://www.w3schools.com/python/numpy/numpy_intro.asp)\n",
    "> 2. [NumPy doc](https://numpy.org/doc/stable/user/absolute_beginners.html)\n",
    "> 3. [Tutorial](https://www.tutorialspoint.com/numpy/numpy_introduction.htm)\n",
    "> 4. [Sqlite3](https://docs.python.org/3/library/sqlite3.html)"
   ]
  },
  {
   "attachments": {},
   "cell_type": "markdown",
   "metadata": {},
   "source": [
    ">**NumPy** - це бібліотека для мови програмування Python, призначена для виконання обчислювальних завдань на багатовимірних масивах або матрицях.\n",
    "\n",
    "> NumPy дозволяє створювати масиви даних будь-якого розміру, а також виконувати операції з ними, такі як математичні операції, зрізи, індексування та багато іншого. Вона також надає функції для лінійної алгебри, статистичного аналізу, перетворення Фур'є та багатьох інших алгоритмів.\n",
    "\n",
    "> Використання NumPy в Python дозволяє швидко та зручно обробляти великі обсяги даних та прискорює виконання математичних операцій. Вона також може бути використана разом з іншими бібліотеками Python для створення наукових додатків та інструментів."
   ]
  },
  {
   "attachments": {},
   "cell_type": "markdown",
   "metadata": {},
   "source": [
    "NumPy - написаний на С, в основу покладені наступні бібліотеки: **BLAS**, **LAPACK** - Fortran"
   ]
  },
  {
   "attachments": {},
   "cell_type": "markdown",
   "metadata": {},
   "source": [
    "Install Numpy:\n",
    "\n",
    "Conda: \n",
    "**conda install numpy**\n",
    "\n",
    "Pip-pip3:\n",
    "**pip install numpy**"
   ]
  },
  {
   "cell_type": "code",
   "execution_count": 10,
   "metadata": {},
   "outputs": [],
   "source": [
    "import numpy as np # імпорт функціоналу та даємо псевдонім \n",
    "import matplotlib.pyplot as plt \n",
    "import seaborn as sns\n",
    "# from numpy import arange, stack, ethc"
   ]
  },
  {
   "cell_type": "markdown",
   "metadata": {},
   "source": [
    "Python list:\n",
    "1. Save information different type \n",
    "\n",
    "Numpy array: \n",
    "1. Save inforamtion one type\n",
    "2. Less memory \n",
    "3. Fast math operation"
   ]
  },
  {
   "cell_type": "code",
   "execution_count": 11,
   "metadata": {},
   "outputs": [
    {
     "name": "stdout",
     "output_type": "stream",
     "text": [
      "[[1, 2, 3, 4], [5, 6, 7, 8]] 56\n",
      "\n",
      "[[1 2 3 4]\n",
      " [5 6 7 8]] 192\n"
     ]
    }
   ],
   "source": [
    "list1 = [[1,2,3, 4], [5, 6, 7, 8]]\n",
    "arr = np.array([[1,2,3, 4], [5, 6, 7, 8]])\n",
    "print(list1, list1.__sizeof__(), end = '\\n\\n')\n",
    "print(arr, arr.__sizeof__())"
   ]
  },
  {
   "cell_type": "code",
   "execution_count": 12,
   "metadata": {},
   "outputs": [
    {
     "name": "stdout",
     "output_type": "stream",
     "text": [
      "[1 2 3 4 5] (5,)\n",
      "[[1]\n",
      " [2]\n",
      " [3]\n",
      " [4]\n",
      " [5]] (5, 1)\n"
     ]
    }
   ],
   "source": [
    "# Vector - one dim array \n",
    "vector = np.array([1,2,3,4,5])\n",
    "print(vector, vector.shape)\n",
    "print(vector.reshape(-1,1),vector.reshape(-1,1).shape)"
   ]
  },
  {
   "cell_type": "code",
   "execution_count": 15,
   "metadata": {},
   "outputs": [
    {
     "name": "stdout",
     "output_type": "stream",
     "text": [
      "Array: [[1 2 3 4]\n",
      " [5 6 7 8]]\n",
      "Shape: (2, 4)\n",
      "\n",
      "[[1 2]\n",
      " [3 4]\n",
      " [5 6]\n",
      " [7 8]] [[1 2 3 4 5 6 7 8]]\n",
      "Array: [[1 2]\n",
      " [5 6]]\n",
      "Shape: (2, 2)\n"
     ]
    }
   ],
   "source": [
    "# Matrix - two dim array, n * m - table , rows * columns = mat\n",
    "arr = np.array([[1,2,3, 4], [5, 6, 7, 8]])\n",
    "print(f'Array: {arr}\\nShape: {arr.shape}', end = '\\n\\n')\n",
    "print(arr.reshape(4, 2), arr.reshape(1, 8))\n",
    "\n",
    "# Квадратая матрица - row = column , 2x2, 3x3, 4x4, etc rows = columns\n",
    "arr1 = np.array([[1,2], [5, 6]])\n",
    "print(f'Array: {arr1}\\nShape: {arr1.shape}')"
   ]
  },
  {
   "cell_type": "code",
   "execution_count": 16,
   "metadata": {},
   "outputs": [
    {
     "name": "stdout",
     "output_type": "stream",
     "text": [
      "Array: [[[ 1  2  3  4]\n",
      "  [ 5  6  7  8]\n",
      "  [ 9 10 11 12]]\n",
      "\n",
      " [[13 14 15 16]\n",
      "  [17 18 19 20]\n",
      "  [21 22 23 24]]]\n",
      "Shape: (2, 3, 4)\n"
     ]
    }
   ],
   "source": [
    "# Tensor - многомірна matrix\n",
    "arr = np.array([\n",
    "    [[1, 2, 3, 4], [5, 6, 7, 8], [9, 10, 11, 12]],\n",
    "    [[13, 14, 15, 16], [17, 18, 19, 20], [21, 22, 23, 24]]\n",
    "])\n",
    "print(f'Array: {arr}\\nShape: {arr.shape}')"
   ]
  },
  {
   "attachments": {},
   "cell_type": "markdown",
   "metadata": {},
   "source": [
    "![](https://miro.medium.com/v2/resize:fit:957/1*jRyyMAhS_NZxqyv3EoLCvg.png)"
   ]
  },
  {
   "cell_type": "markdown",
   "metadata": {},
   "source": [
    "![](https://editor.analyticsvidhya.com/uploads/64798tensor.png)"
   ]
  },
  {
   "cell_type": "code",
   "execution_count": 17,
   "metadata": {},
   "outputs": [
    {
     "name": "stdout",
     "output_type": "stream",
     "text": [
      "[0. 0. 0. 0. 0.]\n",
      "[[0. 0. 0. 0. 0.]\n",
      " [0. 0. 0. 0. 0.]]\n",
      "[[[0. 0.]\n",
      "  [0. 0.]\n",
      "  [0. 0.]\n",
      "  [0. 0.]\n",
      "  [0. 0.]]\n",
      "\n",
      " [[0. 0.]\n",
      "  [0. 0.]\n",
      "  [0. 0.]\n",
      "  [0. 0.]\n",
      "  [0. 0.]]]\n"
     ]
    }
   ],
   "source": [
    "# Zeros - create zero array\n",
    "zero = np.zeros(5)\n",
    "print(zero)\n",
    "zero_2d = np.zeros((2, 5)) # arg - tuple, where first arg - row, second - column\n",
    "print(zero_2d)\n",
    "zero_3d = np.zeros((2, 5, 2))\n",
    "print(zero_3d)"
   ]
  },
  {
   "cell_type": "code",
   "execution_count": 11,
   "metadata": {},
   "outputs": [
    {
     "name": "stdout",
     "output_type": "stream",
     "text": [
      "[[1. 1. 1. 1.]\n",
      " [1. 1. 1. 1.]\n",
      " [1. 1. 1. 1.]] (3, 4)\n"
     ]
    }
   ],
   "source": [
    "# Ones - create one-value matrix\n",
    "arr = np.ones((3,4)) # tuple: [0] - row, [1] - columns\n",
    "print(arr, arr.shape)"
   ]
  },
  {
   "cell_type": "code",
   "execution_count": 22,
   "metadata": {},
   "outputs": [
    {
     "name": "stdout",
     "output_type": "stream",
     "text": [
      "[ 1  2  3  4  5  6  7  8  9 10 11 12] (12,)\n",
      "[[ 1  2  3  4]\n",
      " [ 5  6  7  8]\n",
      " [ 9 10 11 12]] (3, 4) 12\n"
     ]
    }
   ],
   "source": [
    "# Arange - generate vector\n",
    "arr = np.arange(1, 13) # range - start, end, step\n",
    "print(arr, arr.shape)\n",
    "\n",
    "arr1 = np.arange(1, 13).reshape(3, 4) # 2d - matrix\n",
    "print(arr1, arr1.shape, arr1.size)"
   ]
  },
  {
   "cell_type": "code",
   "execution_count": 22,
   "metadata": {},
   "outputs": [
    {
     "name": "stdout",
     "output_type": "stream",
     "text": [
      "[0.         0.11111111 0.22222222 0.33333333 0.44444444 0.55555556\n",
      " 0.66666667 0.77777778 0.88888889 1.        ]\n"
     ]
    }
   ],
   "source": [
    "# Linspace - рівномірний розподіл\n",
    "arr = np.linspace(0, 1, 10) # three arg - start, end, count of values\n",
    "print(arr)"
   ]
  },
  {
   "cell_type": "code",
   "execution_count": 23,
   "metadata": {},
   "outputs": [
    {
     "data": {
      "text/plain": [
       "['any',\n",
       " 'argmax',\n",
       " 'argmin',\n",
       " 'argpartition',\n",
       " 'argsort',\n",
       " 'astype',\n",
       " 'base',\n",
       " 'byteswap',\n",
       " 'choose',\n",
       " 'clip',\n",
       " 'compress',\n",
       " 'conj',\n",
       " 'conjugate',\n",
       " 'copy',\n",
       " 'ctypes',\n",
       " 'cumprod',\n",
       " 'cumsum',\n",
       " 'data',\n",
       " 'diagonal',\n",
       " 'dot',\n",
       " 'dtype',\n",
       " 'dump',\n",
       " 'dumps',\n",
       " 'fill',\n",
       " 'flags',\n",
       " 'flat',\n",
       " 'flatten',\n",
       " 'getfield',\n",
       " 'imag',\n",
       " 'item',\n",
       " 'itemset',\n",
       " 'itemsize',\n",
       " 'max',\n",
       " 'mean',\n",
       " 'min',\n",
       " 'nbytes',\n",
       " 'ndim',\n",
       " 'newbyteorder',\n",
       " 'nonzero',\n",
       " 'partition',\n",
       " 'prod',\n",
       " 'ptp',\n",
       " 'put',\n",
       " 'ravel',\n",
       " 'real',\n",
       " 'repeat',\n",
       " 'reshape',\n",
       " 'resize',\n",
       " 'round',\n",
       " 'searchsorted',\n",
       " 'setfield',\n",
       " 'setflags',\n",
       " 'shape',\n",
       " 'size',\n",
       " 'sort',\n",
       " 'squeeze',\n",
       " 'std',\n",
       " 'strides',\n",
       " 'sum',\n",
       " 'swapaxes',\n",
       " 'take',\n",
       " 'tobytes',\n",
       " 'tofile',\n",
       " 'tolist',\n",
       " 'tostring',\n",
       " 'trace',\n",
       " 'transpose',\n",
       " 'var',\n",
       " 'view']"
      ]
     },
     "execution_count": 23,
     "metadata": {},
     "output_type": "execute_result"
    }
   ],
   "source": [
    "dir(arr)[96:] # check all methods"
   ]
  },
  {
   "cell_type": "code",
   "execution_count": 26,
   "metadata": {},
   "outputs": [
    {
     "name": "stdout",
     "output_type": "stream",
     "text": [
      "[ True False  True False False]\n",
      "[ 1.    3.14  1.   15.    0.  ]\n",
      "['String' '3.14' '15' 'False' 'True']\n"
     ]
    }
   ],
   "source": [
    "arr_bool = np.array([True, False, True, False, False])\n",
    "print(arr_bool) # Bool\n",
    "\n",
    "arr_float = np.array([True, 3.14, 1, 15, False])\n",
    "print(arr_float) # Float\n",
    "\n",
    "arr_string = np.array(['String', 3.14, 15, False, True])\n",
    "print(arr_string) # String"
   ]
  },
  {
   "cell_type": "code",
   "execution_count": 35,
   "metadata": {},
   "outputs": [
    {
     "name": "stdout",
     "output_type": "stream",
     "text": [
      "[ 1  2  3  4  5  6  7  8  9 10 11] uint8\n",
      "[  1.     2.     3.     4.     5.14   0.     1.   -17.  ] float32 11\n"
     ]
    }
   ],
   "source": [
    "# to create with dtype, use dtype \n",
    "arr_uint8 = np.arange(1, 12, dtype= np.uint8) # unsig type\n",
    "print(arr_uint8, arr_uint8.dtype)\n",
    "\n",
    "arr_float32 = np.array([1,2,3,4, 5.14, False, True, -17], dtype= np.float32)\n",
    "print(arr_float32, arr_float32.dtype, arr_uint8.size)"
   ]
  },
  {
   "cell_type": "code",
   "execution_count": 30,
   "metadata": {},
   "outputs": [
    {
     "name": "stdout",
     "output_type": "stream",
     "text": [
      "['9.0' '12.0' '1.0' '3.13']\n",
      "<U5\n",
      "\n",
      "['9' '12' 'True' '3.13' 'Numpy']\n",
      "<U32\n",
      "\n",
      "[ 9 12  1  3]\n",
      "uint16\n",
      "\n",
      "[ 9 12  1  3]\n",
      "int64\n",
      "\n",
      "[[0.12823728 0.305058   0.42770077 0.96585331]\n",
      " [0.99626675 0.34956935 0.42533657 0.46964557]\n",
      " [0.09275504 0.04345679 0.60176075 0.06913091]]\n",
      "float64\n",
      "\n",
      "[[1. 2. 3.]\n",
      " [4. 5. 6.]\n",
      " [7. 8. 9.]]\n",
      "float64\n",
      "\n"
     ]
    }
   ],
   "source": [
    "# Astype - convert data type\n",
    "arr1 = np.array([9, 12, True, 3.13]).astype('<U5') # string Unicode\n",
    "arr2 = np.array([9, 12, True, 3.13, 'Numpy']) # string\n",
    "arr3 = np.array([9, 12, True, 3.13]).astype(np.uint16) # +int\n",
    "arr4 = np.array([9, 12, True, 3.13]).astype(np.int64)  # int\n",
    "arr5 = np.random.random((3,4))\n",
    "arr6 = np.array([[1,2,3], [4,5,6.0], [7, 8, 9]])\n",
    "\n",
    "for i in range(1, 7):\n",
    "    print(eval(f'arr{i}'))\n",
    "    print(eval(f'arr{i}.dtype'), end = '\\n\\n') # <U - unicode with len"
   ]
  },
  {
   "cell_type": "code",
   "execution_count": 33,
   "metadata": {},
   "outputs": [
    {
     "data": {
      "text/plain": [
       "array([8, 9, 5, 8, 7, 5, 8, 5, 8, 6])"
      ]
     },
     "execution_count": 33,
     "metadata": {},
     "output_type": "execute_result"
    }
   ],
   "source": [
    "np.random.randint(5, 10, size = 10)"
   ]
  },
  {
   "attachments": {},
   "cell_type": "markdown",
   "metadata": {},
   "source": [
    "> numpy.add(x1, x2) - додавання двох векторів \\\n",
    "> numpy.subtract(x1, x2) - віднімання одного вектора з іншого \\\n",
    "> numpy.multiply(x1, x2) - поелементне множення двох векторів \\\n",
    "> numpy.divide(x1, x2) - поелементне ділення одного вектора на інший \\\n",
    "> numpy.dot(x1, x2) - скалярний добуток двох векторів \\"
   ]
  },
  {
   "cell_type": "code",
   "execution_count": 37,
   "metadata": {},
   "outputs": [
    {
     "name": "stdout",
     "output_type": "stream",
     "text": [
      "Add: [5 7 9] or [5 7 9]\n",
      "Subtract: [-3 -3 -3] or [-3 -3 -3]\n",
      "Multiply: [ 4 10 18] or [ 4 10 18]\n",
      "Divide: [0.25 0.4  0.5 ] or [0.25 0.4  0.5 ]\n",
      "Dot: 32\n",
      "Multiply by number: [3 6 9]\n"
     ]
    }
   ],
   "source": [
    "# Vector math \n",
    "x1 = np.array([1, 2, 3])\n",
    "x2 = np.array([4, 5,6])\n",
    "print(f'Add: {x1 + x2} or {np.add(x1, x2)}')\n",
    "print(f'Subtract: {x1 - x2} or {np.subtract(x1, x2)}')\n",
    "print(f'Multiply: {x1 * x2} or {np.multiply(x1, x2)}')\n",
    "print(f'Divide: {x1 / x2} or {np.divide(x1, x2)}')\n",
    "print(f'Dot: {np.dot(x1, x2)}')\n",
    "print(f'Multiply by number: {x1 * 3}')"
   ]
  },
  {
   "attachments": {},
   "cell_type": "markdown",
   "metadata": {},
   "source": [
    "#### Index and Slicing \n",
    "basic: [start: stop: steps] \\\n",
    "n-d index: [start:stop:steps][start:stop:steps]\n"
   ]
  },
  {
   "cell_type": "code",
   "execution_count": 38,
   "metadata": {},
   "outputs": [
    {
     "name": "stdout",
     "output_type": "stream",
     "text": [
      "[[1 2 3 4]\n",
      " [5 6 7 8]]\n",
      "\n",
      "[1 2 3 4]\n",
      "\n",
      "[2 6]\n",
      "\n",
      "(2, 4)\n"
     ]
    }
   ],
   "source": [
    "arr = np.array([[1,2,3, 4], [5, 6, 7, 8]])\n",
    "# arr[refers to axis 0(rows), refers to axis 1 (columns)]\n",
    "print(arr, arr[0, :], arr[:, 1], arr.shape, sep= '\\n\\n') # [][]"
   ]
  },
  {
   "attachments": {},
   "cell_type": "markdown",
   "metadata": {},
   "source": [
    "Filtering data in numpy:\n",
    "> 1. Fancy index with boolen mask - **return array of elements**\n",
    "> 2. where - **return index**"
   ]
  },
  {
   "cell_type": "code",
   "execution_count": 43,
   "metadata": {},
   "outputs": [
    {
     "name": "stdout",
     "output_type": "stream",
     "text": [
      "[[False  True False  True]\n",
      " [False  True False  True]\n",
      " [False  True False  True]] [ 1  3  5  7  9 11] [ 7  9 11]\n",
      "\n",
      "[[False False False False]\n",
      " [False False  True  True]\n",
      " [ True  True  True  True]] [ 7  8  9 10 11 12]\n",
      "\n"
     ]
    }
   ],
   "source": [
    "# & - логічне так(and)\n",
    "# | - логічне або(or)- pipe\n",
    "# ~ - логічне ні(not)\n",
    "arr = np.array([[1,2,3, 4], [5, 6, 7, 8], [9,10,11,12]])\n",
    "\n",
    "even_number = arr % 2 == 0 # Arr true/false\n",
    "print(even_number, arr[~even_number], arr[~(arr % 2 == 0) & (arr > 5)], end = '\\n\\n')\n",
    "\n",
    "big_mean = arr > arr.mean()\n",
    "print(big_mean, arr[big_mean], end = '\\n\\n')"
   ]
  },
  {
   "attachments": {},
   "cell_type": "markdown",
   "metadata": {},
   "source": [
    "#### Comdine diff statemens\n",
    "> **&** - логічне та  \\\n",
    "> **|** - логічне або \\\n",
    "> **~** - логічні ні"
   ]
  },
  {
   "cell_type": "code",
   "execution_count": 18,
   "metadata": {},
   "outputs": [
    {
     "name": "stdout",
     "output_type": "stream",
     "text": [
      "[[False False  True  True]\n",
      " [ True  True  True  True]\n",
      " [ True False False False]] [3 4 5 6 7 8 9]\n",
      "\n",
      "[[ True  True  True  True]\n",
      " [ True  True  True  True]\n",
      " [ True  True  True  True]] [ 1  2  3  4  5  6  7  8  9 10 11 12]\n",
      "\n",
      "[2 4 6 8]\n"
     ]
    }
   ],
   "source": [
    "two_statemnt = (arr > 2) & (arr < 10)\n",
    "print(two_statemnt, arr[two_statemnt], end = '\\n\\n')\n",
    "\n",
    "two_statemnt = (arr > 2) | (arr != 10)\n",
    "print(two_statemnt, arr[two_statemnt], end = '\\n\\n')\n",
    "\n",
    "print(arr[(arr % 2 == 0) & (arr < 10)]) # or you write in []"
   ]
  },
  {
   "cell_type": "code",
   "execution_count": 96,
   "metadata": {},
   "outputs": [
    {
     "data": {
      "text/plain": [
       "2"
      ]
     },
     "execution_count": 96,
     "metadata": {},
     "output_type": "execute_result"
    }
   ],
   "source": [
    "arr.shape[0]"
   ]
  },
  {
   "cell_type": "code",
   "execution_count": 61,
   "metadata": {},
   "outputs": [
    {
     "name": "stdout",
     "output_type": "stream",
     "text": [
      "[[ 1  2  3  4  5]\n",
      " [ 6  7  8  9 10]\n",
      " [11 12 13 14 15]\n",
      " [16 17 18 19 20]\n",
      " [21 22 23 24 25]\n",
      " [26 27 28 29 30]\n",
      " [31 32 33 34 35]\n",
      " [36 37 38 39 40]\n",
      " [41 42 43 44 45]\n",
      " [46 47 48 49 50]]\n",
      "\n",
      "[[ 1  2  3  4  5  6  7  8  9 10 11 12 13 14 15 16 17 18 19 20 21 22 23 24\n",
      "  25]\n",
      " [26 27 28 29 30 31 32 33 34 35 36 37 38 39 40 41 42 43 44 45 46 47 48 49\n",
      "  50]]\n",
      "\n",
      "[[ 1  2  3  4  5  6  7  8  9 10 11 12 13 14 15 16 17 18 19 20 21 22 23 24\n",
      "  25 26 27 28 29 30 31 32 33 34 35 36 37 38 39 40 41 42 43 44 45 46 47 48\n",
      "  49 50]]\n",
      "[21 22 23 24 25 26 27 28 29]\n",
      "[ 2  4  6  8 10 12 14 16 18 20 22 24 26 28 30 32 34 36 38 40 42 44 46 48\n",
      " 50]\n",
      "[[0. 0. 0. 0. 0. 0. 0. 0.]\n",
      " [0. 0. 0. 0. 0. 0. 0. 0.]\n",
      " [0. 0. 0. 0. 0. 0. 0. 0.]\n",
      " [0. 0. 0. 0. 0. 0. 0. 0.]\n",
      " [0. 0. 0. 0. 0. 0. 0. 0.]\n",
      " [0. 0. 0. 0. 0. 0. 0. 0.]\n",
      " [0. 0. 0. 0. 0. 0. 0. 0.]\n",
      " [0. 0. 0. 0. 0. 0. 0. 0.]]\n",
      "[17 19 23 25 27 29 31 33 35 37 39]\n"
     ]
    }
   ],
   "source": [
    "# Task 1. Create list with 50 elements, reshape in 3 - var\n",
    "# 10x5, 25x2, 5x10, 2x25, 1x50, 2x5x5 - arange/randint \n",
    "arr = np.arange(1, 51, dtype = np.uint16)\n",
    "print(arr.reshape((10, 5)), arr.reshape((2, 25)), arr.reshape((1, 50)), sep= '\\n\\n' )\n",
    "# Task 2. Find elements, where elements more than 20 and less 30 \n",
    "print(arr[(arr > 20) & (arr < 30)])\n",
    "# Task 3. Find elements, where elements is even \n",
    "print(arr[~arr % 2 == 1])\n",
    "# Task 4. Generate chess dashboard - elem \n",
    "print(np.zeros((8, 8)))\n",
    "# Task 5. Find elements, where elements is NOT even, less than 41 and more then 15 and elements not equal 21\n",
    "print(arr[(arr % 2 != 0) & ((arr > 15) & (arr < 41)) & (arr != 21)])\n",
    "# Task 6. Find sum of diagonal for matrix (5, 5). Step 1: generate matrix. Step 2: display diagonal, Step 3: Find sum of main dianogal, Step 3: Find alternative diagonal, find elements what more than sum of main diagonal \n",
    "# - elem diagonal"
   ]
  },
  {
   "cell_type": "code",
   "execution_count": 52,
   "metadata": {},
   "outputs": [],
   "source": [
    "arr = np.arange(1, 26).reshape((5,5))"
   ]
  },
  {
   "cell_type": "code",
   "execution_count": 55,
   "metadata": {},
   "outputs": [
    {
     "ename": "SyntaxError",
     "evalue": "invalid syntax (1582438860.py, line 1)",
     "output_type": "error",
     "traceback": [
      "\u001b[0;36m  Cell \u001b[0;32mIn[55], line 1\u001b[0;36m\u001b[0m\n\u001b[0;31m    arr.~diagonal()\u001b[0m\n\u001b[0m        ^\u001b[0m\n\u001b[0;31mSyntaxError\u001b[0m\u001b[0;31m:\u001b[0m invalid syntax\n"
     ]
    }
   ],
   "source": [
    "arr"
   ]
  },
  {
   "cell_type": "markdown",
   "metadata": {},
   "source": [
    "Where - function \n",
    "numpy.where(condition[, x, y])\n"
   ]
  },
  {
   "cell_type": "code",
   "execution_count": 62,
   "metadata": {},
   "outputs": [
    {
     "name": "stdout",
     "output_type": "stream",
     "text": [
      "[ 1  2  3  4  5  6  7  8  9 10 11 12 13 14 15 16 17 18 19 20 21 22 23 24\n",
      " 25 26 27 28 29 30 31 32 33 34 35 36 37 38 39 40 41 42 43 44 45 46 47 48\n",
      " 49 50]\n",
      "(array([3]),)\n",
      "(array([ 1,  3,  5,  7,  9, 11, 13, 15, 17, 19, 21, 23, 25, 27, 29, 31, 33,\n",
      "       35, 37, 39, 41, 43, 45, 47, 49]),)\n"
     ]
    }
   ],
   "source": [
    "print(arr)\n",
    "print(np.where(arr == 4)) # return position(index)\n",
    "print(np.where(arr % 2 == 0))"
   ]
  },
  {
   "cell_type": "code",
   "execution_count": 64,
   "metadata": {},
   "outputs": [
    {
     "name": "stdout",
     "output_type": "stream",
     "text": [
      "[ 1  2  3  4  5  6  7  8  9 10 11 12 13 14 15 16 17 18 19 20 21 22 23 24\n",
      " 25 26 27 28 29 30 31 32 33 34 35 36 37 38 39 40 41 42 43 44 45 46 47 48\n",
      " 49 50]\n",
      "['Not True' '2' 'Not True' '4' 'Not True' '6' 'Not True' '8' 'Not True'\n",
      " '10' 'Not True' '12' 'Not True' '14' 'Not True' '16' 'Not True' '18'\n",
      " 'Not True' '20' 'Not True' '22' 'Not True' '24' 'Not True' '26'\n",
      " 'Not True' '28' 'Not True' '30' 'Not True' '32' 'Not True' '34'\n",
      " 'Not True' '36' 'Not True' '38' 'Not True' '40' 'Not True' '42'\n",
      " 'Not True' '44' 'Not True' '46' 'Not True' '48' 'Not True' '50']\n"
     ]
    }
   ],
   "source": [
    "print(arr)\n",
    "print(np.where(arr % 2 == 0,arr, 'Not True')) # three args: condit, array, default value"
   ]
  },
  {
   "cell_type": "code",
   "execution_count": 65,
   "metadata": {},
   "outputs": [
    {
     "name": "stdout",
     "output_type": "stream",
     "text": [
      "[[1 2 3 4]\n",
      " [5 6 7 8]]\n",
      "\n",
      "[1 2 3 4 5 6 7 8]\n",
      "\n",
      "[1 2 3 4 5 6 7 8]\n"
     ]
    }
   ],
   "source": [
    "arr = np.array([[1,2,3, 4], [5, 6, 7, 8]])\n",
    "print(arr, end = '\\n\\n')\n",
    "print(arr.flatten(), end = '\\n\\n') # to one dimension, сплющує в одномірний массив, але при цьому створює копію \n",
    "print(arr.ravel()) # to one dimension, не створює копію"
   ]
  },
  {
   "cell_type": "code",
   "execution_count": 12,
   "metadata": {},
   "outputs": [
    {
     "name": "stdout",
     "output_type": "stream",
     "text": [
      "[ 1  2  3  4  5  6  7  8  9 10 11 12 13 14 15 16 17 18 19 20 21 22 23 24\n",
      " 25 26 27 28 29 30 31 32 33 34 35 36 37 38 39 40 41 42 43 44 45 46 47 48\n",
      " 49 50 51 52 53 54 55 56 57 58 59 60 61 62 63 64]\n",
      "[[ 1  2  3  4  5  6  7  8]\n",
      " [ 9 10 11 12 13 14 15 16]\n",
      " [17 18 19 20 21 22 23 24]\n",
      " [25 26 27 28 29 30 31 32]\n",
      " [33 34 35 36 37 38 39 40]\n",
      " [41 42 43 44 45 46 47 48]\n",
      " [49 50 51 52 53 54 55 56]\n",
      " [57 58 59 60 61 62 63 64]]\n",
      "\n",
      "[[ 1  2]\n",
      " [ 3  4]\n",
      " [ 5  6]\n",
      " [ 7  8]\n",
      " [ 9 10]\n",
      " [11 12]\n",
      " [13 14]\n",
      " [15 16]\n",
      " [17 18]\n",
      " [19 20]\n",
      " [21 22]\n",
      " [23 24]\n",
      " [25 26]\n",
      " [27 28]\n",
      " [29 30]\n",
      " [31 32]\n",
      " [33 34]\n",
      " [35 36]\n",
      " [37 38]\n",
      " [39 40]\n",
      " [41 42]\n",
      " [43 44]\n",
      " [45 46]\n",
      " [47 48]\n",
      " [49 50]\n",
      " [51 52]\n",
      " [53 54]\n",
      " [55 56]\n",
      " [57 58]\n",
      " [59 60]\n",
      " [61 62]\n",
      " [63 64]]\n"
     ]
    }
   ],
   "source": [
    "arr = np.arange(1, 65)\n",
    "print(arr) \n",
    "\n",
    "print(arr.reshape((8,8)), arr.reshape((32,2)), sep = '\\n\\n')"
   ]
  },
  {
   "cell_type": "code",
   "execution_count": 66,
   "metadata": {},
   "outputs": [
    {
     "name": "stdout",
     "output_type": "stream",
     "text": [
      "Help on function ravel in module numpy:\n",
      "\n",
      "ravel(a, order='C')\n",
      "    Return a contiguous flattened array.\n",
      "    \n",
      "    A 1-D array, containing the elements of the input, is returned.  A copy is\n",
      "    made only if needed.\n",
      "    \n",
      "    As of NumPy 1.10, the returned array will have the same type as the input\n",
      "    array. (for example, a masked array will be returned for a masked array\n",
      "    input)\n",
      "    \n",
      "    Parameters\n",
      "    ----------\n",
      "    a : array_like\n",
      "        Input array.  The elements in `a` are read in the order specified by\n",
      "        `order`, and packed as a 1-D array.\n",
      "    order : {'C','F', 'A', 'K'}, optional\n",
      "    \n",
      "        The elements of `a` are read using this index order. 'C' means\n",
      "        to index the elements in row-major, C-style order,\n",
      "        with the last axis index changing fastest, back to the first\n",
      "        axis index changing slowest.  'F' means to index the elements\n",
      "        in column-major, Fortran-style order, with the\n",
      "        first index changing fastest, and the last index changing\n",
      "        slowest. Note that the 'C' and 'F' options take no account of\n",
      "        the memory layout of the underlying array, and only refer to\n",
      "        the order of axis indexing.  'A' means to read the elements in\n",
      "        Fortran-like index order if `a` is Fortran *contiguous* in\n",
      "        memory, C-like order otherwise.  'K' means to read the\n",
      "        elements in the order they occur in memory, except for\n",
      "        reversing the data when strides are negative.  By default, 'C'\n",
      "        index order is used.\n",
      "    \n",
      "    Returns\n",
      "    -------\n",
      "    y : array_like\n",
      "        y is an array of the same subtype as `a`, with shape ``(a.size,)``.\n",
      "        Note that matrices are special cased for backward compatibility, if `a`\n",
      "        is a matrix, then y is a 1-D ndarray.\n",
      "    \n",
      "    See Also\n",
      "    --------\n",
      "    ndarray.flat : 1-D iterator over an array.\n",
      "    ndarray.flatten : 1-D array copy of the elements of an array\n",
      "                      in row-major order.\n",
      "    ndarray.reshape : Change the shape of an array without changing its data.\n",
      "    \n",
      "    Notes\n",
      "    -----\n",
      "    In row-major, C-style order, in two dimensions, the row index\n",
      "    varies the slowest, and the column index the quickest.  This can\n",
      "    be generalized to multiple dimensions, where row-major order\n",
      "    implies that the index along the first axis varies slowest, and\n",
      "    the index along the last quickest.  The opposite holds for\n",
      "    column-major, Fortran-style index ordering.\n",
      "    \n",
      "    When a view is desired in as many cases as possible, ``arr.reshape(-1)``\n",
      "    may be preferable.\n",
      "    \n",
      "    Examples\n",
      "    --------\n",
      "    It is equivalent to ``reshape(-1, order=order)``.\n",
      "    \n",
      "    >>> x = np.array([[1, 2, 3], [4, 5, 6]])\n",
      "    >>> np.ravel(x)\n",
      "    array([1, 2, 3, 4, 5, 6])\n",
      "    \n",
      "    >>> x.reshape(-1)\n",
      "    array([1, 2, 3, 4, 5, 6])\n",
      "    \n",
      "    >>> np.ravel(x, order='F')\n",
      "    array([1, 4, 2, 5, 3, 6])\n",
      "    \n",
      "    When ``order`` is 'A', it will preserve the array's 'C' or 'F' ordering:\n",
      "    \n",
      "    >>> np.ravel(x.T)\n",
      "    array([1, 4, 2, 5, 3, 6])\n",
      "    >>> np.ravel(x.T, order='A')\n",
      "    array([1, 2, 3, 4, 5, 6])\n",
      "    \n",
      "    When ``order`` is 'K', it will preserve orderings that are neither 'C'\n",
      "    nor 'F', but won't reverse axes:\n",
      "    \n",
      "    >>> a = np.arange(3)[::-1]; a\n",
      "    array([2, 1, 0])\n",
      "    >>> a.ravel(order='C')\n",
      "    array([2, 1, 0])\n",
      "    >>> a.ravel(order='K')\n",
      "    array([2, 1, 0])\n",
      "    \n",
      "    >>> a = np.arange(12).reshape(2,3,2).swapaxes(1,2); a\n",
      "    array([[[ 0,  2,  4],\n",
      "            [ 1,  3,  5]],\n",
      "           [[ 6,  8, 10],\n",
      "            [ 7,  9, 11]]])\n",
      "    >>> a.ravel(order='C')\n",
      "    array([ 0,  2,  4,  1,  3,  5,  6,  8, 10,  7,  9, 11])\n",
      "    >>> a.ravel(order='K')\n",
      "    array([ 0,  1,  2,  3,  4,  5,  6,  7,  8,  9, 10, 11])\n",
      "\n"
     ]
    }
   ],
   "source": [
    "help(np.ravel)"
   ]
  },
  {
   "cell_type": "code",
   "execution_count": 65,
   "metadata": {},
   "outputs": [
    {
     "name": "stdout",
     "output_type": "stream",
     "text": [
      "[[1 2 3 4]\n",
      " [5 6 7 8]]\n"
     ]
    }
   ],
   "source": [
    "print(arr)"
   ]
  },
  {
   "cell_type": "code",
   "execution_count": 62,
   "metadata": {},
   "outputs": [
    {
     "name": "stdout",
     "output_type": "stream",
     "text": [
      "[[1 2]\n",
      " [3 4]\n",
      " [5 6]\n",
      " [7 8]]\n",
      "2 4 8\n"
     ]
    }
   ],
   "source": [
    "print(arr.reshape(4, 2)) # change size \n",
    "print(arr.shape[0], arr.shape[1],  arr.size)"
   ]
  },
  {
   "cell_type": "code",
   "execution_count": null,
   "metadata": {},
   "outputs": [],
   "source": [
    "print(arr.dtype)"
   ]
  },
  {
   "cell_type": "code",
   "execution_count": null,
   "metadata": {},
   "outputs": [],
   "source": [
    "one_to_ten = np.arange(1, 11)\n",
    "\n",
    "plt.scatter(x = one_to_ten, y = one_to_ten * 2)\n",
    "plt.show()"
   ]
  },
  {
   "cell_type": "code",
   "execution_count": null,
   "metadata": {},
   "outputs": [],
   "source": [
    "arr3d = np.array([[1,2,3, 4], [5, 6, 7, 8], [9, 10, 11, 22]])\n",
    "print(arr3d, arr3d.shape)\n",
    "print(arr3d.reshape(1, 2, 6))"
   ]
  },
  {
   "cell_type": "markdown",
   "metadata": {},
   "source": [
    "#### Concatenate : join arrays, use axis\n",
    "numpy.concatenate((a1, a2, ...), axis=0)\n"
   ]
  },
  {
   "cell_type": "markdown",
   "metadata": {},
   "source": [
    "![](https://pyprog.pro/images/2nd_array.jpg)"
   ]
  },
  {
   "cell_type": "markdown",
   "metadata": {},
   "source": [
    "![](https://pyprog.pro/images/3nd_array.jpg)"
   ]
  },
  {
   "cell_type": "code",
   "execution_count": 66,
   "metadata": {},
   "outputs": [
    {
     "name": "stdout",
     "output_type": "stream",
     "text": [
      "\u001b[0;31mCall signature:\u001b[0m  \u001b[0mnp\u001b[0m\u001b[0;34m.\u001b[0m\u001b[0mconcatenate\u001b[0m\u001b[0;34m(\u001b[0m\u001b[0;34m*\u001b[0m\u001b[0margs\u001b[0m\u001b[0;34m,\u001b[0m \u001b[0;34m**\u001b[0m\u001b[0mkwargs\u001b[0m\u001b[0;34m)\u001b[0m\u001b[0;34m\u001b[0m\u001b[0;34m\u001b[0m\u001b[0m\n",
      "\u001b[0;31mType:\u001b[0m            _ArrayFunctionDispatcher\n",
      "\u001b[0;31mString form:\u001b[0m     <built-in function concatenate>\n",
      "\u001b[0;31mDocstring:\u001b[0m      \n",
      "concatenate((a1, a2, ...), axis=0, out=None, dtype=None, casting=\"same_kind\")\n",
      "\n",
      "Join a sequence of arrays along an existing axis.\n",
      "\n",
      "Parameters\n",
      "----------\n",
      "a1, a2, ... : sequence of array_like\n",
      "    The arrays must have the same shape, except in the dimension\n",
      "    corresponding to `axis` (the first, by default).\n",
      "axis : int, optional\n",
      "    The axis along which the arrays will be joined.  If axis is None,\n",
      "    arrays are flattened before use.  Default is 0.\n",
      "out : ndarray, optional\n",
      "    If provided, the destination to place the result. The shape must be\n",
      "    correct, matching that of what concatenate would have returned if no\n",
      "    out argument were specified.\n",
      "dtype : str or dtype\n",
      "    If provided, the destination array will have this dtype. Cannot be\n",
      "    provided together with `out`.\n",
      "\n",
      "    .. versionadded:: 1.20.0\n",
      "\n",
      "casting : {'no', 'equiv', 'safe', 'same_kind', 'unsafe'}, optional\n",
      "    Controls what kind of data casting may occur. Defaults to 'same_kind'.\n",
      "\n",
      "    .. versionadded:: 1.20.0\n",
      "\n",
      "Returns\n",
      "-------\n",
      "res : ndarray\n",
      "    The concatenated array.\n",
      "\n",
      "See Also\n",
      "--------\n",
      "ma.concatenate : Concatenate function that preserves input masks.\n",
      "array_split : Split an array into multiple sub-arrays of equal or\n",
      "              near-equal size.\n",
      "split : Split array into a list of multiple sub-arrays of equal size.\n",
      "hsplit : Split array into multiple sub-arrays horizontally (column wise).\n",
      "vsplit : Split array into multiple sub-arrays vertically (row wise).\n",
      "dsplit : Split array into multiple sub-arrays along the 3rd axis (depth).\n",
      "stack : Stack a sequence of arrays along a new axis.\n",
      "block : Assemble arrays from blocks.\n",
      "hstack : Stack arrays in sequence horizontally (column wise).\n",
      "vstack : Stack arrays in sequence vertically (row wise).\n",
      "dstack : Stack arrays in sequence depth wise (along third dimension).\n",
      "column_stack : Stack 1-D arrays as columns into a 2-D array.\n",
      "\n",
      "Notes\n",
      "-----\n",
      "When one or more of the arrays to be concatenated is a MaskedArray,\n",
      "this function will return a MaskedArray object instead of an ndarray,\n",
      "but the input masks are *not* preserved. In cases where a MaskedArray\n",
      "is expected as input, use the ma.concatenate function from the masked\n",
      "array module instead.\n",
      "\n",
      "Examples\n",
      "--------\n",
      ">>> a = np.array([[1, 2], [3, 4]])\n",
      ">>> b = np.array([[5, 6]])\n",
      ">>> np.concatenate((a, b), axis=0)\n",
      "array([[1, 2],\n",
      "       [3, 4],\n",
      "       [5, 6]])\n",
      ">>> np.concatenate((a, b.T), axis=1)\n",
      "array([[1, 2, 5],\n",
      "       [3, 4, 6]])\n",
      ">>> np.concatenate((a, b), axis=None)\n",
      "array([1, 2, 3, 4, 5, 6])\n",
      "\n",
      "This function will not preserve masking of MaskedArray inputs.\n",
      "\n",
      ">>> a = np.ma.arange(3)\n",
      ">>> a[1] = np.ma.masked\n",
      ">>> b = np.arange(2, 5)\n",
      ">>> a\n",
      "masked_array(data=[0, --, 2],\n",
      "             mask=[False,  True, False],\n",
      "       fill_value=999999)\n",
      ">>> b\n",
      "array([2, 3, 4])\n",
      ">>> np.concatenate([a, b])\n",
      "masked_array(data=[0, 1, 2, 2, 3, 4],\n",
      "             mask=False,\n",
      "       fill_value=999999)\n",
      ">>> np.ma.concatenate([a, b])\n",
      "masked_array(data=[0, --, 2, 2, 3, 4],\n",
      "             mask=[False,  True, False, False, False, False],\n",
      "       fill_value=999999)\n",
      "\u001b[0;31mClass docstring:\u001b[0m\n",
      "Class to wrap functions with checks for __array_function__ overrides.\n",
      "\n",
      "All arguments are required, and can only be passed by position.\n",
      "\n",
      "Parameters\n",
      "----------\n",
      "dispatcher : function or None\n",
      "    The dispatcher function that returns a single sequence-like object\n",
      "    of all arguments relevant.  It must have the same signature (except\n",
      "    the default values) as the actual implementation.\n",
      "    If ``None``, this is a ``like=`` dispatcher and the\n",
      "    ``_ArrayFunctionDispatcher`` must be called with ``like`` as the\n",
      "    first (additional and positional) argument.\n",
      "implementation : function\n",
      "    Function that implements the operation on NumPy arrays without\n",
      "    overrides.  Arguments passed calling the ``_ArrayFunctionDispatcher``\n",
      "    will be forwarded to this (and the ``dispatcher``) as if using\n",
      "    ``*args, **kwargs``.\n",
      "\n",
      "Attributes\n",
      "----------\n",
      "_implementation : function\n",
      "    The original implementation passed in."
     ]
    }
   ],
   "source": [
    "np.concatenate?"
   ]
  },
  {
   "cell_type": "code",
   "execution_count": 67,
   "metadata": {},
   "outputs": [],
   "source": [
    "arr1 = np.arange(1, 5)\n",
    "arr2 = np.arange(5, 10)"
   ]
  },
  {
   "cell_type": "code",
   "execution_count": 68,
   "metadata": {},
   "outputs": [
    {
     "name": "stdout",
     "output_type": "stream",
     "text": [
      "[1 2 3 4] [5 6 7 8 9]\n",
      "[1 2 3 4 5 6 7 8 9]\n"
     ]
    }
   ],
   "source": [
    "print(arr1, arr2)\n",
    "arr_concate = np.concatenate((arr1, arr2))\n",
    "print(arr_concate)"
   ]
  },
  {
   "cell_type": "code",
   "execution_count": 69,
   "metadata": {},
   "outputs": [],
   "source": [
    "arr1 = np.array([[1,2,3], [4,5, 6]])\n",
    "arr2 = np.array([[2,3, 4], [7,8,9]])"
   ]
  },
  {
   "cell_type": "code",
   "execution_count": 71,
   "metadata": {},
   "outputs": [
    {
     "data": {
      "text/plain": [
       "array([[1, 2, 3],\n",
       "       [4, 5, 6]])"
      ]
     },
     "execution_count": 71,
     "metadata": {},
     "output_type": "execute_result"
    }
   ],
   "source": [
    "arr1"
   ]
  },
  {
   "cell_type": "code",
   "execution_count": 72,
   "metadata": {},
   "outputs": [
    {
     "data": {
      "text/plain": [
       "array([[2, 3, 4],\n",
       "       [7, 8, 9]])"
      ]
     },
     "execution_count": 72,
     "metadata": {},
     "output_type": "execute_result"
    }
   ],
   "source": [
    "arr2"
   ]
  },
  {
   "cell_type": "code",
   "execution_count": 70,
   "metadata": {},
   "outputs": [
    {
     "name": "stdout",
     "output_type": "stream",
     "text": [
      "[[1 2 3]\n",
      " [4 5 6]\n",
      " [2 3 4]\n",
      " [7 8 9]]\n"
     ]
    }
   ],
   "source": [
    "arr_concate = np.concatenate((arr1, arr2)) # Join array\n",
    "print(arr_concate)"
   ]
  },
  {
   "attachments": {},
   "cell_type": "markdown",
   "metadata": {},
   "source": [
    "#### Stack - використовується для об'єднання масивів уздовж нової осі\n",
    "numpy.stack(arrays, axis=0)\n",
    "> 1. **hstack** - використовується для горизонтальної конкатенації (об'єднання) двох або більше масивів вздовж другої осі (осі 1) - тобто об'єднання елементів рядків.\n",
    "> 2. **vstack** - використовується для вертикальної конкатенації (об'єднання) двох або більше масивів вздовж першої осі (осі 0) - тобто об'єднання елементів стовпців.\n",
    "> 3. **dstack** використовується для об'єднання двох або більше масивів вздовж третьої осі (ось 2) - тобто об'єднання елементів у глибину\n"
   ]
  },
  {
   "cell_type": "code",
   "execution_count": 73,
   "metadata": {},
   "outputs": [
    {
     "name": "stdout",
     "output_type": "stream",
     "text": [
      "[1 2 3] [4 5 6] [7 8 9]\n",
      "[[1 4 7]\n",
      " [2 5 8]\n",
      " [3 6 9]]\n"
     ]
    }
   ],
   "source": [
    "a1 = np.array([1, 2, 3])\n",
    "a2 = np.array([4, 5, 6])\n",
    "a3 = np.array([7, 8, 9])\n",
    "print(a1,a2,a3)\n",
    "result = np.stack((a1, a2, a3), axis=1)\n",
    "\n",
    "print(result)\n",
    "#  display:\n",
    "# [[1 4 7]\n",
    "#  [2 5 8]\n",
    "#  [3 6 9]]\n"
   ]
  },
  {
   "cell_type": "code",
   "execution_count": 74,
   "metadata": {},
   "outputs": [
    {
     "name": "stdout",
     "output_type": "stream",
     "text": [
      "[1 2 3 4 5 6]\n"
     ]
    }
   ],
   "source": [
    "# Hstack \n",
    "a1 = np.array([1, 2, 3])\n",
    "a2 = np.array([4, 5, 6])\n",
    "print(np.hstack((a1, a2)))"
   ]
  },
  {
   "cell_type": "code",
   "execution_count": 75,
   "metadata": {},
   "outputs": [
    {
     "name": "stdout",
     "output_type": "stream",
     "text": [
      "[[1 2 3]\n",
      " [4 5 6]]\n"
     ]
    }
   ],
   "source": [
    "# Vstack\n",
    "a1 = np.array([1, 2, 3])\n",
    "a2 = np.array([4, 5, 6])\n",
    "\n",
    "print(np.vstack((a1, a2)))"
   ]
  },
  {
   "cell_type": "code",
   "execution_count": 76,
   "metadata": {},
   "outputs": [
    {
     "name": "stdout",
     "output_type": "stream",
     "text": [
      "[[[1 5]\n",
      "  [2 6]]\n",
      "\n",
      " [[3 7]\n",
      "  [4 8]]]\n"
     ]
    }
   ],
   "source": [
    "# Dstack\n",
    "a1 = np.array([[1, 2], [3, 4]])\n",
    "a2 = np.array([[5, 6], [7, 8]])\n",
    "\n",
    "print(np.dstack((a1, a2)))"
   ]
  },
  {
   "cell_type": "code",
   "execution_count": 77,
   "metadata": {},
   "outputs": [
    {
     "name": "stdout",
     "output_type": "stream",
     "text": [
      "[[1 2 3]\n",
      " [4 5 6]]\n",
      "[1 2 3 4 5 6]\n",
      "[[1 2 3]\n",
      " [4 5 6]]\n",
      "[[[1 4]\n",
      "  [2 5]\n",
      "  [3 6]]]\n"
     ]
    }
   ],
   "source": [
    "arr1 = np.array([1,2,3])\n",
    "arr2 = np.array([4,5,6])\n",
    "\n",
    "arr = np.stack((arr1, arr2))\n",
    "print(arr, ) # axis add \n",
    "\n",
    "print(np.hstack((arr1, arr2)))\n",
    "print(np.vstack((arr1, arr2)))\n",
    "print(np.dstack((arr1, arr2)))"
   ]
  },
  {
   "cell_type": "markdown",
   "metadata": {},
   "source": [
    "#### Array_split - function to split array multiple sub-arrays of equal or near-equal size."
   ]
  },
  {
   "cell_type": "code",
   "execution_count": 78,
   "metadata": {},
   "outputs": [
    {
     "name": "stdout",
     "output_type": "stream",
     "text": [
      "[array([1, 2, 3, 4]), array([5, 6, 7, 8]), array([ 9, 10, 11])]\n"
     ]
    }
   ],
   "source": [
    "arr = np.arange(1, 12)\n",
    "new_arr = np.array_split(arr, 3) # розбити на підмассиви\n",
    "print(new_arr)"
   ]
  },
  {
   "cell_type": "code",
   "execution_count": 79,
   "metadata": {},
   "outputs": [
    {
     "name": "stdout",
     "output_type": "stream",
     "text": [
      "[array([1, 2, 3]), array([4, 5, 6]), array([7, 8, 9])]\n"
     ]
    }
   ],
   "source": [
    "arr = np.array([1, 2, 3, 4, 5, 6, 7, 8, 9])\n",
    "result = np.array_split(arr, 3)\n",
    "print(result)"
   ]
  },
  {
   "cell_type": "markdown",
   "metadata": {},
   "source": [
    "#### Sort - function return sorted copy"
   ]
  },
  {
   "cell_type": "code",
   "execution_count": 81,
   "metadata": {},
   "outputs": [
    {
     "data": {
      "text/plain": [
       "array([[3, 2, 4],\n",
       "       [6, 5, 1]])"
      ]
     },
     "execution_count": 81,
     "metadata": {},
     "output_type": "execute_result"
    }
   ],
   "source": [
    "arr = np.array([[3, 2, 4], [6, 5, 1]])\n",
    "arr"
   ]
  },
  {
   "cell_type": "code",
   "execution_count": 86,
   "metadata": {},
   "outputs": [
    {
     "name": "stdout",
     "output_type": "stream",
     "text": [
      "\u001b[0;31mSignature:\u001b[0m       \u001b[0mnp\u001b[0m\u001b[0;34m.\u001b[0m\u001b[0msort\u001b[0m\u001b[0;34m(\u001b[0m\u001b[0ma\u001b[0m\u001b[0;34m,\u001b[0m \u001b[0maxis\u001b[0m\u001b[0;34m=\u001b[0m\u001b[0;34m-\u001b[0m\u001b[0;36m1\u001b[0m\u001b[0;34m,\u001b[0m \u001b[0mkind\u001b[0m\u001b[0;34m=\u001b[0m\u001b[0;32mNone\u001b[0m\u001b[0;34m,\u001b[0m \u001b[0morder\u001b[0m\u001b[0;34m=\u001b[0m\u001b[0;32mNone\u001b[0m\u001b[0;34m)\u001b[0m\u001b[0;34m\u001b[0m\u001b[0;34m\u001b[0m\u001b[0m\n",
      "\u001b[0;31mCall signature:\u001b[0m  \u001b[0mnp\u001b[0m\u001b[0;34m.\u001b[0m\u001b[0msort\u001b[0m\u001b[0;34m(\u001b[0m\u001b[0;34m*\u001b[0m\u001b[0margs\u001b[0m\u001b[0;34m,\u001b[0m \u001b[0;34m**\u001b[0m\u001b[0mkwargs\u001b[0m\u001b[0;34m)\u001b[0m\u001b[0;34m\u001b[0m\u001b[0;34m\u001b[0m\u001b[0m\n",
      "\u001b[0;31mType:\u001b[0m            _ArrayFunctionDispatcher\n",
      "\u001b[0;31mString form:\u001b[0m     <function sort at 0x1122edb40>\n",
      "\u001b[0;31mFile:\u001b[0m            /usr/local/lib/python3.10/site-packages/numpy/core/fromnumeric.py\n",
      "\u001b[0;31mDocstring:\u001b[0m      \n",
      "Return a sorted copy of an array.\n",
      "\n",
      "Parameters\n",
      "----------\n",
      "a : array_like\n",
      "    Array to be sorted.\n",
      "axis : int or None, optional\n",
      "    Axis along which to sort. If None, the array is flattened before\n",
      "    sorting. The default is -1, which sorts along the last axis.\n",
      "kind : {'quicksort', 'mergesort', 'heapsort', 'stable'}, optional\n",
      "    Sorting algorithm. The default is 'quicksort'. Note that both 'stable'\n",
      "    and 'mergesort' use timsort or radix sort under the covers and, in general,\n",
      "    the actual implementation will vary with data type. The 'mergesort' option\n",
      "    is retained for backwards compatibility.\n",
      "\n",
      "    .. versionchanged:: 1.15.0.\n",
      "       The 'stable' option was added.\n",
      "\n",
      "order : str or list of str, optional\n",
      "    When `a` is an array with fields defined, this argument specifies\n",
      "    which fields to compare first, second, etc.  A single field can\n",
      "    be specified as a string, and not all fields need be specified,\n",
      "    but unspecified fields will still be used, in the order in which\n",
      "    they come up in the dtype, to break ties.\n",
      "\n",
      "Returns\n",
      "-------\n",
      "sorted_array : ndarray\n",
      "    Array of the same type and shape as `a`.\n",
      "\n",
      "See Also\n",
      "--------\n",
      "ndarray.sort : Method to sort an array in-place.\n",
      "argsort : Indirect sort.\n",
      "lexsort : Indirect stable sort on multiple keys.\n",
      "searchsorted : Find elements in a sorted array.\n",
      "partition : Partial sort.\n",
      "\n",
      "Notes\n",
      "-----\n",
      "The various sorting algorithms are characterized by their average speed,\n",
      "worst case performance, work space size, and whether they are stable. A\n",
      "stable sort keeps items with the same key in the same relative\n",
      "order. The four algorithms implemented in NumPy have the following\n",
      "properties:\n",
      "\n",
      "=========== ======= ============= ============ ========\n",
      "   kind      speed   worst case    work space   stable\n",
      "=========== ======= ============= ============ ========\n",
      "'quicksort'    1     O(n^2)            0          no\n",
      "'heapsort'     3     O(n*log(n))       0          no\n",
      "'mergesort'    2     O(n*log(n))      ~n/2        yes\n",
      "'timsort'      2     O(n*log(n))      ~n/2        yes\n",
      "=========== ======= ============= ============ ========\n",
      "\n",
      ".. note:: The datatype determines which of 'mergesort' or 'timsort'\n",
      "   is actually used, even if 'mergesort' is specified. User selection\n",
      "   at a finer scale is not currently available.\n",
      "\n",
      "All the sort algorithms make temporary copies of the data when\n",
      "sorting along any but the last axis.  Consequently, sorting along\n",
      "the last axis is faster and uses less space than sorting along\n",
      "any other axis.\n",
      "\n",
      "The sort order for complex numbers is lexicographic. If both the real\n",
      "and imaginary parts are non-nan then the order is determined by the\n",
      "real parts except when they are equal, in which case the order is\n",
      "determined by the imaginary parts.\n",
      "\n",
      "Previous to numpy 1.4.0 sorting real and complex arrays containing nan\n",
      "values led to undefined behaviour. In numpy versions >= 1.4.0 nan\n",
      "values are sorted to the end. The extended sort order is:\n",
      "\n",
      "  * Real: [R, nan]\n",
      "  * Complex: [R + Rj, R + nanj, nan + Rj, nan + nanj]\n",
      "\n",
      "where R is a non-nan real value. Complex values with the same nan\n",
      "placements are sorted according to the non-nan part if it exists.\n",
      "Non-nan values are sorted as before.\n",
      "\n",
      ".. versionadded:: 1.12.0\n",
      "\n",
      "quicksort has been changed to `introsort <https://en.wikipedia.org/wiki/Introsort>`_.\n",
      "When sorting does not make enough progress it switches to\n",
      "`heapsort <https://en.wikipedia.org/wiki/Heapsort>`_.\n",
      "This implementation makes quicksort O(n*log(n)) in the worst case.\n",
      "\n",
      "'stable' automatically chooses the best stable sorting algorithm\n",
      "for the data type being sorted.\n",
      "It, along with 'mergesort' is currently mapped to\n",
      "`timsort <https://en.wikipedia.org/wiki/Timsort>`_\n",
      "or `radix sort <https://en.wikipedia.org/wiki/Radix_sort>`_\n",
      "depending on the data type.\n",
      "API forward compatibility currently limits the\n",
      "ability to select the implementation and it is hardwired for the different\n",
      "data types.\n",
      "\n",
      ".. versionadded:: 1.17.0\n",
      "\n",
      "Timsort is added for better performance on already or nearly\n",
      "sorted data. On random data timsort is almost identical to\n",
      "mergesort. It is now used for stable sort while quicksort is still the\n",
      "default sort if none is chosen. For timsort details, refer to\n",
      "`CPython listsort.txt <https://github.com/python/cpython/blob/3.7/Objects/listsort.txt>`_.\n",
      "'mergesort' and 'stable' are mapped to radix sort for integer data types. Radix sort is an\n",
      "O(n) sort instead of O(n log n).\n",
      "\n",
      ".. versionchanged:: 1.18.0\n",
      "\n",
      "NaT now sorts to the end of arrays for consistency with NaN.\n",
      "\n",
      "Examples\n",
      "--------\n",
      ">>> a = np.array([[1,4],[3,1]])\n",
      ">>> np.sort(a)                # sort along the last axis\n",
      "array([[1, 4],\n",
      "       [1, 3]])\n",
      ">>> np.sort(a, axis=None)     # sort the flattened array\n",
      "array([1, 1, 3, 4])\n",
      ">>> np.sort(a, axis=0)        # sort along the first axis\n",
      "array([[1, 1],\n",
      "       [3, 4]])\n",
      "\n",
      "Use the `order` keyword to specify a field to use when sorting a\n",
      "structured array:\n",
      "\n",
      ">>> dtype = [('name', 'S10'), ('height', float), ('age', int)]\n",
      ">>> values = [('Arthur', 1.8, 41), ('Lancelot', 1.9, 38),\n",
      "...           ('Galahad', 1.7, 38)]\n",
      ">>> a = np.array(values, dtype=dtype)       # create a structured array\n",
      ">>> np.sort(a, order='height')                        # doctest: +SKIP\n",
      "array([('Galahad', 1.7, 38), ('Arthur', 1.8, 41),\n",
      "       ('Lancelot', 1.8999999999999999, 38)],\n",
      "      dtype=[('name', '|S10'), ('height', '<f8'), ('age', '<i4')])\n",
      "\n",
      "Sort by age, then height if ages are equal:\n",
      "\n",
      ">>> np.sort(a, order=['age', 'height'])               # doctest: +SKIP\n",
      "array([('Galahad', 1.7, 38), ('Lancelot', 1.8999999999999999, 38),\n",
      "       ('Arthur', 1.8, 41)],\n",
      "      dtype=[('name', '|S10'), ('height', '<f8'), ('age', '<i4')])\n",
      "\u001b[0;31mClass docstring:\u001b[0m\n",
      "Class to wrap functions with checks for __array_function__ overrides.\n",
      "\n",
      "All arguments are required, and can only be passed by position.\n",
      "\n",
      "Parameters\n",
      "----------\n",
      "dispatcher : function or None\n",
      "    The dispatcher function that returns a single sequence-like object\n",
      "    of all arguments relevant.  It must have the same signature (except\n",
      "    the default values) as the actual implementation.\n",
      "    If ``None``, this is a ``like=`` dispatcher and the\n",
      "    ``_ArrayFunctionDispatcher`` must be called with ``like`` as the\n",
      "    first (additional and positional) argument.\n",
      "implementation : function\n",
      "    Function that implements the operation on NumPy arrays without\n",
      "    overrides.  Arguments passed calling the ``_ArrayFunctionDispatcher``\n",
      "    will be forwarded to this (and the ``dispatcher``) as if using\n",
      "    ``*args, **kwargs``.\n",
      "\n",
      "Attributes\n",
      "----------\n",
      "_implementation : function\n",
      "    The original implementation passed in."
     ]
    }
   ],
   "source": [
    "np.sort?"
   ]
  },
  {
   "cell_type": "code",
   "execution_count": 89,
   "metadata": {},
   "outputs": [
    {
     "name": "stdout",
     "output_type": "stream",
     "text": [
      "[[1 5 6]\n",
      " [2 3 4]]\n"
     ]
    }
   ],
   "source": [
    "result = np.sort(arr, axis=1,  kind = 'mergesort')[::-1]\n",
    "print(result)"
   ]
  },
  {
   "cell_type": "code",
   "execution_count": 90,
   "metadata": {},
   "outputs": [
    {
     "data": {
      "text/plain": [
       "array([[3, 2, 4],\n",
       "       [6, 5, 1]])"
      ]
     },
     "execution_count": 90,
     "metadata": {},
     "output_type": "execute_result"
    }
   ],
   "source": [
    "arr"
   ]
  },
  {
   "cell_type": "code",
   "execution_count": 94,
   "metadata": {},
   "outputs": [
    {
     "data": {
      "text/plain": [
       "array([ 9, 12])"
      ]
     },
     "execution_count": 94,
     "metadata": {},
     "output_type": "execute_result"
    }
   ],
   "source": [
    "np.sum(arr, axis = 1)"
   ]
  },
  {
   "cell_type": "code",
   "execution_count": 91,
   "metadata": {},
   "outputs": [
    {
     "data": {
      "text/plain": [
       "21"
      ]
     },
     "execution_count": 91,
     "metadata": {},
     "output_type": "execute_result"
    }
   ],
   "source": [
    "np.sum(arr)"
   ]
  },
  {
   "cell_type": "code",
   "execution_count": 92,
   "metadata": {},
   "outputs": [
    {
     "data": {
      "text/plain": [
       "array([4, 6])"
      ]
     },
     "execution_count": 92,
     "metadata": {},
     "output_type": "execute_result"
    }
   ],
   "source": [
    "np.max(arr, axis = 1)"
   ]
  },
  {
   "cell_type": "code",
   "execution_count": 93,
   "metadata": {},
   "outputs": [
    {
     "data": {
      "text/plain": [
       "array([4.5, 3.5, 2.5])"
      ]
     },
     "execution_count": 93,
     "metadata": {},
     "output_type": "execute_result"
    }
   ],
   "source": [
    "np.mean(arr, axis = 0)"
   ]
  },
  {
   "cell_type": "markdown",
   "metadata": {},
   "source": [
    "### ORM "
   ]
  },
  {
   "cell_type": "code",
   "execution_count": 3,
   "metadata": {},
   "outputs": [
    {
     "name": "stdout",
     "output_type": "stream",
     "text": [
      "<sqlite3.Connection object at 0x110c32e30>\n"
     ]
    }
   ],
   "source": [
    "# Connect with BD \n",
    "import sqlite3\n",
    "\n",
    "# create a connection to the database\n",
    "conn = sqlite3.connect('example.db')\n",
    "\n",
    "print(conn)\n",
    "# create a table\n",
    "conn.execute('''CREATE TABLE IF NOT EXISTS\n",
    "             users (id INTEGER PRIMARY KEY, name TEXT)''')\n",
    "\n",
    "# commit the changes\n",
    "conn.commit()\n",
    "\n",
    "# close the connection\n",
    "conn.close()\n"
   ]
  },
  {
   "cell_type": "code",
   "execution_count": 2,
   "metadata": {},
   "outputs": [
    {
     "name": "stdout",
     "output_type": "stream",
     "text": [
      "Andrea\n",
      "Dennis\n",
      "Shaun\n",
      "Mariah\n",
      "Destiny\n",
      "Tonya\n",
      "Amanda\n",
      "Anthony\n",
      "Richard\n"
     ]
    }
   ],
   "source": [
    "from faker import Faker\n",
    "\n",
    "fake = Faker()\n",
    "\n",
    "for i in range(1, 10):\n",
    "    print(fake.first_name())"
   ]
  },
  {
   "cell_type": "code",
   "execution_count": 4,
   "metadata": {},
   "outputs": [],
   "source": [
    "from faker import Faker\n",
    "\n",
    "fake = Faker()\n",
    "\n",
    "Faker.seed(42)\n",
    "\n",
    "conn = sqlite3.connect('example.db')\n",
    "\n",
    "for i in range(1, 120):\n",
    "    conn.execute(\"INSERT INTO users (id, name) VALUES (?, ?)\", (i, fake.name()))\n",
    "\n",
    "conn.commit()\n",
    "\n",
    "# close the connection\n",
    "conn.close()"
   ]
  },
  {
   "cell_type": "code",
   "execution_count": 9,
   "metadata": {},
   "outputs": [],
   "source": [
    "# create a connection to the database\n",
    "conn = sqlite3.connect('example.db')\n",
    "\n",
    "# retrieve data from the table\n",
    "cursor = conn.execute(\"SELECT id, name FROM users\")"
   ]
  },
  {
   "cell_type": "code",
   "execution_count": 7,
   "metadata": {},
   "outputs": [
    {
     "data": {
      "text/plain": [
       "[(1, 'Allison Hill'),\n",
       " (2, 'Noah Rhodes'),\n",
       " (3, 'Angie Henderson'),\n",
       " (4, 'Daniel Wagner'),\n",
       " (5, 'Cristian Santos'),\n",
       " (6, 'Connie Lawrence'),\n",
       " (7, 'Abigail Shaffer'),\n",
       " (8, 'Gina Moore'),\n",
       " (9, 'Gabrielle Davis'),\n",
       " (10, 'Ryan Munoz'),\n",
       " (11, 'Monica Herrera'),\n",
       " (12, 'Jamie Arnold'),\n",
       " (13, 'Lisa Hensley'),\n",
       " (14, 'Michele Williams'),\n",
       " (15, 'Dylan Miller'),\n",
       " (16, 'Brian Ramirez'),\n",
       " (17, 'Holly Wood'),\n",
       " (18, 'Derek Zuniga'),\n",
       " (19, 'Lisa Jackson'),\n",
       " (20, 'Carla Gray'),\n",
       " (21, 'Margaret Hawkins DDS'),\n",
       " (22, 'Patty Perez'),\n",
       " (23, 'Ethan Adams'),\n",
       " (24, 'Tommy Walter'),\n",
       " (25, 'Matthew Foster'),\n",
       " (26, 'Judy Baker'),\n",
       " (27, 'Justin Baker'),\n",
       " (28, 'Stephanie Ross'),\n",
       " (29, 'Zachary Hicks'),\n",
       " (30, 'Anthony Rodriguez'),\n",
       " (31, 'Rebecca Henderson'),\n",
       " (32, 'James Ferrell'),\n",
       " (33, 'Tricia Valencia'),\n",
       " (34, 'Nathan Maldonado'),\n",
       " (35, 'Debra Davidson'),\n",
       " (36, 'Jeffrey Chavez'),\n",
       " (37, 'Sherri Baker'),\n",
       " (38, 'Cassandra Gaines'),\n",
       " (39, 'Elizabeth Fowler'),\n",
       " (40, 'Brittany Farmer'),\n",
       " (41, 'Paula Moreno'),\n",
       " (42, 'Fred Smith'),\n",
       " (43, 'Sherry Decker'),\n",
       " (44, 'Anthony Humphrey'),\n",
       " (45, 'Angelica Tucker'),\n",
       " (46, 'Philip Cannon'),\n",
       " (47, 'John Pierce'),\n",
       " (48, 'Shane Henderson'),\n",
       " (49, 'Joshua Blair'),\n",
       " (50, 'Eric Carney'),\n",
       " (51, 'Jessica Holmes'),\n",
       " (52, 'Danny Morgan'),\n",
       " (53, 'Crystal Robinson'),\n",
       " (54, 'Mark Perez'),\n",
       " (55, 'Shannon Jones'),\n",
       " (56, 'Michael Lewis'),\n",
       " (57, 'Timothy Duncan'),\n",
       " (58, 'Richard Aguirre'),\n",
       " (59, 'Brent Jordan'),\n",
       " (60, 'John Daniel'),\n",
       " (61, 'Victoria Garcia'),\n",
       " (62, 'Gerald Hensley'),\n",
       " (63, 'Connor West'),\n",
       " (64, 'Donald Wright'),\n",
       " (65, 'Jessica Callahan'),\n",
       " (66, 'Amber Kidd'),\n",
       " (67, 'Tracy House'),\n",
       " (68, 'Carol Tucker'),\n",
       " (69, 'James Brown'),\n",
       " (70, 'William Baker'),\n",
       " (71, 'Jordan Henderson'),\n",
       " (72, 'Whitney Peters'),\n",
       " (73, 'Brittney Phillips'),\n",
       " (74, 'Lauren Daniels'),\n",
       " (75, 'Amy Silva'),\n",
       " (76, 'Sarah Moore'),\n",
       " (77, 'Angela Lopez'),\n",
       " (78, 'Megan Young'),\n",
       " (79, 'Steve Sanchez'),\n",
       " (80, 'Lisa Barnes'),\n",
       " (81, 'Kelly Donovan'),\n",
       " (82, 'Mike Allen'),\n",
       " (83, 'Michael Evans'),\n",
       " (84, 'Paul Jones'),\n",
       " (85, 'Zachary Ferrell'),\n",
       " (86, 'Daniel Baker'),\n",
       " (87, 'Shirley Suarez'),\n",
       " (88, 'Christopher Bass'),\n",
       " (89, 'Lisa Archer'),\n",
       " (90, 'Aimee Montoya'),\n",
       " (91, 'Matthew Mcmillan'),\n",
       " (92, 'Brian Rodriguez'),\n",
       " (93, 'Denise Jacobs'),\n",
       " (94, 'Christina Walters'),\n",
       " (95, 'John Whitehead'),\n",
       " (96, 'Anna Henderson'),\n",
       " (97, 'Aaron Wise'),\n",
       " (98, 'Deborah Figueroa'),\n",
       " (99, 'Jessica Smith'),\n",
       " (100, 'Stephen Mckee'),\n",
       " (101, 'Sandra Aguilar'),\n",
       " (102, 'Cameron Parker'),\n",
       " (103, 'Rebecca Valencia'),\n",
       " (104, 'Christine Wright'),\n",
       " (105, 'Richard Henson'),\n",
       " (106, 'Marc Moore'),\n",
       " (107, 'Sharon Cherry'),\n",
       " (108, 'Sierra Johnson'),\n",
       " (109, 'Evelyn Galvan'),\n",
       " (110, 'Sharon Cochran'),\n",
       " (111, 'Richard Rodriguez'),\n",
       " (112, 'Shannon Walker'),\n",
       " (113, 'Julia Torres'),\n",
       " (114, 'Crystal Johnson'),\n",
       " (115, 'Garrett Lin'),\n",
       " (116, 'Diana May'),\n",
       " (117, 'William Herrera'),\n",
       " (118, 'Ashley Waller'),\n",
       " (119, 'Victor Baker')]"
      ]
     },
     "execution_count": 7,
     "metadata": {},
     "output_type": "execute_result"
    }
   ],
   "source": [
    "cursor.fetchall()"
   ]
  },
  {
   "cell_type": "code",
   "execution_count": 10,
   "metadata": {},
   "outputs": [
    {
     "name": "stdout",
     "output_type": "stream",
     "text": [
      "[(1, 'Allison Hill'), (2, 'Noah Rhodes'), (3, 'Angie Henderson'), (4, 'Daniel Wagner'), (5, 'Cristian Santos'), (6, 'Connie Lawrence'), (7, 'Abigail Shaffer'), (8, 'Gina Moore'), (9, 'Gabrielle Davis'), (10, 'Ryan Munoz'), (11, 'Monica Herrera'), (12, 'Jamie Arnold'), (13, 'Lisa Hensley'), (14, 'Michele Williams'), (15, 'Dylan Miller'), (16, 'Brian Ramirez'), (17, 'Holly Wood'), (18, 'Derek Zuniga'), (19, 'Lisa Jackson'), (20, 'Carla Gray'), (21, 'Margaret Hawkins DDS'), (22, 'Patty Perez'), (23, 'Ethan Adams'), (24, 'Tommy Walter'), (25, 'Matthew Foster'), (26, 'Judy Baker'), (27, 'Justin Baker'), (28, 'Stephanie Ross'), (29, 'Zachary Hicks'), (30, 'Anthony Rodriguez'), (31, 'Rebecca Henderson'), (32, 'James Ferrell'), (33, 'Tricia Valencia'), (34, 'Nathan Maldonado'), (35, 'Debra Davidson'), (36, 'Jeffrey Chavez'), (37, 'Sherri Baker'), (38, 'Cassandra Gaines'), (39, 'Elizabeth Fowler'), (40, 'Brittany Farmer'), (41, 'Paula Moreno'), (42, 'Fred Smith'), (43, 'Sherry Decker'), (44, 'Anthony Humphrey'), (45, 'Angelica Tucker'), (46, 'Philip Cannon'), (47, 'John Pierce'), (48, 'Shane Henderson'), (49, 'Joshua Blair'), (50, 'Eric Carney'), (51, 'Jessica Holmes'), (52, 'Danny Morgan'), (53, 'Crystal Robinson'), (54, 'Mark Perez'), (55, 'Shannon Jones'), (56, 'Michael Lewis'), (57, 'Timothy Duncan'), (58, 'Richard Aguirre'), (59, 'Brent Jordan'), (60, 'John Daniel'), (61, 'Victoria Garcia'), (62, 'Gerald Hensley'), (63, 'Connor West'), (64, 'Donald Wright'), (65, 'Jessica Callahan'), (66, 'Amber Kidd'), (67, 'Tracy House'), (68, 'Carol Tucker'), (69, 'James Brown'), (70, 'William Baker'), (71, 'Jordan Henderson'), (72, 'Whitney Peters'), (73, 'Brittney Phillips'), (74, 'Lauren Daniels'), (75, 'Amy Silva'), (76, 'Sarah Moore'), (77, 'Angela Lopez'), (78, 'Megan Young'), (79, 'Steve Sanchez'), (80, 'Lisa Barnes'), (81, 'Kelly Donovan'), (82, 'Mike Allen'), (83, 'Michael Evans'), (84, 'Paul Jones'), (85, 'Zachary Ferrell'), (86, 'Daniel Baker'), (87, 'Shirley Suarez'), (88, 'Christopher Bass'), (89, 'Lisa Archer'), (90, 'Aimee Montoya'), (91, 'Matthew Mcmillan'), (92, 'Brian Rodriguez'), (93, 'Denise Jacobs'), (94, 'Christina Walters'), (95, 'John Whitehead'), (96, 'Anna Henderson'), (97, 'Aaron Wise'), (98, 'Deborah Figueroa'), (99, 'Jessica Smith'), (100, 'Stephen Mckee'), (101, 'Sandra Aguilar'), (102, 'Cameron Parker'), (103, 'Rebecca Valencia'), (104, 'Christine Wright'), (105, 'Richard Henson'), (106, 'Marc Moore'), (107, 'Sharon Cherry'), (108, 'Sierra Johnson'), (109, 'Evelyn Galvan'), (110, 'Sharon Cochran'), (111, 'Richard Rodriguez'), (112, 'Shannon Walker'), (113, 'Julia Torres'), (114, 'Crystal Johnson'), (115, 'Garrett Lin'), (116, 'Diana May'), (117, 'William Herrera'), (118, 'Ashley Waller'), (119, 'Victor Baker')]\n",
      "(1, 'Allison Hill')\n",
      "(2, 'Noah Rhodes')\n",
      "(3, 'Angie Henderson')\n",
      "(4, 'Daniel Wagner')\n",
      "(5, 'Cristian Santos')\n",
      "(6, 'Connie Lawrence')\n",
      "(7, 'Abigail Shaffer')\n",
      "(8, 'Gina Moore')\n",
      "(9, 'Gabrielle Davis')\n",
      "(10, 'Ryan Munoz')\n",
      "(11, 'Monica Herrera')\n",
      "(12, 'Jamie Arnold')\n",
      "(13, 'Lisa Hensley')\n",
      "(14, 'Michele Williams')\n",
      "(15, 'Dylan Miller')\n",
      "(16, 'Brian Ramirez')\n",
      "(17, 'Holly Wood')\n",
      "(18, 'Derek Zuniga')\n",
      "(19, 'Lisa Jackson')\n",
      "(20, 'Carla Gray')\n",
      "(21, 'Margaret Hawkins DDS')\n",
      "(22, 'Patty Perez')\n",
      "(23, 'Ethan Adams')\n",
      "(24, 'Tommy Walter')\n",
      "(25, 'Matthew Foster')\n",
      "(26, 'Judy Baker')\n",
      "(27, 'Justin Baker')\n",
      "(28, 'Stephanie Ross')\n",
      "(29, 'Zachary Hicks')\n",
      "(30, 'Anthony Rodriguez')\n",
      "(31, 'Rebecca Henderson')\n",
      "(32, 'James Ferrell')\n",
      "(33, 'Tricia Valencia')\n",
      "(34, 'Nathan Maldonado')\n",
      "(35, 'Debra Davidson')\n",
      "(36, 'Jeffrey Chavez')\n",
      "(37, 'Sherri Baker')\n",
      "(38, 'Cassandra Gaines')\n",
      "(39, 'Elizabeth Fowler')\n",
      "(40, 'Brittany Farmer')\n",
      "(41, 'Paula Moreno')\n",
      "(42, 'Fred Smith')\n",
      "(43, 'Sherry Decker')\n",
      "(44, 'Anthony Humphrey')\n",
      "(45, 'Angelica Tucker')\n",
      "(46, 'Philip Cannon')\n",
      "(47, 'John Pierce')\n",
      "(48, 'Shane Henderson')\n",
      "(49, 'Joshua Blair')\n",
      "(50, 'Eric Carney')\n",
      "(51, 'Jessica Holmes')\n",
      "(52, 'Danny Morgan')\n",
      "(53, 'Crystal Robinson')\n",
      "(54, 'Mark Perez')\n",
      "(55, 'Shannon Jones')\n",
      "(56, 'Michael Lewis')\n",
      "(57, 'Timothy Duncan')\n",
      "(58, 'Richard Aguirre')\n",
      "(59, 'Brent Jordan')\n",
      "(60, 'John Daniel')\n",
      "(61, 'Victoria Garcia')\n",
      "(62, 'Gerald Hensley')\n",
      "(63, 'Connor West')\n",
      "(64, 'Donald Wright')\n",
      "(65, 'Jessica Callahan')\n",
      "(66, 'Amber Kidd')\n",
      "(67, 'Tracy House')\n",
      "(68, 'Carol Tucker')\n",
      "(69, 'James Brown')\n",
      "(70, 'William Baker')\n",
      "(71, 'Jordan Henderson')\n",
      "(72, 'Whitney Peters')\n",
      "(73, 'Brittney Phillips')\n",
      "(74, 'Lauren Daniels')\n",
      "(75, 'Amy Silva')\n",
      "(76, 'Sarah Moore')\n",
      "(77, 'Angela Lopez')\n",
      "(78, 'Megan Young')\n",
      "(79, 'Steve Sanchez')\n",
      "(80, 'Lisa Barnes')\n",
      "(81, 'Kelly Donovan')\n",
      "(82, 'Mike Allen')\n",
      "(83, 'Michael Evans')\n",
      "(84, 'Paul Jones')\n",
      "(85, 'Zachary Ferrell')\n",
      "(86, 'Daniel Baker')\n",
      "(87, 'Shirley Suarez')\n",
      "(88, 'Christopher Bass')\n",
      "(89, 'Lisa Archer')\n",
      "(90, 'Aimee Montoya')\n",
      "(91, 'Matthew Mcmillan')\n",
      "(92, 'Brian Rodriguez')\n",
      "(93, 'Denise Jacobs')\n",
      "(94, 'Christina Walters')\n",
      "(95, 'John Whitehead')\n",
      "(96, 'Anna Henderson')\n",
      "(97, 'Aaron Wise')\n",
      "(98, 'Deborah Figueroa')\n",
      "(99, 'Jessica Smith')\n",
      "(100, 'Stephen Mckee')\n",
      "(101, 'Sandra Aguilar')\n",
      "(102, 'Cameron Parker')\n",
      "(103, 'Rebecca Valencia')\n",
      "(104, 'Christine Wright')\n",
      "(105, 'Richard Henson')\n",
      "(106, 'Marc Moore')\n",
      "(107, 'Sharon Cherry')\n",
      "(108, 'Sierra Johnson')\n",
      "(109, 'Evelyn Galvan')\n",
      "(110, 'Sharon Cochran')\n",
      "(111, 'Richard Rodriguez')\n",
      "(112, 'Shannon Walker')\n",
      "(113, 'Julia Torres')\n",
      "(114, 'Crystal Johnson')\n",
      "(115, 'Garrett Lin')\n",
      "(116, 'Diana May')\n",
      "(117, 'William Herrera')\n",
      "(118, 'Ashley Waller')\n",
      "(119, 'Victor Baker')\n"
     ]
    }
   ],
   "source": [
    "rows = cursor.fetchall() # fetchone\n",
    "print(rows)\n",
    "\n",
    "# print the data\n",
    "for row in rows:\n",
    "    print(row)\n",
    "\n",
    "# close the connection\n",
    "conn.close()"
   ]
  },
  {
   "cell_type": "code",
   "execution_count": 53,
   "metadata": {},
   "outputs": [],
   "source": [
    "conn.close()"
   ]
  },
  {
   "cell_type": "code",
   "execution_count": 22,
   "metadata": {},
   "outputs": [
    {
     "name": "stdout",
     "output_type": "stream",
     "text": [
      "(117, 'William Herrera')\n",
      "(114, 'Crystal Johnson')\n",
      "(92, 'Brian Rodriguez')\n",
      "(85, 'Zachary Ferrell')\n",
      "(61, 'Victoria Garcia')\n",
      "(58, 'Richard Aguirre')\n",
      "(48, 'Shane Henderson')\n",
      "(45, 'Angelica Tucker')\n",
      "(40, 'Brittany Farmer')\n",
      "(33, 'Tricia Valencia')\n"
     ]
    }
   ],
   "source": [
    "with sqlite3.connect('example.db') as conn:\n",
    "    # create a cursor\n",
    "    cursor = conn.cursor()\n",
    "\n",
    "    # create a table\n",
    "    # cursor.execute('''CREATE TABLE users (id INTEGER PRIMARY KEY, name TEXT)''')\n",
    "\n",
    "    # insert some data\n",
    "    #cursor.execute(\"INSERT INTO users (id, name) VALUES (21, 'Alice')\")\n",
    "    #cursor.execute(\"INSERT INTO users (id, name) VALUES (22, 'Bob')\")\n",
    "\n",
    "    # commit the changes\n",
    "    # conn.commit()\n",
    "\n",
    "    # retrieve data from the tableike '\n",
    "    cursor.execute(\"SELECT  id, name FROM users WHERE length(name) = 15 ORDER BY id DESC\")\n",
    "    rows = cursor.fetchmany(10) #fetchall, fetchone\n",
    "\n",
    "    # _ - один символ \n",
    "    # % - будь-яку символ\n",
    "    # print the data\n",
    "    for row in rows:\n",
    "        print(row)"
   ]
  },
  {
   "cell_type": "code",
   "execution_count": null,
   "metadata": {},
   "outputs": [],
   "source": [
    "# Task 1. Знайти всіх людей у кого на 3 позиції є літера f\n",
    "# Task 2. Знайти всіх людей у кого всього 14 символів імя \n",
    "# Task 3. Знайти всіх людей у кого id < 50 "
   ]
  },
  {
   "cell_type": "code",
   "execution_count": 72,
   "metadata": {},
   "outputs": [
    {
     "name": "stdout",
     "output_type": "stream",
     "text": [
      "('users',)\n",
      "('person',)\n"
     ]
    }
   ],
   "source": [
    "with sqlite3.connect('example.db') as conn:\n",
    "    \n",
    "    cursor = conn.cursor()\n",
    "    \n",
    "    cursor.execute('''SELECT name FROM sqlite_master where type = 'table' ''')\n",
    "    \n",
    "    result = cursor.fetchall()\n",
    "    \n",
    "    for i in result:\n",
    "        print(i)"
   ]
  },
  {
   "cell_type": "code",
   "execution_count": 71,
   "metadata": {},
   "outputs": [
    {
     "name": "stdout",
     "output_type": "stream",
     "text": [
      "(1, 'Jeffrey', 'Doyle')\n",
      "(2, 'Erica', 'Mcclain')\n",
      "(3, 'Christopher', 'Henderson')\n",
      "(4, 'Anthony', 'Robinson')\n",
      "(5, 'William', 'Johnson')\n",
      "(6, 'James', 'Santos')\n",
      "(7, 'Amy', 'Robinson')\n",
      "(8, 'Bridget', 'Pacheco')\n",
      "(9, 'Adam', 'Shaffer')\n",
      "(10, 'Helen', 'Peterson')\n",
      "(11, 'Eric', 'Bernard')\n",
      "(12, 'Matthew', 'Davis')\n",
      "(13, 'Colin', 'Abbott')\n",
      "(14, 'Cassandra', 'Roman')\n",
      "(15, 'Jessica', 'Herrera')\n"
     ]
    }
   ],
   "source": [
    "with sqlite3.connect('example.db') as conn:\n",
    "    cursor = conn.cursor()\n",
    "    cursor.execute('''CREATE TABLE person (id INTEGER PRIMARY KEY, name TEXT, surname TEXT)''')\n",
    "    \n",
    "    for i in range(1, 16):\n",
    "        conn.execute(\"INSERT INTO person (id, name, surname) VALUES (?, ?, ?)\", (i, fake.first_name(), fake.last_name()))\n",
    "\n",
    "    conn.commit()\n",
    "\n",
    "    cursor.execute(\"SELECT id, name, surname FROM person\")\n",
    "    rows = cursor.fetchall()\n",
    "\n",
    "    for row in rows:\n",
    "        print(row)"
   ]
  },
  {
   "cell_type": "code",
   "execution_count": null,
   "metadata": {},
   "outputs": [],
   "source": [
    "# Sqlite3 - create table person, with id: int, primary key, name: text, surname: text \n",
    "# заповнити 15 кортежі, use - faker, use - context manager"
   ]
  }
 ],
 "metadata": {
  "kernelspec": {
   "display_name": "Python 3",
   "language": "python",
   "name": "python3"
  },
  "language_info": {
   "codemirror_mode": {
    "name": "ipython",
    "version": 3
   },
   "file_extension": ".py",
   "mimetype": "text/x-python",
   "name": "python",
   "nbconvert_exporter": "python",
   "pygments_lexer": "ipython3",
   "version": "3.10.13"
  },
  "orig_nbformat": 4
 },
 "nbformat": 4,
 "nbformat_minor": 2
}
